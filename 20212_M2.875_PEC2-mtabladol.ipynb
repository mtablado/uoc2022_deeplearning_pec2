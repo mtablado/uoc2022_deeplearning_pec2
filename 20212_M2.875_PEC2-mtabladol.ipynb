{
  "cells": [
    {
      "cell_type": "markdown",
      "metadata": {
        "id": "x2vIPDgA2a9R"
      },
      "source": [
        "<div style=\"width: 100%; clear: both;\">\n",
        "<div style=\"float: left; width: 50%;\">\n",
        "<img src=\"http://www.uoc.edu/portal/_resources/common/imatges/marca_UOC/UOC_Masterbrand.jpg\", align=\"left\">\n",
        "</div>\n",
        "<div style=\"float: right; width: 50%;\">\n",
        "<p style=\"margin: 0; padding-top: 22px; text-align:right;\">M2.875 · Deep Learning · PEC2</p>\n",
        "<p style=\"margin: 0; text-align:right;\">2021-2 · Máster universitario en Ciencia de datos (Data science)</p>\n",
        "<p style=\"margin: 0; text-align:right; padding-button: 100px;\">Estudios de Informática, Multimedia y Telecomunicación</p>\n",
        "</div>\n",
        "</div>\n",
        "<div style=\"width:100%;\">&nbsp;</div>\n",
        "\n",
        "\n",
        "# PEC2: Redes Neuronales Convolucionales con KERAS"
      ]
    },
    {
      "cell_type": "markdown",
      "metadata": {
        "id": "lUutZf9A2a9W"
      },
      "source": [
        "A lo largo de esta práctica vamos a implementar varios modelos de redes neuronales para clasificar las imágenes de la base de datos [CIFAR10](https://www.cs.toronto.edu/~kriz/cifar.html).\n",
        "\n",
        "La base de datos CIFAR10 está formada por imágenes en color de dimensiones 32x32 píxels que pertenecen a 10 clases:\n",
        "\n",
        "- airplane (label 0)\n",
        "- automobile (label 1)\n",
        "- bird (label 2)\n",
        "- cat (label 3)\n",
        "- deer (label 4)\n",
        "- dog (label 5)\n",
        "- frog (label 6)\n",
        "- horse (label 7)\n",
        "- ship (label 8)\n",
        "- truck (label 9)\n",
        "\n",
        "Esta base de datos está compuesta de 60.000 registros que se dividen a su vez en 2 conjuntos: 50.000 imágenes para el conjunto de entrenamiento y 10.000 imágenes para el conjunto de test.\n",
        "\n",
        "En el ejercicio llevaremos a cabo la tarea de construir varios modelos con el objetivo de conseguir la mayor precisión al realizar la clasificación de las imágenes. Para ello implementaremos y analizaremos los siguientes modelos: \n",
        "​\n",
        "1. Una red neuronal artificial completamente conectada\n",
        "2. Una red neuronal convolucional de una capa\n",
        "3. Una red neuronal convolucional profunda\n",
        "\n",
        "​\n",
        "En todos los casos se utilizará la librería Keras con Tensorflow para la implementación del modelo, la compilación y el entrenamiento.\n",
        "\n",
        "Finalmente, realizaremos una predicción de las imágenes con el mejor modelo implementado.\n",
        "\n",
        "​\n",
        "**Importante: Cada uno de los ejercicios puede suponer varios minutos de ejecución, por lo que la entrega debe hacerse en formato notebook y en formato html donde se vea el código y los resultados y comentarios de cada ejercicio. Para exportar el notebook a html puede hacerse desde el menú File $\\to$ Download as $\\to$ HTML.**"
      ]
    },
    {
      "cell_type": "markdown",
      "metadata": {
        "id": "m8rwsLy02a9W"
      },
      "source": [
        "## 1. Descarga, análisis y pre-procesado de los datos (1,5 puntos)"
      ]
    },
    {
      "cell_type": "markdown",
      "metadata": {
        "id": "QNQQdIw2IK8f"
      },
      "source": [
        "### 1.1 Descarga de datos\n",
        "Empezamos importando algunos paquetes para la realización de la práctica y procedemos a descargar el dataset."
      ]
    },
    {
      "cell_type": "code",
      "execution_count": 37,
      "metadata": {
        "id": "9--RxIIO2a9X"
      },
      "outputs": [],
      "source": [
        "import numpy as np\n",
        "from tensorflow import keras\n",
        "from keras.datasets import cifar10\n",
        "from tensorflow.keras.utils import to_categorical\n",
        "from keras.models import Sequential\n",
        "from keras.layers import Dense, Conv2D, Flatten, Activation, Dropout, MaxPooling2D\n",
        "from tensorflow.keras.optimizers import Adam, SGD, Adadelta, Adagrad\n",
        "import matplotlib.pyplot as plt\n",
        "import timeit\n",
        "from sklearn.metrics import confusion_matrix, classification_report, ConfusionMatrixDisplay\n",
        "import seaborn as sns"
      ]
    },
    {
      "cell_type": "code",
      "execution_count": 38,
      "metadata": {
        "id": "jmWVBW182a9Z"
      },
      "outputs": [],
      "source": [
        "# Descarga el dataset CIFAR10 y hace la partición train/test\n",
        "(X_train, y_train), (X_test, y_test) = cifar10.load_data()"
      ]
    },
    {
      "cell_type": "markdown",
      "metadata": {
        "id": "n7nhxiQCBeX-"
      },
      "source": [
        "### 1.2 Análisis de los datos\n",
        "<div style=\"background-color: #EDF7FF; border-color: #7C9DBF; border-left: 5px solid #7C9DBF; padding: 0.5em;\">\n",
        "<strong>Ejercicio [0,5 pts.]:</strong> Representar la dimensión de las variables X_train, y_train, X_test e y_test.\n",
        "\n",
        "Mostrar las imágenes de los primeros 10 registros del conjunto X_train junto con sus etiquetas en formato texto.\n",
        "\n",
        "**Nota**: Al ser las imágenes de pequeño tamaño (32x32) se recomienda escalarlas a la hora de representarlas.\n",
        "</div>"
      ]
    },
    {
      "cell_type": "code",
      "execution_count": 39,
      "metadata": {
        "id": "MFi297NW9YCI",
        "colab": {
          "base_uri": "https://localhost:8080/"
        },
        "outputId": "9f7224cb-0e80-47b6-f470-581b5963ea35"
      },
      "outputs": [
        {
          "output_type": "execute_result",
          "data": {
            "text/plain": [
              "((50000, 32, 32, 3), (10000, 32, 32, 3), (50000, 1), (10000, 1))"
            ]
          },
          "metadata": {},
          "execution_count": 39
        }
      ],
      "source": [
        "# Análisis del conjunto de datos descargado\n",
        "X_train.shape, X_test.shape, y_train.shape, y_test.shape "
      ]
    },
    {
      "cell_type": "markdown",
      "source": [
        "|        | X_train   | X_test    | y_train  | y_test   |\n",
        "|--------|-----------|-----------|----------|----------|\n",
        "| Shapes | (50000, 32, 32, 3) | (10000, 32, 32, 3)  | (50000, 1) | (10000, 1) |"
      ],
      "metadata": {
        "id": "v0nne-yEALu-"
      }
    },
    {
      "cell_type": "code",
      "source": [
        "# Adjust proper figsize for scaling up the images\n",
        "f, axarr = plt.subplots(2,5, figsize=(25,12))\n",
        "axarr[0,0].imshow(X_train[0])\n",
        "\n",
        "n = 0\n",
        "for i in range(0,2):\n",
        "  for j in range(0,5):\n",
        "    axarr[i,j].imshow(X_train[n])\n",
        "    n = n + 1\n"
      ],
      "metadata": {
        "colab": {
          "base_uri": "https://localhost:8080/",
          "height": 369
        },
        "id": "qyoEvfmtAdzj",
        "outputId": "71fa2ec0-998f-4ab8-9498-695d2d6f43d4"
      },
      "execution_count": 40,
      "outputs": [
        {
          "output_type": "display_data",
          "data": {
            "text/plain": [
              "<Figure size 1800x864 with 10 Axes>"
            ],
            "image/png": "[encoded data removed]"
          },
          "metadata": {
            "needs_background": "light"
          }
        }
      ]
    },
    {
      "cell_type": "code",
      "execution_count": 41,
      "metadata": {
        "id": "t10FIQQ1mrPs"
      },
      "outputs": [],
      "source": [
        "import cv2\n",
        "\n",
        "# Convierte X_train y X_test a escala de grises\n",
        "X_train_grey = np.array([cv2.cvtColor(image, cv2.COLOR_BGR2GRAY) for image in X_train])\n",
        "X_test_grey = np.array([cv2.cvtColor(image, cv2.COLOR_BGR2GRAY) for image in X_test])"
      ]
    },
    {
      "cell_type": "markdown",
      "metadata": {
        "id": "xxUJh3nvB9Z_"
      },
      "source": [
        "<div style=\"background-color: #EDF7FF; border-color: #7C9DBF; border-left: 5px solid #7C9DBF; padding: 0.5em;\">\n",
        "<strong>Ejercicio [0,25 pts.]:</strong> Representar la dimensión de las variables X_train_grey y X_test_grey.\n",
        "\n",
        "Mostrar las imágenes de los primeros 10 registros del conjunto X_train_grey junto con sus etiquetas en formato texto.\n",
        "</div>"
      ]
    },
    {
      "cell_type": "code",
      "source": [
        "X_train_grey.shape, X_test_grey.shape "
      ],
      "metadata": {
        "colab": {
          "base_uri": "https://localhost:8080/"
        },
        "id": "1sqsO8Igf9MV",
        "outputId": "76feacbc-3499-4f1d-9f70-2033dcf73b63"
      },
      "execution_count": 42,
      "outputs": [
        {
          "output_type": "execute_result",
          "data": {
            "text/plain": [
              "((50000, 32, 32), (10000, 32, 32))"
            ]
          },
          "metadata": {},
          "execution_count": 42
        }
      ]
    },
    {
      "cell_type": "markdown",
      "source": [
        "|        | X_train_grey   | X_test_grey    |\n",
        "|--------|-----------|-----------|\n",
        "| Shapes | (50000, 32, 32) | (10000, 32, 32)  |"
      ],
      "metadata": {
        "id": "u2dBQQekgGE_"
      }
    },
    {
      "cell_type": "code",
      "execution_count": 43,
      "metadata": {
        "id": "W_6FQJwsoTG9",
        "colab": {
          "base_uri": "https://localhost:8080/",
          "height": 378
        },
        "outputId": "89faad61-4cad-4c80-da1f-84126f391c96"
      },
      "outputs": [
        {
          "output_type": "display_data",
          "data": {
            "text/plain": [
              "<Figure size 1800x864 with 10 Axes>"
            ],
            "image/png": "[encoded data removed]"
          },
          "metadata": {
            "needs_background": "light"
          }
        }
      ],
      "source": [
        "categories = dict({\n",
        "      0: 'airplane',\n",
        "      1: 'automobile',\n",
        "      2: 'bird',\n",
        "      3: 'cat',\n",
        "      4: 'deer',\n",
        "      5: 'dog',\n",
        "      6: 'frog',\n",
        "      7: 'horse',\n",
        "      8: 'ship',\n",
        "      9: 'truck',\n",
        "  })\n",
        "\n",
        "f, axarr = plt.subplots(2,5, figsize=(25,12))\n",
        "\n",
        "n = 0\n",
        "for i in range(0,2):\n",
        "  for j in range(0,5):\n",
        "    axarr[i,j].imshow(X_train_grey[n])\n",
        "    axarr[i,j].set_title(categories[y_train[n][0]])\n",
        "    n = n +1\n"
      ]
    },
    {
      "cell_type": "markdown",
      "metadata": {
        "id": "_PQexKZYF-78"
      },
      "source": [
        "El primer paso para entrenar una red neuronal consiste en pre-procesar los datos de entrenamiento y test para que cuadren con el formato esperado por las entradas y salidas de la red neuronal."
      ]
    },
    {
      "cell_type": "markdown",
      "metadata": {
        "id": "tWXEtO1TW9Z2"
      },
      "source": [
        "Empezaremos normalizando los datos de entrada para que estén en el rango [0,1] ya que, como podemos ver a continuación, se trata de valores enteros entre 0 y 255."
      ]
    },
    {
      "cell_type": "code",
      "execution_count": 44,
      "metadata": {
        "colab": {
          "base_uri": "https://localhost:8080/"
        },
        "id": "pzHXXAxySNWQ",
        "outputId": "9ffaf63a-898a-48c3-a9f7-271089342d8a"
      },
      "outputs": [
        {
          "output_type": "stream",
          "name": "stdout",
          "text": [
            "Los valores del primer registro de X_train_grey son: [[ 62  45  47 ... 128 121 120]\n",
            " [ 20   0   7 ...  82  77  82]\n",
            " [ 23   6  24 ...  78  78  68]\n",
            " ...\n",
            " [152 123 125 ... 117  27  32]\n",
            " [131 104 115 ... 136  58  51]\n",
            " [139 123 130 ... 174 112  90]]\n"
          ]
        }
      ],
      "source": [
        "print(\"Los valores del primer registro de X_train_grey son: {}\".format(X_train_grey[0]))"
      ]
    },
    {
      "cell_type": "code",
      "execution_count": 45,
      "metadata": {
        "colab": {
          "base_uri": "https://localhost:8080/"
        },
        "id": "GlRBW5tXQGwy",
        "outputId": "602e4e79-f10b-40b3-aa50-674e0c4cfc71"
      },
      "outputs": [
        {
          "output_type": "stream",
          "name": "stdout",
          "text": [
            "Los valores mínimo y máximo son 0 y 255.\n"
          ]
        }
      ],
      "source": [
        "# Determinar valores mínimo y máximo\n",
        "v_min = np.min(X_train_grey)\n",
        "v_max = np.max(X_train_grey)\n",
        "print(\"Los valores mínimo y máximo son {} y {}.\".format(v_min, v_max))"
      ]
    },
    {
      "cell_type": "markdown",
      "metadata": {
        "id": "kyPt-eoz2a9c"
      },
      "source": [
        "<div style=\"background-color: #EDF7FF; border-color: #7C9DBF; border-left: 5px solid #7C9DBF; padding: 0.5em;\">\n",
        "<strong>Ejercicio [0,5 pts.]:</strong> Normalizar los datos de entrada a la red para que estén comprendidos en el rango [0,1]. Imprimir los datos del primer registro una vez se ha llevado a cabo la normalización y comprobar de nuevo los valores máximo y mínimo. \n",
        "</div>"
      ]
    },
    {
      "cell_type": "markdown",
      "source": [
        "Dado que la sección de librerías importadas no incluye [MinMaxScaler](https://scikit-learn.org/stable/modules/generated/sklearn.preprocessing.MinMaxScaler.html) realizaremos los cálculos manualmente tal cual se indica en la descripción de su implementación"
      ],
      "metadata": {
        "id": "Gn-G1v0gjidE"
      }
    },
    {
      "cell_type": "code",
      "source": [
        "# Manually compute MinMaxScaler as detailed in https://scikit-learn.org/stable/modules/generated/sklearn.preprocessing.MinMaxScaler.html\n",
        "# Initialize values\n",
        "min = 0\n",
        "max = 1\n",
        "X = X_train_grey\n",
        "# Normalize\n",
        "X_std = (X - X.min(axis=0)) / (X.max(axis=0) - X.min(axis=0))\n",
        "X_train_grey_norm = X_std * (max - min) + min\n",
        "print(\"Los valores del primer registro de X_train_grey_norm son: {}\".format(X_train_grey_norm[0]))"
      ],
      "metadata": {
        "colab": {
          "base_uri": "https://localhost:8080/"
        },
        "id": "NbYCoQMiiZym",
        "outputId": "8bcfa50a-fef6-457a-9a63-37774767cd05"
      },
      "execution_count": 46,
      "outputs": [
        {
          "output_type": "stream",
          "name": "stdout",
          "text": [
            "Los valores del primer registro de X_train_grey_norm son: [[0.24313725 0.17647059 0.18431373 ... 0.50196078 0.4745098  0.47058824]\n",
            " [0.07843137 0.         0.02745098 ... 0.32156863 0.30196078 0.32156863]\n",
            " [0.09019608 0.02352941 0.09411765 ... 0.30588235 0.30588235 0.26666667]\n",
            " ...\n",
            " [0.59607843 0.48235294 0.49019608 ... 0.45882353 0.10588235 0.1254902 ]\n",
            " [0.51372549 0.40784314 0.45098039 ... 0.53333333 0.22745098 0.2       ]\n",
            " [0.54509804 0.48235294 0.50980392 ... 0.68235294 0.43921569 0.35294118]]\n"
          ]
        }
      ]
    },
    {
      "cell_type": "code",
      "source": [
        "# Determinar valores mínimo y máximo\n",
        "v_min = np.min(X_train_grey_norm)\n",
        "v_max = np.max(X_train_grey_norm)\n",
        "print(\"Los valores mínimo y máximo son {} y {}.\".format(v_min, v_max))"
      ],
      "metadata": {
        "colab": {
          "base_uri": "https://localhost:8080/"
        },
        "id": "e1Q-W8u6jXyW",
        "outputId": "62ed8caa-2108-4050-d6e4-cc55fe19473c"
      },
      "execution_count": 47,
      "outputs": [
        {
          "output_type": "stream",
          "name": "stdout",
          "text": [
            "Los valores mínimo y máximo son 0.0 y 1.0.\n"
          ]
        }
      ]
    },
    {
      "cell_type": "markdown",
      "metadata": {
        "id": "2t8ezZci2a9d"
      },
      "source": [
        "<div style=\"background-color: #EDF7FF; border-color: #7C9DBF; border-left: 5px solid #7C9DBF; padding: 0.5em;\">\n",
        "<strong>Ejercicio [0,25 pts.]:</strong> Codificar los valores de las etiquetas de salida en un vector one-hot. Por ejemplo, el vector de salida para una imagen que contiene un 5 sería: [0., 0., 0., 0., 0., 1., 0., 0., 0., 0.]. Comprobar el resultado imprimiendo su dimensión y mostrando algún registro.\n",
        "</div>\n",
        "\n",
        "**Nota**: Se puede utilizar la función `to_categorical` de `tensorflow.keras.utils`. "
      ]
    },
    {
      "cell_type": "code",
      "execution_count": 48,
      "metadata": {
        "id": "WvWY9udY2a9d",
        "colab": {
          "base_uri": "https://localhost:8080/"
        },
        "outputId": "139b55ca-097f-43f5-a77d-1973ca5edb66"
      },
      "outputs": [
        {
          "output_type": "stream",
          "name": "stdout",
          "text": [
            "[[0 0 0 ... 0 0 0]\n",
            " [0 0 0 ... 0 0 1]\n",
            " [0 0 0 ... 0 0 1]\n",
            " ...\n",
            " [0 0 0 ... 0 0 1]\n",
            " [0 1 0 ... 0 0 0]\n",
            " [0 1 0 ... 0 0 0]]\n",
            "(50000, 10)\n",
            "[[0 0 0 ... 0 0 0]\n",
            " [0 0 0 ... 0 1 0]\n",
            " [0 0 0 ... 0 1 0]\n",
            " ...\n",
            " [0 0 0 ... 0 0 0]\n",
            " [0 1 0 ... 0 0 0]\n",
            " [0 0 0 ... 1 0 0]]\n",
            "(10000, 10)\n"
          ]
        }
      ],
      "source": [
        "# https://www.geeksforgeeks.org/python-keras-keras-utils-to_categorical/\n",
        "train_labels = to_categorical(y_train, dtype =\"uint8\")\n",
        "test_labels = to_categorical(y_test, dtype =\"uint8\")\n",
        " \n",
        "# Labels after applying the function\n",
        "# Training set labels\n",
        "print(train_labels)\n",
        "print(train_labels.shape)\n",
        " \n",
        "# Testing set labels\n",
        "print(test_labels)\n",
        "print(test_labels.shape)"
      ]
    },
    {
      "cell_type": "markdown",
      "metadata": {
        "id": "Oj0Ukdbk2a9b"
      },
      "source": [
        "## 2. Red Neuronal Artificial (ANN) completamente conectada [2,5 puntos]"
      ]
    },
    {
      "cell_type": "markdown",
      "metadata": {
        "id": "3oab2O5P2a9b"
      },
      "source": [
        "A continuación implementaremos una red neuronal *feed-forward fully connected* y llevaremos a cabo el entrenamiento y test sobre el dataset CIFAR."
      ]
    },
    {
      "cell_type": "markdown",
      "metadata": {
        "id": "x0gvf0eg2a9c"
      },
      "source": [
        "### 2.1 Pre-procesado de datos\n",
        "\n",
        "Dado que en una red neuronal artificial las entradas son unidimensionales, lo primero que tenemos que hacer es redimensionar los datos de entrada (las imágenes) para convertirlos en arrays de una dimensión."
      ]
    },
    {
      "cell_type": "markdown",
      "metadata": {
        "id": "Xe5H9GpZImso"
      },
      "source": [
        "<div style=\"background-color: #EDF7FF; border-color: #7C9DBF; border-left: 5px solid #7C9DBF; padding: 0.5em;\">\n",
        "<strong>Ejercicio [0,5 pts.]:</strong> Modificar los conjuntos X_train_grey y X_test_grey para que sus registros sean arrays unidimensionales de dimensión 32x32 = 1024 datos. Comprobad el resultado imprimiendo las dimensiones de las variables.\n",
        "</div>"
      ]
    },
    {
      "cell_type": "code",
      "execution_count": 49,
      "metadata": {
        "id": "xXGNSUawI9BZ"
      },
      "outputs": [],
      "source": [
        "X_train_gflat = X_train_grey_norm.reshape(50000, 1024)\n",
        "X_test_gflat = X_test_grey.reshape(10000, 1024)"
      ]
    },
    {
      "cell_type": "code",
      "source": [
        "X_train_gflat.shape, X_test_gflat.shape"
      ],
      "metadata": {
        "colab": {
          "base_uri": "https://localhost:8080/"
        },
        "id": "DWHD_0tgwHlB",
        "outputId": "a1a1e831-89f1-426e-d4ee-bcb425bcb3f2"
      },
      "execution_count": 50,
      "outputs": [
        {
          "output_type": "execute_result",
          "data": {
            "text/plain": [
              "((50000, 1024), (10000, 1024))"
            ]
          },
          "metadata": {},
          "execution_count": 50
        }
      ]
    },
    {
      "cell_type": "markdown",
      "metadata": {
        "id": "QpKngAje2a9e"
      },
      "source": [
        "### 2.2 Creación del modelo\n",
        "\n",
        "\n",
        "Vamos a usar un modelo `Sequential` de Keras "
      ]
    },
    {
      "cell_type": "markdown",
      "metadata": {
        "id": "jj1C4Bop2a9e"
      },
      "source": [
        "<div style=\"background-color: #EDF7FF; border-color: #7C9DBF; border-left: 5px solid #7C9DBF; padding: 0.5em;\">\n",
        "<strong>Ejercicio [2 pts.]:</strong> Implementa el modelo de red neuronal artificial:\n",
        "<ul>\n",
        "<li>   Diseña la arquitectura para el modelo de clasificación con las siguientes características:</li>\n",
        "   <ul>\n",
        "   <li> 6 capas ocultas de 128 neuronas.</li>\n",
        "   <li> 3 capas de Dropout del 20% (rate=0,2) intercaladas cada 2 capas densas. \n",
        "   <li> Función de activación de las capas intermedias: ReLU.</li>\n",
        "   <li> 1 capa de salida con las dimensiones y función de activación adecuadas para realizar la clasificación.\n",
        "   </ul>\n",
        "\n",
        "<li>   Imprime el modelo para ver el número de parámetros a entrenar.\n",
        "\n",
        "<li>   Compila el modelo con la función de pérdida más adecuada, el optimizador SGD, una velocidad de aprendizaje de 0.01, y la métrica Accuracy.</li>\n",
        "\n",
        "<li>   Ajusta el modelo con 100 épocas y un tamaño del batch de 128. Mide el tiempo de entrenamiento.</li>\n",
        "\n",
        "<li>   Muestra las gráficas de accuracy y loss. En cada gráfica debe visualizarse la curva de entrenamiento y la de validación. NOTA: Se recomienda hacer una función que imprima ambas gráficas para poder reutilizarla en próximos apartados.</li>\n",
        "<li>   Realiza la evaluación del modelo para mostrar la pérdida y la precisión final. </li>\n",
        "</ul>\n",
        "</div>"
      ]
    },
    {
      "cell_type": "code",
      "execution_count": 51,
      "metadata": {
        "id": "gm3tnjBd2a9e",
        "colab": {
          "base_uri": "https://localhost:8080/"
        },
        "outputId": "39884ae6-d516-473c-b1ad-0e48a4dadab1"
      },
      "outputs": [
        {
          "output_type": "stream",
          "name": "stdout",
          "text": [
            "Model: \"sequential_4\"\n",
            "_________________________________________________________________\n",
            " Layer (type)                Output Shape              Param #   \n",
            "=================================================================\n",
            " dense_12 (Dense)            (None, 128)               131200    \n",
            "                                                                 \n",
            " dense_13 (Dense)            (None, 128)               16512     \n",
            "                                                                 \n",
            " dropout_11 (Dropout)        (None, 128)               0         \n",
            "                                                                 \n",
            " dense_14 (Dense)            (None, 128)               16512     \n",
            "                                                                 \n",
            " dense_15 (Dense)            (None, 128)               16512     \n",
            "                                                                 \n",
            " dropout_12 (Dropout)        (None, 128)               0         \n",
            "                                                                 \n",
            " dense_16 (Dense)            (None, 128)               16512     \n",
            "                                                                 \n",
            " dense_17 (Dense)            (None, 128)               16512     \n",
            "                                                                 \n",
            " dropout_13 (Dropout)        (None, 128)               0         \n",
            "                                                                 \n",
            " dense_18 (Dense)            (None, 10)                1290      \n",
            "                                                                 \n",
            "=================================================================\n",
            "Total params: 215,050\n",
            "Trainable params: 215,050\n",
            "Non-trainable params: 0\n",
            "_________________________________________________________________\n"
          ]
        }
      ],
      "source": [
        "# Crear el modelo ANN\n",
        "model_ann = Sequential()\n",
        "\n",
        "# When padding=\"same\" and strides=1, the output has the same size as the input.\n",
        "model_ann.add(Dense(128, activation='relu', input_shape=(1024,)))\n",
        "model_ann.add(Dense(128, activation='relu'))\n",
        "model_ann.add(Dropout(.2))\n",
        "model_ann.add(Dense(128, activation='relu'))\n",
        "model_ann.add(Dense(128, activation='relu'))\n",
        "model_ann.add(Dropout(.2))\n",
        "model_ann.add(Dense(128, activation='relu'))\n",
        "model_ann.add(Dense(128, activation='relu'))\n",
        "model_ann.add(Dropout(.2))\n",
        "\n",
        "# Capa softmax de clasificación con 10 valores posibles(etiqueas)\n",
        "model_ann.add(Dense(10, activation=\"softmax\"))\n",
        "\n",
        "model_ann.summary()"
      ]
    },
    {
      "cell_type": "code",
      "execution_count": 52,
      "metadata": {
        "id": "Rpys0OUWMv4y"
      },
      "outputs": [],
      "source": [
        "# Compile\n",
        "\n",
        "# Compila el modelo con la función de pérdida más adecuada, \n",
        "# el optimizador SGD, una velocidad de aprendizaje de 0.01, y la métrica Accuracy.\n",
        "model_ann.compile(SGD(learning_rate=0.01),\n",
        "              \"categorical_crossentropy\",\n",
        "              metrics=['accuracy'])\n"
      ]
    },
    {
      "cell_type": "code",
      "execution_count": 53,
      "metadata": {
        "id": "-bn3xNx3tMtG",
        "colab": {
          "base_uri": "https://localhost:8080/"
        },
        "outputId": "4dba9102-120f-413c-a1b4-c6010850eff1"
      },
      "outputs": [
        {
          "output_type": "stream",
          "name": "stdout",
          "text": [
            "Epoch 1/100\n",
            "391/391 [==============================] - 3s 6ms/step - loss: 2.2859 - accuracy: 0.1307 - val_loss: 59.1925 - val_accuracy: 0.1590\n",
            "Epoch 2/100\n",
            "391/391 [==============================] - 2s 5ms/step - loss: 2.2303 - accuracy: 0.1608 - val_loss: 106.4549 - val_accuracy: 0.1928\n",
            "Epoch 3/100\n",
            "391/391 [==============================] - 2s 6ms/step - loss: 2.1802 - accuracy: 0.1796 - val_loss: 124.7702 - val_accuracy: 0.1950\n",
            "Epoch 4/100\n",
            "391/391 [==============================] - 2s 5ms/step - loss: 2.1419 - accuracy: 0.2008 - val_loss: 161.8724 - val_accuracy: 0.1986\n",
            "Epoch 5/100\n",
            "391/391 [==============================] - 2s 5ms/step - loss: 2.1003 - accuracy: 0.2216 - val_loss: 176.8501 - val_accuracy: 0.2069\n",
            "Epoch 6/100\n",
            "391/391 [==============================] - 2s 6ms/step - loss: 2.0621 - accuracy: 0.2436 - val_loss: 209.1692 - val_accuracy: 0.2136\n",
            "Epoch 7/100\n",
            "391/391 [==============================] - 2s 6ms/step - loss: 2.0321 - accuracy: 0.2564 - val_loss: 243.6382 - val_accuracy: 0.2137\n",
            "Epoch 8/100\n",
            "391/391 [==============================] - 2s 5ms/step - loss: 2.0062 - accuracy: 0.2692 - val_loss: 247.6192 - val_accuracy: 0.2245\n",
            "Epoch 9/100\n",
            "391/391 [==============================] - 2s 5ms/step - loss: 1.9839 - accuracy: 0.2775 - val_loss: 291.2697 - val_accuracy: 0.2173\n",
            "Epoch 10/100\n",
            "391/391 [==============================] - 2s 5ms/step - loss: 1.9632 - accuracy: 0.2876 - val_loss: 322.7525 - val_accuracy: 0.2151\n",
            "Epoch 11/100\n",
            "391/391 [==============================] - 2s 5ms/step - loss: 1.9433 - accuracy: 0.2964 - val_loss: 259.7827 - val_accuracy: 0.2404\n",
            "Epoch 12/100\n",
            "391/391 [==============================] - 2s 6ms/step - loss: 1.9304 - accuracy: 0.3032 - val_loss: 321.2041 - val_accuracy: 0.2303\n",
            "Epoch 13/100\n",
            "391/391 [==============================] - 2s 5ms/step - loss: 1.9113 - accuracy: 0.3057 - val_loss: 373.1807 - val_accuracy: 0.2153\n",
            "Epoch 14/100\n",
            "391/391 [==============================] - 2s 5ms/step - loss: 1.8987 - accuracy: 0.3138 - val_loss: 248.8652 - val_accuracy: 0.2551\n",
            "Epoch 15/100\n",
            "391/391 [==============================] - 2s 5ms/step - loss: 1.8882 - accuracy: 0.3161 - val_loss: 351.2397 - val_accuracy: 0.2230\n",
            "Epoch 16/100\n",
            "391/391 [==============================] - 2s 6ms/step - loss: 1.8740 - accuracy: 0.3249 - val_loss: 298.4222 - val_accuracy: 0.2292\n",
            "Epoch 17/100\n",
            "391/391 [==============================] - 2s 5ms/step - loss: 1.8650 - accuracy: 0.3259 - val_loss: 315.2465 - val_accuracy: 0.2405\n",
            "Epoch 18/100\n",
            "391/391 [==============================] - 2s 6ms/step - loss: 1.8535 - accuracy: 0.3307 - val_loss: 337.1269 - val_accuracy: 0.2239\n",
            "Epoch 19/100\n",
            "391/391 [==============================] - 2s 5ms/step - loss: 1.8431 - accuracy: 0.3376 - val_loss: 265.3512 - val_accuracy: 0.2591\n",
            "Epoch 20/100\n",
            "391/391 [==============================] - 2s 6ms/step - loss: 1.8319 - accuracy: 0.3394 - val_loss: 306.5119 - val_accuracy: 0.2593\n",
            "Epoch 21/100\n",
            "391/391 [==============================] - 2s 5ms/step - loss: 1.8236 - accuracy: 0.3409 - val_loss: 346.4178 - val_accuracy: 0.2371\n",
            "Epoch 22/100\n",
            "391/391 [==============================] - 2s 5ms/step - loss: 1.8141 - accuracy: 0.3445 - val_loss: 334.6909 - val_accuracy: 0.2327\n",
            "Epoch 23/100\n",
            "391/391 [==============================] - 2s 5ms/step - loss: 1.8087 - accuracy: 0.3471 - val_loss: 276.7032 - val_accuracy: 0.2623\n",
            "Epoch 24/100\n",
            "391/391 [==============================] - 2s 6ms/step - loss: 1.8014 - accuracy: 0.3495 - val_loss: 274.4903 - val_accuracy: 0.2665\n",
            "Epoch 25/100\n",
            "391/391 [==============================] - 2s 6ms/step - loss: 1.7914 - accuracy: 0.3557 - val_loss: 350.7697 - val_accuracy: 0.2445\n",
            "Epoch 26/100\n",
            "391/391 [==============================] - 2s 5ms/step - loss: 1.7843 - accuracy: 0.3573 - val_loss: 359.0002 - val_accuracy: 0.2413\n",
            "Epoch 27/100\n",
            "391/391 [==============================] - 2s 6ms/step - loss: 1.7736 - accuracy: 0.3611 - val_loss: 321.9437 - val_accuracy: 0.2579\n",
            "Epoch 28/100\n",
            "391/391 [==============================] - 2s 5ms/step - loss: 1.7688 - accuracy: 0.3628 - val_loss: 286.0971 - val_accuracy: 0.2720\n",
            "Epoch 29/100\n",
            "391/391 [==============================] - 2s 6ms/step - loss: 1.7593 - accuracy: 0.3686 - val_loss: 274.5795 - val_accuracy: 0.2813\n",
            "Epoch 30/100\n",
            "391/391 [==============================] - 2s 5ms/step - loss: 1.7546 - accuracy: 0.3676 - val_loss: 283.0233 - val_accuracy: 0.2689\n",
            "Epoch 31/100\n",
            "391/391 [==============================] - 2s 5ms/step - loss: 1.7437 - accuracy: 0.3711 - val_loss: 280.8064 - val_accuracy: 0.2754\n",
            "Epoch 32/100\n",
            "391/391 [==============================] - 2s 6ms/step - loss: 1.7402 - accuracy: 0.3722 - val_loss: 235.9086 - val_accuracy: 0.2913\n",
            "Epoch 33/100\n",
            "391/391 [==============================] - 2s 6ms/step - loss: 1.7312 - accuracy: 0.3768 - val_loss: 294.7023 - val_accuracy: 0.2667\n",
            "Epoch 34/100\n",
            "391/391 [==============================] - 2s 6ms/step - loss: 1.7238 - accuracy: 0.3799 - val_loss: 254.5262 - val_accuracy: 0.2853\n",
            "Epoch 35/100\n",
            "391/391 [==============================] - 2s 6ms/step - loss: 1.7183 - accuracy: 0.3816 - val_loss: 329.4418 - val_accuracy: 0.2598\n",
            "Epoch 36/100\n",
            "391/391 [==============================] - 2s 6ms/step - loss: 1.7164 - accuracy: 0.3834 - val_loss: 253.5315 - val_accuracy: 0.2841\n",
            "Epoch 37/100\n",
            "391/391 [==============================] - 2s 5ms/step - loss: 1.7060 - accuracy: 0.3891 - val_loss: 204.8212 - val_accuracy: 0.3062\n",
            "Epoch 38/100\n",
            "391/391 [==============================] - 2s 6ms/step - loss: 1.7007 - accuracy: 0.3888 - val_loss: 249.6141 - val_accuracy: 0.3047\n",
            "Epoch 39/100\n",
            "391/391 [==============================] - 2s 6ms/step - loss: 1.6925 - accuracy: 0.3926 - val_loss: 281.6548 - val_accuracy: 0.2755\n",
            "Epoch 40/100\n",
            "391/391 [==============================] - 2s 6ms/step - loss: 1.6894 - accuracy: 0.3954 - val_loss: 255.3097 - val_accuracy: 0.2979\n",
            "Epoch 41/100\n",
            "391/391 [==============================] - 2s 6ms/step - loss: 1.6798 - accuracy: 0.3980 - val_loss: 251.7950 - val_accuracy: 0.2988\n",
            "Epoch 42/100\n",
            "391/391 [==============================] - 2s 6ms/step - loss: 1.6733 - accuracy: 0.3999 - val_loss: 242.7827 - val_accuracy: 0.3080\n",
            "Epoch 43/100\n",
            "391/391 [==============================] - 2s 6ms/step - loss: 1.6675 - accuracy: 0.4029 - val_loss: 213.7066 - val_accuracy: 0.3163\n",
            "Epoch 44/100\n",
            "391/391 [==============================] - 2s 5ms/step - loss: 1.6603 - accuracy: 0.4049 - val_loss: 265.8699 - val_accuracy: 0.2998\n",
            "Epoch 45/100\n",
            "391/391 [==============================] - 2s 6ms/step - loss: 1.6526 - accuracy: 0.4063 - val_loss: 274.4276 - val_accuracy: 0.3043\n",
            "Epoch 46/100\n",
            "391/391 [==============================] - 2s 6ms/step - loss: 1.6512 - accuracy: 0.4067 - val_loss: 293.2193 - val_accuracy: 0.2818\n",
            "Epoch 47/100\n",
            "391/391 [==============================] - 2s 6ms/step - loss: 1.6448 - accuracy: 0.4107 - val_loss: 276.2224 - val_accuracy: 0.3083\n",
            "Epoch 48/100\n",
            "391/391 [==============================] - 2s 6ms/step - loss: 1.6393 - accuracy: 0.4136 - val_loss: 263.4981 - val_accuracy: 0.3111\n",
            "Epoch 49/100\n",
            "391/391 [==============================] - 2s 6ms/step - loss: 1.6337 - accuracy: 0.4159 - val_loss: 257.7641 - val_accuracy: 0.3032\n",
            "Epoch 50/100\n",
            "391/391 [==============================] - 2s 6ms/step - loss: 1.6308 - accuracy: 0.4173 - val_loss: 267.6375 - val_accuracy: 0.3129\n",
            "Epoch 51/100\n",
            "391/391 [==============================] - 2s 6ms/step - loss: 1.6239 - accuracy: 0.4192 - val_loss: 293.5984 - val_accuracy: 0.2952\n",
            "Epoch 52/100\n",
            "391/391 [==============================] - 2s 6ms/step - loss: 1.6178 - accuracy: 0.4211 - val_loss: 257.9954 - val_accuracy: 0.3095\n",
            "Epoch 53/100\n",
            "391/391 [==============================] - 2s 6ms/step - loss: 1.6116 - accuracy: 0.4227 - val_loss: 294.8487 - val_accuracy: 0.2931\n",
            "Epoch 54/100\n",
            "391/391 [==============================] - 2s 6ms/step - loss: 1.6069 - accuracy: 0.4236 - val_loss: 275.6931 - val_accuracy: 0.2977\n",
            "Epoch 55/100\n",
            "391/391 [==============================] - 2s 6ms/step - loss: 1.6044 - accuracy: 0.4253 - val_loss: 269.2734 - val_accuracy: 0.2936\n",
            "Epoch 56/100\n",
            "391/391 [==============================] - 2s 5ms/step - loss: 1.5980 - accuracy: 0.4292 - val_loss: 264.1280 - val_accuracy: 0.2991\n",
            "Epoch 57/100\n",
            "391/391 [==============================] - 2s 5ms/step - loss: 1.5934 - accuracy: 0.4299 - val_loss: 277.1040 - val_accuracy: 0.2962\n",
            "Epoch 58/100\n",
            "391/391 [==============================] - 2s 5ms/step - loss: 1.5918 - accuracy: 0.4327 - val_loss: 277.4879 - val_accuracy: 0.2996\n",
            "Epoch 59/100\n",
            "391/391 [==============================] - 2s 5ms/step - loss: 1.5877 - accuracy: 0.4323 - val_loss: 251.3692 - val_accuracy: 0.3052\n",
            "Epoch 60/100\n",
            "391/391 [==============================] - 2s 6ms/step - loss: 1.5808 - accuracy: 0.4358 - val_loss: 259.8445 - val_accuracy: 0.3008\n",
            "Epoch 61/100\n",
            "391/391 [==============================] - 2s 6ms/step - loss: 1.5736 - accuracy: 0.4381 - val_loss: 257.5886 - val_accuracy: 0.3074\n",
            "Epoch 62/100\n",
            "391/391 [==============================] - 2s 6ms/step - loss: 1.5726 - accuracy: 0.4407 - val_loss: 298.4312 - val_accuracy: 0.2994\n",
            "Epoch 63/100\n",
            "391/391 [==============================] - 2s 6ms/step - loss: 1.5698 - accuracy: 0.4405 - val_loss: 265.6210 - val_accuracy: 0.2894\n",
            "Epoch 64/100\n",
            "391/391 [==============================] - 2s 6ms/step - loss: 1.5666 - accuracy: 0.4406 - val_loss: 278.0534 - val_accuracy: 0.2915\n",
            "Epoch 65/100\n",
            "391/391 [==============================] - 2s 6ms/step - loss: 1.5592 - accuracy: 0.4428 - val_loss: 272.6667 - val_accuracy: 0.2911\n",
            "Epoch 66/100\n",
            "391/391 [==============================] - 2s 6ms/step - loss: 1.5585 - accuracy: 0.4425 - val_loss: 266.4554 - val_accuracy: 0.3083\n",
            "Epoch 67/100\n",
            "391/391 [==============================] - 2s 6ms/step - loss: 1.5531 - accuracy: 0.4463 - val_loss: 313.9835 - val_accuracy: 0.2909\n",
            "Epoch 68/100\n",
            "391/391 [==============================] - 2s 6ms/step - loss: 1.5496 - accuracy: 0.4457 - val_loss: 268.4908 - val_accuracy: 0.2891\n",
            "Epoch 69/100\n",
            "391/391 [==============================] - 2s 6ms/step - loss: 1.5455 - accuracy: 0.4493 - val_loss: 312.9004 - val_accuracy: 0.2942\n",
            "Epoch 70/100\n",
            "391/391 [==============================] - 2s 6ms/step - loss: 1.5413 - accuracy: 0.4488 - val_loss: 260.7255 - val_accuracy: 0.3054\n",
            "Epoch 71/100\n",
            "391/391 [==============================] - 2s 6ms/step - loss: 1.5401 - accuracy: 0.4508 - val_loss: 290.7323 - val_accuracy: 0.2936\n",
            "Epoch 72/100\n",
            "391/391 [==============================] - 2s 6ms/step - loss: 1.5298 - accuracy: 0.4542 - val_loss: 327.3942 - val_accuracy: 0.2873\n",
            "Epoch 73/100\n",
            "391/391 [==============================] - 2s 6ms/step - loss: 1.5303 - accuracy: 0.4538 - val_loss: 272.2453 - val_accuracy: 0.2985\n",
            "Epoch 74/100\n",
            "391/391 [==============================] - 2s 6ms/step - loss: 1.5264 - accuracy: 0.4571 - val_loss: 275.3528 - val_accuracy: 0.2954\n",
            "Epoch 75/100\n",
            "391/391 [==============================] - 2s 6ms/step - loss: 1.5238 - accuracy: 0.4551 - val_loss: 281.9105 - val_accuracy: 0.2998\n",
            "Epoch 76/100\n",
            "391/391 [==============================] - 2s 6ms/step - loss: 1.5184 - accuracy: 0.4588 - val_loss: 276.4533 - val_accuracy: 0.2952\n",
            "Epoch 77/100\n",
            "391/391 [==============================] - 2s 6ms/step - loss: 1.5175 - accuracy: 0.4583 - val_loss: 259.7559 - val_accuracy: 0.3140\n",
            "Epoch 78/100\n",
            "391/391 [==============================] - 2s 6ms/step - loss: 1.5129 - accuracy: 0.4628 - val_loss: 292.9430 - val_accuracy: 0.2964\n",
            "Epoch 79/100\n",
            "391/391 [==============================] - 2s 6ms/step - loss: 1.5078 - accuracy: 0.4639 - val_loss: 324.1904 - val_accuracy: 0.2639\n",
            "Epoch 80/100\n",
            "391/391 [==============================] - 2s 6ms/step - loss: 1.5064 - accuracy: 0.4629 - val_loss: 311.5910 - val_accuracy: 0.2875\n",
            "Epoch 81/100\n",
            "391/391 [==============================] - 2s 6ms/step - loss: 1.5016 - accuracy: 0.4667 - val_loss: 287.4873 - val_accuracy: 0.3010\n",
            "Epoch 82/100\n",
            "391/391 [==============================] - 2s 6ms/step - loss: 1.4939 - accuracy: 0.4690 - val_loss: 298.8318 - val_accuracy: 0.2966\n",
            "Epoch 83/100\n",
            "391/391 [==============================] - 2s 6ms/step - loss: 1.4924 - accuracy: 0.4662 - val_loss: 340.4342 - val_accuracy: 0.2765\n",
            "Epoch 84/100\n",
            "391/391 [==============================] - 2s 6ms/step - loss: 1.4961 - accuracy: 0.4657 - val_loss: 316.0837 - val_accuracy: 0.2748\n",
            "Epoch 85/100\n",
            "391/391 [==============================] - 2s 6ms/step - loss: 1.4888 - accuracy: 0.4714 - val_loss: 317.6831 - val_accuracy: 0.2874\n",
            "Epoch 86/100\n",
            "391/391 [==============================] - 2s 6ms/step - loss: 1.4842 - accuracy: 0.4708 - val_loss: 286.4026 - val_accuracy: 0.3011\n",
            "Epoch 87/100\n",
            "391/391 [==============================] - 2s 6ms/step - loss: 1.4799 - accuracy: 0.4733 - val_loss: 411.5332 - val_accuracy: 0.2652\n",
            "Epoch 88/100\n",
            "391/391 [==============================] - 2s 6ms/step - loss: 1.4789 - accuracy: 0.4741 - val_loss: 295.1916 - val_accuracy: 0.2946\n",
            "Epoch 89/100\n",
            "391/391 [==============================] - 2s 6ms/step - loss: 1.4727 - accuracy: 0.4766 - val_loss: 311.7508 - val_accuracy: 0.2932\n",
            "Epoch 90/100\n",
            "391/391 [==============================] - 2s 6ms/step - loss: 1.4735 - accuracy: 0.4758 - val_loss: 290.9867 - val_accuracy: 0.3046\n",
            "Epoch 91/100\n",
            "391/391 [==============================] - 2s 6ms/step - loss: 1.4653 - accuracy: 0.4784 - val_loss: 342.2130 - val_accuracy: 0.2849\n",
            "Epoch 92/100\n",
            "391/391 [==============================] - 2s 6ms/step - loss: 1.4639 - accuracy: 0.4807 - val_loss: 324.9575 - val_accuracy: 0.2880\n",
            "Epoch 93/100\n",
            "391/391 [==============================] - 2s 6ms/step - loss: 1.4633 - accuracy: 0.4781 - val_loss: 319.3442 - val_accuracy: 0.2841\n",
            "Epoch 94/100\n",
            "391/391 [==============================] - 2s 6ms/step - loss: 1.4587 - accuracy: 0.4777 - val_loss: 353.8741 - val_accuracy: 0.2834\n",
            "Epoch 95/100\n",
            "391/391 [==============================] - 2s 6ms/step - loss: 1.4562 - accuracy: 0.4821 - val_loss: 306.4070 - val_accuracy: 0.2920\n",
            "Epoch 96/100\n",
            "391/391 [==============================] - 2s 6ms/step - loss: 1.4577 - accuracy: 0.4822 - val_loss: 288.8120 - val_accuracy: 0.2938\n",
            "Epoch 97/100\n",
            "391/391 [==============================] - 2s 6ms/step - loss: 1.4511 - accuracy: 0.4861 - val_loss: 305.5260 - val_accuracy: 0.2911\n",
            "Epoch 98/100\n",
            "391/391 [==============================] - 2s 6ms/step - loss: 1.4403 - accuracy: 0.4889 - val_loss: 285.0112 - val_accuracy: 0.2899\n",
            "Epoch 99/100\n",
            "391/391 [==============================] - 2s 6ms/step - loss: 1.4427 - accuracy: 0.4888 - val_loss: 295.6107 - val_accuracy: 0.2995\n",
            "Epoch 100/100\n",
            "391/391 [==============================] - 2s 6ms/step - loss: 1.4392 - accuracy: 0.4874 - val_loss: 276.4518 - val_accuracy: 0.2939\n"
          ]
        }
      ],
      "source": [
        "# Entrenar el modelo\n",
        "t0 = timeit.default_timer()\n",
        "mfit_ann = model_ann.fit(X_train_gflat, train_labels, epochs=100, batch_size=128,\n",
        "                    validation_data=(X_test_gflat, test_labels))\n",
        "training_time_ann = timeit.default_timer() - t0"
      ]
    },
    {
      "cell_type": "code",
      "source": [
        "print(\"El tiempo de entrenamiento de la red es {} segundos.\".format(training_time_ann))"
      ],
      "metadata": {
        "colab": {
          "base_uri": "https://localhost:8080/"
        },
        "id": "7o671OHne_AO",
        "outputId": "3eee4d91-abe8-45ee-df62-e19419aabcf9"
      },
      "execution_count": 54,
      "outputs": [
        {
          "output_type": "stream",
          "name": "stdout",
          "text": [
            "El tiempo de entrenamiento de la red es 262.7014018809996 segundos.\n"
          ]
        }
      ]
    },
    {
      "cell_type": "code",
      "execution_count": 55,
      "metadata": {
        "id": "EmKH650QRjBC",
        "colab": {
          "base_uri": "https://localhost:8080/",
          "height": 295
        },
        "outputId": "c44c5ce7-5845-4bdc-9483-adeb08384938"
      },
      "outputs": [
        {
          "output_type": "display_data",
          "data": {
            "text/plain": [
              "<Figure size 432x288 with 1 Axes>"
            ],
            "image/png": "[encoded data removed]"
          },
          "metadata": {
            "needs_background": "light"
          }
        }
      ],
      "source": [
        "# Plot del training loss y el accuracy\n",
        "def plot_prediction(n_epochs, mfit):\n",
        "  loss = mfit.history['loss']\n",
        "  val_loss = mfit.history['val_loss']\n",
        "\n",
        "  accuracy = mfit.history['accuracy']\n",
        "  val_accuracy = mfit.history['val_accuracy']\n",
        "\n",
        "  epochs = range(0,n_epochs)\n",
        "\n",
        "  plt.plot(epochs, loss, 'g', label='Training Loss')\n",
        "  plt.plot(epochs, val_loss, 'y', label='Validation Loss')\n",
        "\n",
        "  plt.plot(epochs, accuracy, 'b', label='Training Accuracy')\n",
        "  plt.plot(epochs, val_accuracy, 'r', label='Validation Accuracy')\n",
        "\n",
        "  plt.title('Model Loss and Accuracy')\n",
        "  plt.xticks(epochs)\n",
        "  plt.xlabel('Epochs')\n",
        "  plt.ylabel('Total')\n",
        "  plt.legend()\n",
        "  plt.show()\n",
        "\n",
        "plot_prediction(100, mfit_ann)"
      ]
    },
    {
      "cell_type": "code",
      "execution_count": 56,
      "metadata": {
        "id": "htYq81tiPJyt",
        "colab": {
          "base_uri": "https://localhost:8080/"
        },
        "outputId": "06c1324e-f358-4012-af49-b62c5a6fac84"
      },
      "outputs": [
        {
          "output_type": "stream",
          "name": "stdout",
          "text": [
            "79/79 [==============================] - 0s 4ms/step - loss: 276.4518 - accuracy: 0.2939\n",
            "[276.4518127441406, 0.2939000129699707]\n"
          ]
        }
      ],
      "source": [
        "# Resultados\n",
        "results_ann = model_ann.evaluate(X_test_gflat, test_labels, batch_size=128, verbose=1)\n",
        "print(results_ann)"
      ]
    },
    {
      "cell_type": "markdown",
      "metadata": {
        "id": "c_nHNEeQazFQ"
      },
      "source": [
        "## 3. Red Neuronal Convolucional de una capa [2.5 puntos]\n",
        "\n",
        "A continuación implementaremos una red neuronal convolucional de una capa y realizaremos el entrenamiento y test sobre el dataset CIFAR.\n",
        "\n",
        "Se recomienda, a partir de este punto realizar el entrenamiento en una máquina con GPU (puede activarse en plataformas como Google Colab o Kaggle) con el fin de reducir los tiempos de entrenamiento."
      ]
    },
    {
      "cell_type": "markdown",
      "metadata": {
        "id": "SC6bFzqBc5Ji"
      },
      "source": [
        "### 3.1 Pre-procesado de datos\n",
        "\n",
        "El primer paso para entrenar una red neuronal consiste en pre-procesar los datos de entrenamiento y test para que cuadren con las dimensiones de la entrada de la red neuronal."
      ]
    },
    {
      "cell_type": "markdown",
      "metadata": {
        "id": "FqZIruO2c_Y7"
      },
      "source": [
        "<div style=\"background-color: #EDF7FF; border-color: #7C9DBF; border-left: 5px solid #7C9DBF; padding: 0.5em;\">\n",
        "<strong>Ejercicio [0,5 pts.]:</strong> Ajustar el tamaño de los datos de entrenamiento y test para que tengan 4 dimensiones (la última dimensión tiene que ser 1 para indicar que las imágenes están en escala de grises).\n",
        "</div>\n",
        "\n",
        "**Nota**: Utilizar el número de datos de entrenamiento y test y el tamaño de las imágenes."
      ]
    },
    {
      "cell_type": "code",
      "execution_count": 57,
      "metadata": {
        "id": "3m-PyKhRdJPd",
        "colab": {
          "base_uri": "https://localhost:8080/"
        },
        "outputId": "01b05c1a-cedd-4e89-9530-ad130e349756"
      },
      "outputs": [
        {
          "output_type": "execute_result",
          "data": {
            "text/plain": [
              "((50000, 32, 32, 1), (10000, 32, 32, 1))"
            ]
          },
          "metadata": {},
          "execution_count": 57
        }
      ],
      "source": [
        "X_train_g4dim = X_train_grey.reshape(50000,32,32,1)\n",
        "X_test_g4dim = X_test_grey.reshape(10000,32,32,1)\n",
        "X_train_g4dim.shape, X_test_g4dim.shape"
      ]
    },
    {
      "cell_type": "markdown",
      "metadata": {
        "id": "5N1TUTJDbjB2"
      },
      "source": [
        "### 3.2 Creación del modelo\n",
        "\n",
        "\n",
        "Se quiere implementar un modelo secuencial de Keras con las siguientes características:\n",
        "\n",
        "- La primera capa que añadiremos será una capa convolucional con las siguientes propiedades: \n",
        "    - Número de kernels (neuronas) de la primera capa oculta: 64 neuronas\n",
        "    - Tamaño de los kernels: 3x3\n",
        "    - Activación de los kernels: ReLU\n",
        "- A continuación añadiremos una capa Flatten para conectar la salida de la capa convolucional con la entrada de una capa densa.\n",
        "- Por último, añadiremos una capa densa de salida con el número de neuronas y función de activación adecuadas para llevar a cabo la clasificación.\n"
      ]
    },
    {
      "cell_type": "markdown",
      "metadata": {
        "id": "8NhWqEDUb3PG"
      },
      "source": [
        "<div style=\"background-color: #EDF7FF; border-color: #7C9DBF; border-left: 5px solid #7C9DBF; padding: 0.5em;\">\n",
        "<strong>Ejercicio [1,5 pts.]:</strong> Construir el modelo según los requerimientos indicados, además:\n",
        "<ul>\n",
        "<li>   Imprime el modelo para ver el número de parámetros a entrenar.\n",
        "\n",
        "<li>   Compila el modelo con la función de pérdida más adecuada, el optimizador ADAM y la métrica Accuracy.</li>\n",
        "\n",
        "<li>   Ajusta el modelo con 20 épocas y un tamaño del batch de 128. Mide el tiempo de entrenamiento.</li>\n",
        "\n",
        "<li>   Muestra las gráficas de accuracy y loss. En cada gráfica debe visualizarse la curva de entrenamiento y la de validación</li>\n",
        "<li>   Realiza la evaluación del modelo para mostrar la pérdida y la precisión final. </li>\n",
        "</div>\n",
        "</ul>"
      ]
    },
    {
      "cell_type": "code",
      "execution_count": 75,
      "metadata": {
        "id": "_Tel4AeVbu1B",
        "colab": {
          "base_uri": "https://localhost:8080/"
        },
        "outputId": "fbe639b6-0cc5-4ee5-b988-eb64d07a7894"
      },
      "outputs": [
        {
          "output_type": "stream",
          "name": "stdout",
          "text": [
            "Model: \"sequential_8\"\n",
            "_________________________________________________________________\n",
            " Layer (type)                Output Shape              Param #   \n",
            "=================================================================\n",
            " conv2d_26 (Conv2D)          (None, 30, 30, 64)        640       \n",
            "                                                                 \n",
            " flatten_6 (Flatten)         (None, 57600)             0         \n",
            "                                                                 \n",
            " dense_24 (Dense)            (None, 10)                576010    \n",
            "                                                                 \n",
            "=================================================================\n",
            "Total params: 576,650\n",
            "Trainable params: 576,650\n",
            "Non-trainable params: 0\n",
            "_________________________________________________________________\n"
          ]
        }
      ],
      "source": [
        "# Crear la CNN monocapa\n",
        "model_cnn_single = Sequential()\n",
        "\n",
        "model_cnn_single.add(Conv2D(64, (3, 3), activation='relu', input_shape=(32,32,1)))\n",
        "model_cnn_single.add(Flatten())\n",
        "\n",
        "# Capa softmax de clasificación con 10 valores posibles(etiqueas)\n",
        "model_cnn_single.add(Dense(10, activation=\"softmax\"))\n",
        "\n",
        "model_cnn_single.summary()"
      ]
    },
    {
      "cell_type": "code",
      "execution_count": 59,
      "metadata": {
        "id": "wODD-SPddt1n"
      },
      "outputs": [],
      "source": [
        "# Compile\n",
        "model_cnn_single.compile(Adam(learning_rate=0.01),\n",
        "              \"categorical_crossentropy\",\n",
        "              metrics=['accuracy'])"
      ]
    },
    {
      "cell_type": "code",
      "execution_count": 60,
      "metadata": {
        "id": "Dp_qRTO0dz8C",
        "colab": {
          "base_uri": "https://localhost:8080/"
        },
        "outputId": "d1fc2ca0-56be-4e4f-e411-2dc295827eff"
      },
      "outputs": [
        {
          "output_type": "stream",
          "name": "stdout",
          "text": [
            "Epoch 1/20\n",
            "391/391 [==============================] - 5s 11ms/step - loss: 13.1934 - accuracy: 0.0999 - val_loss: 2.3027 - val_accuracy: 0.1011\n",
            "Epoch 2/20\n",
            "391/391 [==============================] - 4s 10ms/step - loss: 2.3025 - accuracy: 0.0994 - val_loss: 2.3029 - val_accuracy: 0.1011\n",
            "Epoch 3/20\n",
            "391/391 [==============================] - 4s 10ms/step - loss: 2.3013 - accuracy: 0.1022 - val_loss: 2.3037 - val_accuracy: 0.1024\n",
            "Epoch 4/20\n",
            "391/391 [==============================] - 4s 10ms/step - loss: 2.2945 - accuracy: 0.1079 - val_loss: 2.3052 - val_accuracy: 0.0990\n",
            "Epoch 5/20\n",
            "391/391 [==============================] - 4s 10ms/step - loss: 2.2828 - accuracy: 0.1113 - val_loss: 2.3109 - val_accuracy: 0.1040\n",
            "Epoch 6/20\n",
            "391/391 [==============================] - 4s 10ms/step - loss: 2.2691 - accuracy: 0.1174 - val_loss: 2.3196 - val_accuracy: 0.1094\n",
            "Epoch 7/20\n",
            "391/391 [==============================] - 4s 10ms/step - loss: 2.2514 - accuracy: 0.1270 - val_loss: 2.3603 - val_accuracy: 0.1174\n",
            "Epoch 8/20\n",
            "391/391 [==============================] - 4s 11ms/step - loss: 2.2318 - accuracy: 0.1393 - val_loss: 2.3584 - val_accuracy: 0.1206\n",
            "Epoch 9/20\n",
            "391/391 [==============================] - 4s 10ms/step - loss: 2.2143 - accuracy: 0.1467 - val_loss: 2.3982 - val_accuracy: 0.1217\n",
            "Epoch 10/20\n",
            "391/391 [==============================] - 4s 10ms/step - loss: 2.1971 - accuracy: 0.1577 - val_loss: 2.3709 - val_accuracy: 0.1191\n",
            "Epoch 11/20\n",
            "391/391 [==============================] - 4s 10ms/step - loss: 2.1883 - accuracy: 0.1617 - val_loss: 2.3884 - val_accuracy: 0.1234\n",
            "Epoch 12/20\n",
            "391/391 [==============================] - 4s 11ms/step - loss: 2.1804 - accuracy: 0.1633 - val_loss: 2.5021 - val_accuracy: 0.1164\n",
            "Epoch 13/20\n",
            "391/391 [==============================] - 4s 11ms/step - loss: 2.1764 - accuracy: 0.1637 - val_loss: 2.4889 - val_accuracy: 0.1054\n",
            "Epoch 14/20\n",
            "391/391 [==============================] - 4s 10ms/step - loss: 2.1695 - accuracy: 0.1687 - val_loss: 2.6477 - val_accuracy: 0.1369\n",
            "Epoch 15/20\n",
            "391/391 [==============================] - 4s 10ms/step - loss: 2.1626 - accuracy: 0.1730 - val_loss: 2.6230 - val_accuracy: 0.1187\n",
            "Epoch 16/20\n",
            "391/391 [==============================] - 4s 10ms/step - loss: 2.1603 - accuracy: 0.1719 - val_loss: 2.6478 - val_accuracy: 0.1205\n",
            "Epoch 17/20\n",
            "391/391 [==============================] - 4s 10ms/step - loss: 2.1559 - accuracy: 0.1730 - val_loss: 2.5635 - val_accuracy: 0.1215\n",
            "Epoch 18/20\n",
            "391/391 [==============================] - 4s 11ms/step - loss: 2.1441 - accuracy: 0.1772 - val_loss: 2.6834 - val_accuracy: 0.1190\n",
            "Epoch 19/20\n",
            "391/391 [==============================] - 4s 10ms/step - loss: 2.1551 - accuracy: 0.1712 - val_loss: 2.7817 - val_accuracy: 0.1161\n",
            "Epoch 20/20\n",
            "391/391 [==============================] - 4s 10ms/step - loss: 2.1293 - accuracy: 0.1806 - val_loss: 2.7237 - val_accuracy: 0.1136\n",
            "El tiempo de entrenamiento de la red es 82.39102532200013 segundos.\n"
          ]
        }
      ],
      "source": [
        "# Entrenamiento del modelo\n",
        "epochs = 20\n",
        "t0 = timeit.default_timer()\n",
        "mfit_cnn_single = model_cnn_single.fit(X_train_g4dim, train_labels, epochs=epochs, batch_size=128,\n",
        "                    validation_data=(X_test_g4dim, test_labels))\n",
        "training_time_cnn_single = timeit.default_timer() - t0\n",
        "print(\"El tiempo de entrenamiento de la red es {} segundos.\".format(training_time_cnn_single))"
      ]
    },
    {
      "cell_type": "code",
      "execution_count": 61,
      "metadata": {
        "id": "nvdC8nq6gM1j",
        "colab": {
          "base_uri": "https://localhost:8080/",
          "height": 295
        },
        "outputId": "a632c399-dcc4-49f5-9ec0-63ace71d96f0"
      },
      "outputs": [
        {
          "output_type": "display_data",
          "data": {
            "text/plain": [
              "<Figure size 432x288 with 1 Axes>"
            ],
            "image/png": "[encoded data removed]"
          },
          "metadata": {
            "needs_background": "light"
          }
        }
      ],
      "source": [
        "# Resultados\n",
        "plot_prediction(epochs, mfit_cnn_single)"
      ]
    },
    {
      "cell_type": "code",
      "source": [
        "results_cnn_single = model_cnn_single.evaluate(X_test_g4dim, test_labels, batch_size=128, verbose=1)\n",
        "print(results_cnn_single)"
      ],
      "metadata": {
        "colab": {
          "base_uri": "https://localhost:8080/"
        },
        "id": "4Z7d67dmva0x",
        "outputId": "9e72e859-b838-40a0-935a-7790dd92d9d2"
      },
      "execution_count": 62,
      "outputs": [
        {
          "output_type": "stream",
          "name": "stdout",
          "text": [
            "79/79 [==============================] - 0s 6ms/step - loss: 2.7237 - accuracy: 0.1136\n",
            "[2.72365140914917, 0.1136000007390976]\n"
          ]
        }
      ]
    },
    {
      "cell_type": "markdown",
      "metadata": {
        "id": "3zvcOIXP2L00"
      },
      "source": [
        "### 3.3 GPU vs CPU\n"
      ]
    },
    {
      "cell_type": "markdown",
      "metadata": {
        "id": "xYYK99Qt2W-_"
      },
      "source": [
        "<div style=\"background-color: #EDF7FF; border-color: #7C9DBF; border-left: 5px solid #7C9DBF; padding: 0.5em;\">\n",
        "<strong>Ejercicio [0,5 pts.]:</strong> Volver a entrenar el modelo desde cero en un entorno sin GPU (sólo con CPU) y compara los tiempos de entrenamiento. Comenta los resultados.\n",
        "</div>"
      ]
    },
    {
      "cell_type": "markdown",
      "source": [
        "Con GPU: 95.6 segundos\n",
        "Sin GPU: 682.33 segundos"
      ],
      "metadata": {
        "id": "4Gs9dm_CoS81"
      }
    },
    {
      "cell_type": "markdown",
      "metadata": {
        "id": "vOVt54io2a9i"
      },
      "source": [
        "## 4. Deep CNN con Maxpooling y Dropout [2 puntos]"
      ]
    },
    {
      "cell_type": "markdown",
      "metadata": {
        "id": "Vu50DABS2a9i"
      },
      "source": [
        "En el ejercicio anterior hemos implementado una red convolucional de una sola capa. Ahora vamos a implementar una red neuronal convolucional profunda y veremos como esto se traduce en un mejor rendimiento en los resultados."
      ]
    },
    {
      "cell_type": "markdown",
      "metadata": {
        "id": "PtV-zHG2CObw"
      },
      "source": [
        "### 4.1 Creación del modelo\n"
      ]
    },
    {
      "cell_type": "markdown",
      "metadata": {
        "id": "stycEZSI2a9i"
      },
      "source": [
        "En este caso volveremos a utilizar el modelo `Sequential` de Keras que constará de: \n",
        "- Dos capas convolucionales de 32 kernels cada una de tamaño 3x3\n",
        "- Una capa de MaxPooling con un tamaño de 2x2\n",
        "- Una capa de Dropout con un rate=0.2\n",
        "- Dos capas convolucionales de 64 kernels cada una de tamaño 3x3\n",
        "- Una capa de MaxPooling con un tamaño de 2x2\n",
        "- Una capa de Dropout con un rate=0.2\n",
        "- Dos capas convolucionales de 128 kernels cada una de tamaño 3x3\n",
        "- Una capa de MaxPooling con un tamaño de 2x2\n",
        "- Una capa de Dropout con un rate=0.2\n",
        "- Todas las capas convolucionales con función de activación ReLU y padding = same\n",
        "- Una capa Flatten\n",
        "- Una capa densa con 128 neuronas y función de activación ReLU\n",
        "- Una capa de Dropout con un rate=0.2\n",
        "- Una capa densa de salida con el número de neuronas y la función de activación necesarias para llevar a cabo la clasificación"
      ]
    },
    {
      "cell_type": "markdown",
      "metadata": {
        "id": "WQlTGA8a2a9i"
      },
      "source": [
        "<div style=\"background-color: #EDF7FF; border-color: #7C9DBF; border-left: 5px solid #7C9DBF; padding: 0.5em;\">\n",
        "<strong>Ejercicio [1,5 pts.]:</strong> Construir el modelo según los requerimientos indicados, además:\n",
        "<ul>\n",
        "<li>   Imprime el modelo para ver el número de parámetros a entrenar.\n",
        "\n",
        "<li>   Compila el modelo con la función de pérdida más adecuada, el optimizador SGD (con learning rate de 0.001 y momentum de 0.9) y la métrica Accuracy.</li>\n",
        "\n",
        "<li>   Ajusta el modelo con 150 épocas y un tamaño del batch de 128. Mide el tiempo de entrenamiento.</li>\n",
        "\n",
        "<li>   Muestra las gráficas de accuracy y loss. En cada gráfica debe visualizarse la curva de entrenamiento y la de validación</li>\n",
        "<li>   Realiza la evaluación del modelo para mostrar la pérdida y la precisión final. </li>\n",
        "</div>\n",
        "</ul>\n",
        "</div>"
      ]
    },
    {
      "cell_type": "code",
      "execution_count": 63,
      "metadata": {
        "id": "RDywqmMYHaVr",
        "colab": {
          "base_uri": "https://localhost:8080/"
        },
        "outputId": "61d17e1e-3a57-4d30-9552-773cc19e1073"
      },
      "outputs": [
        {
          "output_type": "stream",
          "name": "stdout",
          "text": [
            "Model: \"sequential_6\"\n",
            "_________________________________________________________________\n",
            " Layer (type)                Output Shape              Param #   \n",
            "=================================================================\n",
            " conv2d_14 (Conv2D)          (None, 32, 32, 32)        320       \n",
            "                                                                 \n",
            " conv2d_15 (Conv2D)          (None, 32, 32, 32)        9248      \n",
            "                                                                 \n",
            " max_pooling2d_6 (MaxPooling  (None, 16, 16, 32)       0         \n",
            " 2D)                                                             \n",
            "                                                                 \n",
            " dropout_14 (Dropout)        (None, 16, 16, 32)        0         \n",
            "                                                                 \n",
            " conv2d_16 (Conv2D)          (None, 16, 16, 64)        18496     \n",
            "                                                                 \n",
            " conv2d_17 (Conv2D)          (None, 16, 16, 64)        36928     \n",
            "                                                                 \n",
            " max_pooling2d_7 (MaxPooling  (None, 8, 8, 64)         0         \n",
            " 2D)                                                             \n",
            "                                                                 \n",
            " dropout_15 (Dropout)        (None, 8, 8, 64)          0         \n",
            "                                                                 \n",
            " conv2d_18 (Conv2D)          (None, 8, 8, 128)         73856     \n",
            "                                                                 \n",
            " conv2d_19 (Conv2D)          (None, 8, 8, 128)         147584    \n",
            "                                                                 \n",
            " max_pooling2d_8 (MaxPooling  (None, 4, 4, 128)        0         \n",
            " 2D)                                                             \n",
            "                                                                 \n",
            " dropout_16 (Dropout)        (None, 4, 4, 128)         0         \n",
            "                                                                 \n",
            " flatten_4 (Flatten)         (None, 2048)              0         \n",
            "                                                                 \n",
            " dense_20 (Dense)            (None, 128)               262272    \n",
            "                                                                 \n",
            " dropout_17 (Dropout)        (None, 128)               0         \n",
            "                                                                 \n",
            " dense_21 (Dense)            (None, 10)                1290      \n",
            "                                                                 \n",
            "=================================================================\n",
            "Total params: 549,994\n",
            "Trainable params: 549,994\n",
            "Non-trainable params: 0\n",
            "_________________________________________________________________\n"
          ]
        }
      ],
      "source": [
        "# Crear la CNN profunda\n",
        "model_cnn_deep_grey = Sequential()\n",
        "\n",
        "model_cnn_deep_grey.add(Conv2D(32, (3, 3), activation='relu', padding=\"same\", input_shape=(32,32,1)))\n",
        "model_cnn_deep_grey.add(Conv2D(32, (3, 3), activation='relu', padding=\"same\"))\n",
        "model_cnn_deep_grey.add(MaxPooling2D((2, 2)))\n",
        "model_cnn_deep_grey.add(Dropout(.2))\n",
        "\n",
        "model_cnn_deep_grey.add(Conv2D(64, (3, 3), activation='relu', padding=\"same\"))\n",
        "model_cnn_deep_grey.add(Conv2D(64, (3, 3), activation='relu', padding=\"same\"))\n",
        "model_cnn_deep_grey.add(MaxPooling2D((2, 2)))\n",
        "model_cnn_deep_grey.add(Dropout(.2))\n",
        "\n",
        "model_cnn_deep_grey.add(Conv2D(128, (3, 3), activation='relu', padding=\"same\"))\n",
        "model_cnn_deep_grey.add(Conv2D(128, (3, 3), activation='relu', padding=\"same\"))\n",
        "model_cnn_deep_grey.add(MaxPooling2D((2, 2)))\n",
        "model_cnn_deep_grey.add(Dropout(.2))\n",
        "\n",
        "model_cnn_deep_grey.add(Flatten())\n",
        "model_cnn_deep_grey.add(Dense(128, activation='relu'))\n",
        "model_cnn_deep_grey.add(Dropout(.2))\n",
        "\n",
        "# Capa softmax de clasificación con 10 valores posibles(etiqueas)\n",
        "model_cnn_deep_grey.add(Dense(10, activation=\"softmax\"))\n",
        "\n",
        "model_cnn_deep_grey.summary()"
      ]
    },
    {
      "cell_type": "code",
      "execution_count": 64,
      "metadata": {
        "id": "xMjSPOL8Ht1K"
      },
      "outputs": [],
      "source": [
        "# Compile\n",
        "model_cnn_deep_grey.compile(SGD(learning_rate=0.001, momentum=0.9),\n",
        "              \"categorical_crossentropy\",\n",
        "              metrics=['accuracy'])"
      ]
    },
    {
      "cell_type": "code",
      "execution_count": 65,
      "metadata": {
        "id": "u5nTBdmtIAB_",
        "colab": {
          "base_uri": "https://localhost:8080/"
        },
        "outputId": "438707fa-4bf2-4aeb-8ee7-b5fbdbebcd07"
      },
      "outputs": [
        {
          "output_type": "stream",
          "name": "stdout",
          "text": [
            "Epoch 1/150\n",
            "391/391 [==============================] - 14s 34ms/step - loss: 2.3132 - accuracy: 0.1583 - val_loss: 2.0528 - val_accuracy: 0.2513\n",
            "Epoch 2/150\n",
            "391/391 [==============================] - 13s 32ms/step - loss: 1.9611 - accuracy: 0.2814 - val_loss: 1.8334 - val_accuracy: 0.3485\n",
            "Epoch 3/150\n",
            "391/391 [==============================] - 13s 33ms/step - loss: 1.8288 - accuracy: 0.3308 - val_loss: 1.7005 - val_accuracy: 0.3925\n",
            "Epoch 4/150\n",
            "391/391 [==============================] - 13s 33ms/step - loss: 1.7255 - accuracy: 0.3738 - val_loss: 1.5758 - val_accuracy: 0.4476\n",
            "Epoch 5/150\n",
            "391/391 [==============================] - 12s 32ms/step - loss: 1.6273 - accuracy: 0.4154 - val_loss: 1.5325 - val_accuracy: 0.4570\n",
            "Epoch 6/150\n",
            "391/391 [==============================] - 13s 32ms/step - loss: 1.5543 - accuracy: 0.4464 - val_loss: 1.4424 - val_accuracy: 0.4916\n",
            "Epoch 7/150\n",
            "391/391 [==============================] - 13s 32ms/step - loss: 1.4738 - accuracy: 0.4766 - val_loss: 1.3596 - val_accuracy: 0.5322\n",
            "Epoch 8/150\n",
            "391/391 [==============================] - 13s 32ms/step - loss: 1.4171 - accuracy: 0.4995 - val_loss: 1.2874 - val_accuracy: 0.5500\n",
            "Epoch 9/150\n",
            "391/391 [==============================] - 13s 32ms/step - loss: 1.3541 - accuracy: 0.5240 - val_loss: 1.2397 - val_accuracy: 0.5723\n",
            "Epoch 10/150\n",
            "391/391 [==============================] - 12s 32ms/step - loss: 1.3043 - accuracy: 0.5433 - val_loss: 1.2385 - val_accuracy: 0.5710\n",
            "Epoch 11/150\n",
            "391/391 [==============================] - 12s 32ms/step - loss: 1.2516 - accuracy: 0.5650 - val_loss: 1.1652 - val_accuracy: 0.5916\n",
            "Epoch 12/150\n",
            "391/391 [==============================] - 12s 32ms/step - loss: 1.2109 - accuracy: 0.5773 - val_loss: 1.0927 - val_accuracy: 0.6186\n",
            "Epoch 13/150\n",
            "391/391 [==============================] - 12s 32ms/step - loss: 1.1710 - accuracy: 0.5911 - val_loss: 1.0569 - val_accuracy: 0.6313\n",
            "Epoch 14/150\n",
            "391/391 [==============================] - 13s 33ms/step - loss: 1.1323 - accuracy: 0.6055 - val_loss: 1.0774 - val_accuracy: 0.6312\n",
            "Epoch 15/150\n",
            "391/391 [==============================] - 13s 33ms/step - loss: 1.0990 - accuracy: 0.6169 - val_loss: 1.0166 - val_accuracy: 0.6503\n",
            "Epoch 16/150\n",
            "391/391 [==============================] - 13s 32ms/step - loss: 1.0586 - accuracy: 0.6329 - val_loss: 0.9755 - val_accuracy: 0.6710\n",
            "Epoch 17/150\n",
            "391/391 [==============================] - 13s 32ms/step - loss: 1.0382 - accuracy: 0.6408 - val_loss: 0.9441 - val_accuracy: 0.6779\n",
            "Epoch 18/150\n",
            "391/391 [==============================] - 13s 32ms/step - loss: 1.0034 - accuracy: 0.6543 - val_loss: 0.9533 - val_accuracy: 0.6756\n",
            "Epoch 19/150\n",
            "391/391 [==============================] - 13s 32ms/step - loss: 0.9743 - accuracy: 0.6632 - val_loss: 0.9017 - val_accuracy: 0.6886\n",
            "Epoch 20/150\n",
            "391/391 [==============================] - 13s 32ms/step - loss: 0.9560 - accuracy: 0.6683 - val_loss: 0.9269 - val_accuracy: 0.6865\n",
            "Epoch 21/150\n",
            "391/391 [==============================] - 13s 32ms/step - loss: 0.9313 - accuracy: 0.6785 - val_loss: 0.8945 - val_accuracy: 0.6954\n",
            "Epoch 22/150\n",
            "391/391 [==============================] - 13s 32ms/step - loss: 0.9119 - accuracy: 0.6833 - val_loss: 0.8327 - val_accuracy: 0.7158\n",
            "Epoch 23/150\n",
            "391/391 [==============================] - 13s 32ms/step - loss: 0.8911 - accuracy: 0.6919 - val_loss: 0.8314 - val_accuracy: 0.7126\n",
            "Epoch 24/150\n",
            "391/391 [==============================] - 13s 33ms/step - loss: 0.8785 - accuracy: 0.6962 - val_loss: 0.8171 - val_accuracy: 0.7208\n",
            "Epoch 25/150\n",
            "391/391 [==============================] - 13s 32ms/step - loss: 0.8533 - accuracy: 0.7049 - val_loss: 0.8123 - val_accuracy: 0.7251\n",
            "Epoch 26/150\n",
            "391/391 [==============================] - 13s 32ms/step - loss: 0.8430 - accuracy: 0.7082 - val_loss: 0.8102 - val_accuracy: 0.7234\n",
            "Epoch 27/150\n",
            "391/391 [==============================] - 13s 32ms/step - loss: 0.8224 - accuracy: 0.7160 - val_loss: 0.8036 - val_accuracy: 0.7269\n",
            "Epoch 28/150\n",
            "391/391 [==============================] - 13s 32ms/step - loss: 0.8087 - accuracy: 0.7196 - val_loss: 0.7976 - val_accuracy: 0.7276\n",
            "Epoch 29/150\n",
            "391/391 [==============================] - 13s 32ms/step - loss: 0.7988 - accuracy: 0.7252 - val_loss: 0.7639 - val_accuracy: 0.7383\n",
            "Epoch 30/150\n",
            "391/391 [==============================] - 12s 32ms/step - loss: 0.7877 - accuracy: 0.7282 - val_loss: 0.7685 - val_accuracy: 0.7420\n",
            "Epoch 31/150\n",
            "391/391 [==============================] - 13s 33ms/step - loss: 0.7685 - accuracy: 0.7343 - val_loss: 0.7874 - val_accuracy: 0.7302\n",
            "Epoch 32/150\n",
            "391/391 [==============================] - 12s 32ms/step - loss: 0.7653 - accuracy: 0.7367 - val_loss: 0.7393 - val_accuracy: 0.7502\n",
            "Epoch 33/150\n",
            "391/391 [==============================] - 12s 32ms/step - loss: 0.7499 - accuracy: 0.7400 - val_loss: 0.7538 - val_accuracy: 0.7433\n",
            "Epoch 34/150\n",
            "391/391 [==============================] - 12s 32ms/step - loss: 0.7382 - accuracy: 0.7461 - val_loss: 0.7576 - val_accuracy: 0.7424\n",
            "Epoch 35/150\n",
            "391/391 [==============================] - 12s 32ms/step - loss: 0.7251 - accuracy: 0.7493 - val_loss: 0.7385 - val_accuracy: 0.7493\n",
            "Epoch 36/150\n",
            "391/391 [==============================] - 12s 32ms/step - loss: 0.7127 - accuracy: 0.7531 - val_loss: 0.7137 - val_accuracy: 0.7582\n",
            "Epoch 37/150\n",
            "391/391 [==============================] - 12s 32ms/step - loss: 0.7071 - accuracy: 0.7548 - val_loss: 0.7189 - val_accuracy: 0.7565\n",
            "Epoch 38/150\n",
            "391/391 [==============================] - 12s 32ms/step - loss: 0.6974 - accuracy: 0.7607 - val_loss: 0.7121 - val_accuracy: 0.7564\n",
            "Epoch 39/150\n",
            "391/391 [==============================] - 13s 33ms/step - loss: 0.6847 - accuracy: 0.7629 - val_loss: 0.6967 - val_accuracy: 0.7613\n",
            "Epoch 40/150\n",
            "391/391 [==============================] - 12s 32ms/step - loss: 0.6833 - accuracy: 0.7636 - val_loss: 0.7079 - val_accuracy: 0.7613\n",
            "Epoch 41/150\n",
            "391/391 [==============================] - 12s 32ms/step - loss: 0.6692 - accuracy: 0.7657 - val_loss: 0.6955 - val_accuracy: 0.7664\n",
            "Epoch 42/150\n",
            "391/391 [==============================] - 12s 32ms/step - loss: 0.6617 - accuracy: 0.7706 - val_loss: 0.6916 - val_accuracy: 0.7701\n",
            "Epoch 43/150\n",
            "391/391 [==============================] - 12s 32ms/step - loss: 0.6504 - accuracy: 0.7743 - val_loss: 0.6747 - val_accuracy: 0.7727\n",
            "Epoch 44/150\n",
            "391/391 [==============================] - 12s 32ms/step - loss: 0.6465 - accuracy: 0.7747 - val_loss: 0.6779 - val_accuracy: 0.7753\n",
            "Epoch 45/150\n",
            "391/391 [==============================] - 13s 32ms/step - loss: 0.6340 - accuracy: 0.7799 - val_loss: 0.6772 - val_accuracy: 0.7717\n",
            "Epoch 46/150\n",
            "391/391 [==============================] - 12s 32ms/step - loss: 0.6272 - accuracy: 0.7815 - val_loss: 0.6699 - val_accuracy: 0.7780\n",
            "Epoch 47/150\n",
            "391/391 [==============================] - 12s 32ms/step - loss: 0.6221 - accuracy: 0.7823 - val_loss: 0.6599 - val_accuracy: 0.7771\n",
            "Epoch 48/150\n",
            "391/391 [==============================] - 12s 32ms/step - loss: 0.6148 - accuracy: 0.7879 - val_loss: 0.6909 - val_accuracy: 0.7686\n",
            "Epoch 49/150\n",
            "391/391 [==============================] - 12s 32ms/step - loss: 0.6089 - accuracy: 0.7877 - val_loss: 0.6584 - val_accuracy: 0.7787\n",
            "Epoch 50/150\n",
            "391/391 [==============================] - 12s 32ms/step - loss: 0.5941 - accuracy: 0.7949 - val_loss: 0.6730 - val_accuracy: 0.7761\n",
            "Epoch 51/150\n",
            "391/391 [==============================] - 12s 32ms/step - loss: 0.5853 - accuracy: 0.7965 - val_loss: 0.6703 - val_accuracy: 0.7809\n",
            "Epoch 52/150\n",
            "391/391 [==============================] - 13s 33ms/step - loss: 0.5795 - accuracy: 0.7982 - val_loss: 0.6380 - val_accuracy: 0.7860\n",
            "Epoch 53/150\n",
            "391/391 [==============================] - 12s 32ms/step - loss: 0.5795 - accuracy: 0.7973 - val_loss: 0.6318 - val_accuracy: 0.7877\n",
            "Epoch 54/150\n",
            "391/391 [==============================] - 12s 32ms/step - loss: 0.5765 - accuracy: 0.8009 - val_loss: 0.6502 - val_accuracy: 0.7833\n",
            "Epoch 55/150\n",
            "391/391 [==============================] - 12s 32ms/step - loss: 0.5651 - accuracy: 0.8032 - val_loss: 0.6630 - val_accuracy: 0.7773\n",
            "Epoch 56/150\n",
            "391/391 [==============================] - 12s 32ms/step - loss: 0.5552 - accuracy: 0.8065 - val_loss: 0.6484 - val_accuracy: 0.7888\n",
            "Epoch 57/150\n",
            "391/391 [==============================] - 12s 32ms/step - loss: 0.5484 - accuracy: 0.8091 - val_loss: 0.6544 - val_accuracy: 0.7791\n",
            "Epoch 58/150\n",
            "391/391 [==============================] - 13s 32ms/step - loss: 0.5474 - accuracy: 0.8078 - val_loss: 0.6407 - val_accuracy: 0.7879\n",
            "Epoch 59/150\n",
            "391/391 [==============================] - 12s 32ms/step - loss: 0.5416 - accuracy: 0.8094 - val_loss: 0.6524 - val_accuracy: 0.7844\n",
            "Epoch 60/150\n",
            "391/391 [==============================] - 12s 32ms/step - loss: 0.5244 - accuracy: 0.8163 - val_loss: 0.6269 - val_accuracy: 0.7965\n",
            "Epoch 61/150\n",
            "391/391 [==============================] - 13s 33ms/step - loss: 0.5242 - accuracy: 0.8138 - val_loss: 0.6492 - val_accuracy: 0.7898\n",
            "Epoch 62/150\n",
            "391/391 [==============================] - 13s 32ms/step - loss: 0.5259 - accuracy: 0.8176 - val_loss: 0.6415 - val_accuracy: 0.7880\n",
            "Epoch 63/150\n",
            "391/391 [==============================] - 13s 32ms/step - loss: 0.5179 - accuracy: 0.8195 - val_loss: 0.6485 - val_accuracy: 0.7886\n",
            "Epoch 64/150\n",
            "391/391 [==============================] - 13s 34ms/step - loss: 0.5038 - accuracy: 0.8226 - val_loss: 0.6276 - val_accuracy: 0.7929\n",
            "Epoch 65/150\n",
            "391/391 [==============================] - 12s 32ms/step - loss: 0.5053 - accuracy: 0.8208 - val_loss: 0.6186 - val_accuracy: 0.7963\n",
            "Epoch 66/150\n",
            "391/391 [==============================] - 12s 32ms/step - loss: 0.4970 - accuracy: 0.8250 - val_loss: 0.6582 - val_accuracy: 0.7875\n",
            "Epoch 67/150\n",
            "391/391 [==============================] - 12s 32ms/step - loss: 0.4990 - accuracy: 0.8248 - val_loss: 0.6431 - val_accuracy: 0.7874\n",
            "Epoch 68/150\n",
            "391/391 [==============================] - 12s 32ms/step - loss: 0.4841 - accuracy: 0.8285 - val_loss: 0.6355 - val_accuracy: 0.7925\n",
            "Epoch 69/150\n",
            "391/391 [==============================] - 12s 32ms/step - loss: 0.4882 - accuracy: 0.8288 - val_loss: 0.6266 - val_accuracy: 0.7927\n",
            "Epoch 70/150\n",
            "391/391 [==============================] - 12s 32ms/step - loss: 0.4821 - accuracy: 0.8282 - val_loss: 0.6203 - val_accuracy: 0.7995\n",
            "Epoch 71/150\n",
            "391/391 [==============================] - 13s 32ms/step - loss: 0.4757 - accuracy: 0.8332 - val_loss: 0.6431 - val_accuracy: 0.7943\n",
            "Epoch 72/150\n",
            "391/391 [==============================] - 13s 32ms/step - loss: 0.4698 - accuracy: 0.8344 - val_loss: 0.6620 - val_accuracy: 0.7897\n",
            "Epoch 73/150\n",
            "391/391 [==============================] - 13s 32ms/step - loss: 0.4613 - accuracy: 0.8362 - val_loss: 0.6076 - val_accuracy: 0.7976\n",
            "Epoch 74/150\n",
            "391/391 [==============================] - 13s 33ms/step - loss: 0.4607 - accuracy: 0.8381 - val_loss: 0.6207 - val_accuracy: 0.7997\n",
            "Epoch 75/150\n",
            "391/391 [==============================] - 13s 33ms/step - loss: 0.4567 - accuracy: 0.8380 - val_loss: 0.6141 - val_accuracy: 0.8010\n",
            "Epoch 76/150\n",
            "391/391 [==============================] - 12s 32ms/step - loss: 0.4434 - accuracy: 0.8444 - val_loss: 0.6370 - val_accuracy: 0.7992\n",
            "Epoch 77/150\n",
            "391/391 [==============================] - 12s 32ms/step - loss: 0.4457 - accuracy: 0.8444 - val_loss: 0.6301 - val_accuracy: 0.8000\n",
            "Epoch 78/150\n",
            "391/391 [==============================] - 12s 32ms/step - loss: 0.4405 - accuracy: 0.8446 - val_loss: 0.6423 - val_accuracy: 0.7972\n",
            "Epoch 79/150\n",
            "391/391 [==============================] - 13s 33ms/step - loss: 0.4341 - accuracy: 0.8466 - val_loss: 0.6067 - val_accuracy: 0.8023\n",
            "Epoch 80/150\n",
            "391/391 [==============================] - 12s 32ms/step - loss: 0.4277 - accuracy: 0.8497 - val_loss: 0.6277 - val_accuracy: 0.8003\n",
            "Epoch 81/150\n",
            "391/391 [==============================] - 12s 32ms/step - loss: 0.4258 - accuracy: 0.8497 - val_loss: 0.6356 - val_accuracy: 0.7999\n",
            "Epoch 82/150\n",
            "391/391 [==============================] - 12s 32ms/step - loss: 0.4174 - accuracy: 0.8521 - val_loss: 0.6252 - val_accuracy: 0.8049\n",
            "Epoch 83/150\n",
            "391/391 [==============================] - 13s 32ms/step - loss: 0.4218 - accuracy: 0.8512 - val_loss: 0.6284 - val_accuracy: 0.8031\n",
            "Epoch 84/150\n",
            "391/391 [==============================] - 12s 32ms/step - loss: 0.4129 - accuracy: 0.8537 - val_loss: 0.6174 - val_accuracy: 0.8012\n",
            "Epoch 85/150\n",
            "391/391 [==============================] - 12s 32ms/step - loss: 0.4115 - accuracy: 0.8522 - val_loss: 0.6328 - val_accuracy: 0.8049\n",
            "Epoch 86/150\n",
            "391/391 [==============================] - 12s 32ms/step - loss: 0.4007 - accuracy: 0.8574 - val_loss: 0.6209 - val_accuracy: 0.8060\n",
            "Epoch 87/150\n",
            "391/391 [==============================] - 12s 32ms/step - loss: 0.4026 - accuracy: 0.8587 - val_loss: 0.6226 - val_accuracy: 0.7996\n",
            "Epoch 88/150\n",
            "391/391 [==============================] - 12s 32ms/step - loss: 0.3976 - accuracy: 0.8609 - val_loss: 0.6094 - val_accuracy: 0.8030\n",
            "Epoch 89/150\n",
            "391/391 [==============================] - 12s 32ms/step - loss: 0.3986 - accuracy: 0.8581 - val_loss: 0.6570 - val_accuracy: 0.7975\n",
            "Epoch 90/150\n",
            "391/391 [==============================] - 12s 32ms/step - loss: 0.3931 - accuracy: 0.8610 - val_loss: 0.6096 - val_accuracy: 0.8030\n",
            "Epoch 91/150\n",
            "391/391 [==============================] - 13s 32ms/step - loss: 0.3848 - accuracy: 0.8637 - val_loss: 0.6516 - val_accuracy: 0.8033\n",
            "Epoch 92/150\n",
            "391/391 [==============================] - 12s 32ms/step - loss: 0.3840 - accuracy: 0.8639 - val_loss: 0.6244 - val_accuracy: 0.8014\n",
            "Epoch 93/150\n",
            "391/391 [==============================] - 12s 32ms/step - loss: 0.3828 - accuracy: 0.8630 - val_loss: 0.6400 - val_accuracy: 0.8028\n",
            "Epoch 94/150\n",
            "391/391 [==============================] - 12s 32ms/step - loss: 0.3812 - accuracy: 0.8651 - val_loss: 0.6157 - val_accuracy: 0.8044\n",
            "Epoch 95/150\n",
            "391/391 [==============================] - 12s 32ms/step - loss: 0.3714 - accuracy: 0.8676 - val_loss: 0.6362 - val_accuracy: 0.8025\n",
            "Epoch 96/150\n",
            "391/391 [==============================] - 12s 32ms/step - loss: 0.3687 - accuracy: 0.8696 - val_loss: 0.6181 - val_accuracy: 0.8100\n",
            "Epoch 97/150\n",
            "391/391 [==============================] - 12s 32ms/step - loss: 0.3686 - accuracy: 0.8669 - val_loss: 0.6693 - val_accuracy: 0.7934\n",
            "Epoch 98/150\n",
            "391/391 [==============================] - 13s 32ms/step - loss: 0.3616 - accuracy: 0.8705 - val_loss: 0.6357 - val_accuracy: 0.8066\n",
            "Epoch 99/150\n",
            "391/391 [==============================] - 13s 32ms/step - loss: 0.3612 - accuracy: 0.8708 - val_loss: 0.6223 - val_accuracy: 0.8037\n",
            "Epoch 100/150\n",
            "391/391 [==============================] - 13s 33ms/step - loss: 0.3614 - accuracy: 0.8719 - val_loss: 0.6480 - val_accuracy: 0.8044\n",
            "Epoch 101/150\n",
            "391/391 [==============================] - 12s 32ms/step - loss: 0.3574 - accuracy: 0.8735 - val_loss: 0.6434 - val_accuracy: 0.8027\n",
            "Epoch 102/150\n",
            "391/391 [==============================] - 12s 32ms/step - loss: 0.3478 - accuracy: 0.8764 - val_loss: 0.6335 - val_accuracy: 0.8083\n",
            "Epoch 103/150\n",
            "391/391 [==============================] - 12s 32ms/step - loss: 0.3483 - accuracy: 0.8753 - val_loss: 0.6310 - val_accuracy: 0.8054\n",
            "Epoch 104/150\n",
            "391/391 [==============================] - 13s 33ms/step - loss: 0.3457 - accuracy: 0.8761 - val_loss: 0.6522 - val_accuracy: 0.7999\n",
            "Epoch 105/150\n",
            "391/391 [==============================] - 12s 32ms/step - loss: 0.3388 - accuracy: 0.8786 - val_loss: 0.6242 - val_accuracy: 0.8098\n",
            "Epoch 106/150\n",
            "391/391 [==============================] - 13s 32ms/step - loss: 0.3402 - accuracy: 0.8786 - val_loss: 0.6491 - val_accuracy: 0.8104\n",
            "Epoch 107/150\n",
            "391/391 [==============================] - 13s 32ms/step - loss: 0.3354 - accuracy: 0.8805 - val_loss: 0.6351 - val_accuracy: 0.8083\n",
            "Epoch 108/150\n",
            "391/391 [==============================] - 13s 32ms/step - loss: 0.3338 - accuracy: 0.8810 - val_loss: 0.6230 - val_accuracy: 0.8106\n",
            "Epoch 109/150\n",
            "391/391 [==============================] - 13s 32ms/step - loss: 0.3279 - accuracy: 0.8826 - val_loss: 0.6701 - val_accuracy: 0.8023\n",
            "Epoch 110/150\n",
            "391/391 [==============================] - 13s 32ms/step - loss: 0.3259 - accuracy: 0.8841 - val_loss: 0.6905 - val_accuracy: 0.8015\n",
            "Epoch 111/150\n",
            "391/391 [==============================] - 12s 32ms/step - loss: 0.3261 - accuracy: 0.8838 - val_loss: 0.6332 - val_accuracy: 0.8130\n",
            "Epoch 112/150\n",
            "391/391 [==============================] - 12s 32ms/step - loss: 0.3248 - accuracy: 0.8844 - val_loss: 0.6245 - val_accuracy: 0.8096\n",
            "Epoch 113/150\n",
            "391/391 [==============================] - 12s 32ms/step - loss: 0.3265 - accuracy: 0.8839 - val_loss: 0.6398 - val_accuracy: 0.8102\n",
            "Epoch 114/150\n",
            "391/391 [==============================] - 13s 33ms/step - loss: 0.3187 - accuracy: 0.8867 - val_loss: 0.6594 - val_accuracy: 0.8094\n",
            "Epoch 115/150\n",
            "391/391 [==============================] - 13s 32ms/step - loss: 0.3167 - accuracy: 0.8867 - val_loss: 0.6132 - val_accuracy: 0.8109\n",
            "Epoch 116/150\n",
            "391/391 [==============================] - 13s 32ms/step - loss: 0.3090 - accuracy: 0.8899 - val_loss: 0.6583 - val_accuracy: 0.8069\n",
            "Epoch 117/150\n",
            "391/391 [==============================] - 13s 32ms/step - loss: 0.3077 - accuracy: 0.8893 - val_loss: 0.6681 - val_accuracy: 0.8064\n",
            "Epoch 118/150\n",
            "391/391 [==============================] - 13s 32ms/step - loss: 0.3098 - accuracy: 0.8907 - val_loss: 0.6414 - val_accuracy: 0.8139\n",
            "Epoch 119/150\n",
            "391/391 [==============================] - 13s 32ms/step - loss: 0.3045 - accuracy: 0.8912 - val_loss: 0.6895 - val_accuracy: 0.8022\n",
            "Epoch 120/150\n",
            "391/391 [==============================] - 13s 32ms/step - loss: 0.2992 - accuracy: 0.8930 - val_loss: 0.6415 - val_accuracy: 0.8058\n",
            "Epoch 121/150\n",
            "391/391 [==============================] - 13s 32ms/step - loss: 0.2973 - accuracy: 0.8935 - val_loss: 0.6748 - val_accuracy: 0.8090\n",
            "Epoch 122/150\n",
            "391/391 [==============================] - 13s 32ms/step - loss: 0.2990 - accuracy: 0.8931 - val_loss: 0.6455 - val_accuracy: 0.8110\n",
            "Epoch 123/150\n",
            "391/391 [==============================] - 13s 32ms/step - loss: 0.2953 - accuracy: 0.8937 - val_loss: 0.6478 - val_accuracy: 0.8094\n",
            "Epoch 124/150\n",
            "391/391 [==============================] - 13s 32ms/step - loss: 0.2867 - accuracy: 0.8981 - val_loss: 0.6666 - val_accuracy: 0.8077\n",
            "Epoch 125/150\n",
            "391/391 [==============================] - 13s 32ms/step - loss: 0.2863 - accuracy: 0.8980 - val_loss: 0.6755 - val_accuracy: 0.8098\n",
            "Epoch 126/150\n",
            "391/391 [==============================] - 13s 32ms/step - loss: 0.2856 - accuracy: 0.8975 - val_loss: 0.6479 - val_accuracy: 0.8097\n",
            "Epoch 127/150\n",
            "391/391 [==============================] - 13s 32ms/step - loss: 0.2834 - accuracy: 0.8980 - val_loss: 0.6645 - val_accuracy: 0.8081\n",
            "Epoch 128/150\n",
            "391/391 [==============================] - 13s 32ms/step - loss: 0.2809 - accuracy: 0.8984 - val_loss: 0.6644 - val_accuracy: 0.8114\n",
            "Epoch 129/150\n",
            "391/391 [==============================] - 13s 32ms/step - loss: 0.2791 - accuracy: 0.9004 - val_loss: 0.6696 - val_accuracy: 0.8079\n",
            "Epoch 130/150\n",
            "391/391 [==============================] - 13s 32ms/step - loss: 0.2776 - accuracy: 0.9003 - val_loss: 0.6772 - val_accuracy: 0.8130\n",
            "Epoch 131/150\n",
            "391/391 [==============================] - 13s 32ms/step - loss: 0.2732 - accuracy: 0.9012 - val_loss: 0.6692 - val_accuracy: 0.8090\n",
            "Epoch 132/150\n",
            "391/391 [==============================] - 13s 33ms/step - loss: 0.2728 - accuracy: 0.9030 - val_loss: 0.6593 - val_accuracy: 0.8111\n",
            "Epoch 133/150\n",
            "391/391 [==============================] - 13s 33ms/step - loss: 0.2780 - accuracy: 0.9021 - val_loss: 0.6562 - val_accuracy: 0.8120\n",
            "Epoch 134/150\n",
            "391/391 [==============================] - 13s 32ms/step - loss: 0.2677 - accuracy: 0.9048 - val_loss: 0.6665 - val_accuracy: 0.8091\n",
            "Epoch 135/150\n",
            "391/391 [==============================] - 13s 32ms/step - loss: 0.2679 - accuracy: 0.9039 - val_loss: 0.6902 - val_accuracy: 0.8112\n",
            "Epoch 136/150\n",
            "391/391 [==============================] - 13s 32ms/step - loss: 0.2621 - accuracy: 0.9074 - val_loss: 0.6515 - val_accuracy: 0.8120\n",
            "Epoch 137/150\n",
            "391/391 [==============================] - 13s 32ms/step - loss: 0.2655 - accuracy: 0.9046 - val_loss: 0.6486 - val_accuracy: 0.8096\n",
            "Epoch 138/150\n",
            "391/391 [==============================] - 13s 32ms/step - loss: 0.2657 - accuracy: 0.9053 - val_loss: 0.6829 - val_accuracy: 0.8095\n",
            "Epoch 139/150\n",
            "391/391 [==============================] - 13s 32ms/step - loss: 0.2640 - accuracy: 0.9049 - val_loss: 0.6979 - val_accuracy: 0.8072\n",
            "Epoch 140/150\n",
            "391/391 [==============================] - 13s 32ms/step - loss: 0.2608 - accuracy: 0.9063 - val_loss: 0.6758 - val_accuracy: 0.8074\n",
            "Epoch 141/150\n",
            "391/391 [==============================] - 13s 32ms/step - loss: 0.2521 - accuracy: 0.9112 - val_loss: 0.6954 - val_accuracy: 0.8095\n",
            "Epoch 142/150\n",
            "391/391 [==============================] - 12s 32ms/step - loss: 0.2517 - accuracy: 0.9093 - val_loss: 0.6840 - val_accuracy: 0.8129\n",
            "Epoch 143/150\n",
            "391/391 [==============================] - 13s 32ms/step - loss: 0.2569 - accuracy: 0.9081 - val_loss: 0.6757 - val_accuracy: 0.8125\n",
            "Epoch 144/150\n",
            "391/391 [==============================] - 13s 32ms/step - loss: 0.2547 - accuracy: 0.9098 - val_loss: 0.6967 - val_accuracy: 0.8056\n",
            "Epoch 145/150\n",
            "391/391 [==============================] - 13s 32ms/step - loss: 0.2447 - accuracy: 0.9129 - val_loss: 0.6648 - val_accuracy: 0.8129\n",
            "Epoch 146/150\n",
            "391/391 [==============================] - 13s 32ms/step - loss: 0.2422 - accuracy: 0.9138 - val_loss: 0.6612 - val_accuracy: 0.8131\n",
            "Epoch 147/150\n",
            "391/391 [==============================] - 13s 32ms/step - loss: 0.2462 - accuracy: 0.9113 - val_loss: 0.6854 - val_accuracy: 0.8102\n",
            "Epoch 148/150\n",
            "391/391 [==============================] - 13s 32ms/step - loss: 0.2492 - accuracy: 0.9117 - val_loss: 0.6857 - val_accuracy: 0.8104\n",
            "Epoch 149/150\n",
            "391/391 [==============================] - 13s 32ms/step - loss: 0.2449 - accuracy: 0.9120 - val_loss: 0.7067 - val_accuracy: 0.8063\n",
            "Epoch 150/150\n",
            "391/391 [==============================] - 13s 33ms/step - loss: 0.2433 - accuracy: 0.9127 - val_loss: 0.6964 - val_accuracy: 0.8130\n",
            "El tiempo de entrenamiento de la red es 1942.902891789 segundos.\n"
          ]
        }
      ],
      "source": [
        "# Entrenamiento del modelo\n",
        "epochs = 150\n",
        "t0 = timeit.default_timer()\n",
        "mfit_cnn_deep_grey = model_cnn_deep_grey.fit(X_train_g4dim, train_labels, epochs=epochs, batch_size=128,\n",
        "                    validation_data=(X_test_g4dim, test_labels))\n",
        "training_time_cnn_deep_grey = timeit.default_timer() - t0\n",
        "print(\"El tiempo de entrenamiento de la red es {} segundos.\".format(training_time_cnn_deep_grey))"
      ]
    },
    {
      "cell_type": "code",
      "execution_count": 66,
      "metadata": {
        "id": "ldCh_7JKMkIp",
        "colab": {
          "base_uri": "https://localhost:8080/",
          "height": 295
        },
        "outputId": "fc50a91d-5638-4a0c-dd2a-81c9e4a48043"
      },
      "outputs": [
        {
          "output_type": "display_data",
          "data": {
            "text/plain": [
              "<Figure size 432x288 with 1 Axes>"
            ],
            "image/png": "[encoded data removed]"
          },
          "metadata": {
            "needs_background": "light"
          }
        }
      ],
      "source": [
        "# Resultados\n",
        "plot_prediction(epochs, mfit_cnn_deep_grey)"
      ]
    },
    {
      "cell_type": "code",
      "source": [
        "results_cnn_deep_grey = model_cnn_deep_grey.evaluate(X_test_g4dim, test_labels, batch_size=128, verbose=1)\n",
        "print(results_cnn_deep_grey)"
      ],
      "metadata": {
        "colab": {
          "base_uri": "https://localhost:8080/"
        },
        "id": "sdYTHuLQvknP",
        "outputId": "80aebad2-6dd6-48f0-9ee5-4666426bd875"
      },
      "execution_count": 67,
      "outputs": [
        {
          "output_type": "stream",
          "name": "stdout",
          "text": [
            "79/79 [==============================] - 1s 13ms/step - loss: 0.6964 - accuracy: 0.8130\n",
            "[0.6964299082756042, 0.8130000233650208]\n"
          ]
        }
      ]
    },
    {
      "cell_type": "markdown",
      "metadata": {
        "id": "yt5nsalpD6bR"
      },
      "source": [
        "### 4.2 CNN con imágenes en color\n"
      ]
    },
    {
      "cell_type": "markdown",
      "metadata": {
        "id": "-TsR_PqR2a9j"
      },
      "source": [
        "Finalmente vamos a estudiar la influencia del color de las imágenes en la *performance* de la clasificación.\n",
        "\n",
        "Para ello utilizaremos una red convolucional con la misma estructura de la red del apartado anterior pero cambiando la capa de entrada para que podamos introducir las imágenes originales en color, arrays de dimensión (32, 32, 3)."
      ]
    },
    {
      "cell_type": "markdown",
      "metadata": {
        "id": "q7kUyx6x2a9j"
      },
      "source": [
        "<div style=\"background-color: #EDF7FF; border-color: #7C9DBF; border-left: 5px solid #7C9DBF; padding: 0.5em;\">\n",
        "<strong>Ejercicio [0,5 pts]:</strong> Volver a realizar el ejercicio anterior pero modificando la capa de entrada para poder utilizar el conjunto de datos original, de tamaño (50000, 32, 32, 3) para el conjunto de train y (10000, 32, 32, 3) para el conjunto de test.\n",
        "\n",
        "¿Influye el color de las imágenes en el resultado de la clasificación? Comentar el resultado.\n",
        "</div>\n",
        "\n",
        "**Nota**: Recordar normalizar las imágenes para que sus valores estén entre 0 y 1."
      ]
    },
    {
      "cell_type": "code",
      "execution_count": 68,
      "metadata": {
        "id": "JJGdAhZ92a9j",
        "colab": {
          "base_uri": "https://localhost:8080/"
        },
        "outputId": "4d9cf3ac-3a2c-40e1-e984-c1d1aff2fdcd"
      },
      "outputs": [
        {
          "output_type": "stream",
          "name": "stdout",
          "text": [
            "Los valores del primer registro de X_train_grey_norm son: [[[0.23137255 0.24313725 0.24705882]\n",
            "  [0.16862745 0.18039216 0.17647059]\n",
            "  [0.19607843 0.18823529 0.16862745]\n",
            "  ...\n",
            "  [0.61960784 0.51764706 0.42352941]\n",
            "  [0.59607843 0.49019608 0.4       ]\n",
            "  [0.58039216 0.48627451 0.40392157]]\n",
            "\n",
            " [[0.0627451  0.07843137 0.07843137]\n",
            "  [0.         0.         0.        ]\n",
            "  [0.07058824 0.03137255 0.        ]\n",
            "  ...\n",
            "  [0.48235294 0.34509804 0.21568627]\n",
            "  [0.46666667 0.3254902  0.19607843]\n",
            "  [0.47843137 0.34117647 0.22352941]]\n",
            "\n",
            " [[0.09803922 0.09411765 0.08235294]\n",
            "  [0.0627451  0.02745098 0.        ]\n",
            "  [0.19215686 0.10588235 0.03137255]\n",
            "  ...\n",
            "  [0.4627451  0.32941176 0.19607843]\n",
            "  [0.47058824 0.32941176 0.19607843]\n",
            "  [0.42745098 0.28627451 0.16470588]]\n",
            "\n",
            " ...\n",
            "\n",
            " [[0.81568627 0.66666667 0.37647059]\n",
            "  [0.78823529 0.6        0.13333333]\n",
            "  [0.77647059 0.63137255 0.10196078]\n",
            "  ...\n",
            "  [0.62745098 0.52156863 0.2745098 ]\n",
            "  [0.21960784 0.12156863 0.02745098]\n",
            "  [0.20784314 0.13333333 0.07843137]]\n",
            "\n",
            " [[0.70588235 0.54509804 0.37647059]\n",
            "  [0.67843137 0.48235294 0.16470588]\n",
            "  [0.72941176 0.56470588 0.11764706]\n",
            "  ...\n",
            "  [0.72156863 0.58039216 0.36862745]\n",
            "  [0.38039216 0.24313725 0.13333333]\n",
            "  [0.3254902  0.20784314 0.13333333]]\n",
            "\n",
            " [[0.69411765 0.56470588 0.45490196]\n",
            "  [0.65882353 0.50588235 0.36862745]\n",
            "  [0.70196078 0.55686275 0.34117647]\n",
            "  ...\n",
            "  [0.84705882 0.72156863 0.54901961]\n",
            "  [0.59215686 0.4627451  0.32941176]\n",
            "  [0.48235294 0.36078431 0.28235294]]]\n"
          ]
        }
      ],
      "source": [
        "# Normalizar\n",
        "# Manually compute MinMaxScaler as detailed in https://scikit-learn.org/stable/modules/generated/sklearn.preprocessing.MinMaxScaler.html\n",
        "# Initialize values\n",
        "min = 0\n",
        "max = 1\n",
        "X = X_train\n",
        "# Normalize\n",
        "X_std = (X - X.min(axis=0)) / (X.max(axis=0) - X.min(axis=0))\n",
        "X_train_norm = X_std * (max - min) + min\n",
        "print(\"Los valores del primer registro de X_train_grey_norm son: {}\".format(X_train_norm[0]))"
      ]
    },
    {
      "cell_type": "code",
      "source": [
        "# Determinar valores mínimo y máximo\n",
        "v_min = np.min(X_train_norm)\n",
        "v_max = np.max(X_train_norm)\n",
        "print(\"Los valores mínimo y máximo son {} y {}.\".format(v_min, v_max))"
      ],
      "metadata": {
        "colab": {
          "base_uri": "https://localhost:8080/"
        },
        "id": "IZfvrP1z0MP3",
        "outputId": "59be94ad-7514-4e66-cd87-cc52f6b2b8d9"
      },
      "execution_count": 69,
      "outputs": [
        {
          "output_type": "stream",
          "name": "stdout",
          "text": [
            "Los valores mínimo y máximo son 0.0 y 1.0.\n"
          ]
        }
      ]
    },
    {
      "cell_type": "code",
      "execution_count": 70,
      "metadata": {
        "id": "4bY0Qvdl2a9k",
        "colab": {
          "base_uri": "https://localhost:8080/"
        },
        "outputId": "b9e1b459-7a98-4350-bbc7-7200549f7b55"
      },
      "outputs": [
        {
          "output_type": "stream",
          "name": "stdout",
          "text": [
            "Model: \"sequential_7\"\n",
            "_________________________________________________________________\n",
            " Layer (type)                Output Shape              Param #   \n",
            "=================================================================\n",
            " conv2d_20 (Conv2D)          (None, 32, 32, 32)        896       \n",
            "                                                                 \n",
            " conv2d_21 (Conv2D)          (None, 32, 32, 32)        9248      \n",
            "                                                                 \n",
            " max_pooling2d_9 (MaxPooling  (None, 16, 16, 32)       0         \n",
            " 2D)                                                             \n",
            "                                                                 \n",
            " dropout_18 (Dropout)        (None, 16, 16, 32)        0         \n",
            "                                                                 \n",
            " conv2d_22 (Conv2D)          (None, 16, 16, 64)        18496     \n",
            "                                                                 \n",
            " conv2d_23 (Conv2D)          (None, 16, 16, 64)        36928     \n",
            "                                                                 \n",
            " max_pooling2d_10 (MaxPoolin  (None, 8, 8, 64)         0         \n",
            " g2D)                                                            \n",
            "                                                                 \n",
            " dropout_19 (Dropout)        (None, 8, 8, 64)          0         \n",
            "                                                                 \n",
            " conv2d_24 (Conv2D)          (None, 8, 8, 128)         73856     \n",
            "                                                                 \n",
            " conv2d_25 (Conv2D)          (None, 8, 8, 128)         147584    \n",
            "                                                                 \n",
            " max_pooling2d_11 (MaxPoolin  (None, 4, 4, 128)        0         \n",
            " g2D)                                                            \n",
            "                                                                 \n",
            " dropout_20 (Dropout)        (None, 4, 4, 128)         0         \n",
            "                                                                 \n",
            " flatten_5 (Flatten)         (None, 2048)              0         \n",
            "                                                                 \n",
            " dense_22 (Dense)            (None, 128)               262272    \n",
            "                                                                 \n",
            " dropout_21 (Dropout)        (None, 128)               0         \n",
            "                                                                 \n",
            " dense_23 (Dense)            (None, 10)                1290      \n",
            "                                                                 \n",
            "=================================================================\n",
            "Total params: 550,570\n",
            "Trainable params: 550,570\n",
            "Non-trainable params: 0\n",
            "_________________________________________________________________\n"
          ]
        }
      ],
      "source": [
        "# Crear la CNN profunda\n",
        "model_cnn_deep_color = Sequential()\n",
        "\n",
        "model_cnn_deep_color.add(Conv2D(32, (3, 3), activation='relu', padding=\"same\", input_shape=(32,32,3)))\n",
        "model_cnn_deep_color.add(Conv2D(32, (3, 3), activation='relu', padding=\"same\"))\n",
        "model_cnn_deep_color.add(MaxPooling2D((2, 2)))\n",
        "model_cnn_deep_color.add(Dropout(.2))\n",
        "\n",
        "model_cnn_deep_color.add(Conv2D(64, (3, 3), activation='relu', padding=\"same\"))\n",
        "model_cnn_deep_color.add(Conv2D(64, (3, 3), activation='relu', padding=\"same\"))\n",
        "model_cnn_deep_color.add(MaxPooling2D((2, 2)))\n",
        "model_cnn_deep_color.add(Dropout(.2))\n",
        "\n",
        "model_cnn_deep_color.add(Conv2D(128, (3, 3), activation='relu', padding=\"same\"))\n",
        "model_cnn_deep_color.add(Conv2D(128, (3, 3), activation='relu', padding=\"same\"))\n",
        "model_cnn_deep_color.add(MaxPooling2D((2, 2)))\n",
        "model_cnn_deep_color.add(Dropout(.2))\n",
        "\n",
        "model_cnn_deep_color.add(Flatten())\n",
        "model_cnn_deep_color.add(Dense(128, activation='relu'))\n",
        "model_cnn_deep_color.add(Dropout(.2))\n",
        "\n",
        "# Capa softmax de clasificación con 10 valores posibles(etiqueas)\n",
        "model_cnn_deep_color.add(Dense(10, activation=\"softmax\"))\n",
        "\n",
        "model_cnn_deep_color.summary()"
      ]
    },
    {
      "cell_type": "code",
      "execution_count": 71,
      "metadata": {
        "id": "stHpTKXL9XMd"
      },
      "outputs": [],
      "source": [
        "# Compile\n",
        "model_cnn_deep_color.compile(SGD(learning_rate=0.001, momentum=0.9),\n",
        "              \"categorical_crossentropy\",\n",
        "              metrics=['accuracy'])"
      ]
    },
    {
      "cell_type": "code",
      "execution_count": 72,
      "metadata": {
        "id": "wVLGM1W19eVp",
        "colab": {
          "base_uri": "https://localhost:8080/"
        },
        "outputId": "fb9e65df-f47c-439c-f4b6-03cf33642bf8"
      },
      "outputs": [
        {
          "output_type": "stream",
          "name": "stdout",
          "text": [
            "Epoch 1/150\n",
            "391/391 [==============================] - 14s 33ms/step - loss: 2.3001 - accuracy: 0.1149 - val_loss: 9.8557 - val_accuracy: 0.1256\n",
            "Epoch 2/150\n",
            "391/391 [==============================] - 13s 32ms/step - loss: 2.2584 - accuracy: 0.1526 - val_loss: 205.4595 - val_accuracy: 0.1069\n",
            "Epoch 3/150\n",
            "391/391 [==============================] - 13s 33ms/step - loss: 2.0450 - accuracy: 0.2402 - val_loss: 257.9088 - val_accuracy: 0.1680\n",
            "Epoch 4/150\n",
            "391/391 [==============================] - 13s 34ms/step - loss: 1.9473 - accuracy: 0.2822 - val_loss: 276.9619 - val_accuracy: 0.1756\n",
            "Epoch 5/150\n",
            "391/391 [==============================] - 13s 32ms/step - loss: 1.8561 - accuracy: 0.3246 - val_loss: 335.5420 - val_accuracy: 0.1418\n",
            "Epoch 6/150\n",
            "391/391 [==============================] - 13s 34ms/step - loss: 1.7664 - accuracy: 0.3508 - val_loss: 382.4721 - val_accuracy: 0.1622\n",
            "Epoch 7/150\n",
            "391/391 [==============================] - 13s 33ms/step - loss: 1.6947 - accuracy: 0.3778 - val_loss: 341.5729 - val_accuracy: 0.2309\n",
            "Epoch 8/150\n",
            "391/391 [==============================] - 13s 34ms/step - loss: 1.6382 - accuracy: 0.3986 - val_loss: 301.8507 - val_accuracy: 0.2751\n",
            "Epoch 9/150\n",
            "391/391 [==============================] - 13s 33ms/step - loss: 1.5811 - accuracy: 0.4205 - val_loss: 356.0751 - val_accuracy: 0.2687\n",
            "Epoch 10/150\n",
            "391/391 [==============================] - 13s 33ms/step - loss: 1.5345 - accuracy: 0.4385 - val_loss: 314.6935 - val_accuracy: 0.2948\n",
            "Epoch 11/150\n",
            "391/391 [==============================] - 13s 33ms/step - loss: 1.4890 - accuracy: 0.4575 - val_loss: 263.9355 - val_accuracy: 0.3275\n",
            "Epoch 12/150\n",
            "391/391 [==============================] - 13s 33ms/step - loss: 1.4550 - accuracy: 0.4745 - val_loss: 236.8272 - val_accuracy: 0.3524\n",
            "Epoch 13/150\n",
            "391/391 [==============================] - 13s 33ms/step - loss: 1.4170 - accuracy: 0.4880 - val_loss: 238.8662 - val_accuracy: 0.3725\n",
            "Epoch 14/150\n",
            "391/391 [==============================] - 13s 34ms/step - loss: 1.3776 - accuracy: 0.5007 - val_loss: 210.3237 - val_accuracy: 0.3900\n",
            "Epoch 15/150\n",
            "391/391 [==============================] - 13s 33ms/step - loss: 1.3505 - accuracy: 0.5140 - val_loss: 244.5910 - val_accuracy: 0.3714\n",
            "Epoch 16/150\n",
            "391/391 [==============================] - 13s 32ms/step - loss: 1.3159 - accuracy: 0.5277 - val_loss: 185.4308 - val_accuracy: 0.4204\n",
            "Epoch 17/150\n",
            "391/391 [==============================] - 13s 33ms/step - loss: 1.2827 - accuracy: 0.5405 - val_loss: 183.3799 - val_accuracy: 0.4318\n",
            "Epoch 18/150\n",
            "391/391 [==============================] - 13s 33ms/step - loss: 1.2594 - accuracy: 0.5509 - val_loss: 204.9962 - val_accuracy: 0.4090\n",
            "Epoch 19/150\n",
            "391/391 [==============================] - 13s 32ms/step - loss: 1.2305 - accuracy: 0.5609 - val_loss: 180.6314 - val_accuracy: 0.4284\n",
            "Epoch 20/150\n",
            "391/391 [==============================] - 13s 32ms/step - loss: 1.2089 - accuracy: 0.5696 - val_loss: 165.4782 - val_accuracy: 0.4419\n",
            "Epoch 21/150\n",
            "391/391 [==============================] - 13s 34ms/step - loss: 1.1784 - accuracy: 0.5822 - val_loss: 190.9443 - val_accuracy: 0.4217\n",
            "Epoch 22/150\n",
            "391/391 [==============================] - 13s 34ms/step - loss: 1.1528 - accuracy: 0.5909 - val_loss: 169.0924 - val_accuracy: 0.4215\n",
            "Epoch 23/150\n",
            "391/391 [==============================] - 13s 33ms/step - loss: 1.1300 - accuracy: 0.6019 - val_loss: 180.3809 - val_accuracy: 0.4355\n",
            "Epoch 24/150\n",
            "391/391 [==============================] - 13s 32ms/step - loss: 1.1125 - accuracy: 0.6053 - val_loss: 173.6788 - val_accuracy: 0.4401\n",
            "Epoch 25/150\n",
            "391/391 [==============================] - 13s 32ms/step - loss: 1.0934 - accuracy: 0.6107 - val_loss: 200.4812 - val_accuracy: 0.4022\n",
            "Epoch 26/150\n",
            "391/391 [==============================] - 13s 32ms/step - loss: 1.0732 - accuracy: 0.6213 - val_loss: 191.4194 - val_accuracy: 0.4191\n",
            "Epoch 27/150\n",
            "391/391 [==============================] - 13s 32ms/step - loss: 1.0555 - accuracy: 0.6269 - val_loss: 154.9279 - val_accuracy: 0.4309\n",
            "Epoch 28/150\n",
            "391/391 [==============================] - 13s 33ms/step - loss: 1.0381 - accuracy: 0.6332 - val_loss: 161.2802 - val_accuracy: 0.4318\n",
            "Epoch 29/150\n",
            "391/391 [==============================] - 13s 34ms/step - loss: 1.0158 - accuracy: 0.6412 - val_loss: 156.1113 - val_accuracy: 0.4354\n",
            "Epoch 30/150\n",
            "391/391 [==============================] - 13s 32ms/step - loss: 1.0007 - accuracy: 0.6459 - val_loss: 152.3544 - val_accuracy: 0.4472\n",
            "Epoch 31/150\n",
            "391/391 [==============================] - 13s 32ms/step - loss: 0.9848 - accuracy: 0.6515 - val_loss: 151.9521 - val_accuracy: 0.4472\n",
            "Epoch 32/150\n",
            "391/391 [==============================] - 13s 32ms/step - loss: 0.9727 - accuracy: 0.6572 - val_loss: 163.8878 - val_accuracy: 0.4374\n",
            "Epoch 33/150\n",
            "391/391 [==============================] - 13s 33ms/step - loss: 0.9524 - accuracy: 0.6672 - val_loss: 142.6781 - val_accuracy: 0.4570\n",
            "Epoch 34/150\n",
            "391/391 [==============================] - 13s 32ms/step - loss: 0.9427 - accuracy: 0.6704 - val_loss: 161.0417 - val_accuracy: 0.4278\n",
            "Epoch 35/150\n",
            "391/391 [==============================] - 13s 32ms/step - loss: 0.9288 - accuracy: 0.6722 - val_loss: 163.2350 - val_accuracy: 0.4359\n",
            "Epoch 36/150\n",
            "391/391 [==============================] - 13s 32ms/step - loss: 0.9126 - accuracy: 0.6785 - val_loss: 158.0052 - val_accuracy: 0.4475\n",
            "Epoch 37/150\n",
            "391/391 [==============================] - 13s 32ms/step - loss: 0.9033 - accuracy: 0.6805 - val_loss: 150.3066 - val_accuracy: 0.4598\n",
            "Epoch 38/150\n",
            "391/391 [==============================] - 13s 33ms/step - loss: 0.8862 - accuracy: 0.6891 - val_loss: 147.5592 - val_accuracy: 0.4560\n",
            "Epoch 39/150\n",
            "391/391 [==============================] - 13s 33ms/step - loss: 0.8738 - accuracy: 0.6931 - val_loss: 158.1476 - val_accuracy: 0.4518\n",
            "Epoch 40/150\n",
            "391/391 [==============================] - 13s 33ms/step - loss: 0.8620 - accuracy: 0.6965 - val_loss: 155.7836 - val_accuracy: 0.4478\n",
            "Epoch 41/150\n",
            "391/391 [==============================] - 13s 33ms/step - loss: 0.8498 - accuracy: 0.6980 - val_loss: 163.2094 - val_accuracy: 0.4469\n",
            "Epoch 42/150\n",
            "391/391 [==============================] - 13s 32ms/step - loss: 0.8419 - accuracy: 0.7033 - val_loss: 179.1639 - val_accuracy: 0.4225\n",
            "Epoch 43/150\n",
            "391/391 [==============================] - 13s 33ms/step - loss: 0.8319 - accuracy: 0.7065 - val_loss: 158.2498 - val_accuracy: 0.4581\n",
            "Epoch 44/150\n",
            "391/391 [==============================] - 13s 34ms/step - loss: 0.8228 - accuracy: 0.7101 - val_loss: 164.0794 - val_accuracy: 0.4451\n",
            "Epoch 45/150\n",
            "391/391 [==============================] - 13s 33ms/step - loss: 0.8137 - accuracy: 0.7143 - val_loss: 136.5741 - val_accuracy: 0.4971\n",
            "Epoch 46/150\n",
            "391/391 [==============================] - 13s 33ms/step - loss: 0.8017 - accuracy: 0.7174 - val_loss: 177.0988 - val_accuracy: 0.4308\n",
            "Epoch 47/150\n",
            "391/391 [==============================] - 13s 34ms/step - loss: 0.7901 - accuracy: 0.7234 - val_loss: 163.6737 - val_accuracy: 0.4435\n",
            "Epoch 48/150\n",
            "391/391 [==============================] - 13s 33ms/step - loss: 0.7820 - accuracy: 0.7252 - val_loss: 166.9416 - val_accuracy: 0.4429\n",
            "Epoch 49/150\n",
            "391/391 [==============================] - 13s 32ms/step - loss: 0.7724 - accuracy: 0.7285 - val_loss: 172.9021 - val_accuracy: 0.4408\n",
            "Epoch 50/150\n",
            "391/391 [==============================] - 13s 34ms/step - loss: 0.7583 - accuracy: 0.7339 - val_loss: 137.6411 - val_accuracy: 0.4792\n",
            "Epoch 51/150\n",
            "391/391 [==============================] - 13s 32ms/step - loss: 0.7506 - accuracy: 0.7352 - val_loss: 160.6649 - val_accuracy: 0.4730\n",
            "Epoch 52/150\n",
            "391/391 [==============================] - 13s 32ms/step - loss: 0.7422 - accuracy: 0.7406 - val_loss: 165.1618 - val_accuracy: 0.4674\n",
            "Epoch 53/150\n",
            "391/391 [==============================] - 13s 33ms/step - loss: 0.7353 - accuracy: 0.7408 - val_loss: 153.3753 - val_accuracy: 0.4785\n",
            "Epoch 54/150\n",
            "391/391 [==============================] - 13s 34ms/step - loss: 0.7262 - accuracy: 0.7447 - val_loss: 181.4413 - val_accuracy: 0.4617\n",
            "Epoch 55/150\n",
            "391/391 [==============================] - 13s 33ms/step - loss: 0.7159 - accuracy: 0.7485 - val_loss: 169.9156 - val_accuracy: 0.4621\n",
            "Epoch 56/150\n",
            "391/391 [==============================] - 13s 33ms/step - loss: 0.7068 - accuracy: 0.7521 - val_loss: 165.3937 - val_accuracy: 0.4604\n",
            "Epoch 57/150\n",
            "391/391 [==============================] - 13s 32ms/step - loss: 0.7000 - accuracy: 0.7540 - val_loss: 145.2945 - val_accuracy: 0.4894\n",
            "Epoch 58/150\n",
            "391/391 [==============================] - 13s 33ms/step - loss: 0.6898 - accuracy: 0.7568 - val_loss: 175.0998 - val_accuracy: 0.4597\n",
            "Epoch 59/150\n",
            "391/391 [==============================] - 13s 33ms/step - loss: 0.6801 - accuracy: 0.7590 - val_loss: 138.3684 - val_accuracy: 0.5056\n",
            "Epoch 60/150\n",
            "391/391 [==============================] - 13s 34ms/step - loss: 0.6724 - accuracy: 0.7648 - val_loss: 154.8208 - val_accuracy: 0.4928\n",
            "Epoch 61/150\n",
            "391/391 [==============================] - 13s 32ms/step - loss: 0.6641 - accuracy: 0.7652 - val_loss: 146.9314 - val_accuracy: 0.4857\n",
            "Epoch 62/150\n",
            "391/391 [==============================] - 13s 34ms/step - loss: 0.6541 - accuracy: 0.7690 - val_loss: 145.7696 - val_accuracy: 0.4865\n",
            "Epoch 63/150\n",
            "391/391 [==============================] - 13s 33ms/step - loss: 0.6517 - accuracy: 0.7688 - val_loss: 146.6239 - val_accuracy: 0.5029\n",
            "Epoch 64/150\n",
            "391/391 [==============================] - 13s 34ms/step - loss: 0.6465 - accuracy: 0.7733 - val_loss: 169.6777 - val_accuracy: 0.4697\n",
            "Epoch 65/150\n",
            "391/391 [==============================] - 13s 33ms/step - loss: 0.6337 - accuracy: 0.7756 - val_loss: 142.3544 - val_accuracy: 0.5116\n",
            "Epoch 66/150\n",
            "391/391 [==============================] - 13s 33ms/step - loss: 0.6272 - accuracy: 0.7788 - val_loss: 168.0155 - val_accuracy: 0.4809\n",
            "Epoch 67/150\n",
            "391/391 [==============================] - 13s 33ms/step - loss: 0.6146 - accuracy: 0.7823 - val_loss: 146.3773 - val_accuracy: 0.5023\n",
            "Epoch 68/150\n",
            "391/391 [==============================] - 13s 33ms/step - loss: 0.6110 - accuracy: 0.7837 - val_loss: 175.6191 - val_accuracy: 0.4792\n",
            "Epoch 69/150\n",
            "391/391 [==============================] - 13s 33ms/step - loss: 0.6054 - accuracy: 0.7880 - val_loss: 153.0938 - val_accuracy: 0.5107\n",
            "Epoch 70/150\n",
            "391/391 [==============================] - 13s 32ms/step - loss: 0.5950 - accuracy: 0.7901 - val_loss: 154.4042 - val_accuracy: 0.4998\n",
            "Epoch 71/150\n",
            "391/391 [==============================] - 13s 32ms/step - loss: 0.5890 - accuracy: 0.7940 - val_loss: 130.9751 - val_accuracy: 0.5307\n",
            "Epoch 72/150\n",
            "391/391 [==============================] - 13s 32ms/step - loss: 0.5877 - accuracy: 0.7936 - val_loss: 170.6970 - val_accuracy: 0.4871\n",
            "Epoch 73/150\n",
            "391/391 [==============================] - 13s 33ms/step - loss: 0.5772 - accuracy: 0.7967 - val_loss: 171.0726 - val_accuracy: 0.4952\n",
            "Epoch 74/150\n",
            "391/391 [==============================] - 13s 33ms/step - loss: 0.5737 - accuracy: 0.7983 - val_loss: 158.6158 - val_accuracy: 0.5011\n",
            "Epoch 75/150\n",
            "391/391 [==============================] - 13s 33ms/step - loss: 0.5614 - accuracy: 0.8011 - val_loss: 141.2254 - val_accuracy: 0.5192\n",
            "Epoch 76/150\n",
            "391/391 [==============================] - 13s 32ms/step - loss: 0.5628 - accuracy: 0.8017 - val_loss: 140.0329 - val_accuracy: 0.5199\n",
            "Epoch 77/150\n",
            "391/391 [==============================] - 13s 32ms/step - loss: 0.5542 - accuracy: 0.8039 - val_loss: 158.2743 - val_accuracy: 0.5100\n",
            "Epoch 78/150\n",
            "391/391 [==============================] - 13s 33ms/step - loss: 0.5508 - accuracy: 0.8057 - val_loss: 147.2756 - val_accuracy: 0.5359\n",
            "Epoch 79/150\n",
            "391/391 [==============================] - 13s 32ms/step - loss: 0.5432 - accuracy: 0.8091 - val_loss: 146.2650 - val_accuracy: 0.5254\n",
            "Epoch 80/150\n",
            "391/391 [==============================] - 13s 32ms/step - loss: 0.5357 - accuracy: 0.8107 - val_loss: 144.5309 - val_accuracy: 0.5282\n",
            "Epoch 81/150\n",
            "391/391 [==============================] - 13s 34ms/step - loss: 0.5322 - accuracy: 0.8141 - val_loss: 170.6464 - val_accuracy: 0.4993\n",
            "Epoch 82/150\n",
            "391/391 [==============================] - 13s 33ms/step - loss: 0.5214 - accuracy: 0.8162 - val_loss: 164.2871 - val_accuracy: 0.5137\n",
            "Epoch 83/150\n",
            "391/391 [==============================] - 13s 33ms/step - loss: 0.5143 - accuracy: 0.8184 - val_loss: 171.2017 - val_accuracy: 0.4968\n",
            "Epoch 84/150\n",
            "391/391 [==============================] - 13s 33ms/step - loss: 0.5166 - accuracy: 0.8182 - val_loss: 166.0827 - val_accuracy: 0.5195\n",
            "Epoch 85/150\n",
            "391/391 [==============================] - 13s 32ms/step - loss: 0.5054 - accuracy: 0.8226 - val_loss: 163.1749 - val_accuracy: 0.5253\n",
            "Epoch 86/150\n",
            "391/391 [==============================] - 13s 32ms/step - loss: 0.5040 - accuracy: 0.8209 - val_loss: 162.4550 - val_accuracy: 0.5273\n",
            "Epoch 87/150\n",
            "391/391 [==============================] - 13s 34ms/step - loss: 0.4962 - accuracy: 0.8268 - val_loss: 192.4540 - val_accuracy: 0.4993\n",
            "Epoch 88/150\n",
            "391/391 [==============================] - 13s 32ms/step - loss: 0.4928 - accuracy: 0.8262 - val_loss: 173.9771 - val_accuracy: 0.5195\n",
            "Epoch 89/150\n",
            "391/391 [==============================] - 13s 33ms/step - loss: 0.4860 - accuracy: 0.8269 - val_loss: 184.9397 - val_accuracy: 0.5057\n",
            "Epoch 90/150\n",
            "391/391 [==============================] - 13s 33ms/step - loss: 0.4825 - accuracy: 0.8291 - val_loss: 151.6019 - val_accuracy: 0.5550\n",
            "Epoch 91/150\n",
            "391/391 [==============================] - 13s 33ms/step - loss: 0.4802 - accuracy: 0.8296 - val_loss: 175.5281 - val_accuracy: 0.5205\n",
            "Epoch 92/150\n",
            "391/391 [==============================] - 13s 33ms/step - loss: 0.4727 - accuracy: 0.8319 - val_loss: 161.4287 - val_accuracy: 0.5355\n",
            "Epoch 93/150\n",
            "391/391 [==============================] - 13s 33ms/step - loss: 0.4674 - accuracy: 0.8346 - val_loss: 187.1001 - val_accuracy: 0.5202\n",
            "Epoch 94/150\n",
            "391/391 [==============================] - 13s 33ms/step - loss: 0.4605 - accuracy: 0.8359 - val_loss: 191.9992 - val_accuracy: 0.5154\n",
            "Epoch 95/150\n",
            "391/391 [==============================] - 13s 33ms/step - loss: 0.4611 - accuracy: 0.8355 - val_loss: 161.5202 - val_accuracy: 0.5556\n",
            "Epoch 96/150\n",
            "391/391 [==============================] - 13s 33ms/step - loss: 0.4530 - accuracy: 0.8406 - val_loss: 176.1799 - val_accuracy: 0.5262\n",
            "Epoch 97/150\n",
            "391/391 [==============================] - 13s 32ms/step - loss: 0.4526 - accuracy: 0.8369 - val_loss: 149.1888 - val_accuracy: 0.5736\n",
            "Epoch 98/150\n",
            "391/391 [==============================] - 13s 34ms/step - loss: 0.4443 - accuracy: 0.8431 - val_loss: 184.1898 - val_accuracy: 0.5277\n",
            "Epoch 99/150\n",
            "391/391 [==============================] - 13s 33ms/step - loss: 0.4434 - accuracy: 0.8414 - val_loss: 185.0929 - val_accuracy: 0.5295\n",
            "Epoch 100/150\n",
            "391/391 [==============================] - 13s 32ms/step - loss: 0.4340 - accuracy: 0.8461 - val_loss: 193.0871 - val_accuracy: 0.5106\n",
            "Epoch 101/150\n",
            "391/391 [==============================] - 13s 33ms/step - loss: 0.4342 - accuracy: 0.8447 - val_loss: 164.2363 - val_accuracy: 0.5587\n",
            "Epoch 102/150\n",
            "391/391 [==============================] - 13s 33ms/step - loss: 0.4237 - accuracy: 0.8485 - val_loss: 188.7326 - val_accuracy: 0.5334\n",
            "Epoch 103/150\n",
            "391/391 [==============================] - 13s 34ms/step - loss: 0.4203 - accuracy: 0.8505 - val_loss: 190.4979 - val_accuracy: 0.5389\n",
            "Epoch 104/150\n",
            "391/391 [==============================] - 13s 33ms/step - loss: 0.4133 - accuracy: 0.8521 - val_loss: 175.1585 - val_accuracy: 0.5481\n",
            "Epoch 105/150\n",
            "391/391 [==============================] - 13s 34ms/step - loss: 0.4151 - accuracy: 0.8525 - val_loss: 189.9477 - val_accuracy: 0.5362\n",
            "Epoch 106/150\n",
            "391/391 [==============================] - 13s 32ms/step - loss: 0.4103 - accuracy: 0.8548 - val_loss: 182.8445 - val_accuracy: 0.5361\n",
            "Epoch 107/150\n",
            "391/391 [==============================] - 13s 34ms/step - loss: 0.4056 - accuracy: 0.8545 - val_loss: 187.7117 - val_accuracy: 0.5380\n",
            "Epoch 108/150\n",
            "391/391 [==============================] - 13s 33ms/step - loss: 0.3998 - accuracy: 0.8577 - val_loss: 176.0610 - val_accuracy: 0.5512\n",
            "Epoch 109/150\n",
            "391/391 [==============================] - 13s 33ms/step - loss: 0.3936 - accuracy: 0.8603 - val_loss: 202.0805 - val_accuracy: 0.5261\n",
            "Epoch 110/150\n",
            "391/391 [==============================] - 13s 34ms/step - loss: 0.3890 - accuracy: 0.8603 - val_loss: 181.9306 - val_accuracy: 0.5573\n",
            "Epoch 111/150\n",
            "391/391 [==============================] - 13s 33ms/step - loss: 0.3917 - accuracy: 0.8605 - val_loss: 172.6897 - val_accuracy: 0.5597\n",
            "Epoch 112/150\n",
            "391/391 [==============================] - 13s 34ms/step - loss: 0.3811 - accuracy: 0.8631 - val_loss: 188.8837 - val_accuracy: 0.5441\n",
            "Epoch 113/150\n",
            "391/391 [==============================] - 13s 33ms/step - loss: 0.3807 - accuracy: 0.8651 - val_loss: 186.8619 - val_accuracy: 0.5504\n",
            "Epoch 114/150\n",
            "391/391 [==============================] - 13s 34ms/step - loss: 0.3722 - accuracy: 0.8667 - val_loss: 174.9160 - val_accuracy: 0.5659\n",
            "Epoch 115/150\n",
            "391/391 [==============================] - 13s 32ms/step - loss: 0.3712 - accuracy: 0.8654 - val_loss: 183.7906 - val_accuracy: 0.5612\n",
            "Epoch 116/150\n",
            "391/391 [==============================] - 13s 32ms/step - loss: 0.3707 - accuracy: 0.8685 - val_loss: 190.0304 - val_accuracy: 0.5455\n",
            "Epoch 117/150\n",
            "391/391 [==============================] - 13s 33ms/step - loss: 0.3663 - accuracy: 0.8695 - val_loss: 152.9570 - val_accuracy: 0.5887\n",
            "Epoch 118/150\n",
            "391/391 [==============================] - 13s 33ms/step - loss: 0.3642 - accuracy: 0.8702 - val_loss: 174.2424 - val_accuracy: 0.5800\n",
            "Epoch 119/150\n",
            "391/391 [==============================] - 13s 33ms/step - loss: 0.3572 - accuracy: 0.8708 - val_loss: 219.5302 - val_accuracy: 0.5106\n",
            "Epoch 120/150\n",
            "391/391 [==============================] - 13s 33ms/step - loss: 0.3543 - accuracy: 0.8741 - val_loss: 197.1837 - val_accuracy: 0.5443\n",
            "Epoch 121/150\n",
            "391/391 [==============================] - 13s 32ms/step - loss: 0.3488 - accuracy: 0.8739 - val_loss: 171.9428 - val_accuracy: 0.5729\n",
            "Epoch 122/150\n",
            "391/391 [==============================] - 13s 32ms/step - loss: 0.3506 - accuracy: 0.8735 - val_loss: 213.5130 - val_accuracy: 0.5266\n",
            "Epoch 123/150\n",
            "391/391 [==============================] - 13s 33ms/step - loss: 0.3450 - accuracy: 0.8755 - val_loss: 202.6749 - val_accuracy: 0.5489\n",
            "Epoch 124/150\n",
            "391/391 [==============================] - 13s 34ms/step - loss: 0.3376 - accuracy: 0.8794 - val_loss: 183.5881 - val_accuracy: 0.5663\n",
            "Epoch 125/150\n",
            "391/391 [==============================] - 13s 33ms/step - loss: 0.3339 - accuracy: 0.8807 - val_loss: 220.6887 - val_accuracy: 0.5313\n",
            "Epoch 126/150\n",
            "391/391 [==============================] - 13s 33ms/step - loss: 0.3326 - accuracy: 0.8801 - val_loss: 219.5133 - val_accuracy: 0.5471\n",
            "Epoch 127/150\n",
            "391/391 [==============================] - 13s 33ms/step - loss: 0.3291 - accuracy: 0.8806 - val_loss: 215.3760 - val_accuracy: 0.5395\n",
            "Epoch 128/150\n",
            "391/391 [==============================] - 13s 33ms/step - loss: 0.3275 - accuracy: 0.8811 - val_loss: 210.3993 - val_accuracy: 0.5465\n",
            "Epoch 129/150\n",
            "391/391 [==============================] - 13s 33ms/step - loss: 0.3202 - accuracy: 0.8833 - val_loss: 228.3062 - val_accuracy: 0.5298\n",
            "Epoch 130/150\n",
            "391/391 [==============================] - 13s 33ms/step - loss: 0.3215 - accuracy: 0.8854 - val_loss: 198.0720 - val_accuracy: 0.5720\n",
            "Epoch 131/150\n",
            "391/391 [==============================] - 13s 34ms/step - loss: 0.3156 - accuracy: 0.8856 - val_loss: 226.3837 - val_accuracy: 0.5351\n",
            "Epoch 132/150\n",
            "391/391 [==============================] - 13s 33ms/step - loss: 0.3138 - accuracy: 0.8883 - val_loss: 193.5531 - val_accuracy: 0.5642\n",
            "Epoch 133/150\n",
            "391/391 [==============================] - 13s 33ms/step - loss: 0.3047 - accuracy: 0.8896 - val_loss: 238.4491 - val_accuracy: 0.5326\n",
            "Epoch 134/150\n",
            "391/391 [==============================] - 13s 33ms/step - loss: 0.3019 - accuracy: 0.8915 - val_loss: 218.4857 - val_accuracy: 0.5550\n",
            "Epoch 135/150\n",
            "391/391 [==============================] - 13s 33ms/step - loss: 0.3067 - accuracy: 0.8892 - val_loss: 221.8451 - val_accuracy: 0.5492\n",
            "Epoch 136/150\n",
            "391/391 [==============================] - 13s 34ms/step - loss: 0.3019 - accuracy: 0.8900 - val_loss: 246.4470 - val_accuracy: 0.5323\n",
            "Epoch 137/150\n",
            "391/391 [==============================] - 13s 33ms/step - loss: 0.2933 - accuracy: 0.8944 - val_loss: 226.2585 - val_accuracy: 0.5573\n",
            "Epoch 138/150\n",
            "391/391 [==============================] - 13s 33ms/step - loss: 0.2919 - accuracy: 0.8944 - val_loss: 211.5233 - val_accuracy: 0.5685\n",
            "Epoch 139/150\n",
            "391/391 [==============================] - 13s 33ms/step - loss: 0.2947 - accuracy: 0.8926 - val_loss: 217.4979 - val_accuracy: 0.5506\n",
            "Epoch 140/150\n",
            "391/391 [==============================] - 13s 33ms/step - loss: 0.2929 - accuracy: 0.8943 - val_loss: 238.4816 - val_accuracy: 0.5376\n",
            "Epoch 141/150\n",
            "391/391 [==============================] - 13s 33ms/step - loss: 0.2850 - accuracy: 0.8987 - val_loss: 217.5459 - val_accuracy: 0.5590\n",
            "Epoch 142/150\n",
            "391/391 [==============================] - 13s 33ms/step - loss: 0.2840 - accuracy: 0.8969 - val_loss: 259.9703 - val_accuracy: 0.5260\n",
            "Epoch 143/150\n",
            "391/391 [==============================] - 13s 33ms/step - loss: 0.2838 - accuracy: 0.8981 - val_loss: 254.9811 - val_accuracy: 0.5224\n",
            "Epoch 144/150\n",
            "391/391 [==============================] - 13s 33ms/step - loss: 0.2809 - accuracy: 0.8991 - val_loss: 219.7593 - val_accuracy: 0.5650\n",
            "Epoch 145/150\n",
            "391/391 [==============================] - 13s 34ms/step - loss: 0.2756 - accuracy: 0.9002 - val_loss: 234.0854 - val_accuracy: 0.5447\n",
            "Epoch 146/150\n",
            "391/391 [==============================] - 13s 33ms/step - loss: 0.2735 - accuracy: 0.9016 - val_loss: 235.6048 - val_accuracy: 0.5526\n",
            "Epoch 147/150\n",
            "391/391 [==============================] - 13s 34ms/step - loss: 0.2709 - accuracy: 0.9023 - val_loss: 273.5157 - val_accuracy: 0.5363\n",
            "Epoch 148/150\n",
            "391/391 [==============================] - 13s 34ms/step - loss: 0.2675 - accuracy: 0.9028 - val_loss: 260.3294 - val_accuracy: 0.5426\n",
            "Epoch 149/150\n",
            "391/391 [==============================] - 13s 33ms/step - loss: 0.2681 - accuracy: 0.9040 - val_loss: 217.0213 - val_accuracy: 0.5652\n",
            "Epoch 150/150\n",
            "391/391 [==============================] - 13s 33ms/step - loss: 0.2617 - accuracy: 0.9059 - val_loss: 241.4987 - val_accuracy: 0.5570\n",
            "El tiempo de entrenamiento de la red es 1943.7447814469997 segundos.\n"
          ]
        }
      ],
      "source": [
        "# Entrenamiento del modelo\n",
        "epochs = 150\n",
        "t0 = timeit.default_timer()\n",
        "mfit_cnn_deep_color = model_cnn_deep_color.fit(X_train_norm, train_labels, epochs=epochs, batch_size=128,\n",
        "                    validation_data=(X_test, test_labels))\n",
        "training_time_cnn_deep_color = timeit.default_timer() - t0\n",
        "print(\"El tiempo de entrenamiento de la red es {} segundos.\".format(training_time_cnn_deep_color))"
      ]
    },
    {
      "cell_type": "code",
      "execution_count": 73,
      "metadata": {
        "id": "n6uk1GFxGEQ0",
        "colab": {
          "base_uri": "https://localhost:8080/",
          "height": 295
        },
        "outputId": "44849d2a-b3b2-483d-b02b-14ec4b89e8c2"
      },
      "outputs": [
        {
          "output_type": "display_data",
          "data": {
            "text/plain": [
              "<Figure size 432x288 with 1 Axes>"
            ],
            "image/png": "[encoded data removed]"
          },
          "metadata": {
            "needs_background": "light"
          }
        }
      ],
      "source": [
        "# Resultados\n",
        "plot_prediction(epochs, mfit_cnn_deep_color)"
      ]
    },
    {
      "cell_type": "code",
      "source": [
        "results_cnn_deep_color = model_cnn_deep_color.evaluate(X_test, test_labels, batch_size=128, verbose=1)\n",
        "print(results_cnn_deep_color)"
      ],
      "metadata": {
        "colab": {
          "base_uri": "https://localhost:8080/"
        },
        "id": "2Lt2_NyUzdmQ",
        "outputId": "baf63c56-afad-49ee-84ac-1fd07a3d87be"
      },
      "execution_count": 74,
      "outputs": [
        {
          "output_type": "stream",
          "name": "stdout",
          "text": [
            "79/79 [==============================] - 1s 13ms/step - loss: 241.4987 - accuracy: 0.5570\n",
            "[241.49874877929688, 0.5569999814033508]\n"
          ]
        }
      ]
    },
    {
      "cell_type": "markdown",
      "metadata": {
        "id": "vZYPL7X12a9k"
      },
      "source": [
        "## 5. Comparativa de los modelos implementados y predicción [1,5 puntos]"
      ]
    },
    {
      "cell_type": "markdown",
      "metadata": {
        "id": "AHDLpGpw2a9l"
      },
      "source": [
        "En este último apartado compararemos los modelos implementados y realizaremos la clasificación de algunas imágenes con el modelo que ha dado los mejores resultados."
      ]
    },
    {
      "cell_type": "markdown",
      "metadata": {
        "id": "0hERn2-12a9m"
      },
      "source": [
        "### 5.1 Comparativa de los modelos implementados"
      ]
    },
    {
      "cell_type": "markdown",
      "metadata": {
        "id": "xjF0flQp2a9m"
      },
      "source": [
        "<div style=\"background-color: #EDF7FF; border-color: #7C9DBF; border-left: 5px solid #7C9DBF; padding: 0.5em;\">\n",
        "<strong>Ejercicio [0,5 pts.]:</strong> Realizar una comparativa de los modelos implementados comentando:\n",
        "\n",
        "*   La precisión obtenida\n",
        "*   La pérdida\n",
        "*   El tiempo de entrenamiento\n",
        "*   El número de parámetros a entrenar\n",
        "\n",
        "Comentar los resultados obtenidos.\n",
        "\n",
        "En base a los resultados obtenidos ¿Qué modelo seleccionaríais como el mejor?\n",
        "</div>"
      ]
    },
    {
      "cell_type": "markdown",
      "metadata": {
        "id": "mm6Zsvpc2a9k"
      },
      "source": [
        "<div style=\"background-color: #EDF7FF; border-color: #7C9DBF; border-left: 5px solid #7C9DBF; padding: 0.5em;\">\n",
        "<strong>Solución:</strong> \n",
        "\n",
        "**Tabla comparativa de resultados**\n",
        "\n",
        "La siguiente tabla muestra los valores de una ejecución completa del *notebook* en un momento dado, y sucesivas ejecuciones podrían variar algo los resultados pero no las conclusiones.\n",
        "\n",
        "Cabe destacar que, para esta ejecución, se ha activado el *Runtime* con uso de **GPU** para todos los modelos.\n",
        "\n",
        "\n",
        "| Modelo | Precisión | Pérdida | Tiempo de entrenamiento | Parámetros |\n",
        "|---|---|---|---|---|\n",
        "| ANN | 29,39% | 276,45 | 262,7s | 215.050 |\n",
        "| CNN Monocapa | 11,36% | 2,72 | 82,39s | 576.650 |\n",
        "| CNN Grises | 81,30% | 0,69 | 1942,9s | 549.994 |\n",
        "| CNN Color | 55,70% | 241,49 | 1943,74s | 550.570 | \n",
        "\n",
        "El modelo que mejor se comporta en el ejercicio es el **Modelo CNN con red profunda y escala de grises**. \n",
        "\n",
        "Además, es relevante mostrar las siguientes conclusiones:\n",
        "\n",
        " - Los modelos no convolucionales ofrecen una precisión insuficiente.\n",
        " - El modelo monocapa, no es capaz de aprender tantos parámetros como se requieren y sus resultados son pésimos.\n",
        " - Los modelos con múltiples capas ocultas funcionan mejor y se comportan de manera bastante similar en cuanto a parámetros y tiempo de entrenamiento. Sin embargo, la pérdida y la precisión del modelo a color son mucho peores que el modelo con un único canal de grises.\n",
        "\n",
        "</div>"
      ]
    },
    {
      "cell_type": "markdown",
      "metadata": {
        "id": "6r3p-EkV2a9n"
      },
      "source": [
        "### 5.2 Análisis de la mejor solución"
      ]
    },
    {
      "cell_type": "markdown",
      "metadata": {
        "id": "5J_S6U4sgiXm"
      },
      "source": [
        "<div style=\"background-color: #EDF7FF; border-color: #7C9DBF; border-left: 5px solid #7C9DBF; padding: 0.5em;\">\n",
        "<strong>Ejercicio [0,5 pts.]:</strong> Realizar un análisis de las medidas estadísticas más relevantes del modelo seleccionado en el apartado anterior y representar su matriz de confusión.\n",
        "\n",
        "¿Qué clase es la que mejor se predice? ¿Y la que peor resultados obtiene?\n",
        "\n",
        "Comentar los resultados\n",
        "</div>"
      ]
    },
    {
      "cell_type": "code",
      "execution_count": 77,
      "metadata": {
        "id": "ht3FSeyp2a9n"
      },
      "outputs": [],
      "source": [
        "# Informe\n",
        "y_pred = model_cnn_deep_grey.predict(X_test_grey)\n",
        "y_pred = (y_pred > 0.5)"
      ]
    },
    {
      "cell_type": "code",
      "source": [
        "print(y_pred.argmax(1))\n",
        "print(y_pred.shape)\n",
        "print(test_labels.argmax(1))\n",
        "print(test_labels.shape)\n",
        "print(type(y_test))\n",
        "print(y_test.shape)"
      ],
      "metadata": {
        "id": "MmDxQHzIUBTH",
        "outputId": "76a51d39-9264-4f7a-c8f9-8a348a1d4df5",
        "colab": {
          "base_uri": "https://localhost:8080/"
        }
      },
      "execution_count": 89,
      "outputs": [
        {
          "output_type": "stream",
          "name": "stdout",
          "text": [
            "[3 8 8 ... 5 1 7]\n",
            "(10000, 10)\n",
            "[3 8 8 ... 5 1 7]\n",
            "(10000, 10)\n",
            "<class 'numpy.ndarray'>\n",
            "(10000, 1)\n"
          ]
        }
      ]
    },
    {
      "cell_type": "code",
      "execution_count": 94,
      "metadata": {
        "id": "5KGRq8OtuChm",
        "colab": {
          "base_uri": "https://localhost:8080/",
          "height": 689
        },
        "outputId": "a154c5f9-53ac-4052-81fe-e1f6d08b65f7"
      },
      "outputs": [
        {
          "output_type": "display_data",
          "data": {
            "text/plain": [
              "<Figure size 864x864 with 2 Axes>"
            ],
            "image/png": "[encoded data removed]"
          },
          "metadata": {
            "needs_background": "light"
          }
        }
      ],
      "source": [
        "# Matriz de confusión\n",
        "\n",
        "fig, ax = plt.subplots(figsize=(12,12))\n",
        "targets = ['airplane', 'automobile', 'bird'\n",
        "    , 'cat', 'deer', 'dog', 'frog', 'horse', 'ship', 'truck']\n",
        "cm = confusion_matrix(test_labels.argmax(axis=1), y_pred.argmax(axis=1))\n",
        "disp = ConfusionMatrixDisplay(confusion_matrix=cm, display_labels=targets)\n",
        "disp.plot(ax=ax)\n",
        "plt.show()"
      ]
    },
    {
      "cell_type": "markdown",
      "metadata": {
        "id": "8cGNMNKOgPbP"
      },
      "source": [
        "### 5.3 Predicción de algunas imágenes del conjunto de test"
      ]
    },
    {
      "cell_type": "markdown",
      "metadata": {
        "id": "mbCYerEj2a9n"
      },
      "source": [
        "<div style=\"background-color: #EDF7FF; border-color: #7C9DBF; border-left: 5px solid #7C9DBF; padding: 0.5em;\">\n",
        "<strong>Ejercicio [0,5 pts.]:</strong> Visualizar diez imágenes al azar del conjunto de test. Mostrar la etiqueta real y la predicción.\n",
        "</div>"
      ]
    },
    {
      "cell_type": "code",
      "execution_count": null,
      "metadata": {
        "id": "O3X-b2YZ2a9n"
      },
      "outputs": [],
      "source": [
        "# Visualización\n",
        "# TODO"
      ]
    }
  ],
  "metadata": {
    "colab": {
      "collapsed_sections": [],
      "name": "20212_M2.875_PEC2-Enunciado.ipynb",
      "provenance": []
    },
    "kernelspec": {
      "display_name": "Python 3",
      "language": "python",
      "name": "python3"
    },
    "language_info": {
      "codemirror_mode": {
        "name": "ipython",
        "version": 3
      },
      "file_extension": ".py",
      "mimetype": "text/x-python",
      "name": "python",
      "nbconvert_exporter": "python",
      "pygments_lexer": "ipython3",
      "version": "3.8.8"
    },
    "accelerator": "GPU"
  },
  "nbformat": 4,
  "nbformat_minor": 0
}
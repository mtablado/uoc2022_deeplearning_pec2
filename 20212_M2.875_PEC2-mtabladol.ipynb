{
  "cells": [
    {
      "cell_type": "markdown",
      "metadata": {
        "id": "x2vIPDgA2a9R"
      },
      "source": [
        "<div style=\"width: 100%; clear: both;\">\n",
        "<div style=\"float: left; width: 50%;\">\n",
        "<img src=\"http://www.uoc.edu/portal/_resources/common/imatges/marca_UOC/UOC_Masterbrand.jpg\", align=\"left\">\n",
        "</div>\n",
        "<div style=\"float: right; width: 50%;\">\n",
        "<p style=\"margin: 0; padding-top: 22px; text-align:right;\">M2.875 · Deep Learning · PEC2</p>\n",
        "<p style=\"margin: 0; text-align:right;\">2021-2 · Máster universitario en Ciencia de datos (Data science)</p>\n",
        "<p style=\"margin: 0; text-align:right; padding-button: 100px;\">Estudios de Informática, Multimedia y Telecomunicación</p>\n",
        "</div>\n",
        "</div>\n",
        "<div style=\"width:100%;\">&nbsp;</div>\n",
        "\n",
        "\n",
        "# PEC2: Redes Neuronales Convolucionales con KERAS"
      ]
    },
    {
      "cell_type": "markdown",
      "metadata": {
        "id": "lUutZf9A2a9W"
      },
      "source": [
        "A lo largo de esta práctica vamos a implementar varios modelos de redes neuronales para clasificar las imágenes de la base de datos [CIFAR10](https://www.cs.toronto.edu/~kriz/cifar.html).\n",
        "\n",
        "La base de datos CIFAR10 está formada por imágenes en color de dimensiones 32x32 píxels que pertenecen a 10 clases:\n",
        "\n",
        "- airplane (label 0)\n",
        "- automobile (label 1)\n",
        "- bird (label 2)\n",
        "- cat (label 3)\n",
        "- deer (label 4)\n",
        "- dog (label 5)\n",
        "- frog (label 6)\n",
        "- horse (label 7)\n",
        "- ship (label 8)\n",
        "- truck (label 9)\n",
        "\n",
        "Esta base de datos está compuesta de 60.000 registros que se dividen a su vez en 2 conjuntos: 50.000 imágenes para el conjunto de entrenamiento y 10.000 imágenes para el conjunto de test.\n",
        "\n",
        "En el ejercicio llevaremos a cabo la tarea de construir varios modelos con el objetivo de conseguir la mayor precisión al realizar la clasificación de las imágenes. Para ello implementaremos y analizaremos los siguientes modelos: \n",
        "​\n",
        "1. Una red neuronal artificial completamente conectada\n",
        "2. Una red neuronal convolucional de una capa\n",
        "3. Una red neuronal convolucional profunda\n",
        "\n",
        "​\n",
        "En todos los casos se utilizará la librería Keras con Tensorflow para la implementación del modelo, la compilación y el entrenamiento.\n",
        "\n",
        "Finalmente, realizaremos una predicción de las imágenes con el mejor modelo implementado.\n",
        "\n",
        "​\n",
        "**Importante: Cada uno de los ejercicios puede suponer varios minutos de ejecución, por lo que la entrega debe hacerse en formato notebook y en formato html donde se vea el código y los resultados y comentarios de cada ejercicio. Para exportar el notebook a html puede hacerse desde el menú File $\\to$ Download as $\\to$ HTML.**"
      ]
    },
    {
      "cell_type": "markdown",
      "metadata": {
        "id": "m8rwsLy02a9W"
      },
      "source": [
        "## 1. Descarga, análisis y pre-procesado de los datos (1,5 puntos)"
      ]
    },
    {
      "cell_type": "markdown",
      "metadata": {
        "id": "QNQQdIw2IK8f"
      },
      "source": [
        "### 1.1 Descarga de datos\n",
        "Empezamos importando algunos paquetes para la realización de la práctica y procedemos a descargar el dataset."
      ]
    },
    {
      "cell_type": "code",
      "execution_count": 52,
      "metadata": {
        "id": "9--RxIIO2a9X"
      },
      "outputs": [],
      "source": [
        "import numpy as np\n",
        "from tensorflow import keras\n",
        "from keras.datasets import cifar10\n",
        "from tensorflow.keras.utils import to_categorical\n",
        "from keras.models import Sequential\n",
        "from keras.layers import Dense, Conv2D, Flatten, Activation, Dropout, MaxPooling2D\n",
        "from tensorflow.keras.optimizers import Adam, SGD, Adadelta, Adagrad\n",
        "import matplotlib.pyplot as plt\n",
        "import timeit\n",
        "from sklearn.metrics import confusion_matrix, classification_report\n",
        "import seaborn as sns"
      ]
    },
    {
      "cell_type": "code",
      "execution_count": 53,
      "metadata": {
        "id": "jmWVBW182a9Z"
      },
      "outputs": [],
      "source": [
        "# Descarga el dataset CIFAR10 y hace la partición train/test\n",
        "(X_train, y_train), (X_test, y_test) = cifar10.load_data()"
      ]
    },
    {
      "cell_type": "markdown",
      "metadata": {
        "id": "n7nhxiQCBeX-"
      },
      "source": [
        "### 1.2 Análisis de los datos\n",
        "<div style=\"background-color: #EDF7FF; border-color: #7C9DBF; border-left: 5px solid #7C9DBF; padding: 0.5em;\">\n",
        "<strong>Ejercicio [0,5 pts.]:</strong> Representar la dimensión de las variables X_train, y_train, X_test e y_test.\n",
        "\n",
        "Mostrar las imágenes de los primeros 10 registros del conjunto X_train junto con sus etiquetas en formato texto.\n",
        "\n",
        "**Nota**: Al ser las imágenes de pequeño tamaño (32x32) se recomienda escalarlas a la hora de representarlas.\n",
        "</div>"
      ]
    },
    {
      "cell_type": "code",
      "execution_count": 54,
      "metadata": {
        "id": "MFi297NW9YCI",
        "colab": {
          "base_uri": "https://localhost:8080/"
        },
        "outputId": "42179507-23e9-4ebe-f830-f727448e1234"
      },
      "outputs": [
        {
          "output_type": "execute_result",
          "data": {
            "text/plain": [
              "((50000, 32, 32, 3), (10000, 32, 32, 3), (50000, 1), (10000, 1))"
            ]
          },
          "metadata": {},
          "execution_count": 54
        }
      ],
      "source": [
        "# Análisis del conjunto de datos descargado\n",
        "X_train.shape, X_test.shape, y_train.shape, y_test.shape "
      ]
    },
    {
      "cell_type": "markdown",
      "source": [
        "|        | X_train   | X_test    | y_train  | y_test   |\n",
        "|--------|-----------|-----------|----------|----------|\n",
        "| Shapes | (50000, 32, 32, 3) | (10000, 32, 32, 3)  | (50000, 1) | (10000, 1) |"
      ],
      "metadata": {
        "id": "v0nne-yEALu-"
      }
    },
    {
      "cell_type": "code",
      "source": [
        "# Adjust proper figsize for scaling up the images\n",
        "f, axarr = plt.subplots(2,5, figsize=(25,12))\n",
        "axarr[0,0].imshow(X_train[0])\n",
        "\n",
        "n = 0\n",
        "for i in range(0,2):\n",
        "  for j in range(0,5):\n",
        "    axarr[i,j].imshow(X_train[n])\n",
        "    n = n + 1\n"
      ],
      "metadata": {
        "colab": {
          "base_uri": "https://localhost:8080/",
          "height": 369
        },
        "id": "qyoEvfmtAdzj",
        "outputId": "61400cab-411e-4ce1-f26b-7157e50d0b9a"
      },
      "execution_count": 55,
      "outputs": [
        {
          "output_type": "display_data",
          "data": {
            "text/plain": [
              "<Figure size 1800x864 with 10 Axes>"
            ],
            "image/png": "[encoded data removed]"
          },
          "metadata": {
            "needs_background": "light"
          }
        }
      ]
    },
    {
      "cell_type": "code",
      "execution_count": 56,
      "metadata": {
        "id": "t10FIQQ1mrPs"
      },
      "outputs": [],
      "source": [
        "import cv2\n",
        "\n",
        "# Convierte X_train y X_test a escala de grises\n",
        "X_train_grey = np.array([cv2.cvtColor(image, cv2.COLOR_BGR2GRAY) for image in X_train])\n",
        "X_test_grey = np.array([cv2.cvtColor(image, cv2.COLOR_BGR2GRAY) for image in X_test])"
      ]
    },
    {
      "cell_type": "markdown",
      "metadata": {
        "id": "xxUJh3nvB9Z_"
      },
      "source": [
        "<div style=\"background-color: #EDF7FF; border-color: #7C9DBF; border-left: 5px solid #7C9DBF; padding: 0.5em;\">\n",
        "<strong>Ejercicio [0,25 pts.]:</strong> Representar la dimensión de las variables X_train_grey y X_test_grey.\n",
        "\n",
        "Mostrar las imágenes de los primeros 10 registros del conjunto X_train_grey junto con sus etiquetas en formato texto.\n",
        "</div>"
      ]
    },
    {
      "cell_type": "code",
      "source": [
        "X_train_grey.shape, X_test_grey.shape "
      ],
      "metadata": {
        "colab": {
          "base_uri": "https://localhost:8080/"
        },
        "id": "1sqsO8Igf9MV",
        "outputId": "38628b54-68c1-4861-8240-c080bdf5bdd8"
      },
      "execution_count": 57,
      "outputs": [
        {
          "output_type": "execute_result",
          "data": {
            "text/plain": [
              "((50000, 32, 32), (10000, 32, 32))"
            ]
          },
          "metadata": {},
          "execution_count": 57
        }
      ]
    },
    {
      "cell_type": "markdown",
      "source": [
        "|        | X_train_grey   | X_test_grey    |\n",
        "|--------|-----------|-----------|\n",
        "| Shapes | (50000, 32, 32) | (10000, 32, 32)  |"
      ],
      "metadata": {
        "id": "u2dBQQekgGE_"
      }
    },
    {
      "cell_type": "code",
      "execution_count": 58,
      "metadata": {
        "id": "W_6FQJwsoTG9",
        "colab": {
          "base_uri": "https://localhost:8080/",
          "height": 378
        },
        "outputId": "50edd243-b55e-4d12-dbb5-c193c45fddc5"
      },
      "outputs": [
        {
          "output_type": "display_data",
          "data": {
            "text/plain": [
              "<Figure size 1800x864 with 10 Axes>"
            ],
            "image/png": "[encoded data removed]"
          },
          "metadata": {
            "needs_background": "light"
          }
        }
      ],
      "source": [
        "categories = dict({\n",
        "      0: 'airplane',\n",
        "      1: 'automobile',\n",
        "      2: 'bird',\n",
        "      3: 'cat',\n",
        "      4: 'deer',\n",
        "      5: 'dog',\n",
        "      6: 'frog',\n",
        "      7: 'horse',\n",
        "      8: 'ship',\n",
        "      9: 'truck',\n",
        "  })\n",
        "\n",
        "f, axarr = plt.subplots(2,5, figsize=(25,12))\n",
        "\n",
        "n = 0\n",
        "for i in range(0,2):\n",
        "  for j in range(0,5):\n",
        "    axarr[i,j].imshow(X_train_grey[n])\n",
        "    axarr[i,j].set_title(categories[y_train[n][0]])\n",
        "    n = n +1\n"
      ]
    },
    {
      "cell_type": "markdown",
      "metadata": {
        "id": "_PQexKZYF-78"
      },
      "source": [
        "El primer paso para entrenar una red neuronal consiste en pre-procesar los datos de entrenamiento y test para que cuadren con el formato esperado por las entradas y salidas de la red neuronal."
      ]
    },
    {
      "cell_type": "markdown",
      "metadata": {
        "id": "tWXEtO1TW9Z2"
      },
      "source": [
        "Empezaremos normalizando los datos de entrada para que estén en el rango [0,1] ya que, como podemos ver a continuación, se trata de valores enteros entre 0 y 255."
      ]
    },
    {
      "cell_type": "code",
      "execution_count": 59,
      "metadata": {
        "colab": {
          "base_uri": "https://localhost:8080/"
        },
        "id": "pzHXXAxySNWQ",
        "outputId": "9329d02b-2d44-42d1-c99f-155442b1bc86"
      },
      "outputs": [
        {
          "output_type": "stream",
          "name": "stdout",
          "text": [
            "Los valores del primer registro de X_train_grey son: [[ 62  45  47 ... 128 121 120]\n",
            " [ 20   0   7 ...  82  77  82]\n",
            " [ 23   6  24 ...  78  78  68]\n",
            " ...\n",
            " [152 123 125 ... 117  27  32]\n",
            " [131 104 115 ... 136  58  51]\n",
            " [139 123 130 ... 174 112  90]]\n"
          ]
        }
      ],
      "source": [
        "print(\"Los valores del primer registro de X_train_grey son: {}\".format(X_train_grey[0]))"
      ]
    },
    {
      "cell_type": "code",
      "execution_count": 60,
      "metadata": {
        "colab": {
          "base_uri": "https://localhost:8080/"
        },
        "id": "GlRBW5tXQGwy",
        "outputId": "4945d922-3574-455a-db5c-71c5fcc01906"
      },
      "outputs": [
        {
          "output_type": "stream",
          "name": "stdout",
          "text": [
            "Los valores mínimo y máximo son 0 y 255.\n"
          ]
        }
      ],
      "source": [
        "# Determinar valores mínimo y máximo\n",
        "v_min = np.min(X_train_grey)\n",
        "v_max = np.max(X_train_grey)\n",
        "print(\"Los valores mínimo y máximo son {} y {}.\".format(v_min, v_max))"
      ]
    },
    {
      "cell_type": "markdown",
      "metadata": {
        "id": "kyPt-eoz2a9c"
      },
      "source": [
        "<div style=\"background-color: #EDF7FF; border-color: #7C9DBF; border-left: 5px solid #7C9DBF; padding: 0.5em;\">\n",
        "<strong>Ejercicio [0,5 pts.]:</strong> Normalizar los datos de entrada a la red para que estén comprendidos en el rango [0,1]. Imprimir los datos del primer registro una vez se ha llevado a cabo la normalización y comprobar de nuevo los valores máximo y mínimo. \n",
        "</div>"
      ]
    },
    {
      "cell_type": "markdown",
      "source": [
        "Dado que la sección de librerías importadas no incluye [MinMaxScaler](https://scikit-learn.org/stable/modules/generated/sklearn.preprocessing.MinMaxScaler.html) realizaremos los cálculos manualmente tal cual se indica en la descripción de su implementación"
      ],
      "metadata": {
        "id": "Gn-G1v0gjidE"
      }
    },
    {
      "cell_type": "code",
      "source": [
        "# Manually compute MinMaxScaler as detailed in https://scikit-learn.org/stable/modules/generated/sklearn.preprocessing.MinMaxScaler.html\n",
        "# Initialize values\n",
        "min = 0\n",
        "max = 1\n",
        "X = X_train_grey\n",
        "# Normalize\n",
        "X_std = (X - X.min(axis=0)) / (X.max(axis=0) - X.min(axis=0))\n",
        "X_train_grey_norm = X_std * (max - min) + min\n",
        "print(\"Los valores del primer registro de X_train_grey_norm son: {}\".format(X_train_grey_norm[0]))"
      ],
      "metadata": {
        "colab": {
          "base_uri": "https://localhost:8080/"
        },
        "id": "NbYCoQMiiZym",
        "outputId": "d0314869-ae05-42c2-969d-2f1e3ad6756a"
      },
      "execution_count": 61,
      "outputs": [
        {
          "output_type": "stream",
          "name": "stdout",
          "text": [
            "Los valores del primer registro de X_train_grey_norm son: [[0.24313725 0.17647059 0.18431373 ... 0.50196078 0.4745098  0.47058824]\n",
            " [0.07843137 0.         0.02745098 ... 0.32156863 0.30196078 0.32156863]\n",
            " [0.09019608 0.02352941 0.09411765 ... 0.30588235 0.30588235 0.26666667]\n",
            " ...\n",
            " [0.59607843 0.48235294 0.49019608 ... 0.45882353 0.10588235 0.1254902 ]\n",
            " [0.51372549 0.40784314 0.45098039 ... 0.53333333 0.22745098 0.2       ]\n",
            " [0.54509804 0.48235294 0.50980392 ... 0.68235294 0.43921569 0.35294118]]\n"
          ]
        }
      ]
    },
    {
      "cell_type": "code",
      "source": [
        "# Determinar valores mínimo y máximo\n",
        "v_min = np.min(X_train_grey_norm)\n",
        "v_max = np.max(X_train_grey_norm)\n",
        "print(\"Los valores mínimo y máximo son {} y {}.\".format(v_min, v_max))"
      ],
      "metadata": {
        "colab": {
          "base_uri": "https://localhost:8080/"
        },
        "id": "e1Q-W8u6jXyW",
        "outputId": "9f24d682-0201-49fc-85cb-284103d9313d"
      },
      "execution_count": 62,
      "outputs": [
        {
          "output_type": "stream",
          "name": "stdout",
          "text": [
            "Los valores mínimo y máximo son 0.0 y 1.0.\n"
          ]
        }
      ]
    },
    {
      "cell_type": "markdown",
      "metadata": {
        "id": "2t8ezZci2a9d"
      },
      "source": [
        "<div style=\"background-color: #EDF7FF; border-color: #7C9DBF; border-left: 5px solid #7C9DBF; padding: 0.5em;\">\n",
        "<strong>Ejercicio [0,25 pts.]:</strong> Codificar los valores de las etiquetas de salida en un vector one-hot. Por ejemplo, el vector de salida para una imagen que contiene un 5 sería: [0., 0., 0., 0., 0., 1., 0., 0., 0., 0.]. Comprobar el resultado imprimiendo su dimensión y mostrando algún registro.\n",
        "</div>\n",
        "\n",
        "**Nota**: Se puede utilizar la función `to_categorical` de `tensorflow.keras.utils`. "
      ]
    },
    {
      "cell_type": "code",
      "execution_count": 63,
      "metadata": {
        "id": "WvWY9udY2a9d",
        "colab": {
          "base_uri": "https://localhost:8080/"
        },
        "outputId": "14e7c50e-a3d5-446a-bff1-a9d99ad7a0bb"
      },
      "outputs": [
        {
          "output_type": "stream",
          "name": "stdout",
          "text": [
            "[[0 0 0 ... 0 0 0]\n",
            " [0 0 0 ... 0 0 1]\n",
            " [0 0 0 ... 0 0 1]\n",
            " ...\n",
            " [0 0 0 ... 0 0 1]\n",
            " [0 1 0 ... 0 0 0]\n",
            " [0 1 0 ... 0 0 0]]\n",
            "(50000, 10)\n",
            "[[0 0 0 ... 0 0 0]\n",
            " [0 0 0 ... 0 1 0]\n",
            " [0 0 0 ... 0 1 0]\n",
            " ...\n",
            " [0 0 0 ... 0 0 0]\n",
            " [0 1 0 ... 0 0 0]\n",
            " [0 0 0 ... 1 0 0]]\n",
            "(10000, 10)\n"
          ]
        }
      ],
      "source": [
        "# https://www.geeksforgeeks.org/python-keras-keras-utils-to_categorical/\n",
        "train_labels = to_categorical(y_train, dtype =\"uint8\")\n",
        "test_labels = to_categorical(y_test, dtype =\"uint8\")\n",
        " \n",
        "# Labels after applying the function\n",
        "# Training set labels\n",
        "print(train_labels)\n",
        "print(train_labels.shape)\n",
        " \n",
        "# Testing set labels\n",
        "print(test_labels)\n",
        "print(test_labels.shape)"
      ]
    },
    {
      "cell_type": "markdown",
      "metadata": {
        "id": "Oj0Ukdbk2a9b"
      },
      "source": [
        "## 2. Red Neuronal Artificial (ANN) completamente conectada [2,5 puntos]"
      ]
    },
    {
      "cell_type": "markdown",
      "metadata": {
        "id": "3oab2O5P2a9b"
      },
      "source": [
        "A continuación implementaremos una red neuronal *feed-forward fully connected* y llevaremos a cabo el entrenamiento y test sobre el dataset CIFAR."
      ]
    },
    {
      "cell_type": "markdown",
      "metadata": {
        "id": "x0gvf0eg2a9c"
      },
      "source": [
        "### 2.1 Pre-procesado de datos\n",
        "\n",
        "Dado que en una red neuronal artificial las entradas son unidimensionales, lo primero que tenemos que hacer es redimensionar los datos de entrada (las imágenes) para convertirlos en arrays de una dimensión."
      ]
    },
    {
      "cell_type": "markdown",
      "metadata": {
        "id": "Xe5H9GpZImso"
      },
      "source": [
        "<div style=\"background-color: #EDF7FF; border-color: #7C9DBF; border-left: 5px solid #7C9DBF; padding: 0.5em;\">\n",
        "<strong>Ejercicio [0,5 pts.]:</strong> Modificar los conjuntos X_train_grey y X_test_grey para que sus registros sean arrays unidimensionales de dimensión 32x32 = 1024 datos. Comprobad el resultado imprimiendo las dimensiones de las variables.\n",
        "</div>"
      ]
    },
    {
      "cell_type": "code",
      "execution_count": 64,
      "metadata": {
        "id": "xXGNSUawI9BZ"
      },
      "outputs": [],
      "source": [
        "X_train_gflat = X_train_grey_norm.reshape(50000, 1024)\n",
        "X_test_gflat = X_test_grey.reshape(10000, 1024)"
      ]
    },
    {
      "cell_type": "code",
      "source": [
        "X_train_gflat.shape, X_test_gflat.shape"
      ],
      "metadata": {
        "colab": {
          "base_uri": "https://localhost:8080/"
        },
        "id": "DWHD_0tgwHlB",
        "outputId": "94f60745-478e-4117-922c-d50292cfbf39"
      },
      "execution_count": 65,
      "outputs": [
        {
          "output_type": "execute_result",
          "data": {
            "text/plain": [
              "((50000, 1024), (10000, 1024))"
            ]
          },
          "metadata": {},
          "execution_count": 65
        }
      ]
    },
    {
      "cell_type": "markdown",
      "metadata": {
        "id": "QpKngAje2a9e"
      },
      "source": [
        "### 2.2 Creación del modelo\n",
        "\n",
        "\n",
        "Vamos a usar un modelo `Sequential` de Keras "
      ]
    },
    {
      "cell_type": "markdown",
      "metadata": {
        "id": "jj1C4Bop2a9e"
      },
      "source": [
        "<div style=\"background-color: #EDF7FF; border-color: #7C9DBF; border-left: 5px solid #7C9DBF; padding: 0.5em;\">\n",
        "<strong>Ejercicio [2 pts.]:</strong> Implementa el modelo de red neuronal artificial:\n",
        "<ul>\n",
        "<li>   Diseña la arquitectura para el modelo de clasificación con las siguientes características:</li>\n",
        "   <ul>\n",
        "   <li> 6 capas ocultas de 128 neuronas.</li>\n",
        "   <li> 3 capas de Dropout del 20% (rate=0,2) intercaladas cada 2 capas densas. \n",
        "   <li> Función de activación de las capas intermedias: ReLU.</li>\n",
        "   <li> 1 capa de salida con las dimensiones y función de activación adecuadas para realizar la clasificación.\n",
        "   </ul>\n",
        "\n",
        "<li>   Imprime el modelo para ver el número de parámetros a entrenar.\n",
        "\n",
        "<li>   Compila el modelo con la función de pérdida más adecuada, el optimizador SGD, una velocidad de aprendizaje de 0.01, y la métrica Accuracy.</li>\n",
        "\n",
        "<li>   Ajusta el modelo con 100 épocas y un tamaño del batch de 128. Mide el tiempo de entrenamiento.</li>\n",
        "\n",
        "<li>   Muestra las gráficas de accuracy y loss. En cada gráfica debe visualizarse la curva de entrenamiento y la de validación. NOTA: Se recomienda hacer una función que imprima ambas gráficas para poder reutilizarla en próximos apartados.</li>\n",
        "<li>   Realiza la evaluación del modelo para mostrar la pérdida y la precisión final. </li>\n",
        "</ul>\n",
        "</div>"
      ]
    },
    {
      "cell_type": "code",
      "execution_count": 66,
      "metadata": {
        "id": "gm3tnjBd2a9e",
        "colab": {
          "base_uri": "https://localhost:8080/"
        },
        "outputId": "324f57a7-0d54-42a0-d268-3d29df092770"
      },
      "outputs": [
        {
          "output_type": "stream",
          "name": "stdout",
          "text": [
            "Model: \"sequential_5\"\n",
            "_________________________________________________________________\n",
            " Layer (type)                Output Shape              Param #   \n",
            "=================================================================\n",
            " dense_19 (Dense)            (None, 128)               131200    \n",
            "                                                                 \n",
            " dense_20 (Dense)            (None, 128)               16512     \n",
            "                                                                 \n",
            " dropout_14 (Dropout)        (None, 128)               0         \n",
            "                                                                 \n",
            " dense_21 (Dense)            (None, 128)               16512     \n",
            "                                                                 \n",
            " dense_22 (Dense)            (None, 128)               16512     \n",
            "                                                                 \n",
            " dropout_15 (Dropout)        (None, 128)               0         \n",
            "                                                                 \n",
            " dense_23 (Dense)            (None, 128)               16512     \n",
            "                                                                 \n",
            " dense_24 (Dense)            (None, 128)               16512     \n",
            "                                                                 \n",
            " dropout_16 (Dropout)        (None, 128)               0         \n",
            "                                                                 \n",
            " dense_25 (Dense)            (None, 10)                1290      \n",
            "                                                                 \n",
            "=================================================================\n",
            "Total params: 215,050\n",
            "Trainable params: 215,050\n",
            "Non-trainable params: 0\n",
            "_________________________________________________________________\n"
          ]
        }
      ],
      "source": [
        "# Crear el modelo ANN\n",
        "model = Sequential()\n",
        "\n",
        "# When padding=\"same\" and strides=1, the output has the same size as the input.\n",
        "model.add(Dense(128, activation='relu', input_shape=(1024,)))\n",
        "model.add(Dense(128, activation='relu'))\n",
        "model.add(Dropout(.2))\n",
        "model.add(Dense(128, activation='relu'))\n",
        "model.add(Dense(128, activation='relu'))\n",
        "model.add(Dropout(.2))\n",
        "model.add(Dense(128, activation='relu'))\n",
        "model.add(Dense(128, activation='relu'))\n",
        "model.add(Dropout(.2))\n",
        "\n",
        "# Capa softmax de clasificación con 10 valores posibles(etiqueas)\n",
        "model.add(Dense(10, activation=\"softmax\"))\n",
        "\n",
        "model.summary()"
      ]
    },
    {
      "cell_type": "code",
      "execution_count": 67,
      "metadata": {
        "id": "Rpys0OUWMv4y"
      },
      "outputs": [],
      "source": [
        "# Compile\n",
        "\n",
        "# Compila el modelo con la función de pérdida más adecuada, \n",
        "# el optimizador SGD, una velocidad de aprendizaje de 0.01, y la métrica Accuracy.\n",
        "model.compile(SGD(learning_rate=0.01),\n",
        "              \"categorical_crossentropy\",\n",
        "              metrics=['accuracy'])\n"
      ]
    },
    {
      "cell_type": "code",
      "execution_count": 68,
      "metadata": {
        "id": "-bn3xNx3tMtG",
        "colab": {
          "base_uri": "https://localhost:8080/"
        },
        "outputId": "3a4f9f07-d445-4cf6-eaf7-59816aea7769"
      },
      "outputs": [
        {
          "output_type": "stream",
          "name": "stdout",
          "text": [
            "Epoch 1/100\n",
            "391/391 [==============================] - 2s 4ms/step - loss: 2.2905 - accuracy: 0.1223 - val_loss: 48.7524 - val_accuracy: 0.1203\n",
            "Epoch 2/100\n",
            "391/391 [==============================] - 2s 4ms/step - loss: 2.2310 - accuracy: 0.1651 - val_loss: 101.0285 - val_accuracy: 0.1840\n",
            "Epoch 3/100\n",
            "391/391 [==============================] - 1s 4ms/step - loss: 2.1686 - accuracy: 0.1926 - val_loss: 136.0563 - val_accuracy: 0.1920\n",
            "Epoch 4/100\n",
            "391/391 [==============================] - 2s 4ms/step - loss: 2.1240 - accuracy: 0.2124 - val_loss: 170.6408 - val_accuracy: 0.1951\n",
            "Epoch 5/100\n",
            "391/391 [==============================] - 2s 4ms/step - loss: 2.0890 - accuracy: 0.2333 - val_loss: 209.8761 - val_accuracy: 0.1962\n",
            "Epoch 6/100\n",
            "391/391 [==============================] - 1s 4ms/step - loss: 2.0617 - accuracy: 0.2472 - val_loss: 241.3562 - val_accuracy: 0.2027\n",
            "Epoch 7/100\n",
            "391/391 [==============================] - 2s 4ms/step - loss: 2.0341 - accuracy: 0.2581 - val_loss: 264.2300 - val_accuracy: 0.1962\n",
            "Epoch 8/100\n",
            "391/391 [==============================] - 1s 4ms/step - loss: 2.0117 - accuracy: 0.2709 - val_loss: 252.6382 - val_accuracy: 0.2139\n",
            "Epoch 9/100\n",
            "391/391 [==============================] - 2s 4ms/step - loss: 1.9877 - accuracy: 0.2794 - val_loss: 323.2961 - val_accuracy: 0.2032\n",
            "Epoch 10/100\n",
            "391/391 [==============================] - 1s 4ms/step - loss: 1.9671 - accuracy: 0.2895 - val_loss: 333.3246 - val_accuracy: 0.2073\n",
            "Epoch 11/100\n",
            "391/391 [==============================] - 1s 4ms/step - loss: 1.9486 - accuracy: 0.2969 - val_loss: 336.8250 - val_accuracy: 0.2061\n",
            "Epoch 12/100\n",
            "391/391 [==============================] - 1s 4ms/step - loss: 1.9290 - accuracy: 0.3050 - val_loss: 336.7164 - val_accuracy: 0.2149\n",
            "Epoch 13/100\n",
            "391/391 [==============================] - 1s 4ms/step - loss: 1.9184 - accuracy: 0.3091 - val_loss: 352.0275 - val_accuracy: 0.2026\n",
            "Epoch 14/100\n",
            "391/391 [==============================] - 2s 4ms/step - loss: 1.9017 - accuracy: 0.3155 - val_loss: 308.9767 - val_accuracy: 0.2347\n",
            "Epoch 15/100\n",
            "391/391 [==============================] - 1s 4ms/step - loss: 1.8888 - accuracy: 0.3203 - val_loss: 335.6641 - val_accuracy: 0.2274\n",
            "Epoch 16/100\n",
            "391/391 [==============================] - 2s 4ms/step - loss: 1.8778 - accuracy: 0.3259 - val_loss: 345.0422 - val_accuracy: 0.2309\n",
            "Epoch 17/100\n",
            "391/391 [==============================] - 1s 4ms/step - loss: 1.8667 - accuracy: 0.3280 - val_loss: 296.9807 - val_accuracy: 0.2399\n",
            "Epoch 18/100\n",
            "391/391 [==============================] - 1s 4ms/step - loss: 1.8550 - accuracy: 0.3322 - val_loss: 339.3664 - val_accuracy: 0.2373\n",
            "Epoch 19/100\n",
            "391/391 [==============================] - 2s 4ms/step - loss: 1.8441 - accuracy: 0.3371 - val_loss: 332.2738 - val_accuracy: 0.2424\n",
            "Epoch 20/100\n",
            "391/391 [==============================] - 1s 4ms/step - loss: 1.8334 - accuracy: 0.3433 - val_loss: 349.6032 - val_accuracy: 0.2384\n",
            "Epoch 21/100\n",
            "391/391 [==============================] - 1s 4ms/step - loss: 1.8253 - accuracy: 0.3450 - val_loss: 299.5621 - val_accuracy: 0.2555\n",
            "Epoch 22/100\n",
            "391/391 [==============================] - 2s 4ms/step - loss: 1.8169 - accuracy: 0.3459 - val_loss: 266.1706 - val_accuracy: 0.2764\n",
            "Epoch 23/100\n",
            "391/391 [==============================] - 1s 4ms/step - loss: 1.8057 - accuracy: 0.3528 - val_loss: 275.4916 - val_accuracy: 0.2623\n",
            "Epoch 24/100\n",
            "391/391 [==============================] - 2s 4ms/step - loss: 1.7966 - accuracy: 0.3582 - val_loss: 299.5253 - val_accuracy: 0.2608\n",
            "Epoch 25/100\n",
            "391/391 [==============================] - 2s 4ms/step - loss: 1.7880 - accuracy: 0.3579 - val_loss: 276.6636 - val_accuracy: 0.2782\n",
            "Epoch 26/100\n",
            "391/391 [==============================] - 2s 4ms/step - loss: 1.7803 - accuracy: 0.3620 - val_loss: 348.8321 - val_accuracy: 0.2428\n",
            "Epoch 27/100\n",
            "391/391 [==============================] - 1s 4ms/step - loss: 1.7717 - accuracy: 0.3664 - val_loss: 332.6138 - val_accuracy: 0.2508\n",
            "Epoch 28/100\n",
            "391/391 [==============================] - 2s 4ms/step - loss: 1.7654 - accuracy: 0.3670 - val_loss: 289.2780 - val_accuracy: 0.2792\n",
            "Epoch 29/100\n",
            "391/391 [==============================] - 2s 4ms/step - loss: 1.7590 - accuracy: 0.3712 - val_loss: 277.8280 - val_accuracy: 0.2721\n",
            "Epoch 30/100\n",
            "391/391 [==============================] - 1s 4ms/step - loss: 1.7474 - accuracy: 0.3738 - val_loss: 351.9571 - val_accuracy: 0.2549\n",
            "Epoch 31/100\n",
            "391/391 [==============================] - 2s 4ms/step - loss: 1.7449 - accuracy: 0.3772 - val_loss: 249.1051 - val_accuracy: 0.2949\n",
            "Epoch 32/100\n",
            "391/391 [==============================] - 1s 4ms/step - loss: 1.7341 - accuracy: 0.3782 - val_loss: 288.7549 - val_accuracy: 0.2742\n",
            "Epoch 33/100\n",
            "391/391 [==============================] - 2s 4ms/step - loss: 1.7295 - accuracy: 0.3833 - val_loss: 305.7585 - val_accuracy: 0.2771\n",
            "Epoch 34/100\n",
            "391/391 [==============================] - 1s 4ms/step - loss: 1.7245 - accuracy: 0.3828 - val_loss: 264.5456 - val_accuracy: 0.2975\n",
            "Epoch 35/100\n",
            "391/391 [==============================] - 1s 4ms/step - loss: 1.7168 - accuracy: 0.3847 - val_loss: 275.5788 - val_accuracy: 0.2829\n",
            "Epoch 36/100\n",
            "391/391 [==============================] - 2s 4ms/step - loss: 1.7112 - accuracy: 0.3874 - val_loss: 309.3328 - val_accuracy: 0.2888\n",
            "Epoch 37/100\n",
            "391/391 [==============================] - 2s 4ms/step - loss: 1.7033 - accuracy: 0.3903 - val_loss: 253.9201 - val_accuracy: 0.2966\n",
            "Epoch 38/100\n",
            "391/391 [==============================] - 2s 4ms/step - loss: 1.6951 - accuracy: 0.3956 - val_loss: 268.3756 - val_accuracy: 0.2961\n",
            "Epoch 39/100\n",
            "391/391 [==============================] - 2s 4ms/step - loss: 1.6901 - accuracy: 0.3978 - val_loss: 250.1306 - val_accuracy: 0.3006\n",
            "Epoch 40/100\n",
            "391/391 [==============================] - 2s 4ms/step - loss: 1.6841 - accuracy: 0.4002 - val_loss: 299.5792 - val_accuracy: 0.2886\n",
            "Epoch 41/100\n",
            "391/391 [==============================] - 2s 4ms/step - loss: 1.6749 - accuracy: 0.4006 - val_loss: 258.6715 - val_accuracy: 0.3047\n",
            "Epoch 42/100\n",
            "391/391 [==============================] - 1s 4ms/step - loss: 1.6695 - accuracy: 0.4027 - val_loss: 253.8877 - val_accuracy: 0.3021\n",
            "Epoch 43/100\n",
            "391/391 [==============================] - 1s 4ms/step - loss: 1.6621 - accuracy: 0.4057 - val_loss: 309.6980 - val_accuracy: 0.2981\n",
            "Epoch 44/100\n",
            "391/391 [==============================] - 1s 4ms/step - loss: 1.6611 - accuracy: 0.4070 - val_loss: 302.9571 - val_accuracy: 0.2918\n",
            "Epoch 45/100\n",
            "391/391 [==============================] - 2s 4ms/step - loss: 1.6505 - accuracy: 0.4116 - val_loss: 269.6001 - val_accuracy: 0.3083\n",
            "Epoch 46/100\n",
            "391/391 [==============================] - 2s 4ms/step - loss: 1.6485 - accuracy: 0.4108 - val_loss: 286.8463 - val_accuracy: 0.2912\n",
            "Epoch 47/100\n",
            "391/391 [==============================] - 1s 4ms/step - loss: 1.6399 - accuracy: 0.4160 - val_loss: 309.9889 - val_accuracy: 0.2970\n",
            "Epoch 48/100\n",
            "391/391 [==============================] - 1s 4ms/step - loss: 1.6384 - accuracy: 0.4154 - val_loss: 293.9866 - val_accuracy: 0.2925\n",
            "Epoch 49/100\n",
            "391/391 [==============================] - 2s 4ms/step - loss: 1.6315 - accuracy: 0.4209 - val_loss: 283.0388 - val_accuracy: 0.2938\n",
            "Epoch 50/100\n",
            "391/391 [==============================] - 1s 4ms/step - loss: 1.6284 - accuracy: 0.4183 - val_loss: 304.3837 - val_accuracy: 0.2946\n",
            "Epoch 51/100\n",
            "391/391 [==============================] - 1s 4ms/step - loss: 1.6215 - accuracy: 0.4202 - val_loss: 260.1268 - val_accuracy: 0.3001\n",
            "Epoch 52/100\n",
            "391/391 [==============================] - 2s 4ms/step - loss: 1.6143 - accuracy: 0.4234 - val_loss: 309.0821 - val_accuracy: 0.2911\n",
            "Epoch 53/100\n",
            "391/391 [==============================] - 2s 4ms/step - loss: 1.6131 - accuracy: 0.4251 - val_loss: 276.1993 - val_accuracy: 0.3055\n",
            "Epoch 54/100\n",
            "391/391 [==============================] - 2s 4ms/step - loss: 1.6066 - accuracy: 0.4293 - val_loss: 330.4789 - val_accuracy: 0.2907\n",
            "Epoch 55/100\n",
            "391/391 [==============================] - 1s 4ms/step - loss: 1.6035 - accuracy: 0.4301 - val_loss: 350.4187 - val_accuracy: 0.2819\n",
            "Epoch 56/100\n",
            "391/391 [==============================] - 1s 4ms/step - loss: 1.5969 - accuracy: 0.4327 - val_loss: 313.7457 - val_accuracy: 0.2947\n",
            "Epoch 57/100\n",
            "391/391 [==============================] - 1s 4ms/step - loss: 1.5928 - accuracy: 0.4330 - val_loss: 280.3148 - val_accuracy: 0.3074\n",
            "Epoch 58/100\n",
            "391/391 [==============================] - 1s 4ms/step - loss: 1.5886 - accuracy: 0.4326 - val_loss: 305.3258 - val_accuracy: 0.3006\n",
            "Epoch 59/100\n",
            "391/391 [==============================] - 1s 4ms/step - loss: 1.5859 - accuracy: 0.4344 - val_loss: 290.0846 - val_accuracy: 0.2997\n",
            "Epoch 60/100\n",
            "391/391 [==============================] - 1s 4ms/step - loss: 1.5804 - accuracy: 0.4373 - val_loss: 266.8933 - val_accuracy: 0.3032\n",
            "Epoch 61/100\n",
            "391/391 [==============================] - 2s 4ms/step - loss: 1.5737 - accuracy: 0.4391 - val_loss: 275.8996 - val_accuracy: 0.3129\n",
            "Epoch 62/100\n",
            "391/391 [==============================] - 2s 4ms/step - loss: 1.5714 - accuracy: 0.4411 - val_loss: 306.4733 - val_accuracy: 0.2964\n",
            "Epoch 63/100\n",
            "391/391 [==============================] - 2s 4ms/step - loss: 1.5675 - accuracy: 0.4415 - val_loss: 304.6696 - val_accuracy: 0.2939\n",
            "Epoch 64/100\n",
            "391/391 [==============================] - 1s 4ms/step - loss: 1.5624 - accuracy: 0.4447 - val_loss: 283.3168 - val_accuracy: 0.3040\n",
            "Epoch 65/100\n",
            "391/391 [==============================] - 2s 4ms/step - loss: 1.5560 - accuracy: 0.4476 - val_loss: 349.2484 - val_accuracy: 0.2922\n",
            "Epoch 66/100\n",
            "391/391 [==============================] - 2s 4ms/step - loss: 1.5559 - accuracy: 0.4449 - val_loss: 287.8365 - val_accuracy: 0.2938\n",
            "Epoch 67/100\n",
            "391/391 [==============================] - 1s 4ms/step - loss: 1.5507 - accuracy: 0.4481 - val_loss: 326.6269 - val_accuracy: 0.2893\n",
            "Epoch 68/100\n",
            "391/391 [==============================] - 1s 4ms/step - loss: 1.5490 - accuracy: 0.4489 - val_loss: 269.0432 - val_accuracy: 0.3025\n",
            "Epoch 69/100\n",
            "391/391 [==============================] - 2s 4ms/step - loss: 1.5472 - accuracy: 0.4500 - val_loss: 309.4131 - val_accuracy: 0.2854\n",
            "Epoch 70/100\n",
            "391/391 [==============================] - 1s 4ms/step - loss: 1.5395 - accuracy: 0.4520 - val_loss: 309.0166 - val_accuracy: 0.2886\n",
            "Epoch 71/100\n",
            "391/391 [==============================] - 2s 4ms/step - loss: 1.5402 - accuracy: 0.4557 - val_loss: 349.4177 - val_accuracy: 0.2893\n",
            "Epoch 72/100\n",
            "391/391 [==============================] - 2s 4ms/step - loss: 1.5334 - accuracy: 0.4553 - val_loss: 270.5278 - val_accuracy: 0.3106\n",
            "Epoch 73/100\n",
            "391/391 [==============================] - 2s 4ms/step - loss: 1.5295 - accuracy: 0.4575 - val_loss: 292.7978 - val_accuracy: 0.2937\n",
            "Epoch 74/100\n",
            "391/391 [==============================] - 2s 4ms/step - loss: 1.5236 - accuracy: 0.4581 - val_loss: 386.7527 - val_accuracy: 0.2753\n",
            "Epoch 75/100\n",
            "391/391 [==============================] - 1s 4ms/step - loss: 1.5220 - accuracy: 0.4607 - val_loss: 281.8345 - val_accuracy: 0.2947\n",
            "Epoch 76/100\n",
            "391/391 [==============================] - 1s 4ms/step - loss: 1.5222 - accuracy: 0.4601 - val_loss: 347.2869 - val_accuracy: 0.2911\n",
            "Epoch 77/100\n",
            "391/391 [==============================] - 1s 4ms/step - loss: 1.5155 - accuracy: 0.4614 - val_loss: 302.0727 - val_accuracy: 0.2956\n",
            "Epoch 78/100\n",
            "391/391 [==============================] - 1s 4ms/step - loss: 1.5103 - accuracy: 0.4646 - val_loss: 304.2515 - val_accuracy: 0.2984\n",
            "Epoch 79/100\n",
            "391/391 [==============================] - 1s 4ms/step - loss: 1.5110 - accuracy: 0.4624 - val_loss: 292.3146 - val_accuracy: 0.2893\n",
            "Epoch 80/100\n",
            "391/391 [==============================] - 1s 4ms/step - loss: 1.5047 - accuracy: 0.4681 - val_loss: 315.8617 - val_accuracy: 0.2921\n",
            "Epoch 81/100\n",
            "391/391 [==============================] - 2s 4ms/step - loss: 1.5027 - accuracy: 0.4646 - val_loss: 301.1284 - val_accuracy: 0.3010\n",
            "Epoch 82/100\n",
            "391/391 [==============================] - 2s 4ms/step - loss: 1.4994 - accuracy: 0.4681 - val_loss: 319.6097 - val_accuracy: 0.2997\n",
            "Epoch 83/100\n",
            "391/391 [==============================] - 1s 4ms/step - loss: 1.4961 - accuracy: 0.4668 - val_loss: 372.6534 - val_accuracy: 0.2756\n",
            "Epoch 84/100\n",
            "391/391 [==============================] - 1s 4ms/step - loss: 1.4907 - accuracy: 0.4701 - val_loss: 307.6176 - val_accuracy: 0.2896\n",
            "Epoch 85/100\n",
            "391/391 [==============================] - 1s 4ms/step - loss: 1.4922 - accuracy: 0.4714 - val_loss: 334.1562 - val_accuracy: 0.2935\n",
            "Epoch 86/100\n",
            "391/391 [==============================] - 2s 4ms/step - loss: 1.4879 - accuracy: 0.4709 - val_loss: 341.6150 - val_accuracy: 0.2845\n",
            "Epoch 87/100\n",
            "391/391 [==============================] - 1s 4ms/step - loss: 1.4807 - accuracy: 0.4734 - val_loss: 280.2246 - val_accuracy: 0.2989\n",
            "Epoch 88/100\n",
            "391/391 [==============================] - 2s 4ms/step - loss: 1.4842 - accuracy: 0.4738 - val_loss: 281.0446 - val_accuracy: 0.3020\n",
            "Epoch 89/100\n",
            "391/391 [==============================] - 2s 4ms/step - loss: 1.4766 - accuracy: 0.4771 - val_loss: 320.6258 - val_accuracy: 0.2947\n",
            "Epoch 90/100\n",
            "391/391 [==============================] - 1s 4ms/step - loss: 1.4719 - accuracy: 0.4788 - val_loss: 332.4312 - val_accuracy: 0.2930\n",
            "Epoch 91/100\n",
            "391/391 [==============================] - 2s 4ms/step - loss: 1.4711 - accuracy: 0.4811 - val_loss: 309.3466 - val_accuracy: 0.2868\n",
            "Epoch 92/100\n",
            "391/391 [==============================] - 1s 4ms/step - loss: 1.4664 - accuracy: 0.4792 - val_loss: 315.0093 - val_accuracy: 0.2862\n",
            "Epoch 93/100\n",
            "391/391 [==============================] - 1s 4ms/step - loss: 1.4685 - accuracy: 0.4780 - val_loss: 357.8704 - val_accuracy: 0.2767\n",
            "Epoch 94/100\n",
            "391/391 [==============================] - 1s 4ms/step - loss: 1.4577 - accuracy: 0.4830 - val_loss: 330.5098 - val_accuracy: 0.2865\n",
            "Epoch 95/100\n",
            "391/391 [==============================] - 1s 4ms/step - loss: 1.4560 - accuracy: 0.4843 - val_loss: 316.5609 - val_accuracy: 0.2907\n",
            "Epoch 96/100\n",
            "391/391 [==============================] - 1s 4ms/step - loss: 1.4569 - accuracy: 0.4815 - val_loss: 390.3401 - val_accuracy: 0.2742\n",
            "Epoch 97/100\n",
            "391/391 [==============================] - 2s 4ms/step - loss: 1.4530 - accuracy: 0.4844 - val_loss: 348.5423 - val_accuracy: 0.2830\n",
            "Epoch 98/100\n",
            "391/391 [==============================] - 2s 4ms/step - loss: 1.4578 - accuracy: 0.4835 - val_loss: 346.7455 - val_accuracy: 0.2750\n",
            "Epoch 99/100\n",
            "391/391 [==============================] - 2s 4ms/step - loss: 1.4487 - accuracy: 0.4859 - val_loss: 338.9521 - val_accuracy: 0.2842\n",
            "Epoch 100/100\n",
            "391/391 [==============================] - 1s 4ms/step - loss: 1.4461 - accuracy: 0.4867 - val_loss: 316.7769 - val_accuracy: 0.2964\n"
          ]
        }
      ],
      "source": [
        "# Entrenar el modelo\n",
        "t0 = timeit.default_timer()\n",
        "mfit = model.fit(X_train_gflat, train_labels, epochs=100, batch_size=128,\n",
        "                    validation_data=(X_test_gflat, test_labels))\n",
        "training_time = timeit.default_timer() - t0"
      ]
    },
    {
      "cell_type": "code",
      "source": [
        "print(\"El tiempo de entrenamiento de la red es {} segundos.\".format(training_time))"
      ],
      "metadata": {
        "colab": {
          "base_uri": "https://localhost:8080/"
        },
        "id": "7o671OHne_AO",
        "outputId": "b99cd9c8-7a23-4b36-c208-7e4551212c1f"
      },
      "execution_count": 69,
      "outputs": [
        {
          "output_type": "stream",
          "name": "stdout",
          "text": [
            "El tiempo de entrenamiento de la red es 202.54254285700017 segundos.\n"
          ]
        }
      ]
    },
    {
      "cell_type": "code",
      "execution_count": 70,
      "metadata": {
        "id": "EmKH650QRjBC",
        "colab": {
          "base_uri": "https://localhost:8080/",
          "height": 295
        },
        "outputId": "e597d4a2-7927-4919-d68b-0970f0e3866c"
      },
      "outputs": [
        {
          "output_type": "display_data",
          "data": {
            "text/plain": [
              "<Figure size 432x288 with 1 Axes>"
            ],
            "image/png": "[encoded data removed]"
          },
          "metadata": {
            "needs_background": "light"
          }
        }
      ],
      "source": [
        "# Plot del training loss y el accuracy\n",
        "def plot_prediction(n_epochs, mfit):\n",
        "  loss = mfit.history['loss']\n",
        "  val_loss = mfit.history['val_loss']\n",
        "\n",
        "  accuracy = mfit.history['accuracy']\n",
        "  val_accuracy = mfit.history['val_accuracy']\n",
        "\n",
        "  epochs = range(0,n_epochs)\n",
        "\n",
        "  plt.plot(epochs, loss, 'g', label='Training Loss')\n",
        "  plt.plot(epochs, val_loss, 'y', label='Validation Loss')\n",
        "\n",
        "  plt.plot(epochs, accuracy, 'b', label='Training Accuracy')\n",
        "  plt.plot(epochs, val_accuracy, 'r', label='Validation Accuracy')\n",
        "\n",
        "  plt.title('Model Loss and Accuracy')\n",
        "  plt.xticks(epochs)\n",
        "  plt.xlabel('Epochs')\n",
        "  plt.ylabel('Total')\n",
        "  plt.legend()\n",
        "  plt.show()\n",
        "\n",
        "plot_prediction(100, mfit)"
      ]
    },
    {
      "cell_type": "code",
      "execution_count": 71,
      "metadata": {
        "id": "htYq81tiPJyt",
        "colab": {
          "base_uri": "https://localhost:8080/"
        },
        "outputId": "81a4bf84-0012-4215-855b-d9baa415507c"
      },
      "outputs": [
        {
          "output_type": "stream",
          "name": "stdout",
          "text": [
            "79/79 [==============================] - 0s 2ms/step - loss: 316.7769 - accuracy: 0.2964\n",
            "[316.7768859863281, 0.2964000105857849]\n"
          ]
        }
      ],
      "source": [
        "# Resultados\n",
        "results = model.evaluate(X_test_gflat, test_labels, batch_size=128, verbose=1)\n",
        "print(results)"
      ]
    },
    {
      "cell_type": "markdown",
      "metadata": {
        "id": "c_nHNEeQazFQ"
      },
      "source": [
        "## 3. Red Neuronal Convolucional de una capa [2.5 puntos]\n",
        "\n",
        "A continuación implementaremos una red neuronal convolucional de una capa y realizaremos el entrenamiento y test sobre el dataset CIFAR.\n",
        "\n",
        "Se recomienda, a partir de este punto realizar el entrenamiento en una máquina con GPU (puede activarse en plataformas como Google Colab o Kaggle) con el fin de reducir los tiempos de entrenamiento."
      ]
    },
    {
      "cell_type": "markdown",
      "metadata": {
        "id": "SC6bFzqBc5Ji"
      },
      "source": [
        "### 3.1 Pre-procesado de datos\n",
        "\n",
        "El primer paso para entrenar una red neuronal consiste en pre-procesar los datos de entrenamiento y test para que cuadren con las dimensiones de la entrada de la red neuronal."
      ]
    },
    {
      "cell_type": "markdown",
      "metadata": {
        "id": "FqZIruO2c_Y7"
      },
      "source": [
        "<div style=\"background-color: #EDF7FF; border-color: #7C9DBF; border-left: 5px solid #7C9DBF; padding: 0.5em;\">\n",
        "<strong>Ejercicio [0,5 pts.]:</strong> Ajustar el tamaño de los datos de entrenamiento y test para que tengan 4 dimensiones (la última dimensión tiene que ser 1 para indicar que las imágenes están en escala de grises).\n",
        "</div>\n",
        "\n",
        "**Nota**: Utilizar el número de datos de entrenamiento y test y el tamaño de las imágenes."
      ]
    },
    {
      "cell_type": "code",
      "execution_count": 72,
      "metadata": {
        "id": "3m-PyKhRdJPd",
        "colab": {
          "base_uri": "https://localhost:8080/"
        },
        "outputId": "f7ccd701-e276-4499-a680-0191a3ebd8f9"
      },
      "outputs": [
        {
          "output_type": "execute_result",
          "data": {
            "text/plain": [
              "((50000, 32, 32, 1), (10000, 32, 32, 1))"
            ]
          },
          "metadata": {},
          "execution_count": 72
        }
      ],
      "source": [
        "X_train_g4dim = X_train_grey.reshape(50000,32,32,1)\n",
        "X_test_g4dim = X_test_grey.reshape(10000,32,32,1)\n",
        "X_train_g4dim.shape, X_test_g4dim.shape"
      ]
    },
    {
      "cell_type": "markdown",
      "metadata": {
        "id": "5N1TUTJDbjB2"
      },
      "source": [
        "### 3.2 Creación del modelo\n",
        "\n",
        "\n",
        "Se quiere implementar un modelo secuencial de Keras con las siguientes características:\n",
        "\n",
        "- La primera capa que añadiremos será una capa convolucional con las siguientes propiedades: \n",
        "    - Número de kernels (neuronas) de la primera capa oculta: 64 neuronas\n",
        "    - Tamaño de los kernels: 3x3\n",
        "    - Activación de los kernels: ReLU\n",
        "- A continuación añadiremos una capa Flatten para conectar la salida de la capa convolucional con la entrada de una capa densa.\n",
        "- Por último, añadiremos una capa densa de salida con el número de neuronas y función de activación adecuadas para llevar a cabo la clasificación.\n"
      ]
    },
    {
      "cell_type": "markdown",
      "metadata": {
        "id": "8NhWqEDUb3PG"
      },
      "source": [
        "<div style=\"background-color: #EDF7FF; border-color: #7C9DBF; border-left: 5px solid #7C9DBF; padding: 0.5em;\">\n",
        "<strong>Ejercicio [1,5 pts.]:</strong> Construir el modelo según los requerimientos indicados, además:\n",
        "<ul>\n",
        "<li>   Imprime el modelo para ver el número de parámetros a entrenar.\n",
        "\n",
        "<li>   Compila el modelo con la función de pérdida más adecuada, el optimizador ADAM y la métrica Accuracy.</li>\n",
        "\n",
        "<li>   Ajusta el modelo con 20 épocas y un tamaño del batch de 128. Mide el tiempo de entrenamiento.</li>\n",
        "\n",
        "<li>   Muestra las gráficas de accuracy y loss. En cada gráfica debe visualizarse la curva de entrenamiento y la de validación</li>\n",
        "<li>   Realiza la evaluación del modelo para mostrar la pérdida y la precisión final. </li>\n",
        "</div>\n",
        "</ul>"
      ]
    },
    {
      "cell_type": "code",
      "execution_count": 73,
      "metadata": {
        "id": "_Tel4AeVbu1B"
      },
      "outputs": [],
      "source": [
        "# Crear la CNN monocapa\n",
        "model = Sequential()\n",
        "\n",
        "model.add(Conv2D(64, (3, 3), activation='relu', input_shape=(32,32,1)))\n",
        "model.add(Flatten())\n",
        "\n",
        "# Capa softmax de clasificación con 10 valores posibles(etiqueas)\n",
        "model.add(Dense(10, activation=\"softmax\"))"
      ]
    },
    {
      "cell_type": "code",
      "execution_count": 74,
      "metadata": {
        "id": "wODD-SPddt1n"
      },
      "outputs": [],
      "source": [
        "# Compile\n",
        "model.compile(Adam(learning_rate=0.01),\n",
        "              \"categorical_crossentropy\",\n",
        "              metrics=['accuracy'])"
      ]
    },
    {
      "cell_type": "code",
      "execution_count": 75,
      "metadata": {
        "id": "Dp_qRTO0dz8C",
        "colab": {
          "base_uri": "https://localhost:8080/"
        },
        "outputId": "5c28681f-ce51-4aed-cd7a-886c07c3e3ff"
      },
      "outputs": [
        {
          "output_type": "stream",
          "name": "stdout",
          "text": [
            "Epoch 1/20\n",
            "391/391 [==============================] - 3s 7ms/step - loss: 23.6880 - accuracy: 0.1013 - val_loss: 2.3029 - val_accuracy: 0.1003\n",
            "Epoch 2/20\n",
            "391/391 [==============================] - 2s 6ms/step - loss: 2.3033 - accuracy: 0.0984 - val_loss: 2.3030 - val_accuracy: 0.1000\n",
            "Epoch 3/20\n",
            "391/391 [==============================] - 3s 6ms/step - loss: 2.3032 - accuracy: 0.0977 - val_loss: 2.3032 - val_accuracy: 0.1000\n",
            "Epoch 4/20\n",
            "391/391 [==============================] - 3s 6ms/step - loss: 2.3034 - accuracy: 0.0978 - val_loss: 2.3031 - val_accuracy: 0.1001\n",
            "Epoch 5/20\n",
            "391/391 [==============================] - 3s 6ms/step - loss: 2.3031 - accuracy: 0.0999 - val_loss: 2.3034 - val_accuracy: 0.1005\n",
            "Epoch 6/20\n",
            "391/391 [==============================] - 2s 6ms/step - loss: 2.3027 - accuracy: 0.1021 - val_loss: 2.3032 - val_accuracy: 0.0998\n",
            "Epoch 7/20\n",
            "391/391 [==============================] - 2s 6ms/step - loss: 2.3029 - accuracy: 0.1008 - val_loss: 2.3028 - val_accuracy: 0.1006\n",
            "Epoch 8/20\n",
            "391/391 [==============================] - 3s 6ms/step - loss: 2.3016 - accuracy: 0.1038 - val_loss: 2.3023 - val_accuracy: 0.1030\n",
            "Epoch 9/20\n",
            "391/391 [==============================] - 3s 6ms/step - loss: 2.2953 - accuracy: 0.1094 - val_loss: 2.3023 - val_accuracy: 0.1094\n",
            "Epoch 10/20\n",
            "391/391 [==============================] - 2s 6ms/step - loss: 2.2847 - accuracy: 0.1126 - val_loss: 2.3047 - val_accuracy: 0.1094\n",
            "Epoch 11/20\n",
            "391/391 [==============================] - 3s 6ms/step - loss: 2.2754 - accuracy: 0.1213 - val_loss: 2.3033 - val_accuracy: 0.1060\n",
            "Epoch 12/20\n",
            "391/391 [==============================] - 3s 6ms/step - loss: 2.2647 - accuracy: 0.1264 - val_loss: 2.3419 - val_accuracy: 0.1224\n",
            "Epoch 13/20\n",
            "391/391 [==============================] - 2s 6ms/step - loss: 2.2586 - accuracy: 0.1292 - val_loss: 2.3384 - val_accuracy: 0.1083\n",
            "Epoch 14/20\n",
            "391/391 [==============================] - 2s 6ms/step - loss: 2.2601 - accuracy: 0.1262 - val_loss: 2.3281 - val_accuracy: 0.1072\n",
            "Epoch 15/20\n",
            "391/391 [==============================] - 3s 6ms/step - loss: 2.2513 - accuracy: 0.1287 - val_loss: 2.4006 - val_accuracy: 0.1203\n",
            "Epoch 16/20\n",
            "391/391 [==============================] - 2s 6ms/step - loss: 2.2419 - accuracy: 0.1355 - val_loss: 2.4343 - val_accuracy: 0.1187\n",
            "Epoch 17/20\n",
            "391/391 [==============================] - 2s 6ms/step - loss: 2.2469 - accuracy: 0.1311 - val_loss: 2.4394 - val_accuracy: 0.1251\n",
            "Epoch 18/20\n",
            "391/391 [==============================] - 2s 6ms/step - loss: 2.2357 - accuracy: 0.1353 - val_loss: 2.3149 - val_accuracy: 0.1024\n",
            "Epoch 19/20\n",
            "391/391 [==============================] - 3s 6ms/step - loss: 2.2292 - accuracy: 0.1405 - val_loss: 2.3683 - val_accuracy: 0.1151\n",
            "Epoch 20/20\n",
            "391/391 [==============================] - 2s 6ms/step - loss: 2.2213 - accuracy: 0.1428 - val_loss: 2.4963 - val_accuracy: 0.1191\n",
            "El tiempo de entrenamiento de la red es 82.29076327199982 segundos.\n"
          ]
        }
      ],
      "source": [
        "# Entrenamiento del modelo\n",
        "epochs = 20\n",
        "t0 = timeit.default_timer()\n",
        "mfit = model.fit(X_train_g4dim, train_labels, epochs=epochs, batch_size=128,\n",
        "                    validation_data=(X_test_g4dim, test_labels))\n",
        "training_time = timeit.default_timer() - t0\n",
        "print(\"El tiempo de entrenamiento de la red es {} segundos.\".format(training_time))"
      ]
    },
    {
      "cell_type": "code",
      "execution_count": 76,
      "metadata": {
        "id": "nvdC8nq6gM1j",
        "colab": {
          "base_uri": "https://localhost:8080/",
          "height": 295
        },
        "outputId": "cb69e6bb-50d2-4fdc-e321-5e93b04b4026"
      },
      "outputs": [
        {
          "output_type": "display_data",
          "data": {
            "text/plain": [
              "<Figure size 432x288 with 1 Axes>"
            ],
            "image/png": "[encoded data removed]"
          },
          "metadata": {
            "needs_background": "light"
          }
        }
      ],
      "source": [
        "# Resultados\n",
        "plot_prediction(epochs, mfit)"
      ]
    },
    {
      "cell_type": "code",
      "source": [
        "results = model.evaluate(X_test_g4dim, test_labels, batch_size=128, verbose=1)\n",
        "print(results)"
      ],
      "metadata": {
        "colab": {
          "base_uri": "https://localhost:8080/"
        },
        "id": "4Z7d67dmva0x",
        "outputId": "2113a782-46ce-4c22-e842-3832ef204922"
      },
      "execution_count": 77,
      "outputs": [
        {
          "output_type": "stream",
          "name": "stdout",
          "text": [
            "79/79 [==============================] - 0s 4ms/step - loss: 2.4963 - accuracy: 0.1191\n",
            "[2.496349811553955, 0.11909999698400497]\n"
          ]
        }
      ]
    },
    {
      "cell_type": "markdown",
      "metadata": {
        "id": "3zvcOIXP2L00"
      },
      "source": [
        "### 3.3 GPU vs CPU\n"
      ]
    },
    {
      "cell_type": "markdown",
      "metadata": {
        "id": "xYYK99Qt2W-_"
      },
      "source": [
        "<div style=\"background-color: #EDF7FF; border-color: #7C9DBF; border-left: 5px solid #7C9DBF; padding: 0.5em;\">\n",
        "<strong>Ejercicio [0,5 pts.]:</strong> Volver a entrenar el modelo desde cero en un entorno sin GPU (sólo con CPU) y compara los tiempos de entrenamiento. Comenta los resultados.\n",
        "</div>"
      ]
    },
    {
      "cell_type": "markdown",
      "source": [
        "Con GPU: 95.6 segundos\n",
        "Sin GPU: 682.33 segundos"
      ],
      "metadata": {
        "id": "4Gs9dm_CoS81"
      }
    },
    {
      "cell_type": "markdown",
      "metadata": {
        "id": "vOVt54io2a9i"
      },
      "source": [
        "## 4. Deep CNN con Maxpooling y Dropout [2 puntos]"
      ]
    },
    {
      "cell_type": "markdown",
      "metadata": {
        "id": "Vu50DABS2a9i"
      },
      "source": [
        "En el ejercicio anterior hemos implementado una red convolucional de una sola capa. Ahora vamos a implementar una red neuronal convolucional profunda y veremos como esto se traduce en un mejor rendimiento en los resultados."
      ]
    },
    {
      "cell_type": "markdown",
      "metadata": {
        "id": "PtV-zHG2CObw"
      },
      "source": [
        "### 4.1 Creación del modelo\n"
      ]
    },
    {
      "cell_type": "markdown",
      "metadata": {
        "id": "stycEZSI2a9i"
      },
      "source": [
        "En este caso volveremos a utilizar el modelo `Sequential` de Keras que constará de: \n",
        "- Dos capas convolucionales de 32 kernels cada una de tamaño 3x3\n",
        "- Una capa de MaxPooling con un tamaño de 2x2\n",
        "- Una capa de Dropout con un rate=0.2\n",
        "- Dos capas convolucionales de 64 kernels cada una de tamaño 3x3\n",
        "- Una capa de MaxPooling con un tamaño de 2x2\n",
        "- Una capa de Dropout con un rate=0.2\n",
        "- Dos capas convolucionales de 128 kernels cada una de tamaño 3x3\n",
        "- Una capa de MaxPooling con un tamaño de 2x2\n",
        "- Una capa de Dropout con un rate=0.2\n",
        "- Todas las capas convolucionales con función de activación ReLU y padding = same\n",
        "- Una capa Flatten\n",
        "- Una capa densa con 128 neuronas y función de activación ReLU\n",
        "- Una capa de Dropout con un rate=0.2\n",
        "- Una capa densa de salida con el número de neuronas y la función de activación necesarias para llevar a cabo la clasificación"
      ]
    },
    {
      "cell_type": "markdown",
      "metadata": {
        "id": "WQlTGA8a2a9i"
      },
      "source": [
        "<div style=\"background-color: #EDF7FF; border-color: #7C9DBF; border-left: 5px solid #7C9DBF; padding: 0.5em;\">\n",
        "<strong>Ejercicio [1,5 pts.]:</strong> Construir el modelo según los requerimientos indicados, además:\n",
        "<ul>\n",
        "<li>   Imprime el modelo para ver el número de parámetros a entrenar.\n",
        "\n",
        "<li>   Compila el modelo con la función de pérdida más adecuada, el optimizador SGD (con learning rate de 0.001 y momentum de 0.9) y la métrica Accuracy.</li>\n",
        "\n",
        "<li>   Ajusta el modelo con 150 épocas y un tamaño del batch de 128. Mide el tiempo de entrenamiento.</li>\n",
        "\n",
        "<li>   Muestra las gráficas de accuracy y loss. En cada gráfica debe visualizarse la curva de entrenamiento y la de validación</li>\n",
        "<li>   Realiza la evaluación del modelo para mostrar la pérdida y la precisión final. </li>\n",
        "</div>\n",
        "</ul>\n",
        "</div>"
      ]
    },
    {
      "cell_type": "code",
      "execution_count": 78,
      "metadata": {
        "id": "RDywqmMYHaVr",
        "colab": {
          "base_uri": "https://localhost:8080/"
        },
        "outputId": "a4c5b34f-b21f-42a7-9aff-b3ca49123d0b"
      },
      "outputs": [
        {
          "output_type": "stream",
          "name": "stdout",
          "text": [
            "Model: \"sequential_7\"\n",
            "_________________________________________________________________\n",
            " Layer (type)                Output Shape              Param #   \n",
            "=================================================================\n",
            " conv2d_14 (Conv2D)          (None, 32, 32, 32)        320       \n",
            "                                                                 \n",
            " conv2d_15 (Conv2D)          (None, 32, 32, 32)        9248      \n",
            "                                                                 \n",
            " max_pooling2d_6 (MaxPooling  (None, 16, 16, 32)       0         \n",
            " 2D)                                                             \n",
            "                                                                 \n",
            " dropout_17 (Dropout)        (None, 16, 16, 32)        0         \n",
            "                                                                 \n",
            " conv2d_16 (Conv2D)          (None, 16, 16, 64)        18496     \n",
            "                                                                 \n",
            " conv2d_17 (Conv2D)          (None, 16, 16, 64)        36928     \n",
            "                                                                 \n",
            " max_pooling2d_7 (MaxPooling  (None, 8, 8, 64)         0         \n",
            " 2D)                                                             \n",
            "                                                                 \n",
            " dropout_18 (Dropout)        (None, 8, 8, 64)          0         \n",
            "                                                                 \n",
            " conv2d_18 (Conv2D)          (None, 8, 8, 128)         73856     \n",
            "                                                                 \n",
            " conv2d_19 (Conv2D)          (None, 8, 8, 128)         147584    \n",
            "                                                                 \n",
            " max_pooling2d_8 (MaxPooling  (None, 4, 4, 128)        0         \n",
            " 2D)                                                             \n",
            "                                                                 \n",
            " dropout_19 (Dropout)        (None, 4, 4, 128)         0         \n",
            "                                                                 \n",
            " flatten_4 (Flatten)         (None, 2048)              0         \n",
            "                                                                 \n",
            " dense_27 (Dense)            (None, 128)               262272    \n",
            "                                                                 \n",
            " dropout_20 (Dropout)        (None, 128)               0         \n",
            "                                                                 \n",
            " dense_28 (Dense)            (None, 10)                1290      \n",
            "                                                                 \n",
            "=================================================================\n",
            "Total params: 549,994\n",
            "Trainable params: 549,994\n",
            "Non-trainable params: 0\n",
            "_________________________________________________________________\n"
          ]
        }
      ],
      "source": [
        "# Crear la CNN profunda\n",
        "model = Sequential()\n",
        "\n",
        "model.add(Conv2D(32, (3, 3), activation='relu', padding=\"same\", input_shape=(32,32,1)))\n",
        "model.add(Conv2D(32, (3, 3), activation='relu', padding=\"same\"))\n",
        "model.add(MaxPooling2D((2, 2)))\n",
        "model.add(Dropout(.2))\n",
        "\n",
        "model.add(Conv2D(64, (3, 3), activation='relu', padding=\"same\"))\n",
        "model.add(Conv2D(64, (3, 3), activation='relu', padding=\"same\"))\n",
        "model.add(MaxPooling2D((2, 2)))\n",
        "model.add(Dropout(.2))\n",
        "\n",
        "model.add(Conv2D(128, (3, 3), activation='relu', padding=\"same\"))\n",
        "model.add(Conv2D(128, (3, 3), activation='relu', padding=\"same\"))\n",
        "model.add(MaxPooling2D((2, 2)))\n",
        "model.add(Dropout(.2))\n",
        "\n",
        "model.add(Flatten())\n",
        "model.add(Dense(128, activation='relu'))\n",
        "model.add(Dropout(.2))\n",
        "\n",
        "# Capa softmax de clasificación con 10 valores posibles(etiqueas)\n",
        "model.add(Dense(10, activation=\"softmax\"))\n",
        "\n",
        "model.summary()"
      ]
    },
    {
      "cell_type": "code",
      "execution_count": 79,
      "metadata": {
        "id": "xMjSPOL8Ht1K"
      },
      "outputs": [],
      "source": [
        "# Compile\n",
        "model.compile(SGD(learning_rate=0.001, momentum=0.9),\n",
        "              \"categorical_crossentropy\",\n",
        "              metrics=['accuracy'])"
      ]
    },
    {
      "cell_type": "code",
      "execution_count": 80,
      "metadata": {
        "id": "u5nTBdmtIAB_",
        "colab": {
          "base_uri": "https://localhost:8080/"
        },
        "outputId": "e6e5d097-0848-4612-d9bd-0fda19dbb837"
      },
      "outputs": [
        {
          "output_type": "stream",
          "name": "stdout",
          "text": [
            "Epoch 1/150\n",
            "391/391 [==============================] - 6s 14ms/step - loss: 2.2452 - accuracy: 0.1653 - val_loss: 1.9575 - val_accuracy: 0.2908\n",
            "Epoch 2/150\n",
            "391/391 [==============================] - 5s 14ms/step - loss: 1.9308 - accuracy: 0.2907 - val_loss: 1.7824 - val_accuracy: 0.3725\n",
            "Epoch 3/150\n",
            "391/391 [==============================] - 5s 14ms/step - loss: 1.7807 - accuracy: 0.3511 - val_loss: 1.6466 - val_accuracy: 0.4141\n",
            "Epoch 4/150\n",
            "391/391 [==============================] - 5s 13ms/step - loss: 1.6573 - accuracy: 0.4006 - val_loss: 1.5126 - val_accuracy: 0.4665\n",
            "Epoch 5/150\n",
            "391/391 [==============================] - 5s 14ms/step - loss: 1.5454 - accuracy: 0.4471 - val_loss: 1.4331 - val_accuracy: 0.4924\n",
            "Epoch 6/150\n",
            "391/391 [==============================] - 5s 13ms/step - loss: 1.4528 - accuracy: 0.4864 - val_loss: 1.3020 - val_accuracy: 0.5375\n",
            "Epoch 7/150\n",
            "391/391 [==============================] - 6s 14ms/step - loss: 1.3590 - accuracy: 0.5215 - val_loss: 1.2212 - val_accuracy: 0.5666\n",
            "Epoch 8/150\n",
            "391/391 [==============================] - 5s 14ms/step - loss: 1.2861 - accuracy: 0.5461 - val_loss: 1.1665 - val_accuracy: 0.5917\n",
            "Epoch 9/150\n",
            "391/391 [==============================] - 5s 13ms/step - loss: 1.2261 - accuracy: 0.5699 - val_loss: 1.1196 - val_accuracy: 0.6064\n",
            "Epoch 10/150\n",
            "391/391 [==============================] - 5s 13ms/step - loss: 1.1648 - accuracy: 0.5909 - val_loss: 1.1149 - val_accuracy: 0.6059\n",
            "Epoch 11/150\n",
            "391/391 [==============================] - 6s 14ms/step - loss: 1.1197 - accuracy: 0.6079 - val_loss: 1.0150 - val_accuracy: 0.6446\n",
            "Epoch 12/150\n",
            "391/391 [==============================] - 5s 14ms/step - loss: 1.0796 - accuracy: 0.6198 - val_loss: 1.0047 - val_accuracy: 0.6542\n",
            "Epoch 13/150\n",
            "391/391 [==============================] - 6s 14ms/step - loss: 1.0474 - accuracy: 0.6318 - val_loss: 0.9675 - val_accuracy: 0.6611\n",
            "Epoch 14/150\n",
            "391/391 [==============================] - 5s 13ms/step - loss: 1.0148 - accuracy: 0.6469 - val_loss: 0.9596 - val_accuracy: 0.6645\n",
            "Epoch 15/150\n",
            "391/391 [==============================] - 5s 13ms/step - loss: 0.9887 - accuracy: 0.6568 - val_loss: 0.9018 - val_accuracy: 0.6894\n",
            "Epoch 16/150\n",
            "391/391 [==============================] - 5s 14ms/step - loss: 0.9552 - accuracy: 0.6658 - val_loss: 0.8934 - val_accuracy: 0.6923\n",
            "Epoch 17/150\n",
            "391/391 [==============================] - 5s 14ms/step - loss: 0.9373 - accuracy: 0.6743 - val_loss: 0.8852 - val_accuracy: 0.6950\n",
            "Epoch 18/150\n",
            "391/391 [==============================] - 6s 14ms/step - loss: 0.9180 - accuracy: 0.6804 - val_loss: 0.8495 - val_accuracy: 0.7082\n",
            "Epoch 19/150\n",
            "391/391 [==============================] - 6s 14ms/step - loss: 0.8891 - accuracy: 0.6898 - val_loss: 0.8398 - val_accuracy: 0.7081\n",
            "Epoch 20/150\n",
            "391/391 [==============================] - 5s 13ms/step - loss: 0.8728 - accuracy: 0.6952 - val_loss: 0.8402 - val_accuracy: 0.7125\n",
            "Epoch 21/150\n",
            "391/391 [==============================] - 6s 14ms/step - loss: 0.8541 - accuracy: 0.7018 - val_loss: 0.8310 - val_accuracy: 0.7176\n",
            "Epoch 22/150\n",
            "391/391 [==============================] - 5s 14ms/step - loss: 0.8389 - accuracy: 0.7055 - val_loss: 0.7959 - val_accuracy: 0.7242\n",
            "Epoch 23/150\n",
            "391/391 [==============================] - 5s 13ms/step - loss: 0.8265 - accuracy: 0.7101 - val_loss: 0.7954 - val_accuracy: 0.7236\n",
            "Epoch 24/150\n",
            "391/391 [==============================] - 5s 14ms/step - loss: 0.8088 - accuracy: 0.7211 - val_loss: 0.7850 - val_accuracy: 0.7332\n",
            "Epoch 25/150\n",
            "391/391 [==============================] - 6s 14ms/step - loss: 0.7888 - accuracy: 0.7278 - val_loss: 0.7689 - val_accuracy: 0.7390\n",
            "Epoch 26/150\n",
            "391/391 [==============================] - 6s 14ms/step - loss: 0.7787 - accuracy: 0.7285 - val_loss: 0.7477 - val_accuracy: 0.7451\n",
            "Epoch 27/150\n",
            "391/391 [==============================] - 6s 14ms/step - loss: 0.7644 - accuracy: 0.7332 - val_loss: 0.7430 - val_accuracy: 0.7463\n",
            "Epoch 28/150\n",
            "391/391 [==============================] - 6s 14ms/step - loss: 0.7533 - accuracy: 0.7377 - val_loss: 0.7592 - val_accuracy: 0.7417\n",
            "Epoch 29/150\n",
            "391/391 [==============================] - 5s 14ms/step - loss: 0.7375 - accuracy: 0.7426 - val_loss: 0.7498 - val_accuracy: 0.7487\n",
            "Epoch 30/150\n",
            "391/391 [==============================] - 6s 14ms/step - loss: 0.7275 - accuracy: 0.7466 - val_loss: 0.7509 - val_accuracy: 0.7470\n",
            "Epoch 31/150\n",
            "391/391 [==============================] - 5s 14ms/step - loss: 0.7128 - accuracy: 0.7521 - val_loss: 0.7509 - val_accuracy: 0.7470\n",
            "Epoch 32/150\n",
            "391/391 [==============================] - 5s 13ms/step - loss: 0.7110 - accuracy: 0.7532 - val_loss: 0.7068 - val_accuracy: 0.7586\n",
            "Epoch 33/150\n",
            "391/391 [==============================] - 5s 13ms/step - loss: 0.6947 - accuracy: 0.7560 - val_loss: 0.7574 - val_accuracy: 0.7414\n",
            "Epoch 34/150\n",
            "391/391 [==============================] - 5s 14ms/step - loss: 0.6853 - accuracy: 0.7614 - val_loss: 0.7034 - val_accuracy: 0.7604\n",
            "Epoch 35/150\n",
            "391/391 [==============================] - 6s 14ms/step - loss: 0.6756 - accuracy: 0.7655 - val_loss: 0.6929 - val_accuracy: 0.7651\n",
            "Epoch 36/150\n",
            "391/391 [==============================] - 5s 14ms/step - loss: 0.6649 - accuracy: 0.7676 - val_loss: 0.6863 - val_accuracy: 0.7690\n",
            "Epoch 37/150\n",
            "391/391 [==============================] - 5s 14ms/step - loss: 0.6535 - accuracy: 0.7732 - val_loss: 0.7068 - val_accuracy: 0.7662\n",
            "Epoch 38/150\n",
            "391/391 [==============================] - 6s 14ms/step - loss: 0.6376 - accuracy: 0.7786 - val_loss: 0.6677 - val_accuracy: 0.7736\n",
            "Epoch 39/150\n",
            "391/391 [==============================] - 5s 14ms/step - loss: 0.6363 - accuracy: 0.7779 - val_loss: 0.6621 - val_accuracy: 0.7784\n",
            "Epoch 40/150\n",
            "391/391 [==============================] - 5s 14ms/step - loss: 0.6215 - accuracy: 0.7824 - val_loss: 0.6623 - val_accuracy: 0.7766\n",
            "Epoch 41/150\n",
            "391/391 [==============================] - 5s 14ms/step - loss: 0.6169 - accuracy: 0.7852 - val_loss: 0.6928 - val_accuracy: 0.7732\n",
            "Epoch 42/150\n",
            "391/391 [==============================] - 6s 14ms/step - loss: 0.6080 - accuracy: 0.7880 - val_loss: 0.6568 - val_accuracy: 0.7832\n",
            "Epoch 43/150\n",
            "391/391 [==============================] - 6s 14ms/step - loss: 0.6026 - accuracy: 0.7894 - val_loss: 0.6564 - val_accuracy: 0.7844\n",
            "Epoch 44/150\n",
            "391/391 [==============================] - 5s 14ms/step - loss: 0.5942 - accuracy: 0.7922 - val_loss: 0.6465 - val_accuracy: 0.7894\n",
            "Epoch 45/150\n",
            "391/391 [==============================] - 6s 14ms/step - loss: 0.5862 - accuracy: 0.7942 - val_loss: 0.6533 - val_accuracy: 0.7866\n",
            "Epoch 46/150\n",
            "391/391 [==============================] - 6s 14ms/step - loss: 0.5740 - accuracy: 0.8006 - val_loss: 0.6451 - val_accuracy: 0.7852\n",
            "Epoch 47/150\n",
            "391/391 [==============================] - 6s 14ms/step - loss: 0.5694 - accuracy: 0.8023 - val_loss: 0.6251 - val_accuracy: 0.7916\n",
            "Epoch 48/150\n",
            "391/391 [==============================] - 5s 14ms/step - loss: 0.5559 - accuracy: 0.8056 - val_loss: 0.6388 - val_accuracy: 0.7866\n",
            "Epoch 49/150\n",
            "391/391 [==============================] - 5s 14ms/step - loss: 0.5556 - accuracy: 0.8067 - val_loss: 0.6344 - val_accuracy: 0.7891\n",
            "Epoch 50/150\n",
            "391/391 [==============================] - 6s 14ms/step - loss: 0.5469 - accuracy: 0.8068 - val_loss: 0.6425 - val_accuracy: 0.7883\n",
            "Epoch 51/150\n",
            "391/391 [==============================] - 5s 14ms/step - loss: 0.5384 - accuracy: 0.8104 - val_loss: 0.6383 - val_accuracy: 0.7865\n",
            "Epoch 52/150\n",
            "391/391 [==============================] - 6s 14ms/step - loss: 0.5315 - accuracy: 0.8133 - val_loss: 0.6443 - val_accuracy: 0.7883\n",
            "Epoch 53/150\n",
            "391/391 [==============================] - 6s 14ms/step - loss: 0.5244 - accuracy: 0.8153 - val_loss: 0.6159 - val_accuracy: 0.7940\n",
            "Epoch 54/150\n",
            "391/391 [==============================] - 6s 14ms/step - loss: 0.5201 - accuracy: 0.8180 - val_loss: 0.6337 - val_accuracy: 0.7933\n",
            "Epoch 55/150\n",
            "391/391 [==============================] - 6s 14ms/step - loss: 0.5090 - accuracy: 0.8223 - val_loss: 0.6349 - val_accuracy: 0.7936\n",
            "Epoch 56/150\n",
            "391/391 [==============================] - 6s 14ms/step - loss: 0.5033 - accuracy: 0.8226 - val_loss: 0.6300 - val_accuracy: 0.7958\n",
            "Epoch 57/150\n",
            "391/391 [==============================] - 5s 14ms/step - loss: 0.4990 - accuracy: 0.8240 - val_loss: 0.6407 - val_accuracy: 0.7865\n",
            "Epoch 58/150\n",
            "391/391 [==============================] - 5s 14ms/step - loss: 0.4985 - accuracy: 0.8250 - val_loss: 0.6595 - val_accuracy: 0.7957\n",
            "Epoch 59/150\n",
            "391/391 [==============================] - 6s 14ms/step - loss: 0.4872 - accuracy: 0.8271 - val_loss: 0.6372 - val_accuracy: 0.7908\n",
            "Epoch 60/150\n",
            "391/391 [==============================] - 5s 14ms/step - loss: 0.4815 - accuracy: 0.8295 - val_loss: 0.6162 - val_accuracy: 0.7986\n",
            "Epoch 61/150\n",
            "391/391 [==============================] - 6s 14ms/step - loss: 0.4815 - accuracy: 0.8303 - val_loss: 0.6322 - val_accuracy: 0.7961\n",
            "Epoch 62/150\n",
            "391/391 [==============================] - 5s 14ms/step - loss: 0.4696 - accuracy: 0.8356 - val_loss: 0.6093 - val_accuracy: 0.8051\n",
            "Epoch 63/150\n",
            "391/391 [==============================] - 5s 14ms/step - loss: 0.4610 - accuracy: 0.8357 - val_loss: 0.6428 - val_accuracy: 0.7956\n",
            "Epoch 64/150\n",
            "391/391 [==============================] - 5s 14ms/step - loss: 0.4605 - accuracy: 0.8360 - val_loss: 0.6048 - val_accuracy: 0.8047\n",
            "Epoch 65/150\n",
            "391/391 [==============================] - 5s 14ms/step - loss: 0.4484 - accuracy: 0.8426 - val_loss: 0.6179 - val_accuracy: 0.8006\n",
            "Epoch 66/150\n",
            "391/391 [==============================] - 5s 14ms/step - loss: 0.4386 - accuracy: 0.8445 - val_loss: 0.6465 - val_accuracy: 0.7947\n",
            "Epoch 67/150\n",
            "391/391 [==============================] - 5s 14ms/step - loss: 0.4436 - accuracy: 0.8430 - val_loss: 0.6150 - val_accuracy: 0.8037\n",
            "Epoch 68/150\n",
            "391/391 [==============================] - 5s 14ms/step - loss: 0.4391 - accuracy: 0.8440 - val_loss: 0.6072 - val_accuracy: 0.8078\n",
            "Epoch 69/150\n",
            "391/391 [==============================] - 6s 14ms/step - loss: 0.4334 - accuracy: 0.8450 - val_loss: 0.6411 - val_accuracy: 0.8008\n",
            "Epoch 70/150\n",
            "391/391 [==============================] - 5s 14ms/step - loss: 0.4312 - accuracy: 0.8468 - val_loss: 0.6382 - val_accuracy: 0.7976\n",
            "Epoch 71/150\n",
            "391/391 [==============================] - 5s 14ms/step - loss: 0.4262 - accuracy: 0.8473 - val_loss: 0.6168 - val_accuracy: 0.8050\n",
            "Epoch 72/150\n",
            "391/391 [==============================] - 6s 14ms/step - loss: 0.4229 - accuracy: 0.8492 - val_loss: 0.6297 - val_accuracy: 0.8030\n",
            "Epoch 73/150\n",
            "391/391 [==============================] - 5s 14ms/step - loss: 0.4123 - accuracy: 0.8539 - val_loss: 0.6463 - val_accuracy: 0.8012\n",
            "Epoch 74/150\n",
            "391/391 [==============================] - 5s 14ms/step - loss: 0.4085 - accuracy: 0.8559 - val_loss: 0.6309 - val_accuracy: 0.8022\n",
            "Epoch 75/150\n",
            "391/391 [==============================] - 6s 14ms/step - loss: 0.4016 - accuracy: 0.8575 - val_loss: 0.6036 - val_accuracy: 0.8080\n",
            "Epoch 76/150\n",
            "391/391 [==============================] - 5s 14ms/step - loss: 0.3973 - accuracy: 0.8590 - val_loss: 0.6389 - val_accuracy: 0.7996\n",
            "Epoch 77/150\n",
            "391/391 [==============================] - 6s 14ms/step - loss: 0.3907 - accuracy: 0.8619 - val_loss: 0.6112 - val_accuracy: 0.8114\n",
            "Epoch 78/150\n",
            "391/391 [==============================] - 6s 14ms/step - loss: 0.3894 - accuracy: 0.8605 - val_loss: 0.6360 - val_accuracy: 0.8087\n",
            "Epoch 79/150\n",
            "391/391 [==============================] - 6s 14ms/step - loss: 0.3872 - accuracy: 0.8626 - val_loss: 0.6122 - val_accuracy: 0.8118\n",
            "Epoch 80/150\n",
            "391/391 [==============================] - 6s 14ms/step - loss: 0.3818 - accuracy: 0.8640 - val_loss: 0.6078 - val_accuracy: 0.8081\n",
            "Epoch 81/150\n",
            "391/391 [==============================] - 5s 14ms/step - loss: 0.3808 - accuracy: 0.8650 - val_loss: 0.6287 - val_accuracy: 0.8088\n",
            "Epoch 82/150\n",
            "391/391 [==============================] - 6s 14ms/step - loss: 0.3795 - accuracy: 0.8651 - val_loss: 0.6231 - val_accuracy: 0.8110\n",
            "Epoch 83/150\n",
            "391/391 [==============================] - 6s 14ms/step - loss: 0.3686 - accuracy: 0.8701 - val_loss: 0.6192 - val_accuracy: 0.8021\n",
            "Epoch 84/150\n",
            "391/391 [==============================] - 6s 14ms/step - loss: 0.3652 - accuracy: 0.8684 - val_loss: 0.6433 - val_accuracy: 0.8062\n",
            "Epoch 85/150\n",
            "391/391 [==============================] - 6s 14ms/step - loss: 0.3613 - accuracy: 0.8716 - val_loss: 0.6357 - val_accuracy: 0.8056\n",
            "Epoch 86/150\n",
            "391/391 [==============================] - 6s 14ms/step - loss: 0.3563 - accuracy: 0.8724 - val_loss: 0.6089 - val_accuracy: 0.8097\n",
            "Epoch 87/150\n",
            "391/391 [==============================] - 5s 14ms/step - loss: 0.3529 - accuracy: 0.8734 - val_loss: 0.6425 - val_accuracy: 0.8110\n",
            "Epoch 88/150\n",
            "391/391 [==============================] - 5s 14ms/step - loss: 0.3554 - accuracy: 0.8725 - val_loss: 0.6190 - val_accuracy: 0.8125\n",
            "Epoch 89/150\n",
            "391/391 [==============================] - 5s 14ms/step - loss: 0.3433 - accuracy: 0.8783 - val_loss: 0.6208 - val_accuracy: 0.8139\n",
            "Epoch 90/150\n",
            "391/391 [==============================] - 5s 14ms/step - loss: 0.3396 - accuracy: 0.8792 - val_loss: 0.6297 - val_accuracy: 0.8116\n",
            "Epoch 91/150\n",
            "391/391 [==============================] - 5s 14ms/step - loss: 0.3388 - accuracy: 0.8790 - val_loss: 0.6418 - val_accuracy: 0.8116\n",
            "Epoch 92/150\n",
            "391/391 [==============================] - 5s 14ms/step - loss: 0.3300 - accuracy: 0.8824 - val_loss: 0.6562 - val_accuracy: 0.8122\n",
            "Epoch 93/150\n",
            "391/391 [==============================] - 6s 14ms/step - loss: 0.3295 - accuracy: 0.8832 - val_loss: 0.6313 - val_accuracy: 0.8120\n",
            "Epoch 94/150\n",
            "391/391 [==============================] - 6s 14ms/step - loss: 0.3322 - accuracy: 0.8799 - val_loss: 0.6275 - val_accuracy: 0.8113\n",
            "Epoch 95/150\n",
            "391/391 [==============================] - 5s 14ms/step - loss: 0.3327 - accuracy: 0.8801 - val_loss: 0.6481 - val_accuracy: 0.8131\n",
            "Epoch 96/150\n",
            "391/391 [==============================] - 5s 14ms/step - loss: 0.3269 - accuracy: 0.8825 - val_loss: 0.6777 - val_accuracy: 0.8008\n",
            "Epoch 97/150\n",
            "391/391 [==============================] - 5s 14ms/step - loss: 0.3219 - accuracy: 0.8842 - val_loss: 0.6421 - val_accuracy: 0.8088\n",
            "Epoch 98/150\n",
            "391/391 [==============================] - 6s 14ms/step - loss: 0.3174 - accuracy: 0.8865 - val_loss: 0.6219 - val_accuracy: 0.8130\n",
            "Epoch 99/150\n",
            "391/391 [==============================] - 5s 14ms/step - loss: 0.3117 - accuracy: 0.8872 - val_loss: 0.6432 - val_accuracy: 0.8165\n",
            "Epoch 100/150\n",
            "391/391 [==============================] - 5s 14ms/step - loss: 0.3088 - accuracy: 0.8895 - val_loss: 0.6239 - val_accuracy: 0.8164\n",
            "Epoch 101/150\n",
            "391/391 [==============================] - 5s 14ms/step - loss: 0.3097 - accuracy: 0.8901 - val_loss: 0.6301 - val_accuracy: 0.8161\n",
            "Epoch 102/150\n",
            "391/391 [==============================] - 5s 14ms/step - loss: 0.3042 - accuracy: 0.8919 - val_loss: 0.6610 - val_accuracy: 0.8162\n",
            "Epoch 103/150\n",
            "391/391 [==============================] - 5s 14ms/step - loss: 0.3016 - accuracy: 0.8921 - val_loss: 0.6506 - val_accuracy: 0.8145\n",
            "Epoch 104/150\n",
            "391/391 [==============================] - 6s 14ms/step - loss: 0.3080 - accuracy: 0.8895 - val_loss: 0.6776 - val_accuracy: 0.8111\n",
            "Epoch 105/150\n",
            "391/391 [==============================] - 6s 14ms/step - loss: 0.3023 - accuracy: 0.8914 - val_loss: 0.6451 - val_accuracy: 0.8129\n",
            "Epoch 106/150\n",
            "391/391 [==============================] - 5s 14ms/step - loss: 0.2940 - accuracy: 0.8959 - val_loss: 0.6510 - val_accuracy: 0.8170\n",
            "Epoch 107/150\n",
            "391/391 [==============================] - 5s 14ms/step - loss: 0.2948 - accuracy: 0.8953 - val_loss: 0.6317 - val_accuracy: 0.8182\n",
            "Epoch 108/150\n",
            "391/391 [==============================] - 6s 14ms/step - loss: 0.2959 - accuracy: 0.8926 - val_loss: 0.6518 - val_accuracy: 0.8152\n",
            "Epoch 109/150\n",
            "391/391 [==============================] - 5s 14ms/step - loss: 0.2895 - accuracy: 0.8969 - val_loss: 0.6448 - val_accuracy: 0.8157\n",
            "Epoch 110/150\n",
            "391/391 [==============================] - 5s 14ms/step - loss: 0.2846 - accuracy: 0.8969 - val_loss: 0.6434 - val_accuracy: 0.8165\n",
            "Epoch 111/150\n",
            "391/391 [==============================] - 6s 14ms/step - loss: 0.2802 - accuracy: 0.8992 - val_loss: 0.6485 - val_accuracy: 0.8137\n",
            "Epoch 112/150\n",
            "391/391 [==============================] - 5s 14ms/step - loss: 0.2722 - accuracy: 0.9026 - val_loss: 0.7276 - val_accuracy: 0.8045\n",
            "Epoch 113/150\n",
            "391/391 [==============================] - 5s 14ms/step - loss: 0.2743 - accuracy: 0.9012 - val_loss: 0.7099 - val_accuracy: 0.8098\n",
            "Epoch 114/150\n",
            "391/391 [==============================] - 6s 14ms/step - loss: 0.2734 - accuracy: 0.9030 - val_loss: 0.6575 - val_accuracy: 0.8179\n",
            "Epoch 115/150\n",
            "391/391 [==============================] - 6s 14ms/step - loss: 0.2721 - accuracy: 0.9029 - val_loss: 0.6561 - val_accuracy: 0.8154\n",
            "Epoch 116/150\n",
            "391/391 [==============================] - 6s 15ms/step - loss: 0.2772 - accuracy: 0.9019 - val_loss: 0.6677 - val_accuracy: 0.8120\n",
            "Epoch 117/150\n",
            "391/391 [==============================] - 5s 14ms/step - loss: 0.2702 - accuracy: 0.9033 - val_loss: 0.6866 - val_accuracy: 0.8133\n",
            "Epoch 118/150\n",
            "391/391 [==============================] - 5s 14ms/step - loss: 0.2624 - accuracy: 0.9069 - val_loss: 0.6627 - val_accuracy: 0.8158\n",
            "Epoch 119/150\n",
            "391/391 [==============================] - 5s 14ms/step - loss: 0.2665 - accuracy: 0.9044 - val_loss: 0.6516 - val_accuracy: 0.8167\n",
            "Epoch 120/150\n",
            "391/391 [==============================] - 6s 15ms/step - loss: 0.2603 - accuracy: 0.9069 - val_loss: 0.6696 - val_accuracy: 0.8156\n",
            "Epoch 121/150\n",
            "391/391 [==============================] - 5s 14ms/step - loss: 0.2572 - accuracy: 0.9083 - val_loss: 0.6791 - val_accuracy: 0.8145\n",
            "Epoch 122/150\n",
            "391/391 [==============================] - 5s 14ms/step - loss: 0.2551 - accuracy: 0.9078 - val_loss: 0.6924 - val_accuracy: 0.8158\n",
            "Epoch 123/150\n",
            "391/391 [==============================] - 5s 14ms/step - loss: 0.2567 - accuracy: 0.9087 - val_loss: 0.6601 - val_accuracy: 0.8167\n",
            "Epoch 124/150\n",
            "391/391 [==============================] - 6s 14ms/step - loss: 0.2493 - accuracy: 0.9095 - val_loss: 0.6850 - val_accuracy: 0.8152\n",
            "Epoch 125/150\n",
            "391/391 [==============================] - 6s 14ms/step - loss: 0.2474 - accuracy: 0.9122 - val_loss: 0.6750 - val_accuracy: 0.8179\n",
            "Epoch 126/150\n",
            "391/391 [==============================] - 5s 14ms/step - loss: 0.2470 - accuracy: 0.9110 - val_loss: 0.6648 - val_accuracy: 0.8199\n",
            "Epoch 127/150\n",
            "391/391 [==============================] - 6s 14ms/step - loss: 0.2459 - accuracy: 0.9114 - val_loss: 0.6681 - val_accuracy: 0.8139\n",
            "Epoch 128/150\n",
            "391/391 [==============================] - 5s 14ms/step - loss: 0.2452 - accuracy: 0.9126 - val_loss: 0.6580 - val_accuracy: 0.8174\n",
            "Epoch 129/150\n",
            "391/391 [==============================] - 6s 14ms/step - loss: 0.2413 - accuracy: 0.9140 - val_loss: 0.6758 - val_accuracy: 0.8201\n",
            "Epoch 130/150\n",
            "391/391 [==============================] - 5s 14ms/step - loss: 0.2385 - accuracy: 0.9157 - val_loss: 0.6741 - val_accuracy: 0.8222\n",
            "Epoch 131/150\n",
            "391/391 [==============================] - 5s 14ms/step - loss: 0.2333 - accuracy: 0.9157 - val_loss: 0.7159 - val_accuracy: 0.8153\n",
            "Epoch 132/150\n",
            "391/391 [==============================] - 6s 14ms/step - loss: 0.2375 - accuracy: 0.9150 - val_loss: 0.6686 - val_accuracy: 0.8177\n",
            "Epoch 133/150\n",
            "391/391 [==============================] - 6s 14ms/step - loss: 0.2307 - accuracy: 0.9171 - val_loss: 0.6746 - val_accuracy: 0.8180\n",
            "Epoch 134/150\n",
            "391/391 [==============================] - 5s 14ms/step - loss: 0.2347 - accuracy: 0.9167 - val_loss: 0.6852 - val_accuracy: 0.8176\n",
            "Epoch 135/150\n",
            "391/391 [==============================] - 6s 14ms/step - loss: 0.2289 - accuracy: 0.9186 - val_loss: 0.6785 - val_accuracy: 0.8156\n",
            "Epoch 136/150\n",
            "391/391 [==============================] - 6s 14ms/step - loss: 0.2289 - accuracy: 0.9173 - val_loss: 0.6926 - val_accuracy: 0.8166\n",
            "Epoch 137/150\n",
            "391/391 [==============================] - 6s 14ms/step - loss: 0.2204 - accuracy: 0.9214 - val_loss: 0.6798 - val_accuracy: 0.8188\n",
            "Epoch 138/150\n",
            "391/391 [==============================] - 5s 14ms/step - loss: 0.2194 - accuracy: 0.9221 - val_loss: 0.6956 - val_accuracy: 0.8148\n",
            "Epoch 139/150\n",
            "391/391 [==============================] - 5s 14ms/step - loss: 0.2222 - accuracy: 0.9210 - val_loss: 0.7160 - val_accuracy: 0.8163\n",
            "Epoch 140/150\n",
            "391/391 [==============================] - 5s 14ms/step - loss: 0.2246 - accuracy: 0.9191 - val_loss: 0.7014 - val_accuracy: 0.8164\n",
            "Epoch 141/150\n",
            "391/391 [==============================] - 5s 14ms/step - loss: 0.2205 - accuracy: 0.9215 - val_loss: 0.7045 - val_accuracy: 0.8170\n",
            "Epoch 142/150\n",
            "391/391 [==============================] - 5s 14ms/step - loss: 0.2181 - accuracy: 0.9219 - val_loss: 0.7105 - val_accuracy: 0.8206\n",
            "Epoch 143/150\n",
            "391/391 [==============================] - 6s 14ms/step - loss: 0.2163 - accuracy: 0.9232 - val_loss: 0.6807 - val_accuracy: 0.8216\n",
            "Epoch 144/150\n",
            "391/391 [==============================] - 6s 15ms/step - loss: 0.2146 - accuracy: 0.9234 - val_loss: 0.6932 - val_accuracy: 0.8168\n",
            "Epoch 145/150\n",
            "391/391 [==============================] - 5s 14ms/step - loss: 0.2093 - accuracy: 0.9260 - val_loss: 0.7371 - val_accuracy: 0.8166\n",
            "Epoch 146/150\n",
            "391/391 [==============================] - 6s 14ms/step - loss: 0.2104 - accuracy: 0.9238 - val_loss: 0.7128 - val_accuracy: 0.8169\n",
            "Epoch 147/150\n",
            "391/391 [==============================] - 6s 14ms/step - loss: 0.2072 - accuracy: 0.9259 - val_loss: 0.7140 - val_accuracy: 0.8167\n",
            "Epoch 148/150\n",
            "391/391 [==============================] - 5s 14ms/step - loss: 0.2045 - accuracy: 0.9275 - val_loss: 0.7216 - val_accuracy: 0.8178\n",
            "Epoch 149/150\n",
            "391/391 [==============================] - 6s 14ms/step - loss: 0.2062 - accuracy: 0.9278 - val_loss: 0.7180 - val_accuracy: 0.8191\n",
            "Epoch 150/150\n",
            "391/391 [==============================] - 5s 14ms/step - loss: 0.2060 - accuracy: 0.9274 - val_loss: 0.6967 - val_accuracy: 0.8163\n",
            "El tiempo de entrenamiento de la red es 862.5439723310001 segundos.\n"
          ]
        }
      ],
      "source": [
        "# Entrenamiento del modelo\n",
        "epochs = 150\n",
        "t0 = timeit.default_timer()\n",
        "mfit = model.fit(X_train_g4dim, train_labels, epochs=epochs, batch_size=128,\n",
        "                    validation_data=(X_test_g4dim, test_labels))\n",
        "training_time = timeit.default_timer() - t0\n",
        "print(\"El tiempo de entrenamiento de la red es {} segundos.\".format(training_time))"
      ]
    },
    {
      "cell_type": "code",
      "execution_count": 81,
      "metadata": {
        "id": "ldCh_7JKMkIp",
        "colab": {
          "base_uri": "https://localhost:8080/",
          "height": 295
        },
        "outputId": "dced036b-7618-43e8-ce51-7c66fa934430"
      },
      "outputs": [
        {
          "output_type": "display_data",
          "data": {
            "text/plain": [
              "<Figure size 432x288 with 1 Axes>"
            ],
            "image/png": "[encoded data removed]"
          },
          "metadata": {
            "needs_background": "light"
          }
        }
      ],
      "source": [
        "# Resultados\n",
        "plot_prediction(epochs, mfit)"
      ]
    },
    {
      "cell_type": "code",
      "source": [
        "results = model.evaluate(X_test_g4dim, test_labels, batch_size=128, verbose=1)\n",
        "print(results)"
      ],
      "metadata": {
        "colab": {
          "base_uri": "https://localhost:8080/"
        },
        "id": "sdYTHuLQvknP",
        "outputId": "3c61ee69-559a-48ba-d86d-7218380a5b4c"
      },
      "execution_count": 82,
      "outputs": [
        {
          "output_type": "stream",
          "name": "stdout",
          "text": [
            "79/79 [==============================] - 1s 6ms/step - loss: 0.6967 - accuracy: 0.8163\n",
            "[0.696725070476532, 0.8162999749183655]\n"
          ]
        }
      ]
    },
    {
      "cell_type": "markdown",
      "metadata": {
        "id": "yt5nsalpD6bR"
      },
      "source": [
        "### 4.2 CNN con imágenes en color\n"
      ]
    },
    {
      "cell_type": "markdown",
      "metadata": {
        "id": "-TsR_PqR2a9j"
      },
      "source": [
        "Finalmente vamos a estudiar la influencia del color de las imágenes en la *performance* de la clasificación.\n",
        "\n",
        "Para ello utilizaremos una red convolucional con la misma estructura de la red del apartado anterior pero cambiando la capa de entrada para que podamos introducir las imágenes originales en color, arrays de dimensión (32, 32, 3)."
      ]
    },
    {
      "cell_type": "markdown",
      "metadata": {
        "id": "q7kUyx6x2a9j"
      },
      "source": [
        "<div style=\"background-color: #EDF7FF; border-color: #7C9DBF; border-left: 5px solid #7C9DBF; padding: 0.5em;\">\n",
        "<strong>Ejercicio [0,5 pts]:</strong> Volver a realizar el ejercicio anterior pero modificando la capa de entrada para poder utilizar el conjunto de datos original, de tamaño (50000, 32, 32, 3) para el conjunto de train y (10000, 32, 32, 3) para el conjunto de test.\n",
        "\n",
        "¿Influye el color de las imágenes en el resultado de la clasificación? Comentar el resultado.\n",
        "</div>\n",
        "\n",
        "**Nota**: Recordar normalizar las imágenes para que sus valores estén entre 0 y 1."
      ]
    },
    {
      "cell_type": "code",
      "execution_count": 83,
      "metadata": {
        "id": "JJGdAhZ92a9j",
        "colab": {
          "base_uri": "https://localhost:8080/"
        },
        "outputId": "472446f0-fe26-4729-ef77-ba1992d12820"
      },
      "outputs": [
        {
          "output_type": "stream",
          "name": "stdout",
          "text": [
            "Los valores del primer registro de X_train_grey_norm son: [[[0.23137255 0.24313725 0.24705882]\n",
            "  [0.16862745 0.18039216 0.17647059]\n",
            "  [0.19607843 0.18823529 0.16862745]\n",
            "  ...\n",
            "  [0.61960784 0.51764706 0.42352941]\n",
            "  [0.59607843 0.49019608 0.4       ]\n",
            "  [0.58039216 0.48627451 0.40392157]]\n",
            "\n",
            " [[0.0627451  0.07843137 0.07843137]\n",
            "  [0.         0.         0.        ]\n",
            "  [0.07058824 0.03137255 0.        ]\n",
            "  ...\n",
            "  [0.48235294 0.34509804 0.21568627]\n",
            "  [0.46666667 0.3254902  0.19607843]\n",
            "  [0.47843137 0.34117647 0.22352941]]\n",
            "\n",
            " [[0.09803922 0.09411765 0.08235294]\n",
            "  [0.0627451  0.02745098 0.        ]\n",
            "  [0.19215686 0.10588235 0.03137255]\n",
            "  ...\n",
            "  [0.4627451  0.32941176 0.19607843]\n",
            "  [0.47058824 0.32941176 0.19607843]\n",
            "  [0.42745098 0.28627451 0.16470588]]\n",
            "\n",
            " ...\n",
            "\n",
            " [[0.81568627 0.66666667 0.37647059]\n",
            "  [0.78823529 0.6        0.13333333]\n",
            "  [0.77647059 0.63137255 0.10196078]\n",
            "  ...\n",
            "  [0.62745098 0.52156863 0.2745098 ]\n",
            "  [0.21960784 0.12156863 0.02745098]\n",
            "  [0.20784314 0.13333333 0.07843137]]\n",
            "\n",
            " [[0.70588235 0.54509804 0.37647059]\n",
            "  [0.67843137 0.48235294 0.16470588]\n",
            "  [0.72941176 0.56470588 0.11764706]\n",
            "  ...\n",
            "  [0.72156863 0.58039216 0.36862745]\n",
            "  [0.38039216 0.24313725 0.13333333]\n",
            "  [0.3254902  0.20784314 0.13333333]]\n",
            "\n",
            " [[0.69411765 0.56470588 0.45490196]\n",
            "  [0.65882353 0.50588235 0.36862745]\n",
            "  [0.70196078 0.55686275 0.34117647]\n",
            "  ...\n",
            "  [0.84705882 0.72156863 0.54901961]\n",
            "  [0.59215686 0.4627451  0.32941176]\n",
            "  [0.48235294 0.36078431 0.28235294]]]\n"
          ]
        }
      ],
      "source": [
        "# Normalizar\n",
        "# Manually compute MinMaxScaler as detailed in https://scikit-learn.org/stable/modules/generated/sklearn.preprocessing.MinMaxScaler.html\n",
        "# Initialize values\n",
        "min = 0\n",
        "max = 1\n",
        "X = X_train\n",
        "# Normalize\n",
        "X_std = (X - X.min(axis=0)) / (X.max(axis=0) - X.min(axis=0))\n",
        "X_train_norm = X_std * (max - min) + min\n",
        "print(\"Los valores del primer registro de X_train_grey_norm son: {}\".format(X_train_norm[0]))"
      ]
    },
    {
      "cell_type": "code",
      "source": [
        "# Determinar valores mínimo y máximo\n",
        "v_min = np.min(X_train_norm)\n",
        "v_max = np.max(X_train_norm)\n",
        "print(\"Los valores mínimo y máximo son {} y {}.\".format(v_min, v_max))"
      ],
      "metadata": {
        "colab": {
          "base_uri": "https://localhost:8080/"
        },
        "id": "IZfvrP1z0MP3",
        "outputId": "5723ec75-bf82-4938-ac39-fc15cf1ac470"
      },
      "execution_count": 84,
      "outputs": [
        {
          "output_type": "stream",
          "name": "stdout",
          "text": [
            "Los valores mínimo y máximo son 0.0 y 1.0.\n"
          ]
        }
      ]
    },
    {
      "cell_type": "code",
      "execution_count": 85,
      "metadata": {
        "id": "4bY0Qvdl2a9k",
        "colab": {
          "base_uri": "https://localhost:8080/"
        },
        "outputId": "23268d2b-b772-47bf-a3cc-71b942034dab"
      },
      "outputs": [
        {
          "output_type": "stream",
          "name": "stdout",
          "text": [
            "Model: \"sequential_8\"\n",
            "_________________________________________________________________\n",
            " Layer (type)                Output Shape              Param #   \n",
            "=================================================================\n",
            " conv2d_20 (Conv2D)          (None, 32, 32, 32)        896       \n",
            "                                                                 \n",
            " conv2d_21 (Conv2D)          (None, 32, 32, 32)        9248      \n",
            "                                                                 \n",
            " max_pooling2d_9 (MaxPooling  (None, 16, 16, 32)       0         \n",
            " 2D)                                                             \n",
            "                                                                 \n",
            " dropout_21 (Dropout)        (None, 16, 16, 32)        0         \n",
            "                                                                 \n",
            " conv2d_22 (Conv2D)          (None, 16, 16, 64)        18496     \n",
            "                                                                 \n",
            " conv2d_23 (Conv2D)          (None, 16, 16, 64)        36928     \n",
            "                                                                 \n",
            " max_pooling2d_10 (MaxPoolin  (None, 8, 8, 64)         0         \n",
            " g2D)                                                            \n",
            "                                                                 \n",
            " dropout_22 (Dropout)        (None, 8, 8, 64)          0         \n",
            "                                                                 \n",
            " conv2d_24 (Conv2D)          (None, 8, 8, 128)         73856     \n",
            "                                                                 \n",
            " conv2d_25 (Conv2D)          (None, 8, 8, 128)         147584    \n",
            "                                                                 \n",
            " max_pooling2d_11 (MaxPoolin  (None, 4, 4, 128)        0         \n",
            " g2D)                                                            \n",
            "                                                                 \n",
            " dropout_23 (Dropout)        (None, 4, 4, 128)         0         \n",
            "                                                                 \n",
            " flatten_5 (Flatten)         (None, 2048)              0         \n",
            "                                                                 \n",
            " dense_29 (Dense)            (None, 128)               262272    \n",
            "                                                                 \n",
            " dropout_24 (Dropout)        (None, 128)               0         \n",
            "                                                                 \n",
            " dense_30 (Dense)            (None, 10)                1290      \n",
            "                                                                 \n",
            "=================================================================\n",
            "Total params: 550,570\n",
            "Trainable params: 550,570\n",
            "Non-trainable params: 0\n",
            "_________________________________________________________________\n"
          ]
        }
      ],
      "source": [
        "# Crear la CNN profunda\n",
        "model = Sequential()\n",
        "\n",
        "model.add(Conv2D(32, (3, 3), activation='relu', padding=\"same\", input_shape=(32,32,3)))\n",
        "model.add(Conv2D(32, (3, 3), activation='relu', padding=\"same\"))\n",
        "model.add(MaxPooling2D((2, 2)))\n",
        "model.add(Dropout(.2))\n",
        "\n",
        "model.add(Conv2D(64, (3, 3), activation='relu', padding=\"same\"))\n",
        "model.add(Conv2D(64, (3, 3), activation='relu', padding=\"same\"))\n",
        "model.add(MaxPooling2D((2, 2)))\n",
        "model.add(Dropout(.2))\n",
        "\n",
        "model.add(Conv2D(128, (3, 3), activation='relu', padding=\"same\"))\n",
        "model.add(Conv2D(128, (3, 3), activation='relu', padding=\"same\"))\n",
        "model.add(MaxPooling2D((2, 2)))\n",
        "model.add(Dropout(.2))\n",
        "\n",
        "model.add(Flatten())\n",
        "model.add(Dense(128, activation='relu'))\n",
        "model.add(Dropout(.2))\n",
        "\n",
        "# Capa softmax de clasificación con 10 valores posibles(etiqueas)\n",
        "model.add(Dense(10, activation=\"softmax\"))\n",
        "\n",
        "model.summary()"
      ]
    },
    {
      "cell_type": "code",
      "execution_count": 86,
      "metadata": {
        "id": "stHpTKXL9XMd"
      },
      "outputs": [],
      "source": [
        "# Compile\n",
        "model.compile(SGD(learning_rate=0.001, momentum=0.9),\n",
        "              \"categorical_crossentropy\",\n",
        "              metrics=['accuracy'])"
      ]
    },
    {
      "cell_type": "code",
      "execution_count": 48,
      "metadata": {
        "id": "wVLGM1W19eVp",
        "colab": {
          "base_uri": "https://localhost:8080/"
        },
        "outputId": "68bd3a53-804c-4df0-e7de-8252de1cadd8"
      },
      "outputs": [
        {
          "output_type": "stream",
          "name": "stdout",
          "text": [
            "Epoch 1/150\n",
            "391/391 [==============================] - 6s 14ms/step - loss: 2.3006 - accuracy: 0.1140 - val_loss: 9.7486 - val_accuracy: 0.1009\n",
            "Epoch 2/150\n",
            "391/391 [==============================] - 6s 14ms/step - loss: 2.2510 - accuracy: 0.1655 - val_loss: 233.4832 - val_accuracy: 0.1002\n",
            "Epoch 3/150\n",
            "391/391 [==============================] - 6s 14ms/step - loss: 2.0460 - accuracy: 0.2360 - val_loss: 201.7072 - val_accuracy: 0.1333\n",
            "Epoch 4/150\n",
            "391/391 [==============================] - 6s 14ms/step - loss: 1.9550 - accuracy: 0.2762 - val_loss: 252.9105 - val_accuracy: 0.1443\n",
            "Epoch 5/150\n",
            "391/391 [==============================] - 6s 14ms/step - loss: 1.8821 - accuracy: 0.3052 - val_loss: 366.7649 - val_accuracy: 0.1390\n",
            "Epoch 6/150\n",
            "391/391 [==============================] - 6s 14ms/step - loss: 1.8129 - accuracy: 0.3331 - val_loss: 347.8946 - val_accuracy: 0.1496\n",
            "Epoch 7/150\n",
            "391/391 [==============================] - 5s 14ms/step - loss: 1.7292 - accuracy: 0.3673 - val_loss: 330.4050 - val_accuracy: 0.1775\n",
            "Epoch 8/150\n",
            "391/391 [==============================] - 6s 14ms/step - loss: 1.6691 - accuracy: 0.3865 - val_loss: 358.6996 - val_accuracy: 0.2258\n",
            "Epoch 9/150\n",
            "391/391 [==============================] - 5s 14ms/step - loss: 1.6177 - accuracy: 0.4077 - val_loss: 276.1104 - val_accuracy: 0.2936\n",
            "Epoch 10/150\n",
            "391/391 [==============================] - 5s 14ms/step - loss: 1.5696 - accuracy: 0.4255 - val_loss: 244.5300 - val_accuracy: 0.3069\n",
            "Epoch 11/150\n",
            "391/391 [==============================] - 6s 14ms/step - loss: 1.5254 - accuracy: 0.4431 - val_loss: 209.5401 - val_accuracy: 0.3252\n",
            "Epoch 12/150\n",
            "391/391 [==============================] - 5s 14ms/step - loss: 1.4824 - accuracy: 0.4589 - val_loss: 265.8065 - val_accuracy: 0.3110\n",
            "Epoch 13/150\n",
            "391/391 [==============================] - 6s 14ms/step - loss: 1.4411 - accuracy: 0.4780 - val_loss: 238.7481 - val_accuracy: 0.3172\n",
            "Epoch 14/150\n",
            "391/391 [==============================] - 6s 14ms/step - loss: 1.4017 - accuracy: 0.4909 - val_loss: 225.8902 - val_accuracy: 0.3304\n",
            "Epoch 15/150\n",
            "391/391 [==============================] - 5s 14ms/step - loss: 1.3680 - accuracy: 0.5038 - val_loss: 262.9888 - val_accuracy: 0.3034\n",
            "Epoch 16/150\n",
            "391/391 [==============================] - 5s 14ms/step - loss: 1.3330 - accuracy: 0.5179 - val_loss: 212.6760 - val_accuracy: 0.3568\n",
            "Epoch 17/150\n",
            "391/391 [==============================] - 5s 14ms/step - loss: 1.3033 - accuracy: 0.5322 - val_loss: 211.7572 - val_accuracy: 0.3564\n",
            "Epoch 18/150\n",
            "391/391 [==============================] - 5s 14ms/step - loss: 1.2655 - accuracy: 0.5450 - val_loss: 252.3553 - val_accuracy: 0.3280\n",
            "Epoch 19/150\n",
            "391/391 [==============================] - 5s 14ms/step - loss: 1.2368 - accuracy: 0.5562 - val_loss: 244.3994 - val_accuracy: 0.3450\n",
            "Epoch 20/150\n",
            "391/391 [==============================] - 6s 14ms/step - loss: 1.2104 - accuracy: 0.5659 - val_loss: 210.1102 - val_accuracy: 0.3618\n",
            "Epoch 21/150\n",
            "391/391 [==============================] - 5s 14ms/step - loss: 1.1864 - accuracy: 0.5760 - val_loss: 249.9825 - val_accuracy: 0.3424\n",
            "Epoch 22/150\n",
            "391/391 [==============================] - 6s 14ms/step - loss: 1.1591 - accuracy: 0.5858 - val_loss: 183.4143 - val_accuracy: 0.3955\n",
            "Epoch 23/150\n",
            "391/391 [==============================] - 6s 14ms/step - loss: 1.1348 - accuracy: 0.5962 - val_loss: 189.0307 - val_accuracy: 0.3862\n",
            "Epoch 24/150\n",
            "391/391 [==============================] - 6s 14ms/step - loss: 1.1108 - accuracy: 0.6044 - val_loss: 179.3751 - val_accuracy: 0.4034\n",
            "Epoch 25/150\n",
            "391/391 [==============================] - 6s 14ms/step - loss: 1.0899 - accuracy: 0.6130 - val_loss: 205.0360 - val_accuracy: 0.3762\n",
            "Epoch 26/150\n",
            "391/391 [==============================] - 6s 14ms/step - loss: 1.0703 - accuracy: 0.6201 - val_loss: 207.4685 - val_accuracy: 0.3797\n",
            "Epoch 27/150\n",
            "391/391 [==============================] - 6s 14ms/step - loss: 1.0568 - accuracy: 0.6252 - val_loss: 224.6955 - val_accuracy: 0.3638\n",
            "Epoch 28/150\n",
            "391/391 [==============================] - 5s 14ms/step - loss: 1.0312 - accuracy: 0.6349 - val_loss: 182.3310 - val_accuracy: 0.4031\n",
            "Epoch 29/150\n",
            "391/391 [==============================] - 6s 14ms/step - loss: 1.0151 - accuracy: 0.6390 - val_loss: 187.4743 - val_accuracy: 0.3997\n",
            "Epoch 30/150\n",
            "391/391 [==============================] - 5s 14ms/step - loss: 0.9974 - accuracy: 0.6468 - val_loss: 178.7755 - val_accuracy: 0.4086\n",
            "Epoch 31/150\n",
            "391/391 [==============================] - 5s 14ms/step - loss: 0.9796 - accuracy: 0.6509 - val_loss: 203.5953 - val_accuracy: 0.3914\n",
            "Epoch 32/150\n",
            "391/391 [==============================] - 5s 14ms/step - loss: 0.9679 - accuracy: 0.6588 - val_loss: 200.5399 - val_accuracy: 0.3943\n",
            "Epoch 33/150\n",
            "391/391 [==============================] - 5s 14ms/step - loss: 0.9496 - accuracy: 0.6645 - val_loss: 162.0720 - val_accuracy: 0.4383\n",
            "Epoch 34/150\n",
            "391/391 [==============================] - 6s 14ms/step - loss: 0.9346 - accuracy: 0.6673 - val_loss: 151.4618 - val_accuracy: 0.4316\n",
            "Epoch 35/150\n",
            "391/391 [==============================] - 6s 14ms/step - loss: 0.9225 - accuracy: 0.6743 - val_loss: 169.6979 - val_accuracy: 0.4322\n",
            "Epoch 36/150\n",
            "391/391 [==============================] - 6s 15ms/step - loss: 0.9036 - accuracy: 0.6828 - val_loss: 162.6034 - val_accuracy: 0.4317\n",
            "Epoch 37/150\n",
            "391/391 [==============================] - 5s 14ms/step - loss: 0.8901 - accuracy: 0.6867 - val_loss: 153.9608 - val_accuracy: 0.4458\n",
            "Epoch 38/150\n",
            "391/391 [==============================] - 6s 14ms/step - loss: 0.8756 - accuracy: 0.6894 - val_loss: 171.5915 - val_accuracy: 0.4227\n",
            "Epoch 39/150\n",
            "391/391 [==============================] - 6s 14ms/step - loss: 0.8599 - accuracy: 0.6978 - val_loss: 189.4078 - val_accuracy: 0.4214\n",
            "Epoch 40/150\n",
            "391/391 [==============================] - 5s 14ms/step - loss: 0.8505 - accuracy: 0.7005 - val_loss: 164.4583 - val_accuracy: 0.4451\n",
            "Epoch 41/150\n",
            "391/391 [==============================] - 5s 14ms/step - loss: 0.8432 - accuracy: 0.7042 - val_loss: 171.5911 - val_accuracy: 0.4402\n",
            "Epoch 42/150\n",
            "391/391 [==============================] - 5s 14ms/step - loss: 0.8228 - accuracy: 0.7099 - val_loss: 176.6199 - val_accuracy: 0.4264\n",
            "Epoch 43/150\n",
            "391/391 [==============================] - 5s 14ms/step - loss: 0.8129 - accuracy: 0.7118 - val_loss: 130.7292 - val_accuracy: 0.4852\n",
            "Epoch 44/150\n",
            "391/391 [==============================] - 5s 14ms/step - loss: 0.8031 - accuracy: 0.7174 - val_loss: 180.7841 - val_accuracy: 0.4331\n",
            "Epoch 45/150\n",
            "391/391 [==============================] - 6s 15ms/step - loss: 0.7937 - accuracy: 0.7215 - val_loss: 165.4280 - val_accuracy: 0.4585\n",
            "Epoch 46/150\n",
            "391/391 [==============================] - 6s 17ms/step - loss: 0.7797 - accuracy: 0.7263 - val_loss: 137.6911 - val_accuracy: 0.4726\n",
            "Epoch 47/150\n",
            "391/391 [==============================] - 6s 14ms/step - loss: 0.7662 - accuracy: 0.7296 - val_loss: 155.0316 - val_accuracy: 0.4634\n",
            "Epoch 48/150\n",
            "391/391 [==============================] - 6s 14ms/step - loss: 0.7611 - accuracy: 0.7312 - val_loss: 128.7896 - val_accuracy: 0.4943\n",
            "Epoch 49/150\n",
            "391/391 [==============================] - 6s 15ms/step - loss: 0.7507 - accuracy: 0.7364 - val_loss: 156.8294 - val_accuracy: 0.4641\n",
            "Epoch 50/150\n",
            "391/391 [==============================] - 5s 14ms/step - loss: 0.7420 - accuracy: 0.7396 - val_loss: 152.0208 - val_accuracy: 0.4726\n",
            "Epoch 51/150\n",
            "391/391 [==============================] - 6s 15ms/step - loss: 0.7291 - accuracy: 0.7437 - val_loss: 156.5394 - val_accuracy: 0.4811\n",
            "Epoch 52/150\n",
            "391/391 [==============================] - 5s 14ms/step - loss: 0.7192 - accuracy: 0.7466 - val_loss: 173.9140 - val_accuracy: 0.4605\n",
            "Epoch 53/150\n",
            "391/391 [==============================] - 5s 14ms/step - loss: 0.7074 - accuracy: 0.7520 - val_loss: 168.2933 - val_accuracy: 0.4648\n",
            "Epoch 54/150\n",
            "391/391 [==============================] - 6s 15ms/step - loss: 0.6994 - accuracy: 0.7549 - val_loss: 187.4621 - val_accuracy: 0.4472\n",
            "Epoch 55/150\n",
            "391/391 [==============================] - 6s 15ms/step - loss: 0.6941 - accuracy: 0.7544 - val_loss: 167.7699 - val_accuracy: 0.4836\n",
            "Epoch 56/150\n",
            "391/391 [==============================] - 6s 15ms/step - loss: 0.6854 - accuracy: 0.7598 - val_loss: 168.5060 - val_accuracy: 0.4787\n",
            "Epoch 57/150\n",
            "391/391 [==============================] - 6s 14ms/step - loss: 0.6817 - accuracy: 0.7604 - val_loss: 149.6667 - val_accuracy: 0.4912\n",
            "Epoch 58/150\n",
            "391/391 [==============================] - 5s 14ms/step - loss: 0.6685 - accuracy: 0.7656 - val_loss: 155.3474 - val_accuracy: 0.4893\n",
            "Epoch 59/150\n",
            "391/391 [==============================] - 5s 14ms/step - loss: 0.6639 - accuracy: 0.7663 - val_loss: 140.8527 - val_accuracy: 0.5009\n",
            "Epoch 60/150\n",
            "391/391 [==============================] - 5s 14ms/step - loss: 0.6551 - accuracy: 0.7696 - val_loss: 195.1642 - val_accuracy: 0.4509\n",
            "Epoch 61/150\n",
            "391/391 [==============================] - 6s 15ms/step - loss: 0.6454 - accuracy: 0.7744 - val_loss: 153.6145 - val_accuracy: 0.5034\n",
            "Epoch 62/150\n",
            "391/391 [==============================] - 6s 14ms/step - loss: 0.6374 - accuracy: 0.7782 - val_loss: 157.8723 - val_accuracy: 0.4948\n",
            "Epoch 63/150\n",
            "391/391 [==============================] - 6s 15ms/step - loss: 0.6327 - accuracy: 0.7782 - val_loss: 149.6697 - val_accuracy: 0.5084\n",
            "Epoch 64/150\n",
            "391/391 [==============================] - 6s 16ms/step - loss: 0.6270 - accuracy: 0.7792 - val_loss: 187.1328 - val_accuracy: 0.4647\n",
            "Epoch 65/150\n",
            "391/391 [==============================] - 6s 15ms/step - loss: 0.6204 - accuracy: 0.7817 - val_loss: 150.5775 - val_accuracy: 0.5070\n",
            "Epoch 66/150\n",
            "391/391 [==============================] - 6s 14ms/step - loss: 0.6116 - accuracy: 0.7860 - val_loss: 193.5460 - val_accuracy: 0.4709\n",
            "Epoch 67/150\n",
            "391/391 [==============================] - 5s 14ms/step - loss: 0.6024 - accuracy: 0.7887 - val_loss: 124.7757 - val_accuracy: 0.5512\n",
            "Epoch 68/150\n",
            "391/391 [==============================] - 6s 15ms/step - loss: 0.6028 - accuracy: 0.7872 - val_loss: 149.1321 - val_accuracy: 0.5103\n",
            "Epoch 69/150\n",
            "391/391 [==============================] - 5s 14ms/step - loss: 0.5925 - accuracy: 0.7926 - val_loss: 171.4083 - val_accuracy: 0.4961\n",
            "Epoch 70/150\n",
            "391/391 [==============================] - 6s 15ms/step - loss: 0.5852 - accuracy: 0.7938 - val_loss: 175.3316 - val_accuracy: 0.4874\n",
            "Epoch 71/150\n",
            "391/391 [==============================] - 5s 14ms/step - loss: 0.5784 - accuracy: 0.7956 - val_loss: 177.6862 - val_accuracy: 0.4935\n",
            "Epoch 72/150\n",
            "391/391 [==============================] - 5s 14ms/step - loss: 0.5730 - accuracy: 0.7983 - val_loss: 155.0030 - val_accuracy: 0.5090\n",
            "Epoch 73/150\n",
            "391/391 [==============================] - 5s 14ms/step - loss: 0.5669 - accuracy: 0.8003 - val_loss: 166.6336 - val_accuracy: 0.4943\n",
            "Epoch 74/150\n",
            "391/391 [==============================] - 6s 15ms/step - loss: 0.5594 - accuracy: 0.8040 - val_loss: 163.6620 - val_accuracy: 0.5272\n",
            "Epoch 75/150\n",
            "391/391 [==============================] - 5s 14ms/step - loss: 0.5557 - accuracy: 0.8048 - val_loss: 162.0596 - val_accuracy: 0.5168\n",
            "Epoch 76/150\n",
            "391/391 [==============================] - 5s 14ms/step - loss: 0.5442 - accuracy: 0.8069 - val_loss: 143.6548 - val_accuracy: 0.5367\n",
            "Epoch 77/150\n",
            "391/391 [==============================] - 5s 14ms/step - loss: 0.5410 - accuracy: 0.8105 - val_loss: 158.6980 - val_accuracy: 0.5108\n",
            "Epoch 78/150\n",
            "391/391 [==============================] - 5s 14ms/step - loss: 0.5403 - accuracy: 0.8095 - val_loss: 153.6924 - val_accuracy: 0.5292\n",
            "Epoch 79/150\n",
            "391/391 [==============================] - 5s 14ms/step - loss: 0.5346 - accuracy: 0.8105 - val_loss: 153.1824 - val_accuracy: 0.5382\n",
            "Epoch 80/150\n",
            "391/391 [==============================] - 5s 14ms/step - loss: 0.5294 - accuracy: 0.8152 - val_loss: 167.2299 - val_accuracy: 0.5113\n",
            "Epoch 81/150\n",
            "391/391 [==============================] - 5s 14ms/step - loss: 0.5212 - accuracy: 0.8159 - val_loss: 186.3711 - val_accuracy: 0.5027\n",
            "Epoch 82/150\n",
            "391/391 [==============================] - 5s 14ms/step - loss: 0.5184 - accuracy: 0.8166 - val_loss: 162.8384 - val_accuracy: 0.5197\n",
            "Epoch 83/150\n",
            "391/391 [==============================] - 6s 14ms/step - loss: 0.5067 - accuracy: 0.8201 - val_loss: 163.3437 - val_accuracy: 0.5207\n",
            "Epoch 84/150\n",
            "391/391 [==============================] - 6s 14ms/step - loss: 0.5044 - accuracy: 0.8220 - val_loss: 161.2679 - val_accuracy: 0.5286\n",
            "Epoch 85/150\n",
            "391/391 [==============================] - 6s 15ms/step - loss: 0.4965 - accuracy: 0.8249 - val_loss: 174.9298 - val_accuracy: 0.5216\n",
            "Epoch 86/150\n",
            "391/391 [==============================] - 5s 14ms/step - loss: 0.4970 - accuracy: 0.8247 - val_loss: 159.4691 - val_accuracy: 0.5264\n",
            "Epoch 87/150\n",
            "391/391 [==============================] - 5s 14ms/step - loss: 0.4906 - accuracy: 0.8262 - val_loss: 160.9382 - val_accuracy: 0.5369\n",
            "Epoch 88/150\n",
            "391/391 [==============================] - 5s 14ms/step - loss: 0.4838 - accuracy: 0.8282 - val_loss: 182.0887 - val_accuracy: 0.5146\n",
            "Epoch 89/150\n",
            "391/391 [==============================] - 6s 15ms/step - loss: 0.4789 - accuracy: 0.8290 - val_loss: 159.7074 - val_accuracy: 0.5296\n",
            "Epoch 90/150\n",
            "391/391 [==============================] - 5s 14ms/step - loss: 0.4747 - accuracy: 0.8321 - val_loss: 183.3099 - val_accuracy: 0.5200\n",
            "Epoch 91/150\n",
            "391/391 [==============================] - 5s 14ms/step - loss: 0.4719 - accuracy: 0.8324 - val_loss: 173.9431 - val_accuracy: 0.5335\n",
            "Epoch 92/150\n",
            "391/391 [==============================] - 5s 14ms/step - loss: 0.4630 - accuracy: 0.8354 - val_loss: 154.4009 - val_accuracy: 0.5433\n",
            "Epoch 93/150\n",
            "391/391 [==============================] - 5s 14ms/step - loss: 0.4630 - accuracy: 0.8369 - val_loss: 173.3428 - val_accuracy: 0.5219\n",
            "Epoch 94/150\n",
            "391/391 [==============================] - 5s 14ms/step - loss: 0.4516 - accuracy: 0.8386 - val_loss: 165.8857 - val_accuracy: 0.5483\n",
            "Epoch 95/150\n",
            "391/391 [==============================] - 6s 15ms/step - loss: 0.4545 - accuracy: 0.8369 - val_loss: 217.6187 - val_accuracy: 0.4971\n",
            "Epoch 96/150\n",
            "391/391 [==============================] - 5s 14ms/step - loss: 0.4454 - accuracy: 0.8426 - val_loss: 214.7805 - val_accuracy: 0.4945\n",
            "Epoch 97/150\n",
            "391/391 [==============================] - 5s 14ms/step - loss: 0.4445 - accuracy: 0.8417 - val_loss: 160.0280 - val_accuracy: 0.5383\n",
            "Epoch 98/150\n",
            "391/391 [==============================] - 6s 15ms/step - loss: 0.4325 - accuracy: 0.8444 - val_loss: 192.2917 - val_accuracy: 0.5166\n",
            "Epoch 99/150\n",
            "391/391 [==============================] - 5s 14ms/step - loss: 0.4335 - accuracy: 0.8449 - val_loss: 179.0331 - val_accuracy: 0.5317\n",
            "Epoch 100/150\n",
            "391/391 [==============================] - 6s 15ms/step - loss: 0.4317 - accuracy: 0.8460 - val_loss: 207.5119 - val_accuracy: 0.5055\n",
            "Epoch 101/150\n",
            "391/391 [==============================] - 5s 14ms/step - loss: 0.4283 - accuracy: 0.8484 - val_loss: 175.8064 - val_accuracy: 0.5355\n",
            "Epoch 102/150\n",
            "391/391 [==============================] - 6s 15ms/step - loss: 0.4204 - accuracy: 0.8499 - val_loss: 175.7422 - val_accuracy: 0.5335\n",
            "Epoch 103/150\n",
            "391/391 [==============================] - 5s 14ms/step - loss: 0.4143 - accuracy: 0.8536 - val_loss: 201.5623 - val_accuracy: 0.5104\n",
            "Epoch 104/150\n",
            "391/391 [==============================] - 6s 15ms/step - loss: 0.4117 - accuracy: 0.8531 - val_loss: 179.3369 - val_accuracy: 0.5357\n",
            "Epoch 105/150\n",
            "391/391 [==============================] - 5s 14ms/step - loss: 0.4093 - accuracy: 0.8535 - val_loss: 193.1203 - val_accuracy: 0.5265\n",
            "Epoch 106/150\n",
            "391/391 [==============================] - 5s 14ms/step - loss: 0.4012 - accuracy: 0.8568 - val_loss: 196.7663 - val_accuracy: 0.5279\n",
            "Epoch 107/150\n",
            "391/391 [==============================] - 5s 14ms/step - loss: 0.3966 - accuracy: 0.8585 - val_loss: 188.0504 - val_accuracy: 0.5253\n",
            "Epoch 108/150\n",
            "391/391 [==============================] - 5s 14ms/step - loss: 0.3936 - accuracy: 0.8611 - val_loss: 196.5141 - val_accuracy: 0.5374\n",
            "Epoch 109/150\n",
            "391/391 [==============================] - 6s 15ms/step - loss: 0.3899 - accuracy: 0.8619 - val_loss: 210.7100 - val_accuracy: 0.5018\n",
            "Epoch 110/150\n",
            "391/391 [==============================] - 6s 14ms/step - loss: 0.3877 - accuracy: 0.8632 - val_loss: 181.4047 - val_accuracy: 0.5369\n",
            "Epoch 111/150\n",
            "391/391 [==============================] - 6s 14ms/step - loss: 0.3803 - accuracy: 0.8620 - val_loss: 184.4719 - val_accuracy: 0.5498\n",
            "Epoch 112/150\n",
            "391/391 [==============================] - 5s 14ms/step - loss: 0.3793 - accuracy: 0.8650 - val_loss: 171.8047 - val_accuracy: 0.5591\n",
            "Epoch 113/150\n",
            "391/391 [==============================] - 5s 14ms/step - loss: 0.3744 - accuracy: 0.8666 - val_loss: 209.8743 - val_accuracy: 0.5083\n",
            "Epoch 114/150\n",
            "391/391 [==============================] - 6s 15ms/step - loss: 0.3746 - accuracy: 0.8659 - val_loss: 183.5098 - val_accuracy: 0.5513\n",
            "Epoch 115/150\n",
            "391/391 [==============================] - 6s 15ms/step - loss: 0.3672 - accuracy: 0.8687 - val_loss: 194.8801 - val_accuracy: 0.5416\n",
            "Epoch 116/150\n",
            "391/391 [==============================] - 5s 14ms/step - loss: 0.3648 - accuracy: 0.8680 - val_loss: 222.6163 - val_accuracy: 0.5149\n",
            "Epoch 117/150\n",
            "391/391 [==============================] - 6s 15ms/step - loss: 0.3653 - accuracy: 0.8676 - val_loss: 185.3040 - val_accuracy: 0.5510\n",
            "Epoch 118/150\n",
            "391/391 [==============================] - 6s 15ms/step - loss: 0.3566 - accuracy: 0.8714 - val_loss: 202.1095 - val_accuracy: 0.5458\n",
            "Epoch 119/150\n",
            "391/391 [==============================] - 5s 14ms/step - loss: 0.3579 - accuracy: 0.8719 - val_loss: 204.2236 - val_accuracy: 0.5388\n",
            "Epoch 120/150\n",
            "391/391 [==============================] - 5s 14ms/step - loss: 0.3535 - accuracy: 0.8728 - val_loss: 210.0356 - val_accuracy: 0.5185\n",
            "Epoch 121/150\n",
            "391/391 [==============================] - 6s 15ms/step - loss: 0.3458 - accuracy: 0.8745 - val_loss: 187.5863 - val_accuracy: 0.5558\n",
            "Epoch 122/150\n",
            "391/391 [==============================] - 5s 14ms/step - loss: 0.3429 - accuracy: 0.8777 - val_loss: 244.0916 - val_accuracy: 0.5141\n",
            "Epoch 123/150\n",
            "391/391 [==============================] - 6s 15ms/step - loss: 0.3375 - accuracy: 0.8781 - val_loss: 204.8358 - val_accuracy: 0.5465\n",
            "Epoch 124/150\n",
            "391/391 [==============================] - 5s 14ms/step - loss: 0.3321 - accuracy: 0.8817 - val_loss: 195.8274 - val_accuracy: 0.5505\n",
            "Epoch 125/150\n",
            "391/391 [==============================] - 6s 15ms/step - loss: 0.3343 - accuracy: 0.8792 - val_loss: 212.6873 - val_accuracy: 0.5411\n",
            "Epoch 126/150\n",
            "391/391 [==============================] - 6s 14ms/step - loss: 0.3256 - accuracy: 0.8831 - val_loss: 192.1187 - val_accuracy: 0.5607\n",
            "Epoch 127/150\n",
            "391/391 [==============================] - 6s 15ms/step - loss: 0.3279 - accuracy: 0.8821 - val_loss: 172.9340 - val_accuracy: 0.5731\n",
            "Epoch 128/150\n",
            "391/391 [==============================] - 6s 15ms/step - loss: 0.3164 - accuracy: 0.8855 - val_loss: 195.3423 - val_accuracy: 0.5576\n",
            "Epoch 129/150\n",
            "391/391 [==============================] - 5s 14ms/step - loss: 0.3175 - accuracy: 0.8855 - val_loss: 189.9093 - val_accuracy: 0.5581\n",
            "Epoch 130/150\n",
            "391/391 [==============================] - 6s 15ms/step - loss: 0.3213 - accuracy: 0.8844 - val_loss: 211.8000 - val_accuracy: 0.5402\n",
            "Epoch 131/150\n",
            "391/391 [==============================] - 5s 14ms/step - loss: 0.3121 - accuracy: 0.8875 - val_loss: 222.2360 - val_accuracy: 0.5282\n",
            "Epoch 132/150\n",
            "391/391 [==============================] - 5s 14ms/step - loss: 0.3149 - accuracy: 0.8870 - val_loss: 236.1107 - val_accuracy: 0.5109\n",
            "Epoch 133/150\n",
            "391/391 [==============================] - 6s 14ms/step - loss: 0.3081 - accuracy: 0.8898 - val_loss: 198.7874 - val_accuracy: 0.5430\n",
            "Epoch 134/150\n",
            "391/391 [==============================] - 5s 14ms/step - loss: 0.3058 - accuracy: 0.8899 - val_loss: 193.4982 - val_accuracy: 0.5625\n",
            "Epoch 135/150\n",
            "391/391 [==============================] - 5s 14ms/step - loss: 0.3067 - accuracy: 0.8897 - val_loss: 214.6745 - val_accuracy: 0.5418\n",
            "Epoch 136/150\n",
            "391/391 [==============================] - 5s 14ms/step - loss: 0.2968 - accuracy: 0.8939 - val_loss: 191.3453 - val_accuracy: 0.5718\n",
            "Epoch 137/150\n",
            "391/391 [==============================] - 6s 15ms/step - loss: 0.2970 - accuracy: 0.8921 - val_loss: 249.3849 - val_accuracy: 0.5257\n",
            "Epoch 138/150\n",
            "391/391 [==============================] - 5s 14ms/step - loss: 0.2932 - accuracy: 0.8949 - val_loss: 212.9779 - val_accuracy: 0.5539\n",
            "Epoch 139/150\n",
            "391/391 [==============================] - 5s 14ms/step - loss: 0.2911 - accuracy: 0.8955 - val_loss: 204.3060 - val_accuracy: 0.5534\n",
            "Epoch 140/150\n",
            "391/391 [==============================] - 5s 14ms/step - loss: 0.2862 - accuracy: 0.8961 - val_loss: 232.8142 - val_accuracy: 0.5436\n",
            "Epoch 141/150\n",
            "391/391 [==============================] - 6s 15ms/step - loss: 0.2864 - accuracy: 0.8961 - val_loss: 242.8974 - val_accuracy: 0.5255\n",
            "Epoch 142/150\n",
            "391/391 [==============================] - 5s 14ms/step - loss: 0.2842 - accuracy: 0.8963 - val_loss: 223.6275 - val_accuracy: 0.5384\n",
            "Epoch 143/150\n",
            "391/391 [==============================] - 6s 15ms/step - loss: 0.2794 - accuracy: 0.8989 - val_loss: 223.3000 - val_accuracy: 0.5511\n",
            "Epoch 144/150\n",
            "391/391 [==============================] - 5s 14ms/step - loss: 0.2755 - accuracy: 0.9008 - val_loss: 241.5138 - val_accuracy: 0.5338\n",
            "Epoch 145/150\n",
            "391/391 [==============================] - 6s 15ms/step - loss: 0.2788 - accuracy: 0.8996 - val_loss: 218.2126 - val_accuracy: 0.5485\n",
            "Epoch 146/150\n",
            "391/391 [==============================] - 6s 15ms/step - loss: 0.2753 - accuracy: 0.9005 - val_loss: 248.6657 - val_accuracy: 0.5331\n",
            "Epoch 147/150\n",
            "391/391 [==============================] - 6s 15ms/step - loss: 0.2668 - accuracy: 0.9016 - val_loss: 216.0195 - val_accuracy: 0.5539\n",
            "Epoch 148/150\n",
            "391/391 [==============================] - 5s 14ms/step - loss: 0.2714 - accuracy: 0.9015 - val_loss: 238.0886 - val_accuracy: 0.5353\n",
            "Epoch 149/150\n",
            "391/391 [==============================] - 5s 14ms/step - loss: 0.2634 - accuracy: 0.9055 - val_loss: 203.1889 - val_accuracy: 0.5665\n",
            "Epoch 150/150\n",
            "391/391 [==============================] - 5s 14ms/step - loss: 0.2618 - accuracy: 0.9044 - val_loss: 251.2536 - val_accuracy: 0.5311\n",
            "El tiempo de entrenamiento de la red es 835.4393185530002 segundos.\n"
          ]
        }
      ],
      "source": [
        "# Entrenamiento del modelo\n",
        "epochs = 150\n",
        "t0 = timeit.default_timer()\n",
        "mfit = model.fit(X_train_norm, train_labels, epochs=epochs, batch_size=128,\n",
        "                    validation_data=(X_test, test_labels))\n",
        "training_time = timeit.default_timer() - t0\n",
        "print(\"El tiempo de entrenamiento de la red es {} segundos.\".format(training_time))"
      ]
    },
    {
      "cell_type": "code",
      "execution_count": 49,
      "metadata": {
        "id": "n6uk1GFxGEQ0",
        "colab": {
          "base_uri": "https://localhost:8080/",
          "height": 295
        },
        "outputId": "25c19cce-f0f7-4b5a-d602-e4de179ce17e"
      },
      "outputs": [
        {
          "output_type": "display_data",
          "data": {
            "text/plain": [
              "<Figure size 432x288 with 1 Axes>"
            ],
            "image/png": "[encoded data removed]"
          },
          "metadata": {
            "needs_background": "light"
          }
        }
      ],
      "source": [
        "# Resultados\n",
        "plot_prediction(epochs, mfit)"
      ]
    },
    {
      "cell_type": "code",
      "source": [
        "results = model.evaluate(X_test, test_labels, batch_size=128, verbose=1)\n",
        "print(results)"
      ],
      "metadata": {
        "colab": {
          "base_uri": "https://localhost:8080/"
        },
        "id": "2Lt2_NyUzdmQ",
        "outputId": "42bad31c-10aa-4e64-b30c-43c3b4bee981"
      },
      "execution_count": 51,
      "outputs": [
        {
          "output_type": "stream",
          "name": "stdout",
          "text": [
            "79/79 [==============================] - 1s 6ms/step - loss: 251.2536 - accuracy: 0.5311\n",
            "[251.25360107421875, 0.5310999751091003]\n"
          ]
        }
      ]
    },
    {
      "cell_type": "markdown",
      "metadata": {
        "id": "vZYPL7X12a9k"
      },
      "source": [
        "## 5. Comparativa de los modelos implementados y predicción [1,5 puntos]"
      ]
    },
    {
      "cell_type": "markdown",
      "metadata": {
        "id": "AHDLpGpw2a9l"
      },
      "source": [
        "En este último apartado compararemos los modelos implementados y realizaremos la clasificación de algunas imágenes con el modelo que ha dado los mejores resultados."
      ]
    },
    {
      "cell_type": "markdown",
      "metadata": {
        "id": "0hERn2-12a9m"
      },
      "source": [
        "### 5.1 Comparativa de los modelos implementados"
      ]
    },
    {
      "cell_type": "markdown",
      "metadata": {
        "id": "xjF0flQp2a9m"
      },
      "source": [
        "<div style=\"background-color: #EDF7FF; border-color: #7C9DBF; border-left: 5px solid #7C9DBF; padding: 0.5em;\">\n",
        "<strong>Ejercicio [0,5 pts.]:</strong> Realizar una comparativa de los modelos implementados comentando:\n",
        "\n",
        "*   La precisión obtenida\n",
        "*   La pérdida\n",
        "*   El tiempo de entrenamiento\n",
        "*   El número de parámetros a entrenar\n",
        "\n",
        "Comentar los resultados obtenidos.\n",
        "\n",
        "En base a los resultados obtenidos ¿Qué modelo seleccionaríais como el mejor?\n",
        "</div>"
      ]
    },
    {
      "cell_type": "markdown",
      "metadata": {
        "id": "mm6Zsvpc2a9k"
      },
      "source": [
        "<div style=\"background-color: #EDF7FF; border-color: #7C9DBF; border-left: 5px solid #7C9DBF; padding: 0.5em;\">\n",
        "<strong>Solución:</strong> \n",
        "</div>"
      ]
    },
    {
      "cell_type": "markdown",
      "metadata": {
        "id": "6r3p-EkV2a9n"
      },
      "source": [
        "### 5.2 Análisis de la mejor solución"
      ]
    },
    {
      "cell_type": "markdown",
      "metadata": {
        "id": "5J_S6U4sgiXm"
      },
      "source": [
        "<div style=\"background-color: #EDF7FF; border-color: #7C9DBF; border-left: 5px solid #7C9DBF; padding: 0.5em;\">\n",
        "<strong>Ejercicio [0,5 pts.]:</strong> Realizar un análisis de las medidas estadísticas más relevantes del modelo seleccionado en el apartado anterior y representar su matriz de confusión.\n",
        "\n",
        "¿Qué clase es la que mejor se predice? ¿Y la que peor resultados obtiene?\n",
        "\n",
        "Comentar los resultados\n",
        "</div>"
      ]
    },
    {
      "cell_type": "code",
      "execution_count": null,
      "metadata": {
        "id": "ht3FSeyp2a9n"
      },
      "outputs": [],
      "source": [
        "# Informe\n",
        "# TODO"
      ]
    },
    {
      "cell_type": "code",
      "execution_count": null,
      "metadata": {
        "id": "5KGRq8OtuChm"
      },
      "outputs": [],
      "source": [
        "# Matriz de confusión\n",
        "# TODO"
      ]
    },
    {
      "cell_type": "markdown",
      "metadata": {
        "id": "8cGNMNKOgPbP"
      },
      "source": [
        "### 5.3 Predicción de algunas imágenes del conjunto de test"
      ]
    },
    {
      "cell_type": "markdown",
      "metadata": {
        "id": "mbCYerEj2a9n"
      },
      "source": [
        "<div style=\"background-color: #EDF7FF; border-color: #7C9DBF; border-left: 5px solid #7C9DBF; padding: 0.5em;\">\n",
        "<strong>Ejercicio [0,5 pts.]:</strong> Visualizar diez imágenes al azar del conjunto de test. Mostrar la etiqueta real y la predicción.\n",
        "</div>"
      ]
    },
    {
      "cell_type": "code",
      "execution_count": null,
      "metadata": {
        "id": "O3X-b2YZ2a9n"
      },
      "outputs": [],
      "source": [
        "# Visualización\n",
        "# TODO"
      ]
    }
  ],
  "metadata": {
    "colab": {
      "collapsed_sections": [],
      "name": "20212_M2.875_PEC2-Enunciado.ipynb",
      "provenance": []
    },
    "kernelspec": {
      "display_name": "Python 3",
      "language": "python",
      "name": "python3"
    },
    "language_info": {
      "codemirror_mode": {
        "name": "ipython",
        "version": 3
      },
      "file_extension": ".py",
      "mimetype": "text/x-python",
      "name": "python",
      "nbconvert_exporter": "python",
      "pygments_lexer": "ipython3",
      "version": "3.8.8"
    },
    "accelerator": "GPU"
  },
  "nbformat": 4,
  "nbformat_minor": 0
}
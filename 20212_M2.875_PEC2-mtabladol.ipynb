{
  "cells": [
    {
      "cell_type": "markdown",
      "metadata": {
        "id": "x2vIPDgA2a9R"
      },
      "source": [
        "<div style=\"width: 100%; clear: both;\">\n",
        "<div style=\"float: left; width: 50%;\">\n",
        "<img src=\"http://www.uoc.edu/portal/_resources/common/imatges/marca_UOC/UOC_Masterbrand.jpg\", align=\"left\">\n",
        "</div>\n",
        "<div style=\"float: right; width: 50%;\">\n",
        "<p style=\"margin: 0; padding-top: 22px; text-align:right;\">M2.875 · Deep Learning · PEC2</p>\n",
        "<p style=\"margin: 0; text-align:right;\">2021-2 · Máster universitario en Ciencia de datos (Data science)</p>\n",
        "<p style=\"margin: 0; text-align:right; padding-button: 100px;\">Estudios de Informática, Multimedia y Telecomunicación</p>\n",
        "</div>\n",
        "</div>\n",
        "<div style=\"width:100%;\">&nbsp;</div>\n",
        "\n",
        "\n",
        "# PEC2: Redes Neuronales Convolucionales con KERAS"
      ]
    },
    {
      "cell_type": "markdown",
      "metadata": {
        "id": "lUutZf9A2a9W"
      },
      "source": [
        "A lo largo de esta práctica vamos a implementar varios modelos de redes neuronales para clasificar las imágenes de la base de datos [CIFAR10](https://www.cs.toronto.edu/~kriz/cifar.html).\n",
        "\n",
        "La base de datos CIFAR10 está formada por imágenes en color de dimensiones 32x32 píxels que pertenecen a 10 clases:\n",
        "\n",
        "- airplane (label 0)\n",
        "- automobile (label 1)\n",
        "- bird (label 2)\n",
        "- cat (label 3)\n",
        "- deer (label 4)\n",
        "- dog (label 5)\n",
        "- frog (label 6)\n",
        "- horse (label 7)\n",
        "- ship (label 8)\n",
        "- truck (label 9)\n",
        "\n",
        "Esta base de datos está compuesta de 60.000 registros que se dividen a su vez en 2 conjuntos: 50.000 imágenes para el conjunto de entrenamiento y 10.000 imágenes para el conjunto de test.\n",
        "\n",
        "En el ejercicio llevaremos a cabo la tarea de construir varios modelos con el objetivo de conseguir la mayor precisión al realizar la clasificación de las imágenes. Para ello implementaremos y analizaremos los siguientes modelos: \n",
        "​\n",
        "1. Una red neuronal artificial completamente conectada\n",
        "2. Una red neuronal convolucional de una capa\n",
        "3. Una red neuronal convolucional profunda\n",
        "\n",
        "​\n",
        "En todos los casos se utilizará la librería Keras con Tensorflow para la implementación del modelo, la compilación y el entrenamiento.\n",
        "\n",
        "Finalmente, realizaremos una predicción de las imágenes con el mejor modelo implementado.\n",
        "\n",
        "​\n",
        "**Importante: Cada uno de los ejercicios puede suponer varios minutos de ejecución, por lo que la entrega debe hacerse en formato notebook y en formato html donde se vea el código y los resultados y comentarios de cada ejercicio. Para exportar el notebook a html puede hacerse desde el menú File $\\to$ Download as $\\to$ HTML.**"
      ]
    },
    {
      "cell_type": "markdown",
      "metadata": {
        "id": "m8rwsLy02a9W"
      },
      "source": [
        "## 1. Descarga, análisis y pre-procesado de los datos (1,5 puntos)"
      ]
    },
    {
      "cell_type": "markdown",
      "metadata": {
        "id": "QNQQdIw2IK8f"
      },
      "source": [
        "### 1.1 Descarga de datos\n",
        "Empezamos importando algunos paquetes para la realización de la práctica y procedemos a descargar el dataset."
      ]
    },
    {
      "cell_type": "code",
      "execution_count": 1,
      "metadata": {
        "id": "9--RxIIO2a9X"
      },
      "outputs": [],
      "source": [
        "import numpy as np\n",
        "from tensorflow import keras\n",
        "from keras.datasets import cifar10\n",
        "from tensorflow.keras.utils import to_categorical\n",
        "from keras.models import Sequential\n",
        "from keras.layers import Dense, Conv2D, Flatten, Activation, Dropout, MaxPooling2D\n",
        "from tensorflow.keras.optimizers import Adam, SGD, Adadelta, Adagrad\n",
        "import matplotlib.pyplot as plt\n",
        "import time\n",
        "from sklearn.metrics import confusion_matrix, classification_report\n",
        "import seaborn as sns"
      ]
    },
    {
      "cell_type": "code",
      "execution_count": 2,
      "metadata": {
        "colab": {
          "base_uri": "https://localhost:8080/"
        },
        "id": "jmWVBW182a9Z",
        "outputId": "9a14573d-a9e3-4d3c-c5dc-a4da2bb0ca25"
      },
      "outputs": [
        {
          "output_type": "stream",
          "name": "stdout",
          "text": [
            "Downloading data from https://www.cs.toronto.edu/~kriz/cifar-10-python.tar.gz\n",
            "170500096/170498071 [==============================] - 3s 0us/step\n",
            "170508288/170498071 [==============================] - 3s 0us/step\n"
          ]
        }
      ],
      "source": [
        "# Descarga el dataset CIFAR10 y hace la partición train/test\n",
        "(X_train, y_train), (X_test, y_test) = cifar10.load_data()"
      ]
    },
    {
      "cell_type": "markdown",
      "metadata": {
        "id": "n7nhxiQCBeX-"
      },
      "source": [
        "### 1.2 Análisis de los datos\n",
        "<div style=\"background-color: #EDF7FF; border-color: #7C9DBF; border-left: 5px solid #7C9DBF; padding: 0.5em;\">\n",
        "<strong>Ejercicio [0,5 pts.]:</strong> Representar la dimensión de las variables X_train, y_train, X_test e y_test.\n",
        "\n",
        "Mostrar las imágenes de los primeros 10 registros del conjunto X_train junto con sus etiquetas en formato texto.\n",
        "\n",
        "**Nota**: Al ser las imágenes de pequeño tamaño (32x32) se recomienda escalarlas a la hora de representarlas.\n",
        "</div>"
      ]
    },
    {
      "cell_type": "code",
      "execution_count": 3,
      "metadata": {
        "id": "MFi297NW9YCI",
        "colab": {
          "base_uri": "https://localhost:8080/"
        },
        "outputId": "3a797eb6-cfc0-461c-d149-9eaef13c0ae6"
      },
      "outputs": [
        {
          "output_type": "execute_result",
          "data": {
            "text/plain": [
              "((50000, 32, 32, 3), (10000, 32, 32, 3), (50000, 1), (10000, 1))"
            ]
          },
          "metadata": {},
          "execution_count": 3
        }
      ],
      "source": [
        "# Análisis del conjunto de datos descargado\n",
        "X_train.shape, X_test.shape, y_train.shape, y_test.shape "
      ]
    },
    {
      "cell_type": "markdown",
      "source": [
        "|        | X_train   | X_test    | y_train  | y_test   |\n",
        "|--------|-----------|-----------|----------|----------|\n",
        "| Shapes | (50000, 32, 32, 3) | (10000, 32, 32, 3)  | (50000, 1) | (10000, 1) |"
      ],
      "metadata": {
        "id": "v0nne-yEALu-"
      }
    },
    {
      "cell_type": "code",
      "source": [
        "# Adjust proper figsize for scaling up the images\n",
        "f, axarr = plt.subplots(2,5, figsize=(25,12))\n",
        "axarr[0,0].imshow(X_train[0])\n",
        "\n",
        "n = 0\n",
        "for i in range(0,2):\n",
        "  for j in range(0,5):\n",
        "    axarr[i,j].imshow(X_train[n])\n",
        "    n = n + 1\n"
      ],
      "metadata": {
        "colab": {
          "base_uri": "https://localhost:8080/",
          "height": 369
        },
        "id": "qyoEvfmtAdzj",
        "outputId": "e887be0b-2b2e-4653-d752-2cf5be084112"
      },
      "execution_count": 65,
      "outputs": [
        {
          "output_type": "display_data",
          "data": {
            "text/plain": [
              "<Figure size 1800x864 with 10 Axes>"
            ],
            "image/png": "[encoded data removed]"
          },
          "metadata": {
            "needs_background": "light"
          }
        }
      ]
    },
    {
      "cell_type": "code",
      "execution_count": 14,
      "metadata": {
        "id": "t10FIQQ1mrPs"
      },
      "outputs": [],
      "source": [
        "import cv2\n",
        "\n",
        "# Convierte X_train y X_test a escala de grises\n",
        "X_train_grey = np.array([cv2.cvtColor(image, cv2.COLOR_BGR2GRAY) for image in X_train])\n",
        "X_test_grey = np.array([cv2.cvtColor(image, cv2.COLOR_BGR2GRAY) for image in X_test])"
      ]
    },
    {
      "cell_type": "markdown",
      "metadata": {
        "id": "xxUJh3nvB9Z_"
      },
      "source": [
        "<div style=\"background-color: #EDF7FF; border-color: #7C9DBF; border-left: 5px solid #7C9DBF; padding: 0.5em;\">\n",
        "<strong>Ejercicio [0,25 pts.]:</strong> Representar la dimensión de las variables X_train_grey y X_test_grey.\n",
        "\n",
        "Mostrar las imágenes de los primeros 10 registros del conjunto X_train_grey junto con sus etiquetas en formato texto.\n",
        "</div>"
      ]
    },
    {
      "cell_type": "code",
      "source": [
        "X_train_grey.shape, X_test_grey.shape "
      ],
      "metadata": {
        "colab": {
          "base_uri": "https://localhost:8080/"
        },
        "id": "1sqsO8Igf9MV",
        "outputId": "1e35179f-d4ef-40c3-b390-974c6b681a06"
      },
      "execution_count": 44,
      "outputs": [
        {
          "output_type": "execute_result",
          "data": {
            "text/plain": [
              "((50000, 32, 32), (10000, 32, 32))"
            ]
          },
          "metadata": {},
          "execution_count": 44
        }
      ]
    },
    {
      "cell_type": "markdown",
      "source": [
        "|        | X_train_grey   | X_test_grey    |\n",
        "|--------|-----------|-----------|\n",
        "| Shapes | (50000, 32, 32) | (10000, 32, 32)  |"
      ],
      "metadata": {
        "id": "u2dBQQekgGE_"
      }
    },
    {
      "cell_type": "code",
      "execution_count": 66,
      "metadata": {
        "id": "W_6FQJwsoTG9",
        "colab": {
          "base_uri": "https://localhost:8080/",
          "height": 378
        },
        "outputId": "f9109e15-da8b-4515-f804-55501f618b95"
      },
      "outputs": [
        {
          "output_type": "display_data",
          "data": {
            "text/plain": [
              "<Figure size 1800x864 with 10 Axes>"
            ],
            "image/png": "[encoded data removed]"
          },
          "metadata": {
            "needs_background": "light"
          }
        }
      ],
      "source": [
        "categories = dict({\n",
        "      0: 'airplane',\n",
        "      1: 'automobile',\n",
        "      2: 'bird',\n",
        "      3: 'cat',\n",
        "      4: 'deer',\n",
        "      5: 'dog',\n",
        "      6: 'frog',\n",
        "      7: 'horse',\n",
        "      8: 'ship',\n",
        "      9: 'truck',\n",
        "  })\n",
        "\n",
        "f, axarr = plt.subplots(2,5, figsize=(25,12))\n",
        "\n",
        "n = 0\n",
        "for i in range(0,2):\n",
        "  for j in range(0,5):\n",
        "    axarr[i,j].imshow(X_train_grey[n])\n",
        "    axarr[i,j].set_title(categories[y_train[n][0]])\n",
        "    n = n +1\n"
      ]
    },
    {
      "cell_type": "markdown",
      "metadata": {
        "id": "_PQexKZYF-78"
      },
      "source": [
        "El primer paso para entrenar una red neuronal consiste en pre-procesar los datos de entrenamiento y test para que cuadren con el formato esperado por las entradas y salidas de la red neuronal."
      ]
    },
    {
      "cell_type": "markdown",
      "metadata": {
        "id": "tWXEtO1TW9Z2"
      },
      "source": [
        "Empezaremos normalizando los datos de entrada para que estén en el rango [0,1] ya que, como podemos ver a continuación, se trata de valores enteros entre 0 y 255."
      ]
    },
    {
      "cell_type": "code",
      "execution_count": 45,
      "metadata": {
        "colab": {
          "base_uri": "https://localhost:8080/"
        },
        "id": "pzHXXAxySNWQ",
        "outputId": "e97ea97b-f476-49df-d25b-52c2ca5761e9"
      },
      "outputs": [
        {
          "output_type": "stream",
          "name": "stdout",
          "text": [
            "Los valores del primer registro de X_train_grey son: [[ 62  45  47 ... 128 121 120]\n",
            " [ 20   0   7 ...  82  77  82]\n",
            " [ 23   6  24 ...  78  78  68]\n",
            " ...\n",
            " [152 123 125 ... 117  27  32]\n",
            " [131 104 115 ... 136  58  51]\n",
            " [139 123 130 ... 174 112  90]]\n"
          ]
        }
      ],
      "source": [
        "print(\"Los valores del primer registro de X_train_grey son: {}\".format(X_train_grey[0]))"
      ]
    },
    {
      "cell_type": "code",
      "execution_count": 46,
      "metadata": {
        "colab": {
          "base_uri": "https://localhost:8080/"
        },
        "id": "GlRBW5tXQGwy",
        "outputId": "601fac00-1533-4183-b224-419363687a79"
      },
      "outputs": [
        {
          "output_type": "stream",
          "name": "stdout",
          "text": [
            "Los valores mínimo y máximo son 0 y 255.\n"
          ]
        }
      ],
      "source": [
        "# Determinar valores mínimo y máximo\n",
        "v_min = np.min(X_train_grey)\n",
        "v_max = np.max(X_train_grey)\n",
        "print(\"Los valores mínimo y máximo son {} y {}.\".format(v_min, v_max))"
      ]
    },
    {
      "cell_type": "markdown",
      "metadata": {
        "id": "kyPt-eoz2a9c"
      },
      "source": [
        "<div style=\"background-color: #EDF7FF; border-color: #7C9DBF; border-left: 5px solid #7C9DBF; padding: 0.5em;\">\n",
        "<strong>Ejercicio [0,5 pts.]:</strong> Normalizar los datos de entrada a la red para que estén comprendidos en el rango [0,1]. Imprimir los datos del primer registro una vez se ha llevado a cabo la normalización y comprobar de nuevo los valores máximo y mínimo. \n",
        "</div>"
      ]
    },
    {
      "cell_type": "markdown",
      "source": [
        "Dado que la sección de librerías importadas no incluye [MinMaxScaler](https://scikit-learn.org/stable/modules/generated/sklearn.preprocessing.MinMaxScaler.html) realizaremos los cálculos manualmente tal cual se indica en la descripción de su implementación"
      ],
      "metadata": {
        "id": "Gn-G1v0gjidE"
      }
    },
    {
      "cell_type": "code",
      "source": [
        "# Manually compute MinMaxScaler as detailed in https://scikit-learn.org/stable/modules/generated/sklearn.preprocessing.MinMaxScaler.html\n",
        "# Initialize values\n",
        "min = 0\n",
        "max = 1\n",
        "X = X_train_grey\n",
        "# Normalize\n",
        "X_std = (X - X.min(axis=0)) / (X.max(axis=0) - X.min(axis=0))\n",
        "X_train_grey_norm = X_std * (max - min) + min\n",
        "print(\"Los valores del primer registro de X_train_grey_norm son: {}\".format(X_train_grey_norm[0]))"
      ],
      "metadata": {
        "colab": {
          "base_uri": "https://localhost:8080/"
        },
        "id": "NbYCoQMiiZym",
        "outputId": "ad69c8f5-a11a-4dd6-bbc8-72801a7b0541"
      },
      "execution_count": 51,
      "outputs": [
        {
          "output_type": "stream",
          "name": "stdout",
          "text": [
            "Los valores del primer registro de X_train_grey_norm son: [[0.24313725 0.17647059 0.18431373 ... 0.50196078 0.4745098  0.47058824]\n",
            " [0.07843137 0.         0.02745098 ... 0.32156863 0.30196078 0.32156863]\n",
            " [0.09019608 0.02352941 0.09411765 ... 0.30588235 0.30588235 0.26666667]\n",
            " ...\n",
            " [0.59607843 0.48235294 0.49019608 ... 0.45882353 0.10588235 0.1254902 ]\n",
            " [0.51372549 0.40784314 0.45098039 ... 0.53333333 0.22745098 0.2       ]\n",
            " [0.54509804 0.48235294 0.50980392 ... 0.68235294 0.43921569 0.35294118]]\n"
          ]
        }
      ]
    },
    {
      "cell_type": "code",
      "source": [
        "# Determinar valores mínimo y máximo\n",
        "v_min = np.min(X_train_grey_norm)\n",
        "v_max = np.max(X_train_grey_norm)\n",
        "print(\"Los valores mínimo y máximo son {} y {}.\".format(v_min, v_max))"
      ],
      "metadata": {
        "colab": {
          "base_uri": "https://localhost:8080/"
        },
        "id": "e1Q-W8u6jXyW",
        "outputId": "7c3d823e-2e40-4186-daba-f6d1a5e27a07"
      },
      "execution_count": 50,
      "outputs": [
        {
          "output_type": "stream",
          "name": "stdout",
          "text": [
            "Los valores mínimo y máximo son 0.0 y 1.0.\n"
          ]
        }
      ]
    },
    {
      "cell_type": "markdown",
      "metadata": {
        "id": "2t8ezZci2a9d"
      },
      "source": [
        "<div style=\"background-color: #EDF7FF; border-color: #7C9DBF; border-left: 5px solid #7C9DBF; padding: 0.5em;\">\n",
        "<strong>Ejercicio [0,25 pts.]:</strong> Codificar los valores de las etiquetas de salida en un vector one-hot. Por ejemplo, el vector de salida para una imagen que contiene un 5 sería: [0., 0., 0., 0., 0., 1., 0., 0., 0., 0.]. Comprobar el resultado imprimiendo su dimensión y mostrando algún registro.\n",
        "</div>\n",
        "\n",
        "**Nota**: Se puede utilizar la función `to_categorical` de `tensorflow.keras.utils`. "
      ]
    },
    {
      "cell_type": "code",
      "execution_count": 53,
      "metadata": {
        "id": "WvWY9udY2a9d",
        "colab": {
          "base_uri": "https://localhost:8080/"
        },
        "outputId": "434a4202-b57d-42b8-9a30-edbaac89adbd"
      },
      "outputs": [
        {
          "output_type": "stream",
          "name": "stdout",
          "text": [
            "[[0 0 0 ... 0 0 0]\n",
            " [0 0 0 ... 0 0 1]\n",
            " [0 0 0 ... 0 0 1]\n",
            " ...\n",
            " [0 0 0 ... 0 0 1]\n",
            " [0 1 0 ... 0 0 0]\n",
            " [0 1 0 ... 0 0 0]]\n",
            "(50000, 10)\n",
            "[[0 0 0 ... 0 0 0]\n",
            " [0 0 0 ... 0 1 0]\n",
            " [0 0 0 ... 0 1 0]\n",
            " ...\n",
            " [0 0 0 ... 0 0 0]\n",
            " [0 1 0 ... 0 0 0]\n",
            " [0 0 0 ... 1 0 0]]\n",
            "(10000, 10)\n"
          ]
        }
      ],
      "source": [
        "# https://www.geeksforgeeks.org/python-keras-keras-utils-to_categorical/\n",
        "train_labels = to_categorical(y_train, dtype =\"uint8\")\n",
        "test_labels = to_categorical(y_test, dtype =\"uint8\")\n",
        " \n",
        "# Labels after applying the function\n",
        "# Training set labels\n",
        "print(train_labels)\n",
        "print(train_labels.shape)\n",
        " \n",
        "# Testing set labels\n",
        "print(test_labels)\n",
        "print(test_labels.shape)"
      ]
    },
    {
      "cell_type": "markdown",
      "metadata": {
        "id": "Oj0Ukdbk2a9b"
      },
      "source": [
        "## 2. Red Neuronal Artificial (ANN) completamente conectada [2,5 puntos]"
      ]
    },
    {
      "cell_type": "markdown",
      "metadata": {
        "id": "3oab2O5P2a9b"
      },
      "source": [
        "A continuación implementaremos una red neuronal *feed-forward fully connected* y llevaremos a cabo el entrenamiento y test sobre el dataset CIFAR."
      ]
    },
    {
      "cell_type": "markdown",
      "metadata": {
        "id": "x0gvf0eg2a9c"
      },
      "source": [
        "### 2.1 Pre-procesado de datos\n",
        "\n",
        "Dado que en una red neuronal artificial las entradas son unidimensionales, lo primero que tenemos que hacer es redimensionar los datos de entrada (las imágenes) para convertirlos en arrays de una dimensión."
      ]
    },
    {
      "cell_type": "markdown",
      "metadata": {
        "id": "Xe5H9GpZImso"
      },
      "source": [
        "<div style=\"background-color: #EDF7FF; border-color: #7C9DBF; border-left: 5px solid #7C9DBF; padding: 0.5em;\">\n",
        "<strong>Ejercicio [0,5 pts.]:</strong> Modificar los conjuntos X_train_grey y X_test_grey para que sus registros sean arrays unidimensionales de dimensión 32x32 = 1024 datos. Comprobad el resultado imprimiendo las dimensiones de las variables.\n",
        "</div>"
      ]
    },
    {
      "cell_type": "code",
      "execution_count": 67,
      "metadata": {
        "id": "xXGNSUawI9BZ"
      },
      "outputs": [],
      "source": [
        "X_train_gflat = X_train_grey.reshape(50000, 1024)\n",
        "X_test_gflat = X_test_grey.reshape(10000, 1024)"
      ]
    },
    {
      "cell_type": "code",
      "source": [
        "X_train_gflat.shape, X_test_gflat.shape"
      ],
      "metadata": {
        "id": "DWHD_0tgwHlB",
        "outputId": "ab4ea300-5e0b-4cbc-83c6-0b5b52b7a33e",
        "colab": {
          "base_uri": "https://localhost:8080/"
        }
      },
      "execution_count": 69,
      "outputs": [
        {
          "output_type": "execute_result",
          "data": {
            "text/plain": [
              "((50000, 1024), (10000, 1024))"
            ]
          },
          "metadata": {},
          "execution_count": 69
        }
      ]
    },
    {
      "cell_type": "code",
      "source": [
        "X0_gflat = X_train_grey[0].reshape(1024)\n",
        "X0_gflat.shape"
      ],
      "metadata": {
        "id": "I30w0ANuwS5e",
        "outputId": "4038e474-67d2-47dd-a52d-10dcdc593288",
        "colab": {
          "base_uri": "https://localhost:8080/"
        }
      },
      "execution_count": 70,
      "outputs": [
        {
          "output_type": "execute_result",
          "data": {
            "text/plain": [
              "(1024,)"
            ]
          },
          "metadata": {},
          "execution_count": 70
        }
      ]
    },
    {
      "cell_type": "code",
      "source": [
        "print(X0_gflat)"
      ],
      "metadata": {
        "id": "UmMWDA6fwfpJ",
        "outputId": "aa57cfba-cac4-4b1e-ef33-c9419e9eb2de",
        "colab": {
          "base_uri": "https://localhost:8080/"
        }
      },
      "execution_count": 72,
      "outputs": [
        {
          "output_type": "stream",
          "name": "stdout",
          "text": [
            "[ 62  45  47 ... 174 112  90]\n"
          ]
        }
      ]
    },
    {
      "cell_type": "code",
      "source": [
        "print(X_train_gflat[0])"
      ],
      "metadata": {
        "id": "0rVm_g3UwpCW",
        "outputId": "d2ad262e-e058-483d-ce96-dfa8e594c42e",
        "colab": {
          "base_uri": "https://localhost:8080/"
        }
      },
      "execution_count": 74,
      "outputs": [
        {
          "output_type": "stream",
          "name": "stdout",
          "text": [
            "[ 62  45  47 ... 174 112  90]\n"
          ]
        }
      ]
    },
    {
      "cell_type": "markdown",
      "metadata": {
        "id": "QpKngAje2a9e"
      },
      "source": [
        "### 2.2 Creación del modelo\n",
        "\n",
        "\n",
        "Vamos a usar un modelo `Sequential` de Keras "
      ]
    },
    {
      "cell_type": "markdown",
      "metadata": {
        "id": "jj1C4Bop2a9e"
      },
      "source": [
        "<div style=\"background-color: #EDF7FF; border-color: #7C9DBF; border-left: 5px solid #7C9DBF; padding: 0.5em;\">\n",
        "<strong>Ejercicio [2 pts.]:</strong> Implementa el modelo de red neuronal artificial:\n",
        "<ul>\n",
        "<li>   Diseña la arquitectura para el modelo de clasificación con las siguientes características:</li>\n",
        "   <ul>\n",
        "   <li> 6 capas ocultas de 128 neuronas.</li>\n",
        "   <li> 3 capas de Dropout del 20% (rate=0,2) intercaladas cada 2 capas densas. \n",
        "   <li> Función de activación de las capas intermedias: ReLU.</li>\n",
        "   <li> 1 capa de salida con las dimensiones y función de activación adecuadas para realizar la clasificación.\n",
        "   </ul>\n",
        "\n",
        "<li>   Imprime el modelo para ver el número de parámetros a entrenar.\n",
        "\n",
        "<li>   Compila el modelo con la función de pérdida más adecuada, el optimizador SGD, una velocidad de aprendizaje de 0.01, y la métrica Accuracy.</li>\n",
        "\n",
        "<li>   Ajusta el modelo con 100 épocas y un tamaño del batch de 128. Mide el tiempo de entrenamiento.</li>\n",
        "\n",
        "<li>   Muestra las gráficas de accuracy y loss. En cada gráfica debe visualizarse la curva de entrenamiento y la de validación. NOTA: Se recomienda hacer una función que imprima ambas gráficas para poder reutilizarla en próximos apartados.</li>\n",
        "<li>   Realiza la evaluación del modelo para mostrar la pérdida y la precisión final. </li>\n",
        "</ul>\n",
        "</div>"
      ]
    },
    {
      "cell_type": "code",
      "execution_count": 76,
      "metadata": {
        "id": "gm3tnjBd2a9e",
        "colab": {
          "base_uri": "https://localhost:8080/"
        },
        "outputId": "5eb4d310-8252-4b0b-814a-03e996c5af93"
      },
      "outputs": [
        {
          "output_type": "stream",
          "name": "stdout",
          "text": [
            "Model: \"sequential_1\"\n",
            "_________________________________________________________________\n",
            " Layer (type)                Output Shape              Param #   \n",
            "=================================================================\n",
            " conv2d (Conv2D)             (None, 32, 32, 128)       1280      \n",
            "                                                                 \n",
            " conv2d_1 (Conv2D)           (None, 32, 32, 128)       147584    \n",
            "                                                                 \n",
            " dropout (Dropout)           (None, 32, 32, 128)       0         \n",
            "                                                                 \n",
            " conv2d_2 (Conv2D)           (None, 32, 32, 128)       147584    \n",
            "                                                                 \n",
            " conv2d_3 (Conv2D)           (None, 32, 32, 128)       147584    \n",
            "                                                                 \n",
            " dropout_1 (Dropout)         (None, 32, 32, 128)       0         \n",
            "                                                                 \n",
            " conv2d_4 (Conv2D)           (None, 32, 32, 128)       147584    \n",
            "                                                                 \n",
            " conv2d_5 (Conv2D)           (None, 32, 32, 128)       147584    \n",
            "                                                                 \n",
            " dropout_2 (Dropout)         (None, 32, 32, 128)       0         \n",
            "                                                                 \n",
            " flatten (Flatten)           (None, 131072)            0         \n",
            "                                                                 \n",
            " dense (Dense)               (None, 10)                1310730   \n",
            "                                                                 \n",
            "=================================================================\n",
            "Total params: 2,049,930\n",
            "Trainable params: 2,049,930\n",
            "Non-trainable params: 0\n",
            "_________________________________________________________________\n"
          ]
        }
      ],
      "source": [
        "# Crear el modelo ANN\n",
        "model = Sequential()\n",
        "\n",
        "# When padding=\"same\" and strides=1, the output has the same size as the input.\n",
        "model.add(Conv2D(128, (3, 3), activation='relu', padding=\"same\", strides=1, input_shape=(32, 32, 1)))\n",
        "model.add(Conv2D(128, (3, 3), activation='relu', padding=\"same\", strides=1))\n",
        "model.add(Dropout(.2))\n",
        "model.add(Conv2D(128, (3, 3), activation='relu', padding=\"same\", strides=1))\n",
        "model.add(Conv2D(128, (3, 3), activation='relu', padding=\"same\", strides=1))\n",
        "model.add(Dropout(.2))\n",
        "model.add(Conv2D(128, (3, 3), activation='relu', padding=\"same\", strides=1))\n",
        "model.add(Conv2D(128, (3, 3), activation='relu', padding=\"same\", strides=1))\n",
        "model.add(Dropout(.2))\n",
        "\n",
        "# Capa softmax de clasificación con 10 valores posibles(etiqueas)\n",
        "model.add(Flatten())\n",
        "model.add(Dense(10, activation=\"softmax\"))\n",
        "\n",
        "model.summary()"
      ]
    },
    {
      "cell_type": "code",
      "execution_count": null,
      "metadata": {
        "id": "Rpys0OUWMv4y"
      },
      "outputs": [],
      "source": [
        "# Compile\n",
        "# TODO"
      ]
    },
    {
      "cell_type": "code",
      "execution_count": null,
      "metadata": {
        "id": "-bn3xNx3tMtG"
      },
      "outputs": [],
      "source": [
        "# Entrenar el modelo\n",
        "# TODO"
      ]
    },
    {
      "cell_type": "code",
      "execution_count": null,
      "metadata": {
        "id": "EmKH650QRjBC"
      },
      "outputs": [],
      "source": [
        "# Plot del training loss y el accuracy\n",
        "def plot_prediction(n_epochs, mfit):\n",
        "    # TODO"
      ]
    },
    {
      "cell_type": "code",
      "execution_count": null,
      "metadata": {
        "id": "htYq81tiPJyt"
      },
      "outputs": [],
      "source": [
        "# Resultados\n",
        "# TODO"
      ]
    },
    {
      "cell_type": "markdown",
      "metadata": {
        "id": "c_nHNEeQazFQ"
      },
      "source": [
        "## 3. Red Neuronal Convolucional de una capa [2.5 puntos]\n",
        "\n",
        "A continuación implementaremos una red neuronal convolucional de una capa y realizaremos el entrenamiento y test sobre el dataset CIFAR.\n",
        "\n",
        "Se recomienda, a partir de este punto realizar el entrenamiento en una máquina con GPU (puede activarse en plataformas como Google Colab o Kaggle) con el fin de reducir los tiempos de entrenamiento."
      ]
    },
    {
      "cell_type": "markdown",
      "metadata": {
        "id": "SC6bFzqBc5Ji"
      },
      "source": [
        "### 3.1 Pre-procesado de datos\n",
        "\n",
        "El primer paso para entrenar una red neuronal consiste en pre-procesar los datos de entrenamiento y test para que cuadren con las dimensiones de la entrada de la red neuronal."
      ]
    },
    {
      "cell_type": "markdown",
      "metadata": {
        "id": "FqZIruO2c_Y7"
      },
      "source": [
        "<div style=\"background-color: #EDF7FF; border-color: #7C9DBF; border-left: 5px solid #7C9DBF; padding: 0.5em;\">\n",
        "<strong>Ejercicio [0,5 pts.]:</strong> Ajustar el tamaño de los datos de entrenamiento y test para que tengan 4 dimensiones (la última dimensión tiene que ser 1 para indicar que las imágenes están en escala de grises).\n",
        "</div>\n",
        "\n",
        "**Nota**: Utilizar el número de datos de entrenamiento y test y el tamaño de las imágenes."
      ]
    },
    {
      "cell_type": "code",
      "execution_count": null,
      "metadata": {
        "id": "3m-PyKhRdJPd"
      },
      "outputs": [],
      "source": [
        "# TODO"
      ]
    },
    {
      "cell_type": "markdown",
      "metadata": {
        "id": "5N1TUTJDbjB2"
      },
      "source": [
        "### 3.2 Creación del modelo\n",
        "\n",
        "\n",
        "Se quiere implementar un modelo secuencial de Keras con las siguientes características:\n",
        "\n",
        "- La primera capa que añadiremos será una capa convolucional con las siguientes propiedades: \n",
        "    - Número de kernels (neuronas) de la primera capa oculta: 64 neuronas\n",
        "    - Tamaño de los kernels: 3x3\n",
        "    - Activación de los kernels: ReLU\n",
        "- A continuación añadiremos una capa Flatten para conectar la salida de la capa convolucional con la entrada de una capa densa.\n",
        "- Por último, añadiremos una capa densa de salida con el número de neuronas y función de activación adecuadas para llevar a cabo la clasificación.\n"
      ]
    },
    {
      "cell_type": "markdown",
      "metadata": {
        "id": "8NhWqEDUb3PG"
      },
      "source": [
        "<div style=\"background-color: #EDF7FF; border-color: #7C9DBF; border-left: 5px solid #7C9DBF; padding: 0.5em;\">\n",
        "<strong>Ejercicio [1,5 pts.]:</strong> Construir el modelo según los requerimientos indicados, además:\n",
        "<ul>\n",
        "<li>   Imprime el modelo para ver el número de parámetros a entrenar.\n",
        "\n",
        "<li>   Compila el modelo con la función de pérdida más adecuada, el optimizador ADAM y la métrica Accuracy.</li>\n",
        "\n",
        "<li>   Ajusta el modelo con 20 épocas y un tamaño del batch de 128. Mide el tiempo de entrenamiento.</li>\n",
        "\n",
        "<li>   Muestra las gráficas de accuracy y loss. En cada gráfica debe visualizarse la curva de entrenamiento y la de validación</li>\n",
        "<li>   Realiza la evaluación del modelo para mostrar la pérdida y la precisión final. </li>\n",
        "</div>\n",
        "</ul>"
      ]
    },
    {
      "cell_type": "code",
      "execution_count": null,
      "metadata": {
        "id": "_Tel4AeVbu1B"
      },
      "outputs": [],
      "source": [
        "# Crear la CNN monocapa\n",
        "# TODO"
      ]
    },
    {
      "cell_type": "code",
      "execution_count": null,
      "metadata": {
        "id": "wODD-SPddt1n"
      },
      "outputs": [],
      "source": [
        "# Compile\n",
        "# TODO"
      ]
    },
    {
      "cell_type": "code",
      "execution_count": null,
      "metadata": {
        "id": "Dp_qRTO0dz8C"
      },
      "outputs": [],
      "source": [
        "# Entrenamiento del modelo\n",
        "# TODO"
      ]
    },
    {
      "cell_type": "code",
      "execution_count": null,
      "metadata": {
        "id": "nvdC8nq6gM1j"
      },
      "outputs": [],
      "source": [
        "# Resultados\n",
        "# TODO"
      ]
    },
    {
      "cell_type": "markdown",
      "metadata": {
        "id": "3zvcOIXP2L00"
      },
      "source": [
        "### 3.3 GPU vs CPU\n"
      ]
    },
    {
      "cell_type": "markdown",
      "metadata": {
        "id": "xYYK99Qt2W-_"
      },
      "source": [
        "<div style=\"background-color: #EDF7FF; border-color: #7C9DBF; border-left: 5px solid #7C9DBF; padding: 0.5em;\">\n",
        "<strong>Ejercicio [0,5 pts.]:</strong> Volver a entrenar el modelo desde cero en un entorno sin GPU (sólo con CPU) y compara los tiempos de entrenamiento. Comenta los resultados.\n",
        "</div>"
      ]
    },
    {
      "cell_type": "markdown",
      "metadata": {
        "id": "vOVt54io2a9i"
      },
      "source": [
        "## 4. Deep CNN con Maxpooling y Dropout [2 puntos]"
      ]
    },
    {
      "cell_type": "markdown",
      "metadata": {
        "id": "Vu50DABS2a9i"
      },
      "source": [
        "En el ejercicio anterior hemos implementado una red convolucional de una sola capa. Ahora vamos a implementar una red neuronal convolucional profunda y veremos como esto se traduce en un mejor rendimiento en los resultados."
      ]
    },
    {
      "cell_type": "markdown",
      "metadata": {
        "id": "PtV-zHG2CObw"
      },
      "source": [
        "### 4.1 Creación del modelo\n"
      ]
    },
    {
      "cell_type": "markdown",
      "metadata": {
        "id": "stycEZSI2a9i"
      },
      "source": [
        "En este caso volveremos a utilizar el modelo `Sequential` de Keras que constará de: \n",
        "- Dos capas convolucionales de 32 kernels cada una de tamaño 3x3\n",
        "- Una capa de MaxPooling con un tamaño de 2x2\n",
        "- Una capa de Dropout con un rate=0.2\n",
        "- Dos capas convolucionales de 64 kernels cada una de tamaño 3x3\n",
        "- Una capa de MaxPooling con un tamaño de 2x2\n",
        "- Una capa de Dropout con un rate=0.2\n",
        "- Dos capas convolucionales de 128 kernels cada una de tamaño 3x3\n",
        "- Una capa de MaxPooling con un tamaño de 2x2\n",
        "- Una capa de Dropout con un rate=0.2\n",
        "- Todas las capas convolucionales con función de activación ReLU y padding = same\n",
        "- Una capa Flatten\n",
        "- Una capa densa con 128 neuronas y función de activación ReLU\n",
        "- Una capa de Dropout con un rate=0.2\n",
        "- Una capa densa de salida con el número de neuronas y la función de activación necesarias para llevar a cabo la clasificación"
      ]
    },
    {
      "cell_type": "markdown",
      "metadata": {
        "id": "WQlTGA8a2a9i"
      },
      "source": [
        "<div style=\"background-color: #EDF7FF; border-color: #7C9DBF; border-left: 5px solid #7C9DBF; padding: 0.5em;\">\n",
        "<strong>Ejercicio [1,5 pts.]:</strong> Construir el modelo según los requerimientos indicados, además:\n",
        "<ul>\n",
        "<li>   Imprime el modelo para ver el número de parámetros a entrenar.\n",
        "\n",
        "<li>   Compila el modelo con la función de pérdida más adecuada, el optimizador SGD (con learning rate de 0.001 y momentum de 0.9) y la métrica Accuracy.</li>\n",
        "\n",
        "<li>   Ajusta el modelo con 150 épocas y un tamaño del batch de 128. Mide el tiempo de entrenamiento.</li>\n",
        "\n",
        "<li>   Muestra las gráficas de accuracy y loss. En cada gráfica debe visualizarse la curva de entrenamiento y la de validación</li>\n",
        "<li>   Realiza la evaluación del modelo para mostrar la pérdida y la precisión final. </li>\n",
        "</div>\n",
        "</ul>\n",
        "</div>"
      ]
    },
    {
      "cell_type": "code",
      "execution_count": null,
      "metadata": {
        "id": "RDywqmMYHaVr"
      },
      "outputs": [],
      "source": [
        "# Crear la CNN profunda\n",
        "# TODO"
      ]
    },
    {
      "cell_type": "code",
      "execution_count": null,
      "metadata": {
        "id": "xMjSPOL8Ht1K"
      },
      "outputs": [],
      "source": [
        "# Compile\n",
        "# TODO"
      ]
    },
    {
      "cell_type": "code",
      "execution_count": null,
      "metadata": {
        "id": "u5nTBdmtIAB_"
      },
      "outputs": [],
      "source": [
        "# Entrenamiento del modelo\n",
        "# TODO"
      ]
    },
    {
      "cell_type": "code",
      "execution_count": null,
      "metadata": {
        "id": "ldCh_7JKMkIp"
      },
      "outputs": [],
      "source": [
        "# Resultados\n",
        "# TODO"
      ]
    },
    {
      "cell_type": "markdown",
      "metadata": {
        "id": "yt5nsalpD6bR"
      },
      "source": [
        "### 4.2 CNN con imágenes en color\n"
      ]
    },
    {
      "cell_type": "markdown",
      "metadata": {
        "id": "-TsR_PqR2a9j"
      },
      "source": [
        "Finalmente vamos a estudiar la influencia del color de las imágenes en la *performance* de la clasificación.\n",
        "\n",
        "Para ello utilizaremos una red convolucional con la misma estructura de la red del apartado anterior pero cambiando la capa de entrada para que podamos introducir las imágenes originales en color, arrays de dimensión (32, 32, 3)."
      ]
    },
    {
      "cell_type": "markdown",
      "metadata": {
        "id": "q7kUyx6x2a9j"
      },
      "source": [
        "<div style=\"background-color: #EDF7FF; border-color: #7C9DBF; border-left: 5px solid #7C9DBF; padding: 0.5em;\">\n",
        "<strong>Ejercicio [0,5 pts]:</strong> Volver a realizar el ejercicio anterior pero modificando la capa de entrada para poder utilizar el conjunto de datos original, de tamaño (50000, 32, 32, 3) para el conjunto de train y (10000, 32, 32, 3) para el conjunto de test.\n",
        "\n",
        "¿Influye el color de las imágenes en el resultado de la clasificación? Comentar el resultado.\n",
        "</div>\n",
        "\n",
        "**Nota**: Recordar normalizar las imágenes para que sus valores estén entre 0 y 1."
      ]
    },
    {
      "cell_type": "code",
      "execution_count": null,
      "metadata": {
        "id": "JJGdAhZ92a9j"
      },
      "outputs": [],
      "source": [
        "# Normalizar\n",
        "# TODO"
      ]
    },
    {
      "cell_type": "code",
      "execution_count": null,
      "metadata": {
        "id": "4bY0Qvdl2a9k"
      },
      "outputs": [],
      "source": [
        "# Crear la CNN profunda\n",
        "# TODO"
      ]
    },
    {
      "cell_type": "code",
      "execution_count": null,
      "metadata": {
        "id": "stHpTKXL9XMd"
      },
      "outputs": [],
      "source": [
        "# Compile\n",
        "# TODO"
      ]
    },
    {
      "cell_type": "code",
      "execution_count": null,
      "metadata": {
        "id": "wVLGM1W19eVp"
      },
      "outputs": [],
      "source": [
        "# Entrenamiento del modelo\n",
        "# TODO"
      ]
    },
    {
      "cell_type": "code",
      "execution_count": null,
      "metadata": {
        "id": "n6uk1GFxGEQ0"
      },
      "outputs": [],
      "source": [
        "# Resultados\n",
        "# TODO"
      ]
    },
    {
      "cell_type": "markdown",
      "metadata": {
        "id": "vZYPL7X12a9k"
      },
      "source": [
        "## 5. Comparativa de los modelos implementados y predicción [1,5 puntos]"
      ]
    },
    {
      "cell_type": "markdown",
      "metadata": {
        "id": "AHDLpGpw2a9l"
      },
      "source": [
        "En este último apartado compararemos los modelos implementados y realizaremos la clasificación de algunas imágenes con el modelo que ha dado los mejores resultados."
      ]
    },
    {
      "cell_type": "markdown",
      "metadata": {
        "id": "0hERn2-12a9m"
      },
      "source": [
        "### 5.1 Comparativa de los modelos implementados"
      ]
    },
    {
      "cell_type": "markdown",
      "metadata": {
        "id": "xjF0flQp2a9m"
      },
      "source": [
        "<div style=\"background-color: #EDF7FF; border-color: #7C9DBF; border-left: 5px solid #7C9DBF; padding: 0.5em;\">\n",
        "<strong>Ejercicio [0,5 pts.]:</strong> Realizar una comparativa de los modelos implementados comentando:\n",
        "\n",
        "*   La precisión obtenida\n",
        "*   La pérdida\n",
        "*   El tiempo de entrenamiento\n",
        "*   El número de parámetros a entrenar\n",
        "\n",
        "Comentar los resultados obtenidos.\n",
        "\n",
        "En base a los resultados obtenidos ¿Qué modelo seleccionaríais como el mejor?\n",
        "</div>"
      ]
    },
    {
      "cell_type": "markdown",
      "metadata": {
        "id": "mm6Zsvpc2a9k"
      },
      "source": [
        "<div style=\"background-color: #EDF7FF; border-color: #7C9DBF; border-left: 5px solid #7C9DBF; padding: 0.5em;\">\n",
        "<strong>Solución:</strong> \n",
        "</div>"
      ]
    },
    {
      "cell_type": "markdown",
      "metadata": {
        "id": "6r3p-EkV2a9n"
      },
      "source": [
        "### 5.2 Análisis de la mejor solución"
      ]
    },
    {
      "cell_type": "markdown",
      "metadata": {
        "id": "5J_S6U4sgiXm"
      },
      "source": [
        "<div style=\"background-color: #EDF7FF; border-color: #7C9DBF; border-left: 5px solid #7C9DBF; padding: 0.5em;\">\n",
        "<strong>Ejercicio [0,5 pts.]:</strong> Realizar un análisis de las medidas estadísticas más relevantes del modelo seleccionado en el apartado anterior y representar su matriz de confusión.\n",
        "\n",
        "¿Qué clase es la que mejor se predice? ¿Y la que peor resultados obtiene?\n",
        "\n",
        "Comentar los resultados\n",
        "</div>"
      ]
    },
    {
      "cell_type": "code",
      "execution_count": null,
      "metadata": {
        "id": "ht3FSeyp2a9n"
      },
      "outputs": [],
      "source": [
        "# Informe\n",
        "# TODO"
      ]
    },
    {
      "cell_type": "code",
      "execution_count": null,
      "metadata": {
        "id": "5KGRq8OtuChm"
      },
      "outputs": [],
      "source": [
        "# Matriz de confusión\n",
        "# TODO"
      ]
    },
    {
      "cell_type": "markdown",
      "metadata": {
        "id": "8cGNMNKOgPbP"
      },
      "source": [
        "### 5.3 Predicción de algunas imágenes del conjunto de test"
      ]
    },
    {
      "cell_type": "markdown",
      "metadata": {
        "id": "mbCYerEj2a9n"
      },
      "source": [
        "<div style=\"background-color: #EDF7FF; border-color: #7C9DBF; border-left: 5px solid #7C9DBF; padding: 0.5em;\">\n",
        "<strong>Ejercicio [0,5 pts.]:</strong> Visualizar diez imágenes al azar del conjunto de test. Mostrar la etiqueta real y la predicción.\n",
        "</div>"
      ]
    },
    {
      "cell_type": "code",
      "execution_count": null,
      "metadata": {
        "id": "O3X-b2YZ2a9n"
      },
      "outputs": [],
      "source": [
        "# Visualización\n",
        "# TODO"
      ]
    }
  ],
  "metadata": {
    "colab": {
      "collapsed_sections": [],
      "name": "20212_M2.875_PEC2-Enunciado.ipynb",
      "provenance": []
    },
    "kernelspec": {
      "display_name": "Python 3",
      "language": "python",
      "name": "python3"
    },
    "language_info": {
      "codemirror_mode": {
        "name": "ipython",
        "version": 3
      },
      "file_extension": ".py",
      "mimetype": "text/x-python",
      "name": "python",
      "nbconvert_exporter": "python",
      "pygments_lexer": "ipython3",
      "version": "3.8.8"
    }
  },
  "nbformat": 4,
  "nbformat_minor": 0
}
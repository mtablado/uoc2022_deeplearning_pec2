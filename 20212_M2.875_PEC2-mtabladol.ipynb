{
  "cells": [
    {
      "cell_type": "markdown",
      "metadata": {
        "id": "x2vIPDgA2a9R"
      },
      "source": [
        "<div style=\"width: 100%; clear: both;\">\n",
        "<div style=\"float: left; width: 50%;\">\n",
        "<img src=\"http://www.uoc.edu/portal/_resources/common/imatges/marca_UOC/UOC_Masterbrand.jpg\", align=\"left\">\n",
        "</div>\n",
        "<div style=\"float: right; width: 50%;\">\n",
        "<p style=\"margin: 0; padding-top: 22px; text-align:right;\">M2.875 · Deep Learning · PEC2</p>\n",
        "<p style=\"margin: 0; text-align:right;\">2021-2 · Máster universitario en Ciencia de datos (Data science)</p>\n",
        "<p style=\"margin: 0; text-align:right; padding-button: 100px;\">Estudios de Informática, Multimedia y Telecomunicación</p>\n",
        "</div>\n",
        "</div>\n",
        "<div style=\"width:100%;\">&nbsp;</div>\n",
        "\n",
        "\n",
        "# PEC2: Redes Neuronales Convolucionales con KERAS"
      ]
    },
    {
      "cell_type": "markdown",
      "metadata": {
        "id": "lUutZf9A2a9W"
      },
      "source": [
        "A lo largo de esta práctica vamos a implementar varios modelos de redes neuronales para clasificar las imágenes de la base de datos [CIFAR10](https://www.cs.toronto.edu/~kriz/cifar.html).\n",
        "\n",
        "La base de datos CIFAR10 está formada por imágenes en color de dimensiones 32x32 píxels que pertenecen a 10 clases:\n",
        "\n",
        "- airplane (label 0)\n",
        "- automobile (label 1)\n",
        "- bird (label 2)\n",
        "- cat (label 3)\n",
        "- deer (label 4)\n",
        "- dog (label 5)\n",
        "- frog (label 6)\n",
        "- horse (label 7)\n",
        "- ship (label 8)\n",
        "- truck (label 9)\n",
        "\n",
        "Esta base de datos está compuesta de 60.000 registros que se dividen a su vez en 2 conjuntos: 50.000 imágenes para el conjunto de entrenamiento y 10.000 imágenes para el conjunto de test.\n",
        "\n",
        "En el ejercicio llevaremos a cabo la tarea de construir varios modelos con el objetivo de conseguir la mayor precisión al realizar la clasificación de las imágenes. Para ello implementaremos y analizaremos los siguientes modelos: \n",
        "​\n",
        "1. Una red neuronal artificial completamente conectada\n",
        "2. Una red neuronal convolucional de una capa\n",
        "3. Una red neuronal convolucional profunda\n",
        "\n",
        "​\n",
        "En todos los casos se utilizará la librería Keras con Tensorflow para la implementación del modelo, la compilación y el entrenamiento.\n",
        "\n",
        "Finalmente, realizaremos una predicción de las imágenes con el mejor modelo implementado.\n",
        "\n",
        "​\n",
        "**Importante: Cada uno de los ejercicios puede suponer varios minutos de ejecución, por lo que la entrega debe hacerse en formato notebook y en formato html donde se vea el código y los resultados y comentarios de cada ejercicio. Para exportar el notebook a html puede hacerse desde el menú File $\\to$ Download as $\\to$ HTML.**"
      ]
    },
    {
      "cell_type": "markdown",
      "metadata": {
        "id": "m8rwsLy02a9W"
      },
      "source": [
        "## 1. Descarga, análisis y pre-procesado de los datos (1,5 puntos)"
      ]
    },
    {
      "cell_type": "markdown",
      "metadata": {
        "id": "QNQQdIw2IK8f"
      },
      "source": [
        "### 1.1 Descarga de datos\n",
        "Empezamos importando algunos paquetes para la realización de la práctica y procedemos a descargar el dataset."
      ]
    },
    {
      "cell_type": "code",
      "execution_count": 1,
      "metadata": {
        "id": "9--RxIIO2a9X"
      },
      "outputs": [],
      "source": [
        "import numpy as np\n",
        "from tensorflow import keras\n",
        "from keras.datasets import cifar10\n",
        "from tensorflow.keras.utils import to_categorical\n",
        "from keras.models import Sequential\n",
        "from keras.layers import Dense, Conv2D, Flatten, Activation, Dropout, MaxPooling2D\n",
        "from tensorflow.keras.optimizers import Adam, SGD, Adadelta, Adagrad\n",
        "import matplotlib.pyplot as plt\n",
        "import timeit\n",
        "from sklearn.metrics import confusion_matrix, classification_report, ConfusionMatrixDisplay\n",
        "import seaborn as sns"
      ]
    },
    {
      "cell_type": "code",
      "execution_count": 2,
      "metadata": {
        "colab": {
          "base_uri": "https://localhost:8080/"
        },
        "id": "jmWVBW182a9Z",
        "outputId": "dbbc2330-3232-4eca-bd99-bfbcb6d568c1"
      },
      "outputs": [
        {
          "output_type": "stream",
          "name": "stdout",
          "text": [
            "Downloading data from https://www.cs.toronto.edu/~kriz/cifar-10-python.tar.gz\n",
            "170500096/170498071 [==============================] - 2s 0us/step\n",
            "170508288/170498071 [==============================] - 2s 0us/step\n"
          ]
        }
      ],
      "source": [
        "# Descarga el dataset CIFAR10 y hace la partición train/test\n",
        "(X_train, y_train), (X_test, y_test) = cifar10.load_data()"
      ]
    },
    {
      "cell_type": "markdown",
      "metadata": {
        "id": "n7nhxiQCBeX-"
      },
      "source": [
        "### 1.2 Análisis de los datos\n",
        "<div style=\"background-color: #EDF7FF; border-color: #7C9DBF; border-left: 5px solid #7C9DBF; padding: 0.5em;\">\n",
        "<strong>Ejercicio [0,5 pts.]:</strong> Representar la dimensión de las variables X_train, y_train, X_test e y_test.\n",
        "\n",
        "Mostrar las imágenes de los primeros 10 registros del conjunto X_train junto con sus etiquetas en formato texto.\n",
        "\n",
        "**Nota**: Al ser las imágenes de pequeño tamaño (32x32) se recomienda escalarlas a la hora de representarlas.\n",
        "</div>"
      ]
    },
    {
      "cell_type": "code",
      "execution_count": 3,
      "metadata": {
        "id": "MFi297NW9YCI",
        "colab": {
          "base_uri": "https://localhost:8080/"
        },
        "outputId": "20f2a389-3e91-429d-baec-c793ba55db6e"
      },
      "outputs": [
        {
          "output_type": "execute_result",
          "data": {
            "text/plain": [
              "((50000, 32, 32, 3), (10000, 32, 32, 3), (50000, 1), (10000, 1))"
            ]
          },
          "metadata": {},
          "execution_count": 3
        }
      ],
      "source": [
        "# Análisis del conjunto de datos descargado\n",
        "X_train.shape, X_test.shape, y_train.shape, y_test.shape "
      ]
    },
    {
      "cell_type": "markdown",
      "source": [
        "|        | X_train   | X_test    | y_train  | y_test   |\n",
        "|--------|-----------|-----------|----------|----------|\n",
        "| Shapes | (50000, 32, 32, 3) | (10000, 32, 32, 3)  | (50000, 1) | (10000, 1) |"
      ],
      "metadata": {
        "id": "v0nne-yEALu-"
      }
    },
    {
      "cell_type": "code",
      "source": [
        "# Adjust proper figsize for scaling up the images\n",
        "f, axarr = plt.subplots(2,5, figsize=(25,12))\n",
        "axarr[0,0].imshow(X_train[0])\n",
        "\n",
        "n = 0\n",
        "for i in range(0,2):\n",
        "  for j in range(0,5):\n",
        "    axarr[i,j].imshow(X_train[n])\n",
        "    n = n + 1\n"
      ],
      "metadata": {
        "colab": {
          "base_uri": "https://localhost:8080/",
          "height": 644
        },
        "id": "qyoEvfmtAdzj",
        "outputId": "93bcbf55-7453-4916-c13c-d3d8333b9643"
      },
      "execution_count": 4,
      "outputs": [
        {
          "output_type": "display_data",
          "data": {
            "text/plain": [
              "<Figure size 1800x864 with 10 Axes>"
            ],
            "image/png": "[encoded data removed]"
          },
          "metadata": {
            "needs_background": "light"
          }
        }
      ]
    },
    {
      "cell_type": "code",
      "execution_count": 5,
      "metadata": {
        "id": "t10FIQQ1mrPs"
      },
      "outputs": [],
      "source": [
        "import cv2\n",
        "\n",
        "# Convierte X_train y X_test a escala de grises\n",
        "X_train_grey = np.array([cv2.cvtColor(image, cv2.COLOR_BGR2GRAY) for image in X_train])\n",
        "X_test_grey = np.array([cv2.cvtColor(image, cv2.COLOR_BGR2GRAY) for image in X_test])"
      ]
    },
    {
      "cell_type": "markdown",
      "metadata": {
        "id": "xxUJh3nvB9Z_"
      },
      "source": [
        "<div style=\"background-color: #EDF7FF; border-color: #7C9DBF; border-left: 5px solid #7C9DBF; padding: 0.5em;\">\n",
        "<strong>Ejercicio [0,25 pts.]:</strong> Representar la dimensión de las variables X_train_grey y X_test_grey.\n",
        "\n",
        "Mostrar las imágenes de los primeros 10 registros del conjunto X_train_grey junto con sus etiquetas en formato texto.\n",
        "</div>"
      ]
    },
    {
      "cell_type": "code",
      "source": [
        "X_train_grey.shape, X_test_grey.shape "
      ],
      "metadata": {
        "colab": {
          "base_uri": "https://localhost:8080/"
        },
        "id": "1sqsO8Igf9MV",
        "outputId": "1c6e2de6-9906-43aa-c84a-42574a84f7dd"
      },
      "execution_count": 6,
      "outputs": [
        {
          "output_type": "execute_result",
          "data": {
            "text/plain": [
              "((50000, 32, 32), (10000, 32, 32))"
            ]
          },
          "metadata": {},
          "execution_count": 6
        }
      ]
    },
    {
      "cell_type": "markdown",
      "source": [
        "|        | X_train_grey   | X_test_grey    |\n",
        "|--------|-----------|-----------|\n",
        "| Shapes | (50000, 32, 32) | (10000, 32, 32)  |"
      ],
      "metadata": {
        "id": "u2dBQQekgGE_"
      }
    },
    {
      "cell_type": "code",
      "execution_count": 7,
      "metadata": {
        "id": "W_6FQJwsoTG9",
        "colab": {
          "base_uri": "https://localhost:8080/",
          "height": 660
        },
        "outputId": "e240c4ba-fa56-47d4-c3f9-63a904bf0f8d"
      },
      "outputs": [
        {
          "output_type": "display_data",
          "data": {
            "text/plain": [
              "<Figure size 1800x864 with 10 Axes>"
            ],
            "image/png": "[encoded data removed]"
          },
          "metadata": {
            "needs_background": "light"
          }
        }
      ],
      "source": [
        "categories = dict({\n",
        "      0: 'airplane',\n",
        "      1: 'automobile',\n",
        "      2: 'bird',\n",
        "      3: 'cat',\n",
        "      4: 'deer',\n",
        "      5: 'dog',\n",
        "      6: 'frog',\n",
        "      7: 'horse',\n",
        "      8: 'ship',\n",
        "      9: 'truck',\n",
        "  })\n",
        "\n",
        "f, axarr = plt.subplots(2,5, figsize=(25,12))\n",
        "\n",
        "n = 0\n",
        "for i in range(0,2):\n",
        "  for j in range(0,5):\n",
        "    axarr[i,j].imshow(X_train_grey[n])\n",
        "    axarr[i,j].set_title(categories[y_train[n][0]])\n",
        "    n = n +1\n"
      ]
    },
    {
      "cell_type": "markdown",
      "metadata": {
        "id": "_PQexKZYF-78"
      },
      "source": [
        "El primer paso para entrenar una red neuronal consiste en pre-procesar los datos de entrenamiento y test para que cuadren con el formato esperado por las entradas y salidas de la red neuronal."
      ]
    },
    {
      "cell_type": "markdown",
      "metadata": {
        "id": "tWXEtO1TW9Z2"
      },
      "source": [
        "Empezaremos normalizando los datos de entrada para que estén en el rango [0,1] ya que, como podemos ver a continuación, se trata de valores enteros entre 0 y 255."
      ]
    },
    {
      "cell_type": "code",
      "execution_count": 8,
      "metadata": {
        "colab": {
          "base_uri": "https://localhost:8080/"
        },
        "id": "pzHXXAxySNWQ",
        "outputId": "7e029955-7560-454a-9999-ce6edef174ea"
      },
      "outputs": [
        {
          "output_type": "stream",
          "name": "stdout",
          "text": [
            "Los valores del primer registro de X_train_grey son: [[ 62  45  47 ... 128 121 120]\n",
            " [ 20   0   7 ...  82  77  82]\n",
            " [ 23   6  24 ...  78  78  68]\n",
            " ...\n",
            " [152 123 125 ... 117  27  32]\n",
            " [131 104 115 ... 136  58  51]\n",
            " [139 123 130 ... 174 112  90]]\n"
          ]
        }
      ],
      "source": [
        "print(\"Los valores del primer registro de X_train_grey son: {}\".format(X_train_grey[0]))"
      ]
    },
    {
      "cell_type": "code",
      "execution_count": 9,
      "metadata": {
        "colab": {
          "base_uri": "https://localhost:8080/"
        },
        "id": "GlRBW5tXQGwy",
        "outputId": "a92c686f-5fcb-40ce-9f93-57e8fe19ddc0"
      },
      "outputs": [
        {
          "output_type": "stream",
          "name": "stdout",
          "text": [
            "Los valores mínimo y máximo son 0 y 255.\n"
          ]
        }
      ],
      "source": [
        "# Determinar valores mínimo y máximo\n",
        "v_min = np.min(X_train_grey)\n",
        "v_max = np.max(X_train_grey)\n",
        "print(\"Los valores mínimo y máximo son {} y {}.\".format(v_min, v_max))"
      ]
    },
    {
      "cell_type": "markdown",
      "metadata": {
        "id": "kyPt-eoz2a9c"
      },
      "source": [
        "<div style=\"background-color: #EDF7FF; border-color: #7C9DBF; border-left: 5px solid #7C9DBF; padding: 0.5em;\">\n",
        "<strong>Ejercicio [0,5 pts.]:</strong> Normalizar los datos de entrada a la red para que estén comprendidos en el rango [0,1]. Imprimir los datos del primer registro una vez se ha llevado a cabo la normalización y comprobar de nuevo los valores máximo y mínimo. \n",
        "</div>"
      ]
    },
    {
      "cell_type": "markdown",
      "source": [
        "Dado que la sección de librerías importadas no incluye [MinMaxScaler](https://scikit-learn.org/stable/modules/generated/sklearn.preprocessing.MinMaxScaler.html) realizaremos los cálculos manualmente tal cual se indica en la descripción de su implementación"
      ],
      "metadata": {
        "id": "Gn-G1v0gjidE"
      }
    },
    {
      "cell_type": "code",
      "source": [
        "# Manually compute MinMaxScaler as detailed in https://scikit-learn.org/stable/modules/generated/sklearn.preprocessing.MinMaxScaler.html\n",
        "# Initialize values\n",
        "min = 0\n",
        "max = 1\n",
        "X = X_train_grey\n",
        "# Normalize\n",
        "X_std = (X - X.min(axis=0)) / (X.max(axis=0) - X.min(axis=0))\n",
        "X_train_grey_norm = X_std * (max - min) + min\n",
        "print(\"Los valores del primer registro de X_train_grey_norm son: {}\".format(X_train_grey_norm[0]))"
      ],
      "metadata": {
        "colab": {
          "base_uri": "https://localhost:8080/"
        },
        "id": "NbYCoQMiiZym",
        "outputId": "1390f95c-4417-4e99-d190-43146cf74bb1"
      },
      "execution_count": 10,
      "outputs": [
        {
          "output_type": "stream",
          "name": "stdout",
          "text": [
            "Los valores del primer registro de X_train_grey_norm son: [[0.24313725 0.17647059 0.18431373 ... 0.50196078 0.4745098  0.47058824]\n",
            " [0.07843137 0.         0.02745098 ... 0.32156863 0.30196078 0.32156863]\n",
            " [0.09019608 0.02352941 0.09411765 ... 0.30588235 0.30588235 0.26666667]\n",
            " ...\n",
            " [0.59607843 0.48235294 0.49019608 ... 0.45882353 0.10588235 0.1254902 ]\n",
            " [0.51372549 0.40784314 0.45098039 ... 0.53333333 0.22745098 0.2       ]\n",
            " [0.54509804 0.48235294 0.50980392 ... 0.68235294 0.43921569 0.35294118]]\n"
          ]
        }
      ]
    },
    {
      "cell_type": "code",
      "source": [
        "# Determinar valores mínimo y máximo\n",
        "v_min = np.min(X_train_grey_norm)\n",
        "v_max = np.max(X_train_grey_norm)\n",
        "print(\"Los valores mínimo y máximo son {} y {}.\".format(v_min, v_max))"
      ],
      "metadata": {
        "colab": {
          "base_uri": "https://localhost:8080/"
        },
        "id": "e1Q-W8u6jXyW",
        "outputId": "48770a22-e7b0-4660-87aa-6dc6487fab20"
      },
      "execution_count": 11,
      "outputs": [
        {
          "output_type": "stream",
          "name": "stdout",
          "text": [
            "Los valores mínimo y máximo son 0.0 y 1.0.\n"
          ]
        }
      ]
    },
    {
      "cell_type": "markdown",
      "metadata": {
        "id": "2t8ezZci2a9d"
      },
      "source": [
        "<div style=\"background-color: #EDF7FF; border-color: #7C9DBF; border-left: 5px solid #7C9DBF; padding: 0.5em;\">\n",
        "<strong>Ejercicio [0,25 pts.]:</strong> Codificar los valores de las etiquetas de salida en un vector one-hot. Por ejemplo, el vector de salida para una imagen que contiene un 5 sería: [0., 0., 0., 0., 0., 1., 0., 0., 0., 0.]. Comprobar el resultado imprimiendo su dimensión y mostrando algún registro.\n",
        "</div>\n",
        "\n",
        "**Nota**: Se puede utilizar la función `to_categorical` de `tensorflow.keras.utils`. "
      ]
    },
    {
      "cell_type": "code",
      "execution_count": 12,
      "metadata": {
        "id": "WvWY9udY2a9d",
        "colab": {
          "base_uri": "https://localhost:8080/"
        },
        "outputId": "82f11704-bd3e-4e41-ce66-ee93360238c0"
      },
      "outputs": [
        {
          "output_type": "stream",
          "name": "stdout",
          "text": [
            "[[0 0 0 ... 0 0 0]\n",
            " [0 0 0 ... 0 0 1]\n",
            " [0 0 0 ... 0 0 1]\n",
            " ...\n",
            " [0 0 0 ... 0 0 1]\n",
            " [0 1 0 ... 0 0 0]\n",
            " [0 1 0 ... 0 0 0]]\n",
            "(50000, 10)\n",
            "[[0 0 0 ... 0 0 0]\n",
            " [0 0 0 ... 0 1 0]\n",
            " [0 0 0 ... 0 1 0]\n",
            " ...\n",
            " [0 0 0 ... 0 0 0]\n",
            " [0 1 0 ... 0 0 0]\n",
            " [0 0 0 ... 1 0 0]]\n",
            "(10000, 10)\n"
          ]
        }
      ],
      "source": [
        "# https://www.geeksforgeeks.org/python-keras-keras-utils-to_categorical/\n",
        "train_labels = to_categorical(y_train, dtype =\"uint8\")\n",
        "test_labels = to_categorical(y_test, dtype =\"uint8\")\n",
        " \n",
        "# Labels after applying the function\n",
        "# Training set labels\n",
        "print(train_labels)\n",
        "print(train_labels.shape)\n",
        " \n",
        "# Testing set labels\n",
        "print(test_labels)\n",
        "print(test_labels.shape)"
      ]
    },
    {
      "cell_type": "markdown",
      "metadata": {
        "id": "Oj0Ukdbk2a9b"
      },
      "source": [
        "## 2. Red Neuronal Artificial (ANN) completamente conectada [2,5 puntos]"
      ]
    },
    {
      "cell_type": "markdown",
      "metadata": {
        "id": "3oab2O5P2a9b"
      },
      "source": [
        "A continuación implementaremos una red neuronal *feed-forward fully connected* y llevaremos a cabo el entrenamiento y test sobre el dataset CIFAR."
      ]
    },
    {
      "cell_type": "markdown",
      "metadata": {
        "id": "x0gvf0eg2a9c"
      },
      "source": [
        "### 2.1 Pre-procesado de datos\n",
        "\n",
        "Dado que en una red neuronal artificial las entradas son unidimensionales, lo primero que tenemos que hacer es redimensionar los datos de entrada (las imágenes) para convertirlos en arrays de una dimensión."
      ]
    },
    {
      "cell_type": "markdown",
      "metadata": {
        "id": "Xe5H9GpZImso"
      },
      "source": [
        "<div style=\"background-color: #EDF7FF; border-color: #7C9DBF; border-left: 5px solid #7C9DBF; padding: 0.5em;\">\n",
        "<strong>Ejercicio [0,5 pts.]:</strong> Modificar los conjuntos X_train_grey y X_test_grey para que sus registros sean arrays unidimensionales de dimensión 32x32 = 1024 datos. Comprobad el resultado imprimiendo las dimensiones de las variables.\n",
        "</div>"
      ]
    },
    {
      "cell_type": "code",
      "execution_count": 13,
      "metadata": {
        "id": "xXGNSUawI9BZ"
      },
      "outputs": [],
      "source": [
        "X_train_gflat = X_train_grey_norm.reshape(50000, 1024)\n",
        "X_test_gflat = X_test_grey.reshape(10000, 1024)"
      ]
    },
    {
      "cell_type": "code",
      "source": [
        "X_train_gflat.shape, X_test_gflat.shape"
      ],
      "metadata": {
        "colab": {
          "base_uri": "https://localhost:8080/"
        },
        "id": "DWHD_0tgwHlB",
        "outputId": "6e690894-196b-4289-aed1-d044964c8b2e"
      },
      "execution_count": 14,
      "outputs": [
        {
          "output_type": "execute_result",
          "data": {
            "text/plain": [
              "((50000, 1024), (10000, 1024))"
            ]
          },
          "metadata": {},
          "execution_count": 14
        }
      ]
    },
    {
      "cell_type": "markdown",
      "metadata": {
        "id": "QpKngAje2a9e"
      },
      "source": [
        "### 2.2 Creación del modelo\n",
        "\n",
        "\n",
        "Vamos a usar un modelo `Sequential` de Keras "
      ]
    },
    {
      "cell_type": "markdown",
      "metadata": {
        "id": "jj1C4Bop2a9e"
      },
      "source": [
        "<div style=\"background-color: #EDF7FF; border-color: #7C9DBF; border-left: 5px solid #7C9DBF; padding: 0.5em;\">\n",
        "<strong>Ejercicio [2 pts.]:</strong> Implementa el modelo de red neuronal artificial:\n",
        "<ul>\n",
        "<li>   Diseña la arquitectura para el modelo de clasificación con las siguientes características:</li>\n",
        "   <ul>\n",
        "   <li> 6 capas ocultas de 128 neuronas.</li>\n",
        "   <li> 3 capas de Dropout del 20% (rate=0,2) intercaladas cada 2 capas densas. \n",
        "   <li> Función de activación de las capas intermedias: ReLU.</li>\n",
        "   <li> 1 capa de salida con las dimensiones y función de activación adecuadas para realizar la clasificación.\n",
        "   </ul>\n",
        "\n",
        "<li>   Imprime el modelo para ver el número de parámetros a entrenar.\n",
        "\n",
        "<li>   Compila el modelo con la función de pérdida más adecuada, el optimizador SGD, una velocidad de aprendizaje de 0.01, y la métrica Accuracy.</li>\n",
        "\n",
        "<li>   Ajusta el modelo con 100 épocas y un tamaño del batch de 128. Mide el tiempo de entrenamiento.</li>\n",
        "\n",
        "<li>   Muestra las gráficas de accuracy y loss. En cada gráfica debe visualizarse la curva de entrenamiento y la de validación. NOTA: Se recomienda hacer una función que imprima ambas gráficas para poder reutilizarla en próximos apartados.</li>\n",
        "<li>   Realiza la evaluación del modelo para mostrar la pérdida y la precisión final. </li>\n",
        "</ul>\n",
        "</div>"
      ]
    },
    {
      "cell_type": "code",
      "execution_count": 15,
      "metadata": {
        "id": "gm3tnjBd2a9e",
        "colab": {
          "base_uri": "https://localhost:8080/"
        },
        "outputId": "9d00189e-ce69-4f3a-8b65-12adc1220741"
      },
      "outputs": [
        {
          "output_type": "stream",
          "name": "stdout",
          "text": [
            "Model: \"sequential\"\n",
            "_________________________________________________________________\n",
            " Layer (type)                Output Shape              Param #   \n",
            "=================================================================\n",
            " dense (Dense)               (None, 128)               131200    \n",
            "                                                                 \n",
            " dense_1 (Dense)             (None, 128)               16512     \n",
            "                                                                 \n",
            " dropout (Dropout)           (None, 128)               0         \n",
            "                                                                 \n",
            " dense_2 (Dense)             (None, 128)               16512     \n",
            "                                                                 \n",
            " dense_3 (Dense)             (None, 128)               16512     \n",
            "                                                                 \n",
            " dropout_1 (Dropout)         (None, 128)               0         \n",
            "                                                                 \n",
            " dense_4 (Dense)             (None, 128)               16512     \n",
            "                                                                 \n",
            " dense_5 (Dense)             (None, 128)               16512     \n",
            "                                                                 \n",
            " dropout_2 (Dropout)         (None, 128)               0         \n",
            "                                                                 \n",
            " dense_6 (Dense)             (None, 10)                1290      \n",
            "                                                                 \n",
            "=================================================================\n",
            "Total params: 215,050\n",
            "Trainable params: 215,050\n",
            "Non-trainable params: 0\n",
            "_________________________________________________________________\n"
          ]
        }
      ],
      "source": [
        "# Crear el modelo ANN\n",
        "model_ann = Sequential()\n",
        "\n",
        "# When padding=\"same\" and strides=1, the output has the same size as the input.\n",
        "model_ann.add(Dense(128, activation='relu', input_shape=(1024,)))\n",
        "model_ann.add(Dense(128, activation='relu'))\n",
        "model_ann.add(Dropout(.2))\n",
        "model_ann.add(Dense(128, activation='relu'))\n",
        "model_ann.add(Dense(128, activation='relu'))\n",
        "model_ann.add(Dropout(.2))\n",
        "model_ann.add(Dense(128, activation='relu'))\n",
        "model_ann.add(Dense(128, activation='relu'))\n",
        "model_ann.add(Dropout(.2))\n",
        "\n",
        "# Capa softmax de clasificación con 10 valores posibles(etiqueas)\n",
        "model_ann.add(Dense(10, activation=\"softmax\"))\n",
        "\n",
        "model_ann.summary()"
      ]
    },
    {
      "cell_type": "code",
      "execution_count": 16,
      "metadata": {
        "id": "Rpys0OUWMv4y"
      },
      "outputs": [],
      "source": [
        "# Compile\n",
        "\n",
        "# Compila el modelo con la función de pérdida más adecuada, \n",
        "# el optimizador SGD, una velocidad de aprendizaje de 0.01, y la métrica Accuracy.\n",
        "model_ann.compile(SGD(learning_rate=0.01),\n",
        "              \"categorical_crossentropy\",\n",
        "              metrics=['accuracy'])\n"
      ]
    },
    {
      "cell_type": "code",
      "execution_count": 17,
      "metadata": {
        "id": "-bn3xNx3tMtG",
        "colab": {
          "base_uri": "https://localhost:8080/"
        },
        "outputId": "1af03329-0edc-40b8-b4ae-9cd3972bc34d"
      },
      "outputs": [
        {
          "output_type": "stream",
          "name": "stdout",
          "text": [
            "Epoch 1/100\n",
            "391/391 [==============================] - 5s 6ms/step - loss: 2.2905 - accuracy: 0.1227 - val_loss: 40.8169 - val_accuracy: 0.1571\n",
            "Epoch 2/100\n",
            "391/391 [==============================] - 2s 5ms/step - loss: 2.2184 - accuracy: 0.1653 - val_loss: 89.2370 - val_accuracy: 0.1941\n",
            "Epoch 3/100\n",
            "391/391 [==============================] - 2s 5ms/step - loss: 2.1502 - accuracy: 0.1934 - val_loss: 147.1232 - val_accuracy: 0.1909\n",
            "Epoch 4/100\n",
            "391/391 [==============================] - 2s 6ms/step - loss: 2.1071 - accuracy: 0.2156 - val_loss: 189.0466 - val_accuracy: 0.1948\n",
            "Epoch 5/100\n",
            "391/391 [==============================] - 2s 5ms/step - loss: 2.0691 - accuracy: 0.2367 - val_loss: 193.9664 - val_accuracy: 0.2201\n",
            "Epoch 6/100\n",
            "391/391 [==============================] - 2s 5ms/step - loss: 2.0392 - accuracy: 0.2537 - val_loss: 255.9912 - val_accuracy: 0.2084\n",
            "Epoch 7/100\n",
            "391/391 [==============================] - 2s 5ms/step - loss: 2.0104 - accuracy: 0.2658 - val_loss: 239.3110 - val_accuracy: 0.2194\n",
            "Epoch 8/100\n",
            "391/391 [==============================] - 2s 5ms/step - loss: 1.9868 - accuracy: 0.2771 - val_loss: 288.5169 - val_accuracy: 0.2164\n",
            "Epoch 9/100\n",
            "391/391 [==============================] - 2s 5ms/step - loss: 1.9633 - accuracy: 0.2853 - val_loss: 318.9522 - val_accuracy: 0.2074\n",
            "Epoch 10/100\n",
            "391/391 [==============================] - 2s 6ms/step - loss: 1.9449 - accuracy: 0.2908 - val_loss: 317.1573 - val_accuracy: 0.2103\n",
            "Epoch 11/100\n",
            "391/391 [==============================] - 2s 6ms/step - loss: 1.9288 - accuracy: 0.2972 - val_loss: 333.1311 - val_accuracy: 0.2210\n",
            "Epoch 12/100\n",
            "391/391 [==============================] - 2s 6ms/step - loss: 1.9111 - accuracy: 0.3038 - val_loss: 344.1204 - val_accuracy: 0.2086\n",
            "Epoch 13/100\n",
            "391/391 [==============================] - 2s 6ms/step - loss: 1.9000 - accuracy: 0.3127 - val_loss: 370.8178 - val_accuracy: 0.2075\n",
            "Epoch 14/100\n",
            "391/391 [==============================] - 2s 6ms/step - loss: 1.8879 - accuracy: 0.3147 - val_loss: 306.8481 - val_accuracy: 0.2330\n",
            "Epoch 15/100\n",
            "391/391 [==============================] - 2s 6ms/step - loss: 1.8774 - accuracy: 0.3178 - val_loss: 353.3973 - val_accuracy: 0.2174\n",
            "Epoch 16/100\n",
            "391/391 [==============================] - 2s 6ms/step - loss: 1.8635 - accuracy: 0.3250 - val_loss: 303.0747 - val_accuracy: 0.2329\n",
            "Epoch 17/100\n",
            "391/391 [==============================] - 2s 6ms/step - loss: 1.8520 - accuracy: 0.3273 - val_loss: 306.4095 - val_accuracy: 0.2359\n",
            "Epoch 18/100\n",
            "391/391 [==============================] - 2s 6ms/step - loss: 1.8416 - accuracy: 0.3338 - val_loss: 293.3665 - val_accuracy: 0.2467\n",
            "Epoch 19/100\n",
            "391/391 [==============================] - 2s 6ms/step - loss: 1.8305 - accuracy: 0.3400 - val_loss: 316.7552 - val_accuracy: 0.2398\n",
            "Epoch 20/100\n",
            "391/391 [==============================] - 2s 6ms/step - loss: 1.8207 - accuracy: 0.3397 - val_loss: 253.9944 - val_accuracy: 0.2579\n",
            "Epoch 21/100\n",
            "391/391 [==============================] - 2s 6ms/step - loss: 1.8122 - accuracy: 0.3468 - val_loss: 310.0139 - val_accuracy: 0.2482\n",
            "Epoch 22/100\n",
            "391/391 [==============================] - 2s 6ms/step - loss: 1.8058 - accuracy: 0.3487 - val_loss: 259.3098 - val_accuracy: 0.2764\n",
            "Epoch 23/100\n",
            "391/391 [==============================] - 2s 6ms/step - loss: 1.7931 - accuracy: 0.3548 - val_loss: 289.9506 - val_accuracy: 0.2617\n",
            "Epoch 24/100\n",
            "391/391 [==============================] - 2s 6ms/step - loss: 1.7844 - accuracy: 0.3554 - val_loss: 314.3403 - val_accuracy: 0.2521\n",
            "Epoch 25/100\n",
            "391/391 [==============================] - 2s 6ms/step - loss: 1.7782 - accuracy: 0.3599 - val_loss: 262.1310 - val_accuracy: 0.2733\n",
            "Epoch 26/100\n",
            "391/391 [==============================] - 2s 5ms/step - loss: 1.7696 - accuracy: 0.3627 - val_loss: 335.4689 - val_accuracy: 0.2534\n",
            "Epoch 27/100\n",
            "391/391 [==============================] - 2s 5ms/step - loss: 1.7636 - accuracy: 0.3642 - val_loss: 256.6733 - val_accuracy: 0.2903\n",
            "Epoch 28/100\n",
            "391/391 [==============================] - 2s 6ms/step - loss: 1.7513 - accuracy: 0.3675 - val_loss: 244.2449 - val_accuracy: 0.2862\n",
            "Epoch 29/100\n",
            "391/391 [==============================] - 2s 5ms/step - loss: 1.7452 - accuracy: 0.3706 - val_loss: 346.4343 - val_accuracy: 0.2458\n",
            "Epoch 30/100\n",
            "391/391 [==============================] - 2s 6ms/step - loss: 1.7390 - accuracy: 0.3728 - val_loss: 295.3154 - val_accuracy: 0.2651\n",
            "Epoch 31/100\n",
            "391/391 [==============================] - 2s 6ms/step - loss: 1.7299 - accuracy: 0.3777 - val_loss: 251.4366 - val_accuracy: 0.2814\n",
            "Epoch 32/100\n",
            "391/391 [==============================] - 2s 6ms/step - loss: 1.7250 - accuracy: 0.3796 - val_loss: 277.1060 - val_accuracy: 0.2688\n",
            "Epoch 33/100\n",
            "391/391 [==============================] - 2s 6ms/step - loss: 1.7169 - accuracy: 0.3835 - val_loss: 263.9418 - val_accuracy: 0.2887\n",
            "Epoch 34/100\n",
            "391/391 [==============================] - 2s 6ms/step - loss: 1.7066 - accuracy: 0.3846 - val_loss: 252.9270 - val_accuracy: 0.2864\n",
            "Epoch 35/100\n",
            "391/391 [==============================] - 2s 6ms/step - loss: 1.7062 - accuracy: 0.3891 - val_loss: 269.2255 - val_accuracy: 0.2866\n",
            "Epoch 36/100\n",
            "391/391 [==============================] - 2s 6ms/step - loss: 1.6998 - accuracy: 0.3885 - val_loss: 270.8456 - val_accuracy: 0.2865\n",
            "Epoch 37/100\n",
            "391/391 [==============================] - 2s 6ms/step - loss: 1.6937 - accuracy: 0.3904 - val_loss: 243.2990 - val_accuracy: 0.3025\n",
            "Epoch 38/100\n",
            "391/391 [==============================] - 2s 6ms/step - loss: 1.6862 - accuracy: 0.3934 - val_loss: 302.6740 - val_accuracy: 0.2700\n",
            "Epoch 39/100\n",
            "391/391 [==============================] - 2s 6ms/step - loss: 1.6804 - accuracy: 0.3927 - val_loss: 269.2021 - val_accuracy: 0.2959\n",
            "Epoch 40/100\n",
            "391/391 [==============================] - 2s 5ms/step - loss: 1.6759 - accuracy: 0.3979 - val_loss: 271.7588 - val_accuracy: 0.2907\n",
            "Epoch 41/100\n",
            "391/391 [==============================] - 2s 6ms/step - loss: 1.6678 - accuracy: 0.4025 - val_loss: 270.6950 - val_accuracy: 0.2802\n",
            "Epoch 42/100\n",
            "391/391 [==============================] - 2s 5ms/step - loss: 1.6597 - accuracy: 0.4061 - val_loss: 273.3580 - val_accuracy: 0.2883\n",
            "Epoch 43/100\n",
            "391/391 [==============================] - 2s 6ms/step - loss: 1.6549 - accuracy: 0.4069 - val_loss: 298.3087 - val_accuracy: 0.2788\n",
            "Epoch 44/100\n",
            "391/391 [==============================] - 3s 9ms/step - loss: 1.6477 - accuracy: 0.4096 - val_loss: 255.9333 - val_accuracy: 0.3013\n",
            "Epoch 45/100\n",
            "391/391 [==============================] - 2s 6ms/step - loss: 1.6412 - accuracy: 0.4101 - val_loss: 302.3823 - val_accuracy: 0.2900\n",
            "Epoch 46/100\n",
            "391/391 [==============================] - 2s 5ms/step - loss: 1.6381 - accuracy: 0.4132 - val_loss: 279.5318 - val_accuracy: 0.2952\n",
            "Epoch 47/100\n",
            "391/391 [==============================] - 2s 6ms/step - loss: 1.6341 - accuracy: 0.4135 - val_loss: 266.9848 - val_accuracy: 0.2915\n",
            "Epoch 48/100\n",
            "391/391 [==============================] - 2s 5ms/step - loss: 1.6286 - accuracy: 0.4178 - val_loss: 293.5828 - val_accuracy: 0.2980\n",
            "Epoch 49/100\n",
            "391/391 [==============================] - 2s 5ms/step - loss: 1.6268 - accuracy: 0.4147 - val_loss: 275.9187 - val_accuracy: 0.2963\n",
            "Epoch 50/100\n",
            "391/391 [==============================] - 2s 6ms/step - loss: 1.6164 - accuracy: 0.4192 - val_loss: 301.6410 - val_accuracy: 0.2894\n",
            "Epoch 51/100\n",
            "391/391 [==============================] - 2s 5ms/step - loss: 1.6167 - accuracy: 0.4201 - val_loss: 252.0947 - val_accuracy: 0.3017\n",
            "Epoch 52/100\n",
            "391/391 [==============================] - 2s 6ms/step - loss: 1.6099 - accuracy: 0.4232 - val_loss: 278.2405 - val_accuracy: 0.2933\n",
            "Epoch 53/100\n",
            "391/391 [==============================] - 2s 6ms/step - loss: 1.6040 - accuracy: 0.4253 - val_loss: 287.7154 - val_accuracy: 0.2974\n",
            "Epoch 54/100\n",
            "391/391 [==============================] - 2s 6ms/step - loss: 1.6000 - accuracy: 0.4280 - val_loss: 266.2092 - val_accuracy: 0.2968\n",
            "Epoch 55/100\n",
            "391/391 [==============================] - 2s 6ms/step - loss: 1.5934 - accuracy: 0.4303 - val_loss: 331.3448 - val_accuracy: 0.2683\n",
            "Epoch 56/100\n",
            "391/391 [==============================] - 2s 5ms/step - loss: 1.5922 - accuracy: 0.4310 - val_loss: 304.4655 - val_accuracy: 0.2979\n",
            "Epoch 57/100\n",
            "391/391 [==============================] - 2s 5ms/step - loss: 1.5853 - accuracy: 0.4314 - val_loss: 289.5975 - val_accuracy: 0.2930\n",
            "Epoch 58/100\n",
            "391/391 [==============================] - 2s 5ms/step - loss: 1.5841 - accuracy: 0.4358 - val_loss: 292.2602 - val_accuracy: 0.2937\n",
            "Epoch 59/100\n",
            "391/391 [==============================] - 2s 5ms/step - loss: 1.5771 - accuracy: 0.4356 - val_loss: 291.3748 - val_accuracy: 0.2895\n",
            "Epoch 60/100\n",
            "391/391 [==============================] - 2s 6ms/step - loss: 1.5743 - accuracy: 0.4372 - val_loss: 298.2013 - val_accuracy: 0.2886\n",
            "Epoch 61/100\n",
            "391/391 [==============================] - 2s 6ms/step - loss: 1.5697 - accuracy: 0.4390 - val_loss: 310.1143 - val_accuracy: 0.2866\n",
            "Epoch 62/100\n",
            "391/391 [==============================] - 2s 5ms/step - loss: 1.5655 - accuracy: 0.4405 - val_loss: 256.6361 - val_accuracy: 0.3092\n",
            "Epoch 63/100\n",
            "391/391 [==============================] - 2s 5ms/step - loss: 1.5626 - accuracy: 0.4422 - val_loss: 285.6839 - val_accuracy: 0.3006\n",
            "Epoch 64/100\n",
            "391/391 [==============================] - 2s 5ms/step - loss: 1.5551 - accuracy: 0.4464 - val_loss: 289.0878 - val_accuracy: 0.2972\n",
            "Epoch 65/100\n",
            "391/391 [==============================] - 2s 5ms/step - loss: 1.5538 - accuracy: 0.4449 - val_loss: 337.3042 - val_accuracy: 0.2850\n",
            "Epoch 66/100\n",
            "391/391 [==============================] - 2s 5ms/step - loss: 1.5499 - accuracy: 0.4467 - val_loss: 304.1807 - val_accuracy: 0.2920\n",
            "Epoch 67/100\n",
            "391/391 [==============================] - 2s 5ms/step - loss: 1.5448 - accuracy: 0.4480 - val_loss: 316.1892 - val_accuracy: 0.2937\n",
            "Epoch 68/100\n",
            "391/391 [==============================] - 2s 6ms/step - loss: 1.5445 - accuracy: 0.4487 - val_loss: 312.3075 - val_accuracy: 0.2930\n",
            "Epoch 69/100\n",
            "391/391 [==============================] - 2s 5ms/step - loss: 1.5347 - accuracy: 0.4520 - val_loss: 297.1997 - val_accuracy: 0.2869\n",
            "Epoch 70/100\n",
            "391/391 [==============================] - 2s 5ms/step - loss: 1.5301 - accuracy: 0.4520 - val_loss: 317.8124 - val_accuracy: 0.2886\n",
            "Epoch 71/100\n",
            "391/391 [==============================] - 2s 6ms/step - loss: 1.5313 - accuracy: 0.4518 - val_loss: 291.8324 - val_accuracy: 0.2967\n",
            "Epoch 72/100\n",
            "391/391 [==============================] - 2s 5ms/step - loss: 1.5214 - accuracy: 0.4563 - val_loss: 347.3193 - val_accuracy: 0.2672\n",
            "Epoch 73/100\n",
            "391/391 [==============================] - 2s 6ms/step - loss: 1.5198 - accuracy: 0.4587 - val_loss: 342.2518 - val_accuracy: 0.2787\n",
            "Epoch 74/100\n",
            "391/391 [==============================] - 2s 6ms/step - loss: 1.5183 - accuracy: 0.4604 - val_loss: 305.7526 - val_accuracy: 0.2819\n",
            "Epoch 75/100\n",
            "391/391 [==============================] - 2s 6ms/step - loss: 1.5157 - accuracy: 0.4600 - val_loss: 281.1019 - val_accuracy: 0.2927\n",
            "Epoch 76/100\n",
            "391/391 [==============================] - 2s 6ms/step - loss: 1.5119 - accuracy: 0.4638 - val_loss: 329.6909 - val_accuracy: 0.2814\n",
            "Epoch 77/100\n",
            "391/391 [==============================] - 2s 6ms/step - loss: 1.5105 - accuracy: 0.4625 - val_loss: 317.9770 - val_accuracy: 0.2909\n",
            "Epoch 78/100\n",
            "391/391 [==============================] - 2s 6ms/step - loss: 1.5027 - accuracy: 0.4639 - val_loss: 360.3135 - val_accuracy: 0.2627\n",
            "Epoch 79/100\n",
            "391/391 [==============================] - 2s 6ms/step - loss: 1.4981 - accuracy: 0.4674 - val_loss: 338.4428 - val_accuracy: 0.2740\n",
            "Epoch 80/100\n",
            "391/391 [==============================] - 2s 5ms/step - loss: 1.4998 - accuracy: 0.4645 - val_loss: 299.3532 - val_accuracy: 0.2904\n",
            "Epoch 81/100\n",
            "391/391 [==============================] - 2s 5ms/step - loss: 1.4953 - accuracy: 0.4669 - val_loss: 306.8982 - val_accuracy: 0.2936\n",
            "Epoch 82/100\n",
            "391/391 [==============================] - 2s 5ms/step - loss: 1.4899 - accuracy: 0.4705 - val_loss: 323.1915 - val_accuracy: 0.2919\n",
            "Epoch 83/100\n",
            "391/391 [==============================] - 2s 5ms/step - loss: 1.4902 - accuracy: 0.4699 - val_loss: 335.5013 - val_accuracy: 0.2861\n",
            "Epoch 84/100\n",
            "391/391 [==============================] - 2s 5ms/step - loss: 1.4818 - accuracy: 0.4720 - val_loss: 328.0968 - val_accuracy: 0.2848\n",
            "Epoch 85/100\n",
            "391/391 [==============================] - 2s 6ms/step - loss: 1.4799 - accuracy: 0.4745 - val_loss: 311.3890 - val_accuracy: 0.2900\n",
            "Epoch 86/100\n",
            "391/391 [==============================] - 2s 6ms/step - loss: 1.4741 - accuracy: 0.4728 - val_loss: 317.5861 - val_accuracy: 0.2960\n",
            "Epoch 87/100\n",
            "391/391 [==============================] - 2s 5ms/step - loss: 1.4748 - accuracy: 0.4756 - val_loss: 325.6267 - val_accuracy: 0.2942\n",
            "Epoch 88/100\n",
            "391/391 [==============================] - 2s 6ms/step - loss: 1.4732 - accuracy: 0.4770 - val_loss: 312.5872 - val_accuracy: 0.2846\n",
            "Epoch 89/100\n",
            "391/391 [==============================] - 2s 5ms/step - loss: 1.4686 - accuracy: 0.4759 - val_loss: 356.2260 - val_accuracy: 0.2800\n",
            "Epoch 90/100\n",
            "391/391 [==============================] - 2s 6ms/step - loss: 1.4658 - accuracy: 0.4776 - val_loss: 306.9759 - val_accuracy: 0.2862\n",
            "Epoch 91/100\n",
            "391/391 [==============================] - 2s 6ms/step - loss: 1.4604 - accuracy: 0.4811 - val_loss: 364.0455 - val_accuracy: 0.2778\n",
            "Epoch 92/100\n",
            "391/391 [==============================] - 2s 6ms/step - loss: 1.4613 - accuracy: 0.4793 - val_loss: 345.8606 - val_accuracy: 0.2898\n",
            "Epoch 93/100\n",
            "391/391 [==============================] - 2s 5ms/step - loss: 1.4494 - accuracy: 0.4874 - val_loss: 361.9383 - val_accuracy: 0.2821\n",
            "Epoch 94/100\n",
            "391/391 [==============================] - 2s 6ms/step - loss: 1.4513 - accuracy: 0.4816 - val_loss: 302.6360 - val_accuracy: 0.3008\n",
            "Epoch 95/100\n",
            "391/391 [==============================] - 2s 6ms/step - loss: 1.4453 - accuracy: 0.4850 - val_loss: 361.9709 - val_accuracy: 0.2764\n",
            "Epoch 96/100\n",
            "391/391 [==============================] - 2s 6ms/step - loss: 1.4471 - accuracy: 0.4840 - val_loss: 330.3583 - val_accuracy: 0.2876\n",
            "Epoch 97/100\n",
            "391/391 [==============================] - 2s 5ms/step - loss: 1.4368 - accuracy: 0.4888 - val_loss: 362.3066 - val_accuracy: 0.2932\n",
            "Epoch 98/100\n",
            "391/391 [==============================] - 2s 6ms/step - loss: 1.4386 - accuracy: 0.4892 - val_loss: 311.9871 - val_accuracy: 0.2918\n",
            "Epoch 99/100\n",
            "391/391 [==============================] - 2s 6ms/step - loss: 1.4359 - accuracy: 0.4896 - val_loss: 319.3835 - val_accuracy: 0.2906\n",
            "Epoch 100/100\n",
            "391/391 [==============================] - 3s 6ms/step - loss: 1.4347 - accuracy: 0.4869 - val_loss: 311.7035 - val_accuracy: 0.2905\n"
          ]
        }
      ],
      "source": [
        "# Entrenar el modelo\n",
        "t0 = timeit.default_timer()\n",
        "mfit_ann = model_ann.fit(X_train_gflat, train_labels, epochs=100, batch_size=128,\n",
        "                    validation_data=(X_test_gflat, test_labels))\n",
        "training_time_ann = timeit.default_timer() - t0"
      ]
    },
    {
      "cell_type": "code",
      "source": [
        "print(\"El tiempo de entrenamiento de la red es {} segundos.\".format(training_time_ann))"
      ],
      "metadata": {
        "colab": {
          "base_uri": "https://localhost:8080/"
        },
        "id": "7o671OHne_AO",
        "outputId": "82d557cd-382c-4114-ec4a-b1a2754aa982"
      },
      "execution_count": 18,
      "outputs": [
        {
          "output_type": "stream",
          "name": "stdout",
          "text": [
            "El tiempo de entrenamiento de la red es 223.02642529500002 segundos.\n"
          ]
        }
      ]
    },
    {
      "cell_type": "code",
      "execution_count": 19,
      "metadata": {
        "id": "EmKH650QRjBC",
        "colab": {
          "base_uri": "https://localhost:8080/",
          "height": 295
        },
        "outputId": "b813877f-2d98-4abe-d88e-6db8a43032ab"
      },
      "outputs": [
        {
          "output_type": "display_data",
          "data": {
            "text/plain": [
              "<Figure size 432x288 with 1 Axes>"
            ],
            "image/png": "[encoded data removed]"
          },
          "metadata": {
            "needs_background": "light"
          }
        }
      ],
      "source": [
        "# Plot del training loss y el accuracy\n",
        "def plot_prediction(n_epochs, mfit):\n",
        "  loss = mfit.history['loss']\n",
        "  val_loss = mfit.history['val_loss']\n",
        "\n",
        "  accuracy = mfit.history['accuracy']\n",
        "  val_accuracy = mfit.history['val_accuracy']\n",
        "\n",
        "  epochs = range(0,n_epochs)\n",
        "\n",
        "  plt.plot(epochs, loss, 'g', label='Training Loss')\n",
        "  plt.plot(epochs, val_loss, 'y', label='Validation Loss')\n",
        "\n",
        "  plt.plot(epochs, accuracy, 'b', label='Training Accuracy')\n",
        "  plt.plot(epochs, val_accuracy, 'r', label='Validation Accuracy')\n",
        "\n",
        "  plt.title('Model Loss and Accuracy')\n",
        "  plt.xticks(epochs)\n",
        "  plt.xlabel('Epochs')\n",
        "  plt.ylabel('Total')\n",
        "  plt.legend()\n",
        "  plt.show()\n",
        "\n",
        "plot_prediction(100, mfit_ann)"
      ]
    },
    {
      "cell_type": "code",
      "execution_count": 20,
      "metadata": {
        "id": "htYq81tiPJyt",
        "colab": {
          "base_uri": "https://localhost:8080/"
        },
        "outputId": "9a6c8f2d-dcc9-49d6-8917-490966547803"
      },
      "outputs": [
        {
          "output_type": "stream",
          "name": "stdout",
          "text": [
            "79/79 [==============================] - 0s 4ms/step - loss: 311.7035 - accuracy: 0.2905\n",
            "[311.7034606933594, 0.2904999852180481]\n"
          ]
        }
      ],
      "source": [
        "# Resultados\n",
        "results_ann = model_ann.evaluate(X_test_gflat, test_labels, batch_size=128, verbose=1)\n",
        "print(results_ann)"
      ]
    },
    {
      "cell_type": "markdown",
      "metadata": {
        "id": "c_nHNEeQazFQ"
      },
      "source": [
        "## 3. Red Neuronal Convolucional de una capa [2.5 puntos]\n",
        "\n",
        "A continuación implementaremos una red neuronal convolucional de una capa y realizaremos el entrenamiento y test sobre el dataset CIFAR.\n",
        "\n",
        "Se recomienda, a partir de este punto realizar el entrenamiento en una máquina con GPU (puede activarse en plataformas como Google Colab o Kaggle) con el fin de reducir los tiempos de entrenamiento."
      ]
    },
    {
      "cell_type": "markdown",
      "metadata": {
        "id": "SC6bFzqBc5Ji"
      },
      "source": [
        "### 3.1 Pre-procesado de datos\n",
        "\n",
        "El primer paso para entrenar una red neuronal consiste en pre-procesar los datos de entrenamiento y test para que cuadren con las dimensiones de la entrada de la red neuronal."
      ]
    },
    {
      "cell_type": "markdown",
      "metadata": {
        "id": "FqZIruO2c_Y7"
      },
      "source": [
        "<div style=\"background-color: #EDF7FF; border-color: #7C9DBF; border-left: 5px solid #7C9DBF; padding: 0.5em;\">\n",
        "<strong>Ejercicio [0,5 pts.]:</strong> Ajustar el tamaño de los datos de entrenamiento y test para que tengan 4 dimensiones (la última dimensión tiene que ser 1 para indicar que las imágenes están en escala de grises).\n",
        "</div>\n",
        "\n",
        "**Nota**: Utilizar el número de datos de entrenamiento y test y el tamaño de las imágenes."
      ]
    },
    {
      "cell_type": "code",
      "execution_count": 21,
      "metadata": {
        "id": "3m-PyKhRdJPd",
        "colab": {
          "base_uri": "https://localhost:8080/"
        },
        "outputId": "072f2fc3-a15e-4bad-d7e9-9eb711d206cb"
      },
      "outputs": [
        {
          "output_type": "execute_result",
          "data": {
            "text/plain": [
              "((50000, 32, 32, 1), (10000, 32, 32, 1))"
            ]
          },
          "metadata": {},
          "execution_count": 21
        }
      ],
      "source": [
        "X_train_g4dim = X_train_grey.reshape(50000,32,32,1)\n",
        "X_test_g4dim = X_test_grey.reshape(10000,32,32,1)\n",
        "X_train_g4dim.shape, X_test_g4dim.shape"
      ]
    },
    {
      "cell_type": "markdown",
      "metadata": {
        "id": "5N1TUTJDbjB2"
      },
      "source": [
        "### 3.2 Creación del modelo\n",
        "\n",
        "\n",
        "Se quiere implementar un modelo secuencial de Keras con las siguientes características:\n",
        "\n",
        "- La primera capa que añadiremos será una capa convolucional con las siguientes propiedades: \n",
        "    - Número de kernels (neuronas) de la primera capa oculta: 64 neuronas\n",
        "    - Tamaño de los kernels: 3x3\n",
        "    - Activación de los kernels: ReLU\n",
        "- A continuación añadiremos una capa Flatten para conectar la salida de la capa convolucional con la entrada de una capa densa.\n",
        "- Por último, añadiremos una capa densa de salida con el número de neuronas y función de activación adecuadas para llevar a cabo la clasificación.\n"
      ]
    },
    {
      "cell_type": "markdown",
      "metadata": {
        "id": "8NhWqEDUb3PG"
      },
      "source": [
        "<div style=\"background-color: #EDF7FF; border-color: #7C9DBF; border-left: 5px solid #7C9DBF; padding: 0.5em;\">\n",
        "<strong>Ejercicio [1,5 pts.]:</strong> Construir el modelo según los requerimientos indicados, además:\n",
        "<ul>\n",
        "<li>   Imprime el modelo para ver el número de parámetros a entrenar.\n",
        "\n",
        "<li>   Compila el modelo con la función de pérdida más adecuada, el optimizador ADAM y la métrica Accuracy.</li>\n",
        "\n",
        "<li>   Ajusta el modelo con 20 épocas y un tamaño del batch de 128. Mide el tiempo de entrenamiento.</li>\n",
        "\n",
        "<li>   Muestra las gráficas de accuracy y loss. En cada gráfica debe visualizarse la curva de entrenamiento y la de validación</li>\n",
        "<li>   Realiza la evaluación del modelo para mostrar la pérdida y la precisión final. </li>\n",
        "</div>\n",
        "</ul>"
      ]
    },
    {
      "cell_type": "code",
      "execution_count": 22,
      "metadata": {
        "id": "_Tel4AeVbu1B"
      },
      "outputs": [],
      "source": [
        "# Crear la CNN monocapa\n",
        "model_cnn_single = Sequential()\n",
        "\n",
        "model_cnn_single.add(Conv2D(64, (3, 3), activation='relu', input_shape=(32,32,1)))\n",
        "model_cnn_single.add(Flatten())\n",
        "\n",
        "# Capa softmax de clasificación con 10 valores posibles(etiqueas)\n",
        "model_cnn_single.add(Dense(10, activation=\"softmax\"))"
      ]
    },
    {
      "cell_type": "code",
      "execution_count": 23,
      "metadata": {
        "id": "wODD-SPddt1n"
      },
      "outputs": [],
      "source": [
        "# Compile\n",
        "model_cnn_single.compile(Adam(learning_rate=0.01),\n",
        "              \"categorical_crossentropy\",\n",
        "              metrics=['accuracy'])"
      ]
    },
    {
      "cell_type": "code",
      "execution_count": 24,
      "metadata": {
        "id": "Dp_qRTO0dz8C",
        "colab": {
          "base_uri": "https://localhost:8080/"
        },
        "outputId": "0a7fc3da-d896-41ef-81ce-09a4cefa1a73"
      },
      "outputs": [
        {
          "output_type": "stream",
          "name": "stdout",
          "text": [
            "Epoch 1/20\n",
            "391/391 [==============================] - 12s 12ms/step - loss: 16.0611 - accuracy: 0.1000 - val_loss: 2.3032 - val_accuracy: 0.1011\n",
            "Epoch 2/20\n",
            "391/391 [==============================] - 4s 10ms/step - loss: 2.3018 - accuracy: 0.1017 - val_loss: 2.3030 - val_accuracy: 0.1003\n",
            "Epoch 3/20\n",
            "391/391 [==============================] - 4s 11ms/step - loss: 2.2979 - accuracy: 0.1066 - val_loss: 2.3064 - val_accuracy: 0.1044\n",
            "Epoch 4/20\n",
            "391/391 [==============================] - 4s 11ms/step - loss: 2.2893 - accuracy: 0.1109 - val_loss: 2.3105 - val_accuracy: 0.1037\n",
            "Epoch 5/20\n",
            "391/391 [==============================] - 4s 10ms/step - loss: 2.2764 - accuracy: 0.1164 - val_loss: 2.3204 - val_accuracy: 0.1041\n",
            "Epoch 6/20\n",
            "391/391 [==============================] - 4s 11ms/step - loss: 2.2596 - accuracy: 0.1244 - val_loss: 2.3522 - val_accuracy: 0.1048\n",
            "Epoch 7/20\n",
            "391/391 [==============================] - 4s 10ms/step - loss: 2.2444 - accuracy: 0.1309 - val_loss: 2.3636 - val_accuracy: 0.1064\n",
            "Epoch 8/20\n",
            "391/391 [==============================] - 4s 10ms/step - loss: 2.2298 - accuracy: 0.1372 - val_loss: 2.4219 - val_accuracy: 0.1089\n",
            "Epoch 9/20\n",
            "391/391 [==============================] - 4s 11ms/step - loss: 2.2162 - accuracy: 0.1432 - val_loss: 2.5648 - val_accuracy: 0.1121\n",
            "Epoch 10/20\n",
            "391/391 [==============================] - 4s 11ms/step - loss: 2.1941 - accuracy: 0.1519 - val_loss: 2.6024 - val_accuracy: 0.1106\n",
            "Epoch 11/20\n",
            "391/391 [==============================] - 4s 11ms/step - loss: 2.1699 - accuracy: 0.1660 - val_loss: 2.6961 - val_accuracy: 0.1141\n",
            "Epoch 12/20\n",
            "391/391 [==============================] - 4s 10ms/step - loss: 2.1601 - accuracy: 0.1712 - val_loss: 2.7870 - val_accuracy: 0.1116\n",
            "Epoch 13/20\n",
            "391/391 [==============================] - 4s 11ms/step - loss: 2.1412 - accuracy: 0.1780 - val_loss: 2.8823 - val_accuracy: 0.1120\n",
            "Epoch 14/20\n",
            "391/391 [==============================] - 4s 11ms/step - loss: 2.1314 - accuracy: 0.1801 - val_loss: 3.1163 - val_accuracy: 0.1210\n",
            "Epoch 15/20\n",
            "391/391 [==============================] - 4s 10ms/step - loss: 2.1023 - accuracy: 0.1921 - val_loss: 3.1617 - val_accuracy: 0.1141\n",
            "Epoch 16/20\n",
            "391/391 [==============================] - 4s 10ms/step - loss: 2.1133 - accuracy: 0.1939 - val_loss: 3.1556 - val_accuracy: 0.1143\n",
            "Epoch 17/20\n",
            "391/391 [==============================] - 4s 10ms/step - loss: 2.0951 - accuracy: 0.2001 - val_loss: 3.4262 - val_accuracy: 0.1147\n",
            "Epoch 18/20\n",
            "391/391 [==============================] - 4s 10ms/step - loss: 2.0912 - accuracy: 0.1979 - val_loss: 3.5345 - val_accuracy: 0.1222\n",
            "Epoch 19/20\n",
            "391/391 [==============================] - 4s 10ms/step - loss: 2.0723 - accuracy: 0.2044 - val_loss: 3.7398 - val_accuracy: 0.1156\n",
            "Epoch 20/20\n",
            "391/391 [==============================] - 4s 11ms/step - loss: 2.0624 - accuracy: 0.2072 - val_loss: 3.7419 - val_accuracy: 0.1191\n",
            "El tiempo de entrenamiento de la red es 90.57548051699996 segundos.\n"
          ]
        }
      ],
      "source": [
        "# Entrenamiento del modelo\n",
        "epochs = 20\n",
        "t0 = timeit.default_timer()\n",
        "mfit_cnn_single = model_cnn_single.fit(X_train_g4dim, train_labels, epochs=epochs, batch_size=128,\n",
        "                    validation_data=(X_test_g4dim, test_labels))\n",
        "training_time_cnn_single = timeit.default_timer() - t0\n",
        "print(\"El tiempo de entrenamiento de la red es {} segundos.\".format(training_time_cnn_single))"
      ]
    },
    {
      "cell_type": "code",
      "execution_count": 25,
      "metadata": {
        "id": "nvdC8nq6gM1j",
        "colab": {
          "base_uri": "https://localhost:8080/",
          "height": 295
        },
        "outputId": "645f0ec7-9bf6-44ec-ea32-b4675f39bc5d"
      },
      "outputs": [
        {
          "output_type": "display_data",
          "data": {
            "text/plain": [
              "<Figure size 432x288 with 1 Axes>"
            ],
            "image/png": "[encoded data removed]"
          },
          "metadata": {
            "needs_background": "light"
          }
        }
      ],
      "source": [
        "# Resultados\n",
        "plot_prediction(epochs, mfit_cnn_single)"
      ]
    },
    {
      "cell_type": "code",
      "source": [
        "results_cnn_single = model_cnn_single.evaluate(X_test_g4dim, test_labels, batch_size=128, verbose=1)\n",
        "print(results_cnn_single)"
      ],
      "metadata": {
        "colab": {
          "base_uri": "https://localhost:8080/"
        },
        "id": "4Z7d67dmva0x",
        "outputId": "d073230c-360b-4895-fbea-3065b0df30ad"
      },
      "execution_count": 26,
      "outputs": [
        {
          "output_type": "stream",
          "name": "stdout",
          "text": [
            "79/79 [==============================] - 0s 6ms/step - loss: 3.7419 - accuracy: 0.1191\n",
            "[3.7418735027313232, 0.11909999698400497]\n"
          ]
        }
      ]
    },
    {
      "cell_type": "markdown",
      "metadata": {
        "id": "3zvcOIXP2L00"
      },
      "source": [
        "### 3.3 GPU vs CPU\n"
      ]
    },
    {
      "cell_type": "markdown",
      "metadata": {
        "id": "xYYK99Qt2W-_"
      },
      "source": [
        "<div style=\"background-color: #EDF7FF; border-color: #7C9DBF; border-left: 5px solid #7C9DBF; padding: 0.5em;\">\n",
        "<strong>Ejercicio [0,5 pts.]:</strong> Volver a entrenar el modelo desde cero en un entorno sin GPU (sólo con CPU) y compara los tiempos de entrenamiento. Comenta los resultados.\n",
        "</div>"
      ]
    },
    {
      "cell_type": "markdown",
      "source": [
        "Con GPU: 95.6 segundos\n",
        "Sin GPU: 682.33 segundos"
      ],
      "metadata": {
        "id": "4Gs9dm_CoS81"
      }
    },
    {
      "cell_type": "markdown",
      "metadata": {
        "id": "vOVt54io2a9i"
      },
      "source": [
        "## 4. Deep CNN con Maxpooling y Dropout [2 puntos]"
      ]
    },
    {
      "cell_type": "markdown",
      "metadata": {
        "id": "Vu50DABS2a9i"
      },
      "source": [
        "En el ejercicio anterior hemos implementado una red convolucional de una sola capa. Ahora vamos a implementar una red neuronal convolucional profunda y veremos como esto se traduce en un mejor rendimiento en los resultados."
      ]
    },
    {
      "cell_type": "markdown",
      "metadata": {
        "id": "PtV-zHG2CObw"
      },
      "source": [
        "### 4.1 Creación del modelo\n"
      ]
    },
    {
      "cell_type": "markdown",
      "metadata": {
        "id": "stycEZSI2a9i"
      },
      "source": [
        "En este caso volveremos a utilizar el modelo `Sequential` de Keras que constará de: \n",
        "- Dos capas convolucionales de 32 kernels cada una de tamaño 3x3\n",
        "- Una capa de MaxPooling con un tamaño de 2x2\n",
        "- Una capa de Dropout con un rate=0.2\n",
        "- Dos capas convolucionales de 64 kernels cada una de tamaño 3x3\n",
        "- Una capa de MaxPooling con un tamaño de 2x2\n",
        "- Una capa de Dropout con un rate=0.2\n",
        "- Dos capas convolucionales de 128 kernels cada una de tamaño 3x3\n",
        "- Una capa de MaxPooling con un tamaño de 2x2\n",
        "- Una capa de Dropout con un rate=0.2\n",
        "- Todas las capas convolucionales con función de activación ReLU y padding = same\n",
        "- Una capa Flatten\n",
        "- Una capa densa con 128 neuronas y función de activación ReLU\n",
        "- Una capa de Dropout con un rate=0.2\n",
        "- Una capa densa de salida con el número de neuronas y la función de activación necesarias para llevar a cabo la clasificación"
      ]
    },
    {
      "cell_type": "markdown",
      "metadata": {
        "id": "WQlTGA8a2a9i"
      },
      "source": [
        "<div style=\"background-color: #EDF7FF; border-color: #7C9DBF; border-left: 5px solid #7C9DBF; padding: 0.5em;\">\n",
        "<strong>Ejercicio [1,5 pts.]:</strong> Construir el modelo según los requerimientos indicados, además:\n",
        "<ul>\n",
        "<li>   Imprime el modelo para ver el número de parámetros a entrenar.\n",
        "\n",
        "<li>   Compila el modelo con la función de pérdida más adecuada, el optimizador SGD (con learning rate de 0.001 y momentum de 0.9) y la métrica Accuracy.</li>\n",
        "\n",
        "<li>   Ajusta el modelo con 150 épocas y un tamaño del batch de 128. Mide el tiempo de entrenamiento.</li>\n",
        "\n",
        "<li>   Muestra las gráficas de accuracy y loss. En cada gráfica debe visualizarse la curva de entrenamiento y la de validación</li>\n",
        "<li>   Realiza la evaluación del modelo para mostrar la pérdida y la precisión final. </li>\n",
        "</div>\n",
        "</ul>\n",
        "</div>"
      ]
    },
    {
      "cell_type": "code",
      "execution_count": 27,
      "metadata": {
        "id": "RDywqmMYHaVr",
        "colab": {
          "base_uri": "https://localhost:8080/"
        },
        "outputId": "1cf6f10e-0323-4b9f-9288-ddf4337a19ee"
      },
      "outputs": [
        {
          "output_type": "stream",
          "name": "stdout",
          "text": [
            "Model: \"sequential_2\"\n",
            "_________________________________________________________________\n",
            " Layer (type)                Output Shape              Param #   \n",
            "=================================================================\n",
            " conv2d_1 (Conv2D)           (None, 32, 32, 32)        320       \n",
            "                                                                 \n",
            " conv2d_2 (Conv2D)           (None, 32, 32, 32)        9248      \n",
            "                                                                 \n",
            " max_pooling2d (MaxPooling2D  (None, 16, 16, 32)       0         \n",
            " )                                                               \n",
            "                                                                 \n",
            " dropout_3 (Dropout)         (None, 16, 16, 32)        0         \n",
            "                                                                 \n",
            " conv2d_3 (Conv2D)           (None, 16, 16, 64)        18496     \n",
            "                                                                 \n",
            " conv2d_4 (Conv2D)           (None, 16, 16, 64)        36928     \n",
            "                                                                 \n",
            " max_pooling2d_1 (MaxPooling  (None, 8, 8, 64)         0         \n",
            " 2D)                                                             \n",
            "                                                                 \n",
            " dropout_4 (Dropout)         (None, 8, 8, 64)          0         \n",
            "                                                                 \n",
            " conv2d_5 (Conv2D)           (None, 8, 8, 128)         73856     \n",
            "                                                                 \n",
            " conv2d_6 (Conv2D)           (None, 8, 8, 128)         147584    \n",
            "                                                                 \n",
            " max_pooling2d_2 (MaxPooling  (None, 4, 4, 128)        0         \n",
            " 2D)                                                             \n",
            "                                                                 \n",
            " dropout_5 (Dropout)         (None, 4, 4, 128)         0         \n",
            "                                                                 \n",
            " flatten_1 (Flatten)         (None, 2048)              0         \n",
            "                                                                 \n",
            " dense_8 (Dense)             (None, 128)               262272    \n",
            "                                                                 \n",
            " dropout_6 (Dropout)         (None, 128)               0         \n",
            "                                                                 \n",
            " dense_9 (Dense)             (None, 10)                1290      \n",
            "                                                                 \n",
            "=================================================================\n",
            "Total params: 549,994\n",
            "Trainable params: 549,994\n",
            "Non-trainable params: 0\n",
            "_________________________________________________________________\n"
          ]
        }
      ],
      "source": [
        "# Crear la CNN profunda\n",
        "model_cnn_deep_grey = Sequential()\n",
        "\n",
        "model_cnn_deep_grey.add(Conv2D(32, (3, 3), activation='relu', padding=\"same\", input_shape=(32,32,1)))\n",
        "model_cnn_deep_grey.add(Conv2D(32, (3, 3), activation='relu', padding=\"same\"))\n",
        "model_cnn_deep_grey.add(MaxPooling2D((2, 2)))\n",
        "model_cnn_deep_grey.add(Dropout(.2))\n",
        "\n",
        "model_cnn_deep_grey.add(Conv2D(64, (3, 3), activation='relu', padding=\"same\"))\n",
        "model_cnn_deep_grey.add(Conv2D(64, (3, 3), activation='relu', padding=\"same\"))\n",
        "model_cnn_deep_grey.add(MaxPooling2D((2, 2)))\n",
        "model_cnn_deep_grey.add(Dropout(.2))\n",
        "\n",
        "model_cnn_deep_grey.add(Conv2D(128, (3, 3), activation='relu', padding=\"same\"))\n",
        "model_cnn_deep_grey.add(Conv2D(128, (3, 3), activation='relu', padding=\"same\"))\n",
        "model_cnn_deep_grey.add(MaxPooling2D((2, 2)))\n",
        "model_cnn_deep_grey.add(Dropout(.2))\n",
        "\n",
        "model_cnn_deep_grey.add(Flatten())\n",
        "model_cnn_deep_grey.add(Dense(128, activation='relu'))\n",
        "model_cnn_deep_grey.add(Dropout(.2))\n",
        "\n",
        "# Capa softmax de clasificación con 10 valores posibles(etiqueas)\n",
        "model_cnn_deep_grey.add(Dense(10, activation=\"softmax\"))\n",
        "\n",
        "model_cnn_deep_grey.summary()"
      ]
    },
    {
      "cell_type": "code",
      "execution_count": 28,
      "metadata": {
        "id": "xMjSPOL8Ht1K"
      },
      "outputs": [],
      "source": [
        "# Compile\n",
        "model_cnn_deep_grey.compile(SGD(learning_rate=0.001, momentum=0.9),\n",
        "              \"categorical_crossentropy\",\n",
        "              metrics=['accuracy'])"
      ]
    },
    {
      "cell_type": "code",
      "execution_count": 29,
      "metadata": {
        "id": "u5nTBdmtIAB_",
        "colab": {
          "base_uri": "https://localhost:8080/"
        },
        "outputId": "4cce758b-998f-48a3-ceb0-9fbdcec060e6"
      },
      "outputs": [
        {
          "output_type": "stream",
          "name": "stdout",
          "text": [
            "Epoch 1/150\n",
            "391/391 [==============================] - 14s 34ms/step - loss: 2.2664 - accuracy: 0.1611 - val_loss: 1.9612 - val_accuracy: 0.3044\n",
            "Epoch 2/150\n",
            "391/391 [==============================] - 13s 32ms/step - loss: 1.9072 - accuracy: 0.2991 - val_loss: 1.7095 - val_accuracy: 0.3823\n",
            "Epoch 3/150\n",
            "391/391 [==============================] - 13s 32ms/step - loss: 1.7261 - accuracy: 0.3737 - val_loss: 1.5923 - val_accuracy: 0.4399\n",
            "Epoch 4/150\n",
            "391/391 [==============================] - 12s 32ms/step - loss: 1.5971 - accuracy: 0.4284 - val_loss: 1.4408 - val_accuracy: 0.4878\n",
            "Epoch 5/150\n",
            "391/391 [==============================] - 12s 32ms/step - loss: 1.4862 - accuracy: 0.4709 - val_loss: 1.3166 - val_accuracy: 0.5349\n",
            "Epoch 6/150\n",
            "391/391 [==============================] - 12s 32ms/step - loss: 1.3936 - accuracy: 0.5083 - val_loss: 1.2563 - val_accuracy: 0.5653\n",
            "Epoch 7/150\n",
            "391/391 [==============================] - 12s 32ms/step - loss: 1.3304 - accuracy: 0.5335 - val_loss: 1.2056 - val_accuracy: 0.5767\n",
            "Epoch 8/150\n",
            "391/391 [==============================] - 12s 32ms/step - loss: 1.2579 - accuracy: 0.5614 - val_loss: 1.1536 - val_accuracy: 0.5962\n",
            "Epoch 9/150\n",
            "391/391 [==============================] - 12s 32ms/step - loss: 1.2053 - accuracy: 0.5801 - val_loss: 1.1248 - val_accuracy: 0.6115\n",
            "Epoch 10/150\n",
            "391/391 [==============================] - 12s 32ms/step - loss: 1.1523 - accuracy: 0.5995 - val_loss: 1.0466 - val_accuracy: 0.6386\n",
            "Epoch 11/150\n",
            "391/391 [==============================] - 12s 32ms/step - loss: 1.1098 - accuracy: 0.6153 - val_loss: 1.0033 - val_accuracy: 0.6573\n",
            "Epoch 12/150\n",
            "391/391 [==============================] - 12s 32ms/step - loss: 1.0736 - accuracy: 0.6303 - val_loss: 0.9770 - val_accuracy: 0.6639\n",
            "Epoch 13/150\n",
            "391/391 [==============================] - 13s 32ms/step - loss: 1.0385 - accuracy: 0.6396 - val_loss: 0.9644 - val_accuracy: 0.6689\n",
            "Epoch 14/150\n",
            "391/391 [==============================] - 13s 34ms/step - loss: 0.9992 - accuracy: 0.6534 - val_loss: 0.9114 - val_accuracy: 0.6916\n",
            "Epoch 15/150\n",
            "391/391 [==============================] - 13s 33ms/step - loss: 0.9720 - accuracy: 0.6633 - val_loss: 0.9002 - val_accuracy: 0.6881\n",
            "Epoch 16/150\n",
            "391/391 [==============================] - 13s 32ms/step - loss: 0.9495 - accuracy: 0.6737 - val_loss: 0.9019 - val_accuracy: 0.6948\n",
            "Epoch 17/150\n",
            "391/391 [==============================] - 12s 32ms/step - loss: 0.9209 - accuracy: 0.6829 - val_loss: 0.8818 - val_accuracy: 0.6995\n",
            "Epoch 18/150\n",
            "391/391 [==============================] - 13s 33ms/step - loss: 0.8947 - accuracy: 0.6914 - val_loss: 0.8329 - val_accuracy: 0.7150\n",
            "Epoch 19/150\n",
            "391/391 [==============================] - 12s 32ms/step - loss: 0.8786 - accuracy: 0.6951 - val_loss: 0.8669 - val_accuracy: 0.7011\n",
            "Epoch 20/150\n",
            "391/391 [==============================] - 12s 32ms/step - loss: 0.8529 - accuracy: 0.7072 - val_loss: 0.8329 - val_accuracy: 0.7208\n",
            "Epoch 21/150\n",
            "391/391 [==============================] - 13s 32ms/step - loss: 0.8463 - accuracy: 0.7080 - val_loss: 0.8314 - val_accuracy: 0.7193\n",
            "Epoch 22/150\n",
            "391/391 [==============================] - 12s 32ms/step - loss: 0.8188 - accuracy: 0.7153 - val_loss: 0.7849 - val_accuracy: 0.7339\n",
            "Epoch 23/150\n",
            "391/391 [==============================] - 12s 32ms/step - loss: 0.8040 - accuracy: 0.7211 - val_loss: 0.7572 - val_accuracy: 0.7440\n",
            "Epoch 24/150\n",
            "391/391 [==============================] - 12s 32ms/step - loss: 0.7933 - accuracy: 0.7264 - val_loss: 0.7402 - val_accuracy: 0.7476\n",
            "Epoch 25/150\n",
            "391/391 [==============================] - 13s 33ms/step - loss: 0.7750 - accuracy: 0.7324 - val_loss: 0.7568 - val_accuracy: 0.7450\n",
            "Epoch 26/150\n",
            "391/391 [==============================] - 12s 32ms/step - loss: 0.7579 - accuracy: 0.7370 - val_loss: 0.7543 - val_accuracy: 0.7438\n",
            "Epoch 27/150\n",
            "391/391 [==============================] - 12s 32ms/step - loss: 0.7450 - accuracy: 0.7413 - val_loss: 0.7531 - val_accuracy: 0.7461\n",
            "Epoch 28/150\n",
            "391/391 [==============================] - 12s 32ms/step - loss: 0.7376 - accuracy: 0.7461 - val_loss: 0.7644 - val_accuracy: 0.7396\n",
            "Epoch 29/150\n",
            "391/391 [==============================] - 12s 32ms/step - loss: 0.7254 - accuracy: 0.7482 - val_loss: 0.7564 - val_accuracy: 0.7437\n",
            "Epoch 30/150\n",
            "391/391 [==============================] - 13s 33ms/step - loss: 0.7146 - accuracy: 0.7526 - val_loss: 0.7103 - val_accuracy: 0.7568\n",
            "Epoch 31/150\n",
            "391/391 [==============================] - 13s 32ms/step - loss: 0.6970 - accuracy: 0.7597 - val_loss: 0.7229 - val_accuracy: 0.7542\n",
            "Epoch 32/150\n",
            "391/391 [==============================] - 13s 33ms/step - loss: 0.6967 - accuracy: 0.7587 - val_loss: 0.7156 - val_accuracy: 0.7557\n",
            "Epoch 33/150\n",
            "391/391 [==============================] - 12s 32ms/step - loss: 0.6755 - accuracy: 0.7646 - val_loss: 0.7044 - val_accuracy: 0.7585\n",
            "Epoch 34/150\n",
            "391/391 [==============================] - 13s 33ms/step - loss: 0.6719 - accuracy: 0.7667 - val_loss: 0.6668 - val_accuracy: 0.7735\n",
            "Epoch 35/150\n",
            "391/391 [==============================] - 12s 32ms/step - loss: 0.6539 - accuracy: 0.7741 - val_loss: 0.6930 - val_accuracy: 0.7648\n",
            "Epoch 36/150\n",
            "391/391 [==============================] - 13s 32ms/step - loss: 0.6516 - accuracy: 0.7737 - val_loss: 0.6600 - val_accuracy: 0.7794\n",
            "Epoch 37/150\n",
            "391/391 [==============================] - 13s 33ms/step - loss: 0.6395 - accuracy: 0.7775 - val_loss: 0.6990 - val_accuracy: 0.7637\n",
            "Epoch 38/150\n",
            "391/391 [==============================] - 13s 32ms/step - loss: 0.6269 - accuracy: 0.7803 - val_loss: 0.6723 - val_accuracy: 0.7710\n",
            "Epoch 39/150\n",
            "391/391 [==============================] - 13s 32ms/step - loss: 0.6208 - accuracy: 0.7819 - val_loss: 0.6658 - val_accuracy: 0.7758\n",
            "Epoch 40/150\n",
            "391/391 [==============================] - 13s 32ms/step - loss: 0.6161 - accuracy: 0.7860 - val_loss: 0.6443 - val_accuracy: 0.7811\n",
            "Epoch 41/150\n",
            "391/391 [==============================] - 13s 32ms/step - loss: 0.6117 - accuracy: 0.7872 - val_loss: 0.6647 - val_accuracy: 0.7775\n",
            "Epoch 42/150\n",
            "391/391 [==============================] - 13s 33ms/step - loss: 0.5998 - accuracy: 0.7916 - val_loss: 0.6411 - val_accuracy: 0.7837\n",
            "Epoch 43/150\n",
            "391/391 [==============================] - 12s 32ms/step - loss: 0.5852 - accuracy: 0.7945 - val_loss: 0.6776 - val_accuracy: 0.7739\n",
            "Epoch 44/150\n",
            "391/391 [==============================] - 13s 32ms/step - loss: 0.5827 - accuracy: 0.7972 - val_loss: 0.6401 - val_accuracy: 0.7845\n",
            "Epoch 45/150\n",
            "391/391 [==============================] - 13s 32ms/step - loss: 0.5689 - accuracy: 0.7979 - val_loss: 0.6462 - val_accuracy: 0.7799\n",
            "Epoch 46/150\n",
            "391/391 [==============================] - 13s 32ms/step - loss: 0.5578 - accuracy: 0.8063 - val_loss: 0.6357 - val_accuracy: 0.7879\n",
            "Epoch 47/150\n",
            "391/391 [==============================] - 12s 32ms/step - loss: 0.5613 - accuracy: 0.8041 - val_loss: 0.6436 - val_accuracy: 0.7844\n",
            "Epoch 48/150\n",
            "391/391 [==============================] - 13s 32ms/step - loss: 0.5489 - accuracy: 0.8089 - val_loss: 0.6400 - val_accuracy: 0.7842\n",
            "Epoch 49/150\n",
            "391/391 [==============================] - 12s 32ms/step - loss: 0.5368 - accuracy: 0.8119 - val_loss: 0.6498 - val_accuracy: 0.7831\n",
            "Epoch 50/150\n",
            "391/391 [==============================] - 12s 32ms/step - loss: 0.5314 - accuracy: 0.8148 - val_loss: 0.6296 - val_accuracy: 0.7902\n",
            "Epoch 51/150\n",
            "391/391 [==============================] - 12s 32ms/step - loss: 0.5289 - accuracy: 0.8144 - val_loss: 0.6177 - val_accuracy: 0.7968\n",
            "Epoch 52/150\n",
            "391/391 [==============================] - 13s 33ms/step - loss: 0.5175 - accuracy: 0.8191 - val_loss: 0.6243 - val_accuracy: 0.7941\n",
            "Epoch 53/150\n",
            "391/391 [==============================] - 12s 32ms/step - loss: 0.5176 - accuracy: 0.8189 - val_loss: 0.6231 - val_accuracy: 0.7914\n",
            "Epoch 54/150\n",
            "391/391 [==============================] - 12s 32ms/step - loss: 0.5069 - accuracy: 0.8216 - val_loss: 0.6287 - val_accuracy: 0.7943\n",
            "Epoch 55/150\n",
            "391/391 [==============================] - 12s 32ms/step - loss: 0.5015 - accuracy: 0.8235 - val_loss: 0.6379 - val_accuracy: 0.7890\n",
            "Epoch 56/150\n",
            "391/391 [==============================] - 12s 32ms/step - loss: 0.5006 - accuracy: 0.8244 - val_loss: 0.6172 - val_accuracy: 0.7942\n",
            "Epoch 57/150\n",
            "391/391 [==============================] - 12s 32ms/step - loss: 0.4845 - accuracy: 0.8308 - val_loss: 0.6053 - val_accuracy: 0.8026\n",
            "Epoch 58/150\n",
            "391/391 [==============================] - 12s 31ms/step - loss: 0.4836 - accuracy: 0.8276 - val_loss: 0.6169 - val_accuracy: 0.7991\n",
            "Epoch 59/150\n",
            "391/391 [==============================] - 12s 32ms/step - loss: 0.4775 - accuracy: 0.8329 - val_loss: 0.6323 - val_accuracy: 0.7947\n",
            "Epoch 60/150\n",
            "391/391 [==============================] - 12s 32ms/step - loss: 0.4630 - accuracy: 0.8372 - val_loss: 0.6440 - val_accuracy: 0.7902\n",
            "Epoch 61/150\n",
            "391/391 [==============================] - 12s 32ms/step - loss: 0.4618 - accuracy: 0.8363 - val_loss: 0.6206 - val_accuracy: 0.7977\n",
            "Epoch 62/150\n",
            "391/391 [==============================] - 12s 32ms/step - loss: 0.4596 - accuracy: 0.8385 - val_loss: 0.6242 - val_accuracy: 0.7965\n",
            "Epoch 63/150\n",
            "391/391 [==============================] - 12s 32ms/step - loss: 0.4517 - accuracy: 0.8401 - val_loss: 0.6814 - val_accuracy: 0.7876\n",
            "Epoch 64/150\n",
            "391/391 [==============================] - 12s 32ms/step - loss: 0.4483 - accuracy: 0.8417 - val_loss: 0.6125 - val_accuracy: 0.8013\n",
            "Epoch 65/150\n",
            "391/391 [==============================] - 12s 32ms/step - loss: 0.4382 - accuracy: 0.8441 - val_loss: 0.6743 - val_accuracy: 0.7833\n",
            "Epoch 66/150\n",
            "391/391 [==============================] - 12s 32ms/step - loss: 0.4379 - accuracy: 0.8465 - val_loss: 0.6403 - val_accuracy: 0.7995\n",
            "Epoch 67/150\n",
            "391/391 [==============================] - 12s 32ms/step - loss: 0.4324 - accuracy: 0.8475 - val_loss: 0.6323 - val_accuracy: 0.7991\n",
            "Epoch 68/150\n",
            "391/391 [==============================] - 12s 32ms/step - loss: 0.4227 - accuracy: 0.8496 - val_loss: 0.6565 - val_accuracy: 0.7924\n",
            "Epoch 69/150\n",
            "391/391 [==============================] - 13s 32ms/step - loss: 0.4199 - accuracy: 0.8496 - val_loss: 0.6105 - val_accuracy: 0.8023\n",
            "Epoch 70/150\n",
            "391/391 [==============================] - 13s 32ms/step - loss: 0.4185 - accuracy: 0.8498 - val_loss: 0.6174 - val_accuracy: 0.8023\n",
            "Epoch 71/150\n",
            "391/391 [==============================] - 13s 32ms/step - loss: 0.4095 - accuracy: 0.8541 - val_loss: 0.6303 - val_accuracy: 0.7941\n",
            "Epoch 72/150\n",
            "391/391 [==============================] - 12s 32ms/step - loss: 0.4067 - accuracy: 0.8557 - val_loss: 0.6370 - val_accuracy: 0.7981\n",
            "Epoch 73/150\n",
            "391/391 [==============================] - 13s 32ms/step - loss: 0.4091 - accuracy: 0.8545 - val_loss: 0.6286 - val_accuracy: 0.7961\n",
            "Epoch 74/150\n",
            "391/391 [==============================] - 13s 32ms/step - loss: 0.3966 - accuracy: 0.8587 - val_loss: 0.6347 - val_accuracy: 0.8000\n",
            "Epoch 75/150\n",
            "391/391 [==============================] - 12s 32ms/step - loss: 0.3948 - accuracy: 0.8596 - val_loss: 0.6158 - val_accuracy: 0.8051\n",
            "Epoch 76/150\n",
            "391/391 [==============================] - 12s 32ms/step - loss: 0.3865 - accuracy: 0.8630 - val_loss: 0.6185 - val_accuracy: 0.8049\n",
            "Epoch 77/150\n",
            "391/391 [==============================] - 12s 32ms/step - loss: 0.3854 - accuracy: 0.8631 - val_loss: 0.6560 - val_accuracy: 0.7959\n",
            "Epoch 78/150\n",
            "391/391 [==============================] - 12s 32ms/step - loss: 0.3773 - accuracy: 0.8660 - val_loss: 0.6726 - val_accuracy: 0.7962\n",
            "Epoch 79/150\n",
            "391/391 [==============================] - 13s 33ms/step - loss: 0.3784 - accuracy: 0.8641 - val_loss: 0.6155 - val_accuracy: 0.8038\n",
            "Epoch 80/150\n",
            "391/391 [==============================] - 12s 32ms/step - loss: 0.3784 - accuracy: 0.8662 - val_loss: 0.6149 - val_accuracy: 0.8044\n",
            "Epoch 81/150\n",
            "391/391 [==============================] - 12s 32ms/step - loss: 0.3640 - accuracy: 0.8703 - val_loss: 0.6196 - val_accuracy: 0.8054\n",
            "Epoch 82/150\n",
            "391/391 [==============================] - 12s 32ms/step - loss: 0.3676 - accuracy: 0.8683 - val_loss: 0.6185 - val_accuracy: 0.8054\n",
            "Epoch 83/150\n",
            "391/391 [==============================] - 12s 32ms/step - loss: 0.3616 - accuracy: 0.8693 - val_loss: 0.6205 - val_accuracy: 0.8017\n",
            "Epoch 84/150\n",
            "391/391 [==============================] - 12s 32ms/step - loss: 0.3543 - accuracy: 0.8752 - val_loss: 0.6406 - val_accuracy: 0.8015\n",
            "Epoch 85/150\n",
            "391/391 [==============================] - 12s 32ms/step - loss: 0.3525 - accuracy: 0.8747 - val_loss: 0.6197 - val_accuracy: 0.8042\n",
            "Epoch 86/150\n",
            "391/391 [==============================] - 12s 32ms/step - loss: 0.3482 - accuracy: 0.8756 - val_loss: 0.6483 - val_accuracy: 0.8051\n",
            "Epoch 87/150\n",
            "391/391 [==============================] - 13s 32ms/step - loss: 0.3437 - accuracy: 0.8770 - val_loss: 0.6721 - val_accuracy: 0.7946\n",
            "Epoch 88/150\n",
            "391/391 [==============================] - 13s 32ms/step - loss: 0.3453 - accuracy: 0.8783 - val_loss: 0.6270 - val_accuracy: 0.8062\n",
            "Epoch 89/150\n",
            "391/391 [==============================] - 13s 32ms/step - loss: 0.3335 - accuracy: 0.8816 - val_loss: 0.6457 - val_accuracy: 0.8039\n",
            "Epoch 90/150\n",
            "391/391 [==============================] - 12s 32ms/step - loss: 0.3292 - accuracy: 0.8826 - val_loss: 0.6215 - val_accuracy: 0.8060\n",
            "Epoch 91/150\n",
            "391/391 [==============================] - 12s 32ms/step - loss: 0.3350 - accuracy: 0.8803 - val_loss: 0.6417 - val_accuracy: 0.8089\n",
            "Epoch 92/150\n",
            "391/391 [==============================] - 12s 32ms/step - loss: 0.3281 - accuracy: 0.8831 - val_loss: 0.6232 - val_accuracy: 0.8086\n",
            "Epoch 93/150\n",
            "391/391 [==============================] - 13s 32ms/step - loss: 0.3275 - accuracy: 0.8831 - val_loss: 0.6408 - val_accuracy: 0.8081\n",
            "Epoch 94/150\n",
            "391/391 [==============================] - 13s 32ms/step - loss: 0.3160 - accuracy: 0.8864 - val_loss: 0.6773 - val_accuracy: 0.7996\n",
            "Epoch 95/150\n",
            "391/391 [==============================] - 13s 32ms/step - loss: 0.3153 - accuracy: 0.8873 - val_loss: 0.6306 - val_accuracy: 0.8072\n",
            "Epoch 96/150\n",
            "391/391 [==============================] - 13s 32ms/step - loss: 0.3153 - accuracy: 0.8871 - val_loss: 0.6497 - val_accuracy: 0.8079\n",
            "Epoch 97/150\n",
            "391/391 [==============================] - 13s 33ms/step - loss: 0.3083 - accuracy: 0.8880 - val_loss: 0.6586 - val_accuracy: 0.8057\n",
            "Epoch 98/150\n",
            "391/391 [==============================] - 12s 32ms/step - loss: 0.3143 - accuracy: 0.8876 - val_loss: 0.6407 - val_accuracy: 0.8055\n",
            "Epoch 99/150\n",
            "391/391 [==============================] - 12s 32ms/step - loss: 0.3003 - accuracy: 0.8925 - val_loss: 0.6377 - val_accuracy: 0.8069\n",
            "Epoch 100/150\n",
            "391/391 [==============================] - 12s 32ms/step - loss: 0.3049 - accuracy: 0.8921 - val_loss: 0.6736 - val_accuracy: 0.8045\n",
            "Epoch 101/150\n",
            "391/391 [==============================] - 12s 32ms/step - loss: 0.3020 - accuracy: 0.8916 - val_loss: 0.6381 - val_accuracy: 0.8071\n",
            "Epoch 102/150\n",
            "391/391 [==============================] - 12s 32ms/step - loss: 0.2967 - accuracy: 0.8951 - val_loss: 0.6321 - val_accuracy: 0.8094\n",
            "Epoch 103/150\n",
            "391/391 [==============================] - 13s 33ms/step - loss: 0.2936 - accuracy: 0.8955 - val_loss: 0.6559 - val_accuracy: 0.8123\n",
            "Epoch 104/150\n",
            "391/391 [==============================] - 13s 32ms/step - loss: 0.2898 - accuracy: 0.8972 - val_loss: 0.6486 - val_accuracy: 0.8105\n",
            "Epoch 105/150\n",
            "391/391 [==============================] - 13s 32ms/step - loss: 0.2864 - accuracy: 0.8986 - val_loss: 0.6563 - val_accuracy: 0.8088\n",
            "Epoch 106/150\n",
            "391/391 [==============================] - 12s 32ms/step - loss: 0.2857 - accuracy: 0.8973 - val_loss: 0.6569 - val_accuracy: 0.8074\n",
            "Epoch 107/150\n",
            "391/391 [==============================] - 13s 32ms/step - loss: 0.2772 - accuracy: 0.9008 - val_loss: 0.6678 - val_accuracy: 0.8129\n",
            "Epoch 108/150\n",
            "391/391 [==============================] - 13s 33ms/step - loss: 0.2852 - accuracy: 0.8981 - val_loss: 0.6623 - val_accuracy: 0.8109\n",
            "Epoch 109/150\n",
            "391/391 [==============================] - 13s 32ms/step - loss: 0.2791 - accuracy: 0.9009 - val_loss: 0.6600 - val_accuracy: 0.8099\n",
            "Epoch 110/150\n",
            "391/391 [==============================] - 12s 32ms/step - loss: 0.2716 - accuracy: 0.9030 - val_loss: 0.6630 - val_accuracy: 0.8090\n",
            "Epoch 111/150\n",
            "391/391 [==============================] - 12s 32ms/step - loss: 0.2736 - accuracy: 0.9029 - val_loss: 0.6816 - val_accuracy: 0.8059\n",
            "Epoch 112/150\n",
            "391/391 [==============================] - 13s 32ms/step - loss: 0.2700 - accuracy: 0.9032 - val_loss: 0.6575 - val_accuracy: 0.8108\n",
            "Epoch 113/150\n",
            "391/391 [==============================] - 13s 32ms/step - loss: 0.2711 - accuracy: 0.9026 - val_loss: 0.6630 - val_accuracy: 0.8080\n",
            "Epoch 114/150\n",
            "391/391 [==============================] - 12s 32ms/step - loss: 0.2654 - accuracy: 0.9058 - val_loss: 0.6553 - val_accuracy: 0.8102\n",
            "Epoch 115/150\n",
            "391/391 [==============================] - 12s 32ms/step - loss: 0.2676 - accuracy: 0.9045 - val_loss: 0.6610 - val_accuracy: 0.8136\n",
            "Epoch 116/150\n",
            "391/391 [==============================] - 12s 32ms/step - loss: 0.2583 - accuracy: 0.9077 - val_loss: 0.6496 - val_accuracy: 0.8106\n",
            "Epoch 117/150\n",
            "391/391 [==============================] - 12s 32ms/step - loss: 0.2611 - accuracy: 0.9065 - val_loss: 0.6721 - val_accuracy: 0.8105\n",
            "Epoch 118/150\n",
            "391/391 [==============================] - 12s 32ms/step - loss: 0.2545 - accuracy: 0.9107 - val_loss: 0.6735 - val_accuracy: 0.8138\n",
            "Epoch 119/150\n",
            "391/391 [==============================] - 13s 33ms/step - loss: 0.2528 - accuracy: 0.9098 - val_loss: 0.6741 - val_accuracy: 0.8091\n",
            "Epoch 120/150\n",
            "391/391 [==============================] - 12s 32ms/step - loss: 0.2552 - accuracy: 0.9077 - val_loss: 0.6923 - val_accuracy: 0.8040\n",
            "Epoch 121/150\n",
            "391/391 [==============================] - 13s 32ms/step - loss: 0.2465 - accuracy: 0.9129 - val_loss: 0.6864 - val_accuracy: 0.8116\n",
            "Epoch 122/150\n",
            "391/391 [==============================] - 13s 32ms/step - loss: 0.2515 - accuracy: 0.9109 - val_loss: 0.6716 - val_accuracy: 0.8097\n",
            "Epoch 123/150\n",
            "391/391 [==============================] - 13s 32ms/step - loss: 0.2468 - accuracy: 0.9117 - val_loss: 0.6811 - val_accuracy: 0.8108\n",
            "Epoch 124/150\n",
            "391/391 [==============================] - 13s 32ms/step - loss: 0.2419 - accuracy: 0.9124 - val_loss: 0.6785 - val_accuracy: 0.8088\n",
            "Epoch 125/150\n",
            "391/391 [==============================] - 12s 32ms/step - loss: 0.2362 - accuracy: 0.9144 - val_loss: 0.6874 - val_accuracy: 0.8118\n",
            "Epoch 126/150\n",
            "391/391 [==============================] - 12s 32ms/step - loss: 0.2410 - accuracy: 0.9136 - val_loss: 0.6746 - val_accuracy: 0.8121\n",
            "Epoch 127/150\n",
            "391/391 [==============================] - 12s 32ms/step - loss: 0.2366 - accuracy: 0.9159 - val_loss: 0.6721 - val_accuracy: 0.8103\n",
            "Epoch 128/150\n",
            "391/391 [==============================] - 12s 32ms/step - loss: 0.2375 - accuracy: 0.9157 - val_loss: 0.7067 - val_accuracy: 0.8099\n",
            "Epoch 129/150\n",
            "391/391 [==============================] - 12s 32ms/step - loss: 0.2323 - accuracy: 0.9164 - val_loss: 0.6890 - val_accuracy: 0.8098\n",
            "Epoch 130/150\n",
            "391/391 [==============================] - 12s 32ms/step - loss: 0.2338 - accuracy: 0.9169 - val_loss: 0.7207 - val_accuracy: 0.8101\n",
            "Epoch 131/150\n",
            "391/391 [==============================] - 12s 32ms/step - loss: 0.2315 - accuracy: 0.9178 - val_loss: 0.6874 - val_accuracy: 0.8112\n",
            "Epoch 132/150\n",
            "391/391 [==============================] - 12s 32ms/step - loss: 0.2248 - accuracy: 0.9191 - val_loss: 0.7109 - val_accuracy: 0.8058\n",
            "Epoch 133/150\n",
            "391/391 [==============================] - 12s 32ms/step - loss: 0.2266 - accuracy: 0.9196 - val_loss: 0.7265 - val_accuracy: 0.8097\n",
            "Epoch 134/150\n",
            "391/391 [==============================] - 12s 32ms/step - loss: 0.2203 - accuracy: 0.9222 - val_loss: 0.7141 - val_accuracy: 0.8120\n",
            "Epoch 135/150\n",
            "391/391 [==============================] - 12s 32ms/step - loss: 0.2219 - accuracy: 0.9202 - val_loss: 0.6894 - val_accuracy: 0.8087\n",
            "Epoch 136/150\n",
            "391/391 [==============================] - 13s 33ms/step - loss: 0.2314 - accuracy: 0.9180 - val_loss: 0.6817 - val_accuracy: 0.8115\n",
            "Epoch 137/150\n",
            "391/391 [==============================] - 12s 32ms/step - loss: 0.2236 - accuracy: 0.9210 - val_loss: 0.7373 - val_accuracy: 0.8064\n",
            "Epoch 138/150\n",
            "391/391 [==============================] - 12s 32ms/step - loss: 0.2130 - accuracy: 0.9242 - val_loss: 0.6934 - val_accuracy: 0.8137\n",
            "Epoch 139/150\n",
            "391/391 [==============================] - 13s 33ms/step - loss: 0.2143 - accuracy: 0.9249 - val_loss: 0.6887 - val_accuracy: 0.8138\n",
            "Epoch 140/150\n",
            "391/391 [==============================] - 12s 32ms/step - loss: 0.2141 - accuracy: 0.9229 - val_loss: 0.7063 - val_accuracy: 0.8145\n",
            "Epoch 141/150\n",
            "391/391 [==============================] - 12s 32ms/step - loss: 0.2107 - accuracy: 0.9236 - val_loss: 0.7228 - val_accuracy: 0.8102\n",
            "Epoch 142/150\n",
            "391/391 [==============================] - 13s 33ms/step - loss: 0.2113 - accuracy: 0.9245 - val_loss: 0.7088 - val_accuracy: 0.8122\n",
            "Epoch 143/150\n",
            "391/391 [==============================] - 12s 32ms/step - loss: 0.2089 - accuracy: 0.9261 - val_loss: 0.7230 - val_accuracy: 0.8074\n",
            "Epoch 144/150\n",
            "391/391 [==============================] - 13s 32ms/step - loss: 0.2016 - accuracy: 0.9282 - val_loss: 0.7368 - val_accuracy: 0.8099\n",
            "Epoch 145/150\n",
            "391/391 [==============================] - 13s 32ms/step - loss: 0.2057 - accuracy: 0.9270 - val_loss: 0.7247 - val_accuracy: 0.8139\n",
            "Epoch 146/150\n",
            "391/391 [==============================] - 13s 33ms/step - loss: 0.2026 - accuracy: 0.9284 - val_loss: 0.7224 - val_accuracy: 0.8091\n",
            "Epoch 147/150\n",
            "391/391 [==============================] - 13s 33ms/step - loss: 0.2021 - accuracy: 0.9282 - val_loss: 0.7156 - val_accuracy: 0.8106\n",
            "Epoch 148/150\n",
            "391/391 [==============================] - 13s 32ms/step - loss: 0.1962 - accuracy: 0.9305 - val_loss: 0.7755 - val_accuracy: 0.8067\n",
            "Epoch 149/150\n",
            "391/391 [==============================] - 13s 32ms/step - loss: 0.1988 - accuracy: 0.9292 - val_loss: 0.7278 - val_accuracy: 0.8127\n",
            "Epoch 150/150\n",
            "391/391 [==============================] - 13s 32ms/step - loss: 0.1944 - accuracy: 0.9313 - val_loss: 0.7335 - val_accuracy: 0.8112\n",
            "El tiempo de entrenamiento de la red es 1942.891257656 segundos.\n"
          ]
        }
      ],
      "source": [
        "# Entrenamiento del modelo\n",
        "epochs = 150\n",
        "t0 = timeit.default_timer()\n",
        "mfit_cnn_deep_grey = model_cnn_deep_grey.fit(X_train_g4dim, train_labels, epochs=epochs, batch_size=128,\n",
        "                    validation_data=(X_test_g4dim, test_labels))\n",
        "training_time_cnn_deep_grey = timeit.default_timer() - t0\n",
        "print(\"El tiempo de entrenamiento de la red es {} segundos.\".format(training_time_cnn_deep_grey))"
      ]
    },
    {
      "cell_type": "code",
      "execution_count": 30,
      "metadata": {
        "id": "ldCh_7JKMkIp",
        "colab": {
          "base_uri": "https://localhost:8080/",
          "height": 295
        },
        "outputId": "aeab415f-f0e1-49f6-cf75-3692ef77f358"
      },
      "outputs": [
        {
          "output_type": "display_data",
          "data": {
            "text/plain": [
              "<Figure size 432x288 with 1 Axes>"
            ],
            "image/png": "[encoded data removed]"
          },
          "metadata": {
            "needs_background": "light"
          }
        }
      ],
      "source": [
        "# Resultados\n",
        "plot_prediction(epochs, mfit_cnn_deep_grey)"
      ]
    },
    {
      "cell_type": "code",
      "source": [
        "results_cnn_deep_grey = model_cnn_deep_grey.evaluate(X_test_g4dim, test_labels, batch_size=128, verbose=1)\n",
        "print(results_cnn_deep_grey)"
      ],
      "metadata": {
        "colab": {
          "base_uri": "https://localhost:8080/"
        },
        "id": "sdYTHuLQvknP",
        "outputId": "24f20821-814d-40b8-953f-2aa0eb277704"
      },
      "execution_count": 31,
      "outputs": [
        {
          "output_type": "stream",
          "name": "stdout",
          "text": [
            "79/79 [==============================] - 1s 13ms/step - loss: 0.7335 - accuracy: 0.8112\n",
            "[0.7335484623908997, 0.8112000226974487]\n"
          ]
        }
      ]
    },
    {
      "cell_type": "markdown",
      "metadata": {
        "id": "yt5nsalpD6bR"
      },
      "source": [
        "### 4.2 CNN con imágenes en color\n"
      ]
    },
    {
      "cell_type": "markdown",
      "metadata": {
        "id": "-TsR_PqR2a9j"
      },
      "source": [
        "Finalmente vamos a estudiar la influencia del color de las imágenes en la *performance* de la clasificación.\n",
        "\n",
        "Para ello utilizaremos una red convolucional con la misma estructura de la red del apartado anterior pero cambiando la capa de entrada para que podamos introducir las imágenes originales en color, arrays de dimensión (32, 32, 3)."
      ]
    },
    {
      "cell_type": "markdown",
      "metadata": {
        "id": "q7kUyx6x2a9j"
      },
      "source": [
        "<div style=\"background-color: #EDF7FF; border-color: #7C9DBF; border-left: 5px solid #7C9DBF; padding: 0.5em;\">\n",
        "<strong>Ejercicio [0,5 pts]:</strong> Volver a realizar el ejercicio anterior pero modificando la capa de entrada para poder utilizar el conjunto de datos original, de tamaño (50000, 32, 32, 3) para el conjunto de train y (10000, 32, 32, 3) para el conjunto de test.\n",
        "\n",
        "¿Influye el color de las imágenes en el resultado de la clasificación? Comentar el resultado.\n",
        "</div>\n",
        "\n",
        "**Nota**: Recordar normalizar las imágenes para que sus valores estén entre 0 y 1."
      ]
    },
    {
      "cell_type": "code",
      "execution_count": 32,
      "metadata": {
        "id": "JJGdAhZ92a9j",
        "colab": {
          "base_uri": "https://localhost:8080/"
        },
        "outputId": "da84436c-476a-4fd2-9c76-593884358e1c"
      },
      "outputs": [
        {
          "output_type": "stream",
          "name": "stdout",
          "text": [
            "Los valores del primer registro de X_train_grey_norm son: [[[0.23137255 0.24313725 0.24705882]\n",
            "  [0.16862745 0.18039216 0.17647059]\n",
            "  [0.19607843 0.18823529 0.16862745]\n",
            "  ...\n",
            "  [0.61960784 0.51764706 0.42352941]\n",
            "  [0.59607843 0.49019608 0.4       ]\n",
            "  [0.58039216 0.48627451 0.40392157]]\n",
            "\n",
            " [[0.0627451  0.07843137 0.07843137]\n",
            "  [0.         0.         0.        ]\n",
            "  [0.07058824 0.03137255 0.        ]\n",
            "  ...\n",
            "  [0.48235294 0.34509804 0.21568627]\n",
            "  [0.46666667 0.3254902  0.19607843]\n",
            "  [0.47843137 0.34117647 0.22352941]]\n",
            "\n",
            " [[0.09803922 0.09411765 0.08235294]\n",
            "  [0.0627451  0.02745098 0.        ]\n",
            "  [0.19215686 0.10588235 0.03137255]\n",
            "  ...\n",
            "  [0.4627451  0.32941176 0.19607843]\n",
            "  [0.47058824 0.32941176 0.19607843]\n",
            "  [0.42745098 0.28627451 0.16470588]]\n",
            "\n",
            " ...\n",
            "\n",
            " [[0.81568627 0.66666667 0.37647059]\n",
            "  [0.78823529 0.6        0.13333333]\n",
            "  [0.77647059 0.63137255 0.10196078]\n",
            "  ...\n",
            "  [0.62745098 0.52156863 0.2745098 ]\n",
            "  [0.21960784 0.12156863 0.02745098]\n",
            "  [0.20784314 0.13333333 0.07843137]]\n",
            "\n",
            " [[0.70588235 0.54509804 0.37647059]\n",
            "  [0.67843137 0.48235294 0.16470588]\n",
            "  [0.72941176 0.56470588 0.11764706]\n",
            "  ...\n",
            "  [0.72156863 0.58039216 0.36862745]\n",
            "  [0.38039216 0.24313725 0.13333333]\n",
            "  [0.3254902  0.20784314 0.13333333]]\n",
            "\n",
            " [[0.69411765 0.56470588 0.45490196]\n",
            "  [0.65882353 0.50588235 0.36862745]\n",
            "  [0.70196078 0.55686275 0.34117647]\n",
            "  ...\n",
            "  [0.84705882 0.72156863 0.54901961]\n",
            "  [0.59215686 0.4627451  0.32941176]\n",
            "  [0.48235294 0.36078431 0.28235294]]]\n"
          ]
        }
      ],
      "source": [
        "# Normalizar\n",
        "# Manually compute MinMaxScaler as detailed in https://scikit-learn.org/stable/modules/generated/sklearn.preprocessing.MinMaxScaler.html\n",
        "# Initialize values\n",
        "min = 0\n",
        "max = 1\n",
        "X = X_train\n",
        "# Normalize\n",
        "X_std = (X - X.min(axis=0)) / (X.max(axis=0) - X.min(axis=0))\n",
        "X_train_norm = X_std * (max - min) + min\n",
        "print(\"Los valores del primer registro de X_train_grey_norm son: {}\".format(X_train_norm[0]))"
      ]
    },
    {
      "cell_type": "code",
      "source": [
        "# Determinar valores mínimo y máximo\n",
        "v_min = np.min(X_train_norm)\n",
        "v_max = np.max(X_train_norm)\n",
        "print(\"Los valores mínimo y máximo son {} y {}.\".format(v_min, v_max))"
      ],
      "metadata": {
        "colab": {
          "base_uri": "https://localhost:8080/"
        },
        "id": "IZfvrP1z0MP3",
        "outputId": "f9640dee-fe18-4253-8e0e-e792ce2f3bc9"
      },
      "execution_count": 33,
      "outputs": [
        {
          "output_type": "stream",
          "name": "stdout",
          "text": [
            "Los valores mínimo y máximo son 0.0 y 1.0.\n"
          ]
        }
      ]
    },
    {
      "cell_type": "code",
      "execution_count": 34,
      "metadata": {
        "id": "4bY0Qvdl2a9k",
        "colab": {
          "base_uri": "https://localhost:8080/"
        },
        "outputId": "ee51f675-9a18-497d-9303-805c104410d7"
      },
      "outputs": [
        {
          "output_type": "stream",
          "name": "stdout",
          "text": [
            "Model: \"sequential_3\"\n",
            "_________________________________________________________________\n",
            " Layer (type)                Output Shape              Param #   \n",
            "=================================================================\n",
            " conv2d_7 (Conv2D)           (None, 32, 32, 32)        896       \n",
            "                                                                 \n",
            " conv2d_8 (Conv2D)           (None, 32, 32, 32)        9248      \n",
            "                                                                 \n",
            " max_pooling2d_3 (MaxPooling  (None, 16, 16, 32)       0         \n",
            " 2D)                                                             \n",
            "                                                                 \n",
            " dropout_7 (Dropout)         (None, 16, 16, 32)        0         \n",
            "                                                                 \n",
            " conv2d_9 (Conv2D)           (None, 16, 16, 64)        18496     \n",
            "                                                                 \n",
            " conv2d_10 (Conv2D)          (None, 16, 16, 64)        36928     \n",
            "                                                                 \n",
            " max_pooling2d_4 (MaxPooling  (None, 8, 8, 64)         0         \n",
            " 2D)                                                             \n",
            "                                                                 \n",
            " dropout_8 (Dropout)         (None, 8, 8, 64)          0         \n",
            "                                                                 \n",
            " conv2d_11 (Conv2D)          (None, 8, 8, 128)         73856     \n",
            "                                                                 \n",
            " conv2d_12 (Conv2D)          (None, 8, 8, 128)         147584    \n",
            "                                                                 \n",
            " max_pooling2d_5 (MaxPooling  (None, 4, 4, 128)        0         \n",
            " 2D)                                                             \n",
            "                                                                 \n",
            " dropout_9 (Dropout)         (None, 4, 4, 128)         0         \n",
            "                                                                 \n",
            " flatten_2 (Flatten)         (None, 2048)              0         \n",
            "                                                                 \n",
            " dense_10 (Dense)            (None, 128)               262272    \n",
            "                                                                 \n",
            " dropout_10 (Dropout)        (None, 128)               0         \n",
            "                                                                 \n",
            " dense_11 (Dense)            (None, 10)                1290      \n",
            "                                                                 \n",
            "=================================================================\n",
            "Total params: 550,570\n",
            "Trainable params: 550,570\n",
            "Non-trainable params: 0\n",
            "_________________________________________________________________\n"
          ]
        }
      ],
      "source": [
        "# Crear la CNN profunda\n",
        "model_cnn_deep_color = Sequential()\n",
        "\n",
        "model_cnn_deep_color.add(Conv2D(32, (3, 3), activation='relu', padding=\"same\", input_shape=(32,32,3)))\n",
        "model_cnn_deep_color.add(Conv2D(32, (3, 3), activation='relu', padding=\"same\"))\n",
        "model_cnn_deep_color.add(MaxPooling2D((2, 2)))\n",
        "model_cnn_deep_color.add(Dropout(.2))\n",
        "\n",
        "model_cnn_deep_color.add(Conv2D(64, (3, 3), activation='relu', padding=\"same\"))\n",
        "model_cnn_deep_color.add(Conv2D(64, (3, 3), activation='relu', padding=\"same\"))\n",
        "model_cnn_deep_color.add(MaxPooling2D((2, 2)))\n",
        "model_cnn_deep_color.add(Dropout(.2))\n",
        "\n",
        "model_cnn_deep_color.add(Conv2D(128, (3, 3), activation='relu', padding=\"same\"))\n",
        "model_cnn_deep_color.add(Conv2D(128, (3, 3), activation='relu', padding=\"same\"))\n",
        "model_cnn_deep_color.add(MaxPooling2D((2, 2)))\n",
        "model_cnn_deep_color.add(Dropout(.2))\n",
        "\n",
        "model_cnn_deep_color.add(Flatten())\n",
        "model_cnn_deep_color.add(Dense(128, activation='relu'))\n",
        "model_cnn_deep_color.add(Dropout(.2))\n",
        "\n",
        "# Capa softmax de clasificación con 10 valores posibles(etiqueas)\n",
        "model_cnn_deep_color.add(Dense(10, activation=\"softmax\"))\n",
        "\n",
        "model_cnn_deep_color.summary()"
      ]
    },
    {
      "cell_type": "code",
      "execution_count": 35,
      "metadata": {
        "id": "stHpTKXL9XMd"
      },
      "outputs": [],
      "source": [
        "# Compile\n",
        "model_cnn_deep_color.compile(SGD(learning_rate=0.001, momentum=0.9),\n",
        "              \"categorical_crossentropy\",\n",
        "              metrics=['accuracy'])"
      ]
    },
    {
      "cell_type": "code",
      "execution_count": 36,
      "metadata": {
        "id": "wVLGM1W19eVp",
        "colab": {
          "base_uri": "https://localhost:8080/",
          "height": 1000
        },
        "outputId": "0df02209-28d7-4dc7-ddbb-94c21d45e02f"
      },
      "outputs": [
        {
          "output_type": "stream",
          "name": "stdout",
          "text": [
            "Epoch 1/150\n",
            "391/391 [==============================] - 14s 33ms/step - loss: 2.2986 - accuracy: 0.1110 - val_loss: 36.9187 - val_accuracy: 0.1000\n",
            "Epoch 2/150\n",
            "391/391 [==============================] - 13s 33ms/step - loss: 2.2503 - accuracy: 0.1576 - val_loss: 341.9738 - val_accuracy: 0.1002\n",
            "Epoch 3/150\n",
            "391/391 [==============================] - 13s 32ms/step - loss: 2.0565 - accuracy: 0.2404 - val_loss: 241.8085 - val_accuracy: 0.1369\n",
            "Epoch 4/150\n",
            "391/391 [==============================] - 13s 33ms/step - loss: 1.9689 - accuracy: 0.2782 - val_loss: 230.4026 - val_accuracy: 0.1795\n",
            "Epoch 5/150\n",
            "391/391 [==============================] - 13s 34ms/step - loss: 1.8852 - accuracy: 0.3137 - val_loss: 264.7092 - val_accuracy: 0.1824\n",
            "Epoch 6/150\n",
            "391/391 [==============================] - 13s 32ms/step - loss: 1.7851 - accuracy: 0.3506 - val_loss: 342.7823 - val_accuracy: 0.1594\n",
            "Epoch 7/150\n",
            "391/391 [==============================] - 13s 32ms/step - loss: 1.7063 - accuracy: 0.3768 - val_loss: 371.5434 - val_accuracy: 0.1742\n",
            "Epoch 8/150\n",
            "391/391 [==============================] - 13s 32ms/step - loss: 1.6425 - accuracy: 0.3974 - val_loss: 281.0568 - val_accuracy: 0.2770\n",
            "Epoch 9/150\n",
            "391/391 [==============================] - 13s 32ms/step - loss: 1.5891 - accuracy: 0.4219 - val_loss: 303.0905 - val_accuracy: 0.2868\n",
            "Epoch 10/150\n",
            "391/391 [==============================] - 13s 32ms/step - loss: 1.5360 - accuracy: 0.4398 - val_loss: 258.4839 - val_accuracy: 0.3269\n",
            "Epoch 11/150\n",
            "391/391 [==============================] - 13s 32ms/step - loss: 1.4953 - accuracy: 0.4556 - val_loss: 327.2569 - val_accuracy: 0.3017\n",
            "Epoch 12/150\n",
            "391/391 [==============================] - 13s 32ms/step - loss: 1.4538 - accuracy: 0.4710 - val_loss: 258.4841 - val_accuracy: 0.3396\n",
            "Epoch 13/150\n",
            "391/391 [==============================] - 13s 32ms/step - loss: 1.4164 - accuracy: 0.4873 - val_loss: 240.2191 - val_accuracy: 0.3478\n",
            "Epoch 14/150\n",
            "391/391 [==============================] - 13s 32ms/step - loss: 1.3868 - accuracy: 0.4996 - val_loss: 247.0858 - val_accuracy: 0.3525\n",
            "Epoch 15/150\n",
            "391/391 [==============================] - 13s 34ms/step - loss: 1.3501 - accuracy: 0.5107 - val_loss: 251.8704 - val_accuracy: 0.3434\n",
            "Epoch 16/150\n",
            "391/391 [==============================] - 13s 34ms/step - loss: 1.3184 - accuracy: 0.5249 - val_loss: 213.3817 - val_accuracy: 0.3845\n",
            "Epoch 17/150\n",
            "391/391 [==============================] - 13s 33ms/step - loss: 1.2879 - accuracy: 0.5368 - val_loss: 244.9345 - val_accuracy: 0.3499\n",
            "Epoch 18/150\n",
            "391/391 [==============================] - 13s 33ms/step - loss: 1.2525 - accuracy: 0.5495 - val_loss: 278.1877 - val_accuracy: 0.3323\n",
            "Epoch 19/150\n",
            "391/391 [==============================] - 15s 39ms/step - loss: 1.2252 - accuracy: 0.5598 - val_loss: 226.8102 - val_accuracy: 0.3601\n",
            "Epoch 20/150\n",
            "391/391 [==============================] - 13s 34ms/step - loss: 1.1969 - accuracy: 0.5714 - val_loss: 219.8723 - val_accuracy: 0.3696\n",
            "Epoch 21/150\n",
            "391/391 [==============================] - 13s 33ms/step - loss: 1.1758 - accuracy: 0.5813 - val_loss: 180.9736 - val_accuracy: 0.4110\n",
            "Epoch 22/150\n",
            "391/391 [==============================] - 13s 34ms/step - loss: 1.1497 - accuracy: 0.5907 - val_loss: 212.1093 - val_accuracy: 0.3796\n",
            "Epoch 23/150\n",
            "391/391 [==============================] - 13s 32ms/step - loss: 1.1241 - accuracy: 0.5996 - val_loss: 215.2051 - val_accuracy: 0.3883\n",
            "Epoch 24/150\n",
            "391/391 [==============================] - 13s 35ms/step - loss: 1.0999 - accuracy: 0.6072 - val_loss: 231.7522 - val_accuracy: 0.3750\n",
            "Epoch 25/150\n",
            "391/391 [==============================] - 13s 32ms/step - loss: 1.0805 - accuracy: 0.6150 - val_loss: 231.2974 - val_accuracy: 0.3744\n",
            "Epoch 26/150\n",
            "391/391 [==============================] - 13s 33ms/step - loss: 1.0604 - accuracy: 0.6230 - val_loss: 213.2639 - val_accuracy: 0.3986\n",
            "Epoch 27/150\n",
            "391/391 [==============================] - 14s 35ms/step - loss: 1.0438 - accuracy: 0.6302 - val_loss: 260.0945 - val_accuracy: 0.3785\n",
            "Epoch 28/150\n",
            "391/391 [==============================] - 13s 33ms/step - loss: 1.0269 - accuracy: 0.6349 - val_loss: 292.6228 - val_accuracy: 0.3636\n",
            "Epoch 29/150\n",
            "391/391 [==============================] - 13s 34ms/step - loss: 1.0115 - accuracy: 0.6413 - val_loss: 236.4080 - val_accuracy: 0.4020\n",
            "Epoch 30/150\n",
            "391/391 [==============================] - 14s 36ms/step - loss: 0.9932 - accuracy: 0.6476 - val_loss: 216.1298 - val_accuracy: 0.4074\n",
            "Epoch 31/150\n",
            "391/391 [==============================] - 14s 35ms/step - loss: 0.9771 - accuracy: 0.6540 - val_loss: 236.0531 - val_accuracy: 0.4084\n",
            "Epoch 32/150\n",
            "391/391 [==============================] - 14s 35ms/step - loss: 0.9606 - accuracy: 0.6591 - val_loss: 241.0648 - val_accuracy: 0.4002\n",
            "Epoch 33/150\n",
            "391/391 [==============================] - 14s 37ms/step - loss: 0.9486 - accuracy: 0.6645 - val_loss: 233.4042 - val_accuracy: 0.4015\n",
            "Epoch 34/150\n",
            "391/391 [==============================] - 14s 35ms/step - loss: 0.9326 - accuracy: 0.6688 - val_loss: 281.1118 - val_accuracy: 0.3797\n",
            "Epoch 35/150\n",
            "391/391 [==============================] - 15s 38ms/step - loss: 0.9218 - accuracy: 0.6735 - val_loss: 223.8965 - val_accuracy: 0.4183\n",
            "Epoch 36/150\n",
            "391/391 [==============================] - 14s 35ms/step - loss: 0.9038 - accuracy: 0.6826 - val_loss: 284.4752 - val_accuracy: 0.3860\n",
            "Epoch 37/150\n",
            "391/391 [==============================] - 14s 35ms/step - loss: 0.8953 - accuracy: 0.6865 - val_loss: 250.7496 - val_accuracy: 0.3974\n",
            "Epoch 38/150\n",
            "391/391 [==============================] - 14s 35ms/step - loss: 0.8812 - accuracy: 0.6892 - val_loss: 284.8263 - val_accuracy: 0.3845\n",
            "Epoch 39/150\n",
            "391/391 [==============================] - 13s 33ms/step - loss: 0.8689 - accuracy: 0.6945 - val_loss: 298.3407 - val_accuracy: 0.3965\n",
            "Epoch 40/150\n",
            "391/391 [==============================] - 15s 39ms/step - loss: 0.8587 - accuracy: 0.6996 - val_loss: 280.8567 - val_accuracy: 0.3946\n",
            "Epoch 41/150\n",
            "391/391 [==============================] - 14s 35ms/step - loss: 0.8423 - accuracy: 0.7030 - val_loss: 321.2677 - val_accuracy: 0.3812\n",
            "Epoch 42/150\n",
            "391/391 [==============================] - 13s 34ms/step - loss: 0.8335 - accuracy: 0.7060 - val_loss: 300.7632 - val_accuracy: 0.3966\n",
            "Epoch 43/150\n",
            "391/391 [==============================] - 15s 39ms/step - loss: 0.8203 - accuracy: 0.7114 - val_loss: 333.2660 - val_accuracy: 0.3886\n",
            "Epoch 44/150\n",
            "391/391 [==============================] - 14s 35ms/step - loss: 0.8126 - accuracy: 0.7143 - val_loss: 298.4397 - val_accuracy: 0.3920\n",
            "Epoch 45/150\n",
            "391/391 [==============================] - 14s 35ms/step - loss: 0.8011 - accuracy: 0.7180 - val_loss: 272.9771 - val_accuracy: 0.4088\n",
            "Epoch 46/150\n",
            "391/391 [==============================] - 13s 33ms/step - loss: 0.7950 - accuracy: 0.7202 - val_loss: 357.9063 - val_accuracy: 0.3657\n",
            "Epoch 47/150\n",
            "391/391 [==============================] - 13s 33ms/step - loss: 0.7795 - accuracy: 0.7262 - val_loss: 300.2475 - val_accuracy: 0.3960\n",
            "Epoch 48/150\n",
            "391/391 [==============================] - 14s 36ms/step - loss: 0.7720 - accuracy: 0.7272 - val_loss: 339.1150 - val_accuracy: 0.3924\n",
            "Epoch 49/150\n",
            "391/391 [==============================] - 13s 32ms/step - loss: 0.7604 - accuracy: 0.7319 - val_loss: 319.1798 - val_accuracy: 0.4055\n",
            "Epoch 50/150\n",
            "391/391 [==============================] - 13s 34ms/step - loss: 0.7495 - accuracy: 0.7360 - val_loss: 331.0521 - val_accuracy: 0.3914\n",
            "Epoch 51/150\n",
            "391/391 [==============================] - 14s 37ms/step - loss: 0.7420 - accuracy: 0.7388 - val_loss: 348.1425 - val_accuracy: 0.3861\n",
            "Epoch 52/150\n",
            "391/391 [==============================] - 14s 35ms/step - loss: 0.7313 - accuracy: 0.7419 - val_loss: 279.7378 - val_accuracy: 0.4231\n",
            "Epoch 53/150\n",
            "391/391 [==============================] - 14s 35ms/step - loss: 0.7238 - accuracy: 0.7447 - val_loss: 308.9856 - val_accuracy: 0.3970\n",
            "Epoch 54/150\n",
            "391/391 [==============================] - 14s 35ms/step - loss: 0.7118 - accuracy: 0.7500 - val_loss: 303.8610 - val_accuracy: 0.4052\n",
            "Epoch 55/150\n",
            "226/391 [================>.............] - ETA: 5s - loss: 0.7101 - accuracy: 0.7516"
          ]
        },
        {
          "output_type": "error",
          "ename": "KeyboardInterrupt",
          "evalue": "ignored",
          "traceback": [
            "\u001b[0;31m---------------------------------------------------------------------------\u001b[0m",
            "\u001b[0;31mKeyboardInterrupt\u001b[0m                         Traceback (most recent call last)",
            "\u001b[0;32m<ipython-input-36-4431e88e6435>\u001b[0m in \u001b[0;36m<module>\u001b[0;34m()\u001b[0m\n\u001b[1;32m      3\u001b[0m \u001b[0mt0\u001b[0m \u001b[0;34m=\u001b[0m \u001b[0mtimeit\u001b[0m\u001b[0;34m.\u001b[0m\u001b[0mdefault_timer\u001b[0m\u001b[0;34m(\u001b[0m\u001b[0;34m)\u001b[0m\u001b[0;34m\u001b[0m\u001b[0;34m\u001b[0m\u001b[0m\n\u001b[1;32m      4\u001b[0m mfit = model.fit(X_train_norm, train_labels, epochs=epochs, batch_size=128,\n\u001b[0;32m----> 5\u001b[0;31m                     validation_data=(X_test, test_labels))\n\u001b[0m\u001b[1;32m      6\u001b[0m \u001b[0mtraining_time\u001b[0m \u001b[0;34m=\u001b[0m \u001b[0mtimeit\u001b[0m\u001b[0;34m.\u001b[0m\u001b[0mdefault_timer\u001b[0m\u001b[0;34m(\u001b[0m\u001b[0;34m)\u001b[0m \u001b[0;34m-\u001b[0m \u001b[0mt0\u001b[0m\u001b[0;34m\u001b[0m\u001b[0;34m\u001b[0m\u001b[0m\n\u001b[1;32m      7\u001b[0m \u001b[0mprint\u001b[0m\u001b[0;34m(\u001b[0m\u001b[0;34m\"El tiempo de entrenamiento de la red es {} segundos.\"\u001b[0m\u001b[0;34m.\u001b[0m\u001b[0mformat\u001b[0m\u001b[0;34m(\u001b[0m\u001b[0mtraining_time\u001b[0m\u001b[0;34m)\u001b[0m\u001b[0;34m)\u001b[0m\u001b[0;34m\u001b[0m\u001b[0;34m\u001b[0m\u001b[0m\n",
            "\u001b[0;32m/usr/local/lib/python3.7/dist-packages/keras/utils/traceback_utils.py\u001b[0m in \u001b[0;36merror_handler\u001b[0;34m(*args, **kwargs)\u001b[0m\n\u001b[1;32m     62\u001b[0m     \u001b[0mfiltered_tb\u001b[0m \u001b[0;34m=\u001b[0m \u001b[0;32mNone\u001b[0m\u001b[0;34m\u001b[0m\u001b[0;34m\u001b[0m\u001b[0m\n\u001b[1;32m     63\u001b[0m     \u001b[0;32mtry\u001b[0m\u001b[0;34m:\u001b[0m\u001b[0;34m\u001b[0m\u001b[0;34m\u001b[0m\u001b[0m\n\u001b[0;32m---> 64\u001b[0;31m       \u001b[0;32mreturn\u001b[0m \u001b[0mfn\u001b[0m\u001b[0;34m(\u001b[0m\u001b[0;34m*\u001b[0m\u001b[0margs\u001b[0m\u001b[0;34m,\u001b[0m \u001b[0;34m**\u001b[0m\u001b[0mkwargs\u001b[0m\u001b[0;34m)\u001b[0m\u001b[0;34m\u001b[0m\u001b[0;34m\u001b[0m\u001b[0m\n\u001b[0m\u001b[1;32m     65\u001b[0m     \u001b[0;32mexcept\u001b[0m \u001b[0mException\u001b[0m \u001b[0;32mas\u001b[0m \u001b[0me\u001b[0m\u001b[0;34m:\u001b[0m  \u001b[0;31m# pylint: disable=broad-except\u001b[0m\u001b[0;34m\u001b[0m\u001b[0;34m\u001b[0m\u001b[0m\n\u001b[1;32m     66\u001b[0m       \u001b[0mfiltered_tb\u001b[0m \u001b[0;34m=\u001b[0m \u001b[0m_process_traceback_frames\u001b[0m\u001b[0;34m(\u001b[0m\u001b[0me\u001b[0m\u001b[0;34m.\u001b[0m\u001b[0m__traceback__\u001b[0m\u001b[0;34m)\u001b[0m\u001b[0;34m\u001b[0m\u001b[0;34m\u001b[0m\u001b[0m\n",
            "\u001b[0;32m/usr/local/lib/python3.7/dist-packages/keras/engine/training.py\u001b[0m in \u001b[0;36mfit\u001b[0;34m(self, x, y, batch_size, epochs, verbose, callbacks, validation_split, validation_data, shuffle, class_weight, sample_weight, initial_epoch, steps_per_epoch, validation_steps, validation_batch_size, validation_freq, max_queue_size, workers, use_multiprocessing)\u001b[0m\n\u001b[1;32m   1382\u001b[0m                 _r=1):\n\u001b[1;32m   1383\u001b[0m               \u001b[0mcallbacks\u001b[0m\u001b[0;34m.\u001b[0m\u001b[0mon_train_batch_begin\u001b[0m\u001b[0;34m(\u001b[0m\u001b[0mstep\u001b[0m\u001b[0;34m)\u001b[0m\u001b[0;34m\u001b[0m\u001b[0;34m\u001b[0m\u001b[0m\n\u001b[0;32m-> 1384\u001b[0;31m               \u001b[0mtmp_logs\u001b[0m \u001b[0;34m=\u001b[0m \u001b[0mself\u001b[0m\u001b[0;34m.\u001b[0m\u001b[0mtrain_function\u001b[0m\u001b[0;34m(\u001b[0m\u001b[0miterator\u001b[0m\u001b[0;34m)\u001b[0m\u001b[0;34m\u001b[0m\u001b[0;34m\u001b[0m\u001b[0m\n\u001b[0m\u001b[1;32m   1385\u001b[0m               \u001b[0;32mif\u001b[0m \u001b[0mdata_handler\u001b[0m\u001b[0;34m.\u001b[0m\u001b[0mshould_sync\u001b[0m\u001b[0;34m:\u001b[0m\u001b[0;34m\u001b[0m\u001b[0;34m\u001b[0m\u001b[0m\n\u001b[1;32m   1386\u001b[0m                 \u001b[0mcontext\u001b[0m\u001b[0;34m.\u001b[0m\u001b[0masync_wait\u001b[0m\u001b[0;34m(\u001b[0m\u001b[0;34m)\u001b[0m\u001b[0;34m\u001b[0m\u001b[0;34m\u001b[0m\u001b[0m\n",
            "\u001b[0;32m/usr/local/lib/python3.7/dist-packages/tensorflow/python/util/traceback_utils.py\u001b[0m in \u001b[0;36merror_handler\u001b[0;34m(*args, **kwargs)\u001b[0m\n\u001b[1;32m    148\u001b[0m     \u001b[0mfiltered_tb\u001b[0m \u001b[0;34m=\u001b[0m \u001b[0;32mNone\u001b[0m\u001b[0;34m\u001b[0m\u001b[0;34m\u001b[0m\u001b[0m\n\u001b[1;32m    149\u001b[0m     \u001b[0;32mtry\u001b[0m\u001b[0;34m:\u001b[0m\u001b[0;34m\u001b[0m\u001b[0;34m\u001b[0m\u001b[0m\n\u001b[0;32m--> 150\u001b[0;31m       \u001b[0;32mreturn\u001b[0m \u001b[0mfn\u001b[0m\u001b[0;34m(\u001b[0m\u001b[0;34m*\u001b[0m\u001b[0margs\u001b[0m\u001b[0;34m,\u001b[0m \u001b[0;34m**\u001b[0m\u001b[0mkwargs\u001b[0m\u001b[0;34m)\u001b[0m\u001b[0;34m\u001b[0m\u001b[0;34m\u001b[0m\u001b[0m\n\u001b[0m\u001b[1;32m    151\u001b[0m     \u001b[0;32mexcept\u001b[0m \u001b[0mException\u001b[0m \u001b[0;32mas\u001b[0m \u001b[0me\u001b[0m\u001b[0;34m:\u001b[0m\u001b[0;34m\u001b[0m\u001b[0;34m\u001b[0m\u001b[0m\n\u001b[1;32m    152\u001b[0m       \u001b[0mfiltered_tb\u001b[0m \u001b[0;34m=\u001b[0m \u001b[0m_process_traceback_frames\u001b[0m\u001b[0;34m(\u001b[0m\u001b[0me\u001b[0m\u001b[0;34m.\u001b[0m\u001b[0m__traceback__\u001b[0m\u001b[0;34m)\u001b[0m\u001b[0;34m\u001b[0m\u001b[0;34m\u001b[0m\u001b[0m\n",
            "\u001b[0;32m/usr/local/lib/python3.7/dist-packages/tensorflow/python/eager/def_function.py\u001b[0m in \u001b[0;36m__call__\u001b[0;34m(self, *args, **kwds)\u001b[0m\n\u001b[1;32m    913\u001b[0m \u001b[0;34m\u001b[0m\u001b[0m\n\u001b[1;32m    914\u001b[0m       \u001b[0;32mwith\u001b[0m \u001b[0mOptionalXlaContext\u001b[0m\u001b[0;34m(\u001b[0m\u001b[0mself\u001b[0m\u001b[0;34m.\u001b[0m\u001b[0m_jit_compile\u001b[0m\u001b[0;34m)\u001b[0m\u001b[0;34m:\u001b[0m\u001b[0;34m\u001b[0m\u001b[0;34m\u001b[0m\u001b[0m\n\u001b[0;32m--> 915\u001b[0;31m         \u001b[0mresult\u001b[0m \u001b[0;34m=\u001b[0m \u001b[0mself\u001b[0m\u001b[0;34m.\u001b[0m\u001b[0m_call\u001b[0m\u001b[0;34m(\u001b[0m\u001b[0;34m*\u001b[0m\u001b[0margs\u001b[0m\u001b[0;34m,\u001b[0m \u001b[0;34m**\u001b[0m\u001b[0mkwds\u001b[0m\u001b[0;34m)\u001b[0m\u001b[0;34m\u001b[0m\u001b[0;34m\u001b[0m\u001b[0m\n\u001b[0m\u001b[1;32m    916\u001b[0m \u001b[0;34m\u001b[0m\u001b[0m\n\u001b[1;32m    917\u001b[0m       \u001b[0mnew_tracing_count\u001b[0m \u001b[0;34m=\u001b[0m \u001b[0mself\u001b[0m\u001b[0;34m.\u001b[0m\u001b[0mexperimental_get_tracing_count\u001b[0m\u001b[0;34m(\u001b[0m\u001b[0;34m)\u001b[0m\u001b[0;34m\u001b[0m\u001b[0;34m\u001b[0m\u001b[0m\n",
            "\u001b[0;32m/usr/local/lib/python3.7/dist-packages/tensorflow/python/eager/def_function.py\u001b[0m in \u001b[0;36m_call\u001b[0;34m(self, *args, **kwds)\u001b[0m\n\u001b[1;32m    945\u001b[0m       \u001b[0;31m# In this case we have created variables on the first call, so we run the\u001b[0m\u001b[0;34m\u001b[0m\u001b[0;34m\u001b[0m\u001b[0;34m\u001b[0m\u001b[0m\n\u001b[1;32m    946\u001b[0m       \u001b[0;31m# defunned version which is guaranteed to never create variables.\u001b[0m\u001b[0;34m\u001b[0m\u001b[0;34m\u001b[0m\u001b[0;34m\u001b[0m\u001b[0m\n\u001b[0;32m--> 947\u001b[0;31m       \u001b[0;32mreturn\u001b[0m \u001b[0mself\u001b[0m\u001b[0;34m.\u001b[0m\u001b[0m_stateless_fn\u001b[0m\u001b[0;34m(\u001b[0m\u001b[0;34m*\u001b[0m\u001b[0margs\u001b[0m\u001b[0;34m,\u001b[0m \u001b[0;34m**\u001b[0m\u001b[0mkwds\u001b[0m\u001b[0;34m)\u001b[0m  \u001b[0;31m# pylint: disable=not-callable\u001b[0m\u001b[0;34m\u001b[0m\u001b[0;34m\u001b[0m\u001b[0m\n\u001b[0m\u001b[1;32m    948\u001b[0m     \u001b[0;32melif\u001b[0m \u001b[0mself\u001b[0m\u001b[0;34m.\u001b[0m\u001b[0m_stateful_fn\u001b[0m \u001b[0;32mis\u001b[0m \u001b[0;32mnot\u001b[0m \u001b[0;32mNone\u001b[0m\u001b[0;34m:\u001b[0m\u001b[0;34m\u001b[0m\u001b[0;34m\u001b[0m\u001b[0m\n\u001b[1;32m    949\u001b[0m       \u001b[0;31m# Release the lock early so that multiple threads can perform the call\u001b[0m\u001b[0;34m\u001b[0m\u001b[0;34m\u001b[0m\u001b[0;34m\u001b[0m\u001b[0m\n",
            "\u001b[0;32m/usr/local/lib/python3.7/dist-packages/tensorflow/python/eager/function.py\u001b[0m in \u001b[0;36m__call__\u001b[0;34m(self, *args, **kwargs)\u001b[0m\n\u001b[1;32m   2955\u001b[0m        filtered_flat_args) = self._maybe_define_function(args, kwargs)\n\u001b[1;32m   2956\u001b[0m     return graph_function._call_flat(\n\u001b[0;32m-> 2957\u001b[0;31m         filtered_flat_args, captured_inputs=graph_function.captured_inputs)  # pylint: disable=protected-access\n\u001b[0m\u001b[1;32m   2958\u001b[0m \u001b[0;34m\u001b[0m\u001b[0m\n\u001b[1;32m   2959\u001b[0m   \u001b[0;34m@\u001b[0m\u001b[0mproperty\u001b[0m\u001b[0;34m\u001b[0m\u001b[0;34m\u001b[0m\u001b[0m\n",
            "\u001b[0;32m/usr/local/lib/python3.7/dist-packages/tensorflow/python/eager/function.py\u001b[0m in \u001b[0;36m_call_flat\u001b[0;34m(self, args, captured_inputs, cancellation_manager)\u001b[0m\n\u001b[1;32m   1852\u001b[0m       \u001b[0;31m# No tape is watching; skip to running the function.\u001b[0m\u001b[0;34m\u001b[0m\u001b[0;34m\u001b[0m\u001b[0;34m\u001b[0m\u001b[0m\n\u001b[1;32m   1853\u001b[0m       return self._build_call_outputs(self._inference_function.call(\n\u001b[0;32m-> 1854\u001b[0;31m           ctx, args, cancellation_manager=cancellation_manager))\n\u001b[0m\u001b[1;32m   1855\u001b[0m     forward_backward = self._select_forward_and_backward_functions(\n\u001b[1;32m   1856\u001b[0m         \u001b[0margs\u001b[0m\u001b[0;34m,\u001b[0m\u001b[0;34m\u001b[0m\u001b[0;34m\u001b[0m\u001b[0m\n",
            "\u001b[0;32m/usr/local/lib/python3.7/dist-packages/tensorflow/python/eager/function.py\u001b[0m in \u001b[0;36mcall\u001b[0;34m(self, ctx, args, cancellation_manager)\u001b[0m\n\u001b[1;32m    502\u001b[0m               \u001b[0minputs\u001b[0m\u001b[0;34m=\u001b[0m\u001b[0margs\u001b[0m\u001b[0;34m,\u001b[0m\u001b[0;34m\u001b[0m\u001b[0;34m\u001b[0m\u001b[0m\n\u001b[1;32m    503\u001b[0m               \u001b[0mattrs\u001b[0m\u001b[0;34m=\u001b[0m\u001b[0mattrs\u001b[0m\u001b[0;34m,\u001b[0m\u001b[0;34m\u001b[0m\u001b[0;34m\u001b[0m\u001b[0m\n\u001b[0;32m--> 504\u001b[0;31m               ctx=ctx)\n\u001b[0m\u001b[1;32m    505\u001b[0m         \u001b[0;32melse\u001b[0m\u001b[0;34m:\u001b[0m\u001b[0;34m\u001b[0m\u001b[0;34m\u001b[0m\u001b[0m\n\u001b[1;32m    506\u001b[0m           outputs = execute.execute_with_cancellation(\n",
            "\u001b[0;32m/usr/local/lib/python3.7/dist-packages/tensorflow/python/eager/execute.py\u001b[0m in \u001b[0;36mquick_execute\u001b[0;34m(op_name, num_outputs, inputs, attrs, ctx, name)\u001b[0m\n\u001b[1;32m     53\u001b[0m     \u001b[0mctx\u001b[0m\u001b[0;34m.\u001b[0m\u001b[0mensure_initialized\u001b[0m\u001b[0;34m(\u001b[0m\u001b[0;34m)\u001b[0m\u001b[0;34m\u001b[0m\u001b[0;34m\u001b[0m\u001b[0m\n\u001b[1;32m     54\u001b[0m     tensors = pywrap_tfe.TFE_Py_Execute(ctx._handle, device_name, op_name,\n\u001b[0;32m---> 55\u001b[0;31m                                         inputs, attrs, num_outputs)\n\u001b[0m\u001b[1;32m     56\u001b[0m   \u001b[0;32mexcept\u001b[0m \u001b[0mcore\u001b[0m\u001b[0;34m.\u001b[0m\u001b[0m_NotOkStatusException\u001b[0m \u001b[0;32mas\u001b[0m \u001b[0me\u001b[0m\u001b[0;34m:\u001b[0m\u001b[0;34m\u001b[0m\u001b[0;34m\u001b[0m\u001b[0m\n\u001b[1;32m     57\u001b[0m     \u001b[0;32mif\u001b[0m \u001b[0mname\u001b[0m \u001b[0;32mis\u001b[0m \u001b[0;32mnot\u001b[0m \u001b[0;32mNone\u001b[0m\u001b[0;34m:\u001b[0m\u001b[0;34m\u001b[0m\u001b[0;34m\u001b[0m\u001b[0m\n",
            "\u001b[0;31mKeyboardInterrupt\u001b[0m: "
          ]
        }
      ],
      "source": [
        "# Entrenamiento del modelo\n",
        "epochs = 150\n",
        "t0 = timeit.default_timer()\n",
        "mfit_cnn_deep_color = model_cnn_deep_color.fit(X_train_norm, train_labels, epochs=epochs, batch_size=128,\n",
        "                    validation_data=(X_test, test_labels))\n",
        "training_time_cnn_deep_color = timeit.default_timer() - t0\n",
        "print(\"El tiempo de entrenamiento de la red es {} segundos.\".format(training_time_cnn_deep_color))"
      ]
    },
    {
      "cell_type": "code",
      "execution_count": null,
      "metadata": {
        "id": "n6uk1GFxGEQ0"
      },
      "outputs": [],
      "source": [
        "# Resultados\n",
        "plot_prediction(epochs, mfit_cnn_deep_color)"
      ]
    },
    {
      "cell_type": "code",
      "source": [
        "results_cnn_deep_color = model_cnn_deep_color.evaluate(X_test, test_labels, batch_size=128, verbose=1)\n",
        "print(results_cnn_deep_color)"
      ],
      "metadata": {
        "id": "2Lt2_NyUzdmQ"
      },
      "execution_count": null,
      "outputs": []
    },
    {
      "cell_type": "markdown",
      "metadata": {
        "id": "vZYPL7X12a9k"
      },
      "source": [
        "## 5. Comparativa de los modelos implementados y predicción [1,5 puntos]"
      ]
    },
    {
      "cell_type": "markdown",
      "metadata": {
        "id": "AHDLpGpw2a9l"
      },
      "source": [
        "En este último apartado compararemos los modelos implementados y realizaremos la clasificación de algunas imágenes con el modelo que ha dado los mejores resultados."
      ]
    },
    {
      "cell_type": "markdown",
      "metadata": {
        "id": "0hERn2-12a9m"
      },
      "source": [
        "### 5.1 Comparativa de los modelos implementados"
      ]
    },
    {
      "cell_type": "markdown",
      "metadata": {
        "id": "xjF0flQp2a9m"
      },
      "source": [
        "<div style=\"background-color: #EDF7FF; border-color: #7C9DBF; border-left: 5px solid #7C9DBF; padding: 0.5em;\">\n",
        "<strong>Ejercicio [0,5 pts.]:</strong> Realizar una comparativa de los modelos implementados comentando:\n",
        "\n",
        "*   La precisión obtenida\n",
        "*   La pérdida\n",
        "*   El tiempo de entrenamiento\n",
        "*   El número de parámetros a entrenar\n",
        "\n",
        "Comentar los resultados obtenidos.\n",
        "\n",
        "En base a los resultados obtenidos ¿Qué modelo seleccionaríais como el mejor?\n",
        "</div>"
      ]
    },
    {
      "cell_type": "markdown",
      "metadata": {
        "id": "mm6Zsvpc2a9k"
      },
      "source": [
        "<div style=\"background-color: #EDF7FF; border-color: #7C9DBF; border-left: 5px solid #7C9DBF; padding: 0.5em;\">\n",
        "<strong>Solución:</strong> \n",
        "</div>"
      ]
    },
    {
      "cell_type": "markdown",
      "metadata": {
        "id": "6r3p-EkV2a9n"
      },
      "source": [
        "### 5.2 Análisis de la mejor solución"
      ]
    },
    {
      "cell_type": "markdown",
      "metadata": {
        "id": "5J_S6U4sgiXm"
      },
      "source": [
        "<div style=\"background-color: #EDF7FF; border-color: #7C9DBF; border-left: 5px solid #7C9DBF; padding: 0.5em;\">\n",
        "<strong>Ejercicio [0,5 pts.]:</strong> Realizar un análisis de las medidas estadísticas más relevantes del modelo seleccionado en el apartado anterior y representar su matriz de confusión.\n",
        "\n",
        "¿Qué clase es la que mejor se predice? ¿Y la que peor resultados obtiene?\n",
        "\n",
        "Comentar los resultados\n",
        "</div>"
      ]
    },
    {
      "cell_type": "code",
      "execution_count": null,
      "metadata": {
        "id": "ht3FSeyp2a9n"
      },
      "outputs": [],
      "source": [
        "# Informe\n",
        "# TODO"
      ]
    },
    {
      "cell_type": "code",
      "execution_count": null,
      "metadata": {
        "id": "5KGRq8OtuChm"
      },
      "outputs": [],
      "source": [
        "# Matriz de confusión\n",
        "y_pred = model.predict(X_test)\n",
        "y_pred = (y_pred > 0.5)\n",
        "\n",
        "targets = ['airplane', 'automobile', 'bird'\n",
        "    , 'cat', 'deer', 'dog', 'frog', 'horse', 'ship', 'truck']\n",
        "cm = confusion_matrix(y_test.values.argmax(axis=1), y_pred.argmax(axis=1))\n",
        "disp = ConfusionMatrixDisplay(confusion_matrix=cm, display_labels=targets)\n",
        "disp.plot()\n",
        "plt.show()"
      ]
    },
    {
      "cell_type": "markdown",
      "metadata": {
        "id": "8cGNMNKOgPbP"
      },
      "source": [
        "### 5.3 Predicción de algunas imágenes del conjunto de test"
      ]
    },
    {
      "cell_type": "markdown",
      "metadata": {
        "id": "mbCYerEj2a9n"
      },
      "source": [
        "<div style=\"background-color: #EDF7FF; border-color: #7C9DBF; border-left: 5px solid #7C9DBF; padding: 0.5em;\">\n",
        "<strong>Ejercicio [0,5 pts.]:</strong> Visualizar diez imágenes al azar del conjunto de test. Mostrar la etiqueta real y la predicción.\n",
        "</div>"
      ]
    },
    {
      "cell_type": "code",
      "execution_count": null,
      "metadata": {
        "id": "O3X-b2YZ2a9n"
      },
      "outputs": [],
      "source": [
        "# Visualización\n",
        "# TODO"
      ]
    }
  ],
  "metadata": {
    "colab": {
      "collapsed_sections": [],
      "name": "20212_M2.875_PEC2-Enunciado.ipynb",
      "provenance": []
    },
    "kernelspec": {
      "display_name": "Python 3",
      "language": "python",
      "name": "python3"
    },
    "language_info": {
      "codemirror_mode": {
        "name": "ipython",
        "version": 3
      },
      "file_extension": ".py",
      "mimetype": "text/x-python",
      "name": "python",
      "nbconvert_exporter": "python",
      "pygments_lexer": "ipython3",
      "version": "3.8.8"
    },
    "accelerator": "GPU"
  },
  "nbformat": 4,
  "nbformat_minor": 0
}